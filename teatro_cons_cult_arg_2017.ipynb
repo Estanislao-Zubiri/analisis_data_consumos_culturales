{
  "nbformat": 4,
  "nbformat_minor": 0,
  "metadata": {
    "colab": {
      "name": "teatro_cons_cult_arg_2017.ipynb",
      "provenance": []
    },
    "kernelspec": {
      "name": "python3",
      "display_name": "Python 3"
    }
  },
  "cells": [
    {
      "cell_type": "markdown",
      "metadata": {
        "id": "4P1mdL7brSTZ"
      },
      "source": [
        "# Análisis de la sección \"Teatro\" de la Encuesta Nacional de Consumos culturales 2017, realizada por el Sistema de Información Cultural de la Argentina (SINCA)"
      ]
    },
    {
      "cell_type": "markdown",
      "metadata": {
        "id": "msKv3Fs1fq6-"
      },
      "source": [
        "Analizaremos esta encuesta constituida por 2802 casos utilizando la librería Pandas para la manipulación de los datos y Plotly/Plotly Express para su visualización."
      ]
    },
    {
      "cell_type": "code",
      "metadata": {
        "id": "AOD1ItUbdMvV"
      },
      "source": [
        "import pandas as pd\n",
        "import plotly.io as pio\n",
        "import plotly.express as px"
      ],
      "execution_count": 6,
      "outputs": []
    },
    {
      "cell_type": "markdown",
      "metadata": {
        "id": "OuF4xVjogW8O"
      },
      "source": [
        "Como primer paso, obtenemos el dataset desde GitHub:"
      ]
    },
    {
      "cell_type": "code",
      "metadata": {
        "id": "6_IRWtnKq4OI",
        "colab": {
          "base_uri": "https://localhost:8080/"
        },
        "outputId": "f7b40828-3af3-4a98-f511-8de9a58bfc7b"
      },
      "source": [
        "!wget https://github.com/Estanislao-Zubiri/datasets_consumos_culturales/blob/main/encc_2017.csv"
      ],
      "execution_count": 71,
      "outputs": [
        {
          "output_type": "stream",
          "text": [
            "--2020-12-02 18:17:26--  https://github.com/Estanislao-Zubiri/datasets_consumos_culturales/blob/main/encc_2017.csv\n",
            "Resolving github.com (github.com)... 52.192.72.89\n",
            "Connecting to github.com (github.com)|52.192.72.89|:443... connected.\n",
            "HTTP request sent, awaiting response... 200 OK\n",
            "Length: unspecified [text/html]\n",
            "Saving to: ‘encc_2017.csv’\n",
            "\n",
            "encc_2017.csv           [ <=>                ]  89.92K  --.-KB/s    in 0.07s   \n",
            "\n",
            "2020-12-02 18:17:27 (1.19 MB/s) - ‘encc_2017.csv’ saved [92076]\n",
            "\n"
          ],
          "name": "stdout"
        }
      ]
    },
    {
      "cell_type": "markdown",
      "metadata": {
        "id": "WbGh_yQIgl09"
      },
      "source": [
        "Ahora asignamos el dataset a la variable df."
      ]
    },
    {
      "cell_type": "code",
      "metadata": {
        "id": "uby0neWiqx36",
        "colab": {
          "base_uri": "https://localhost:8080/"
        },
        "outputId": "b8e6337a-2b90-46b8-d43f-4e1e35139d27"
      },
      "source": [
        "df = pd.read_csv('/content/encc_2017.csv')"
      ],
      "execution_count": 70,
      "outputs": [
        {
          "output_type": "stream",
          "text": [
            "/usr/local/lib/python3.6/dist-packages/IPython/core/interactiveshell.py:2718: DtypeWarning:\n",
            "\n",
            "Columns (0,30,106,107,144,145,299,349,350,385) have mixed types.Specify dtype option on import or set low_memory=False.\n",
            "\n"
          ],
          "name": "stderr"
        }
      ]
    },
    {
      "cell_type": "markdown",
      "metadata": {
        "id": "oKSTlo1bhC6G"
      },
      "source": [
        "Chequeamos las dimensiones de nuestro DataFrame:"
      ]
    },
    {
      "cell_type": "code",
      "metadata": {
        "id": "3zdgw_IorEQX",
        "colab": {
          "base_uri": "https://localhost:8080/"
        },
        "outputId": "771f50e6-a7ed-4c41-f8e1-0b07c734c933"
      },
      "source": [
        "print('Dimensiones:',df.shape)\n",
        "print('\\nColumnas:',df.columns)\n",
        "print('\\nÍndice:',df.index)"
      ],
      "execution_count": 9,
      "outputs": [
        {
          "output_type": "stream",
          "text": [
            "Dimensiones: (2802, 450)\n",
            "\n",
            "Columnas: Index(['id', 'pondera_dem', 'fecha', 'region', 'sexo', 'edad', 'p1', 'p1otros',\n",
            "       'p2', 'p2_1',\n",
            "       ...\n",
            "       'horas_tv_total', 'minutos_internet_1', 'minutos_internet_total',\n",
            "       'horas_internet_total', 'minutos_redes_1', 'minutos_redes_total',\n",
            "       'horas_redes_total', 'minutos_videojuegos_1',\n",
            "       'minutos_videojuegos_total', 'horas_videojuegos_total'],\n",
            "      dtype='object', length=450)\n",
            "\n",
            "Índice: RangeIndex(start=0, stop=2802, step=1)\n"
          ],
          "name": "stdout"
        }
      ]
    },
    {
      "cell_type": "markdown",
      "metadata": {
        "id": "uBL_4WzJsJFZ"
      },
      "source": [
        "# Consultamos una muestra de cinco casos al azar del DataFrame y enseguida percibimos que necesitaremos consultar el [cuestionario realizado](https://datos.cultura.gob.ar/dataset/251c2ac2-e670-451c-9dbf-a4212af225b5/resource/18ccc305-eada-44e7-a06a-5877ec83e0b8/download/cuestionario_encc-2017.pdf) para interpretar la mayoría de las columnas."
      ]
    },
    {
      "cell_type": "code",
      "metadata": {
        "id": "XUXXyhVfsGVa",
        "colab": {
          "base_uri": "https://localhost:8080/",
          "height": 560
        },
        "outputId": "f4c7e327-f235-416c-fa2f-9a559f1cc7f0"
      },
      "source": [
        "df.sample(5)"
      ],
      "execution_count": 10,
      "outputs": [
        {
          "output_type": "execute_result",
          "data": {
            "text/html": [
              "<div>\n",
              "<style scoped>\n",
              "    .dataframe tbody tr th:only-of-type {\n",
              "        vertical-align: middle;\n",
              "    }\n",
              "\n",
              "    .dataframe tbody tr th {\n",
              "        vertical-align: top;\n",
              "    }\n",
              "\n",
              "    .dataframe thead th {\n",
              "        text-align: right;\n",
              "    }\n",
              "</style>\n",
              "<table border=\"1\" class=\"dataframe\">\n",
              "  <thead>\n",
              "    <tr style=\"text-align: right;\">\n",
              "      <th></th>\n",
              "      <th>id</th>\n",
              "      <th>pondera_dem</th>\n",
              "      <th>fecha</th>\n",
              "      <th>region</th>\n",
              "      <th>sexo</th>\n",
              "      <th>edad</th>\n",
              "      <th>p1</th>\n",
              "      <th>p1otros</th>\n",
              "      <th>p2</th>\n",
              "      <th>p2_1</th>\n",
              "      <th>p2_1otro</th>\n",
              "      <th>p2_2</th>\n",
              "      <th>p3</th>\n",
              "      <th>p4</th>\n",
              "      <th>p5</th>\n",
              "      <th>p6horas</th>\n",
              "      <th>p6minutos</th>\n",
              "      <th>horas_radio</th>\n",
              "      <th>minutos_radio</th>\n",
              "      <th>p7_1</th>\n",
              "      <th>p7_2</th>\n",
              "      <th>p7_3</th>\n",
              "      <th>p7_4</th>\n",
              "      <th>p7_5</th>\n",
              "      <th>p8a</th>\n",
              "      <th>p8b</th>\n",
              "      <th>p8c</th>\n",
              "      <th>p8d</th>\n",
              "      <th>p8e</th>\n",
              "      <th>p8f</th>\n",
              "      <th>p8g</th>\n",
              "      <th>p8otros</th>\n",
              "      <th>p9</th>\n",
              "      <th>p10</th>\n",
              "      <th>p10_1</th>\n",
              "      <th>p10_1otr</th>\n",
              "      <th>p10_2</th>\n",
              "      <th>p11</th>\n",
              "      <th>p12horas</th>\n",
              "      <th>p12minutos</th>\n",
              "      <th>...</th>\n",
              "      <th>p111</th>\n",
              "      <th>p111b</th>\n",
              "      <th>p112</th>\n",
              "      <th>p113_1</th>\n",
              "      <th>p113_2</th>\n",
              "      <th>p113_3</th>\n",
              "      <th>p113_4</th>\n",
              "      <th>p113_5</th>\n",
              "      <th>p114</th>\n",
              "      <th>p115_1</th>\n",
              "      <th>p115_2</th>\n",
              "      <th>p115_3</th>\n",
              "      <th>p115_4</th>\n",
              "      <th>p115_5</th>\n",
              "      <th>p116</th>\n",
              "      <th>p116b</th>\n",
              "      <th>p117</th>\n",
              "      <th>NSEpuntaje</th>\n",
              "      <th>NSEcat1</th>\n",
              "      <th>minutos_radio_1</th>\n",
              "      <th>minutos_radio_total</th>\n",
              "      <th>horas_radio_total</th>\n",
              "      <th>minutos_musica_1</th>\n",
              "      <th>minutos_musica_total</th>\n",
              "      <th>horas_musica_total</th>\n",
              "      <th>minutos_diario_1</th>\n",
              "      <th>minutos_diario_total</th>\n",
              "      <th>horas_diario_total</th>\n",
              "      <th>minutos_tv_1</th>\n",
              "      <th>minutos_tv_total</th>\n",
              "      <th>horas_tv_total</th>\n",
              "      <th>minutos_internet_1</th>\n",
              "      <th>minutos_internet_total</th>\n",
              "      <th>horas_internet_total</th>\n",
              "      <th>minutos_redes_1</th>\n",
              "      <th>minutos_redes_total</th>\n",
              "      <th>horas_redes_total</th>\n",
              "      <th>minutos_videojuegos_1</th>\n",
              "      <th>minutos_videojuegos_total</th>\n",
              "      <th>horas_videojuegos_total</th>\n",
              "    </tr>\n",
              "  </thead>\n",
              "  <tbody>\n",
              "    <tr>\n",
              "      <th>455</th>\n",
              "      <td>456</td>\n",
              "      <td>6265</td>\n",
              "      <td>12/5/2017</td>\n",
              "      <td>NOA</td>\n",
              "      <td>Mujer</td>\n",
              "      <td>15</td>\n",
              "      <td>LA TRADICION, LA HISTORIA</td>\n",
              "      <td></td>\n",
              "      <td>SI</td>\n",
              "      <td>NaN</td>\n",
              "      <td></td>\n",
              "      <td>NaN</td>\n",
              "      <td>NO</td>\n",
              "      <td>ALGUNOS DIAS POR SEMANA</td>\n",
              "      <td>FM</td>\n",
              "      <td>1.0</td>\n",
              "      <td>0.0</td>\n",
              "      <td>1</td>\n",
              "      <td>0</td>\n",
              "      <td>ALGUNOS DIAS POR SEMANA</td>\n",
              "      <td>NUNCA</td>\n",
              "      <td>NUNCA</td>\n",
              "      <td>NUNCA</td>\n",
              "      <td>NUNCA</td>\n",
              "      <td>INFORMATIVOS / NOTICIEROS</td>\n",
              "      <td>NaN</td>\n",
              "      <td>NaN</td>\n",
              "      <td>NaN</td>\n",
              "      <td>NaN</td>\n",
              "      <td>NaN</td>\n",
              "      <td>NaN</td>\n",
              "      <td></td>\n",
              "      <td>1</td>\n",
              "      <td>SI</td>\n",
              "      <td>NaN</td>\n",
              "      <td></td>\n",
              "      <td>NaN</td>\n",
              "      <td>TODOS O CASI TODOS LOS DIAS</td>\n",
              "      <td>4.0</td>\n",
              "      <td>0.0</td>\n",
              "      <td>...</td>\n",
              "      <td></td>\n",
              "      <td>NaN</td>\n",
              "      <td>SI</td>\n",
              "      <td>NO</td>\n",
              "      <td>NO</td>\n",
              "      <td>NO</td>\n",
              "      <td>SI</td>\n",
              "      <td>SI</td>\n",
              "      <td>PROPIA</td>\n",
              "      <td>NO</td>\n",
              "      <td>NO</td>\n",
              "      <td>NO</td>\n",
              "      <td>NO</td>\n",
              "      <td>NO</td>\n",
              "      <td>BARRIO DE VIVIENDA SOCIAL</td>\n",
              "      <td>BARRIO DE VIVIENDA SOCIAL</td>\n",
              "      <td>CASA</td>\n",
              "      <td>58.0</td>\n",
              "      <td>C3</td>\n",
              "      <td>60.0</td>\n",
              "      <td>60.0</td>\n",
              "      <td>1.0</td>\n",
              "      <td>240.0</td>\n",
              "      <td>240.0</td>\n",
              "      <td>4.0</td>\n",
              "      <td>60.0</td>\n",
              "      <td>60.0</td>\n",
              "      <td>1.0</td>\n",
              "      <td>240.0</td>\n",
              "      <td>240.0</td>\n",
              "      <td>4.0</td>\n",
              "      <td>1440.0</td>\n",
              "      <td>1440.0</td>\n",
              "      <td>24.00</td>\n",
              "      <td>240.0</td>\n",
              "      <td>240.0</td>\n",
              "      <td>4.0</td>\n",
              "      <td>0.0</td>\n",
              "      <td>0.0</td>\n",
              "      <td>0.0</td>\n",
              "    </tr>\n",
              "    <tr>\n",
              "      <th>1953</th>\n",
              "      <td>1953</td>\n",
              "      <td>4703</td>\n",
              "      <td>21/5/2017</td>\n",
              "      <td>CABA</td>\n",
              "      <td>Mujer</td>\n",
              "      <td>37</td>\n",
              "      <td>HABITOS, COSTUMBRES, COMPORTAMIENTOS</td>\n",
              "      <td></td>\n",
              "      <td>NO</td>\n",
              "      <td>PORQUE NO TIENE EQUIPOS DE RADIO</td>\n",
              "      <td></td>\n",
              "      <td>NO</td>\n",
              "      <td>NaN</td>\n",
              "      <td>NaN</td>\n",
              "      <td>NaN</td>\n",
              "      <td>NaN</td>\n",
              "      <td>NaN</td>\n",
              "      <td>0</td>\n",
              "      <td>0</td>\n",
              "      <td>NaN</td>\n",
              "      <td>NaN</td>\n",
              "      <td>NaN</td>\n",
              "      <td>NaN</td>\n",
              "      <td>NaN</td>\n",
              "      <td>NaN</td>\n",
              "      <td>NaN</td>\n",
              "      <td>NaN</td>\n",
              "      <td>NaN</td>\n",
              "      <td>NaN</td>\n",
              "      <td>NaN</td>\n",
              "      <td>NaN</td>\n",
              "      <td></td>\n",
              "      <td>0</td>\n",
              "      <td>SI</td>\n",
              "      <td>NaN</td>\n",
              "      <td></td>\n",
              "      <td>NaN</td>\n",
              "      <td>ALGUNOS DIAS POR SEMANA</td>\n",
              "      <td>1.0</td>\n",
              "      <td>0.0</td>\n",
              "      <td>...</td>\n",
              "      <td></td>\n",
              "      <td>NaN</td>\n",
              "      <td>SI</td>\n",
              "      <td>SI</td>\n",
              "      <td>NO</td>\n",
              "      <td>NO</td>\n",
              "      <td>SI</td>\n",
              "      <td>SI</td>\n",
              "      <td>PROPIA</td>\n",
              "      <td>NO</td>\n",
              "      <td>NO</td>\n",
              "      <td>NO</td>\n",
              "      <td>NO</td>\n",
              "      <td>NO</td>\n",
              "      <td>BARRIO CON VIVIENDAS DISTINTAS</td>\n",
              "      <td>BARRIO CON VIVIENDAS DISTINTAS</td>\n",
              "      <td>DEPARTAMENTO</td>\n",
              "      <td>76.0</td>\n",
              "      <td>C2</td>\n",
              "      <td>0.0</td>\n",
              "      <td>0.0</td>\n",
              "      <td>0.0</td>\n",
              "      <td>60.0</td>\n",
              "      <td>60.0</td>\n",
              "      <td>1.0</td>\n",
              "      <td>0.0</td>\n",
              "      <td>0.0</td>\n",
              "      <td>0.0</td>\n",
              "      <td>0.0</td>\n",
              "      <td>0.0</td>\n",
              "      <td>0.0</td>\n",
              "      <td>180.0</td>\n",
              "      <td>180.0</td>\n",
              "      <td>3.00</td>\n",
              "      <td>60.0</td>\n",
              "      <td>60.0</td>\n",
              "      <td>1.0</td>\n",
              "      <td>0.0</td>\n",
              "      <td>0.0</td>\n",
              "      <td>0.0</td>\n",
              "    </tr>\n",
              "    <tr>\n",
              "      <th>418</th>\n",
              "      <td>419</td>\n",
              "      <td>1515</td>\n",
              "      <td>6/5/2017</td>\n",
              "      <td>NOA</td>\n",
              "      <td>Mujer</td>\n",
              "      <td>52</td>\n",
              "      <td>LA TRADICION, LA HISTORIA</td>\n",
              "      <td></td>\n",
              "      <td>SI</td>\n",
              "      <td>NaN</td>\n",
              "      <td></td>\n",
              "      <td>NaN</td>\n",
              "      <td>NO</td>\n",
              "      <td>TODOS O CASI TODOS LOS DIAS</td>\n",
              "      <td>AMBAS POR IGUAL</td>\n",
              "      <td>1.0</td>\n",
              "      <td>0.0</td>\n",
              "      <td>1</td>\n",
              "      <td>0</td>\n",
              "      <td>TODOS O CASI TODOS LOS DIAS</td>\n",
              "      <td>ALGUNA VEZ CADA 3 MESES</td>\n",
              "      <td>ALGUNAS VECES AL MES</td>\n",
              "      <td>ALGUNAS VECES AL MES</td>\n",
              "      <td>NUNCA</td>\n",
              "      <td>INFORMATIVOS / NOTICIEROS</td>\n",
              "      <td>CULTURALES</td>\n",
              "      <td>NaN</td>\n",
              "      <td>NaN</td>\n",
              "      <td>NaN</td>\n",
              "      <td>NaN</td>\n",
              "      <td>NaN</td>\n",
              "      <td></td>\n",
              "      <td>1</td>\n",
              "      <td>SI</td>\n",
              "      <td>NaN</td>\n",
              "      <td></td>\n",
              "      <td>NaN</td>\n",
              "      <td>TODOS O CASI TODOS LOS DIAS</td>\n",
              "      <td>3.0</td>\n",
              "      <td>0.0</td>\n",
              "      <td>...</td>\n",
              "      <td>PROFESORA DE MANUALIDAD</td>\n",
              "      <td>TRABAJADOR/OBRERO CALIFICADO. EMPLEADO ADMINIS...</td>\n",
              "      <td>SI</td>\n",
              "      <td>NO</td>\n",
              "      <td>NO</td>\n",
              "      <td>NO</td>\n",
              "      <td>SI</td>\n",
              "      <td>SI</td>\n",
              "      <td>PROPIA</td>\n",
              "      <td>NO</td>\n",
              "      <td>NO</td>\n",
              "      <td>NO</td>\n",
              "      <td>NO</td>\n",
              "      <td>NO</td>\n",
              "      <td>BARRIO CON VIVIENDAS DISTINTAS</td>\n",
              "      <td>BARRIO CON VIVIENDAS DISTINTAS</td>\n",
              "      <td>CASA</td>\n",
              "      <td>66.0</td>\n",
              "      <td>C3</td>\n",
              "      <td>60.0</td>\n",
              "      <td>60.0</td>\n",
              "      <td>1.0</td>\n",
              "      <td>180.0</td>\n",
              "      <td>180.0</td>\n",
              "      <td>3.0</td>\n",
              "      <td>120.0</td>\n",
              "      <td>150.0</td>\n",
              "      <td>2.5</td>\n",
              "      <td>0.0</td>\n",
              "      <td>0.0</td>\n",
              "      <td>0.0</td>\n",
              "      <td>0.0</td>\n",
              "      <td>0.0</td>\n",
              "      <td>0.00</td>\n",
              "      <td>0.0</td>\n",
              "      <td>0.0</td>\n",
              "      <td>0.0</td>\n",
              "      <td>0.0</td>\n",
              "      <td>0.0</td>\n",
              "      <td>0.0</td>\n",
              "    </tr>\n",
              "    <tr>\n",
              "      <th>84</th>\n",
              "      <td>85</td>\n",
              "      <td>4341</td>\n",
              "      <td>19/5/2017</td>\n",
              "      <td>NEA</td>\n",
              "      <td>Varón</td>\n",
              "      <td>71</td>\n",
              "      <td>LA TRADICION, LA HISTORIA</td>\n",
              "      <td></td>\n",
              "      <td>SI</td>\n",
              "      <td>NaN</td>\n",
              "      <td></td>\n",
              "      <td>NaN</td>\n",
              "      <td>SI</td>\n",
              "      <td>TODOS O CASI TODOS LOS DIAS</td>\n",
              "      <td>FM</td>\n",
              "      <td>4.0</td>\n",
              "      <td>0.0</td>\n",
              "      <td>4</td>\n",
              "      <td>0</td>\n",
              "      <td>TODOS O CASI TODOS LOS DIAS</td>\n",
              "      <td>NUNCA</td>\n",
              "      <td>TODOS O CASI TODOS LOS DIAS</td>\n",
              "      <td>TODOS O CASI TODOS LOS DIAS</td>\n",
              "      <td>NUNCA</td>\n",
              "      <td>MUSICALES</td>\n",
              "      <td>NaN</td>\n",
              "      <td>NaN</td>\n",
              "      <td>NaN</td>\n",
              "      <td>NaN</td>\n",
              "      <td>NaN</td>\n",
              "      <td>NaN</td>\n",
              "      <td></td>\n",
              "      <td>6</td>\n",
              "      <td>SI</td>\n",
              "      <td>NaN</td>\n",
              "      <td></td>\n",
              "      <td>NaN</td>\n",
              "      <td>TODOS O CASI TODOS LOS DIAS</td>\n",
              "      <td>4.0</td>\n",
              "      <td>0.0</td>\n",
              "      <td>...</td>\n",
              "      <td></td>\n",
              "      <td>NaN</td>\n",
              "      <td>SI</td>\n",
              "      <td>SI</td>\n",
              "      <td>NO</td>\n",
              "      <td>SI</td>\n",
              "      <td>SI</td>\n",
              "      <td>SI</td>\n",
              "      <td>PROPIA</td>\n",
              "      <td>NO</td>\n",
              "      <td>NO</td>\n",
              "      <td>NO</td>\n",
              "      <td>NO</td>\n",
              "      <td>NO</td>\n",
              "      <td>BARRIO CENTRICO CON PREDOMINIO DE CASAS</td>\n",
              "      <td>OTRO</td>\n",
              "      <td>CASA</td>\n",
              "      <td>93.0</td>\n",
              "      <td>AB</td>\n",
              "      <td>240.0</td>\n",
              "      <td>240.0</td>\n",
              "      <td>4.0</td>\n",
              "      <td>240.0</td>\n",
              "      <td>240.0</td>\n",
              "      <td>4.0</td>\n",
              "      <td>0.0</td>\n",
              "      <td>0.0</td>\n",
              "      <td>0.0</td>\n",
              "      <td>120.0</td>\n",
              "      <td>120.0</td>\n",
              "      <td>2.0</td>\n",
              "      <td>60.0</td>\n",
              "      <td>75.0</td>\n",
              "      <td>1.25</td>\n",
              "      <td>60.0</td>\n",
              "      <td>60.0</td>\n",
              "      <td>1.0</td>\n",
              "      <td>0.0</td>\n",
              "      <td>0.0</td>\n",
              "      <td>0.0</td>\n",
              "    </tr>\n",
              "    <tr>\n",
              "      <th>508</th>\n",
              "      <td>509</td>\n",
              "      <td>7995</td>\n",
              "      <td>20/5/2017</td>\n",
              "      <td>NOA</td>\n",
              "      <td>Mujer</td>\n",
              "      <td>51</td>\n",
              "      <td>HABITOS, COSTUMBRES, COMPORTAMIENTOS</td>\n",
              "      <td></td>\n",
              "      <td>SI</td>\n",
              "      <td>NaN</td>\n",
              "      <td></td>\n",
              "      <td>NaN</td>\n",
              "      <td>SI</td>\n",
              "      <td>TODOS O CASI TODOS LOS DIAS</td>\n",
              "      <td>FM</td>\n",
              "      <td>4.0</td>\n",
              "      <td>0.0</td>\n",
              "      <td>4</td>\n",
              "      <td>0</td>\n",
              "      <td>TODOS O CASI TODOS LOS DIAS</td>\n",
              "      <td>NUNCA</td>\n",
              "      <td>NUNCA</td>\n",
              "      <td>ALGUNOS DIAS POR SEMANA</td>\n",
              "      <td>NUNCA</td>\n",
              "      <td>MUSICALES</td>\n",
              "      <td>NaN</td>\n",
              "      <td>NaN</td>\n",
              "      <td>NaN</td>\n",
              "      <td>NaN</td>\n",
              "      <td>NaN</td>\n",
              "      <td>NaN</td>\n",
              "      <td></td>\n",
              "      <td>1</td>\n",
              "      <td>SI</td>\n",
              "      <td>NaN</td>\n",
              "      <td></td>\n",
              "      <td>NaN</td>\n",
              "      <td>ALGUNOS DIAS POR SEMANA</td>\n",
              "      <td>2.0</td>\n",
              "      <td>0.0</td>\n",
              "      <td>...</td>\n",
              "      <td></td>\n",
              "      <td>NaN</td>\n",
              "      <td>NO</td>\n",
              "      <td>SI</td>\n",
              "      <td>NO</td>\n",
              "      <td>NO</td>\n",
              "      <td>NO</td>\n",
              "      <td>SI</td>\n",
              "      <td>PROPIA</td>\n",
              "      <td>NO</td>\n",
              "      <td>NO</td>\n",
              "      <td>NO</td>\n",
              "      <td>NO</td>\n",
              "      <td>NO</td>\n",
              "      <td>VILLA DE EMERGENCIA</td>\n",
              "      <td>VILLA DE EMERGENCIA</td>\n",
              "      <td>CASA</td>\n",
              "      <td>48.0</td>\n",
              "      <td>D1</td>\n",
              "      <td>240.0</td>\n",
              "      <td>240.0</td>\n",
              "      <td>4.0</td>\n",
              "      <td>120.0</td>\n",
              "      <td>120.0</td>\n",
              "      <td>2.0</td>\n",
              "      <td>60.0</td>\n",
              "      <td>60.0</td>\n",
              "      <td>1.0</td>\n",
              "      <td>300.0</td>\n",
              "      <td>300.0</td>\n",
              "      <td>5.0</td>\n",
              "      <td>60.0</td>\n",
              "      <td>60.0</td>\n",
              "      <td>1.00</td>\n",
              "      <td>60.0</td>\n",
              "      <td>60.0</td>\n",
              "      <td>1.0</td>\n",
              "      <td>0.0</td>\n",
              "      <td>0.0</td>\n",
              "      <td>0.0</td>\n",
              "    </tr>\n",
              "  </tbody>\n",
              "</table>\n",
              "<p>5 rows × 450 columns</p>\n",
              "</div>"
            ],
            "text/plain": [
              "        id pondera_dem  ... minutos_videojuegos_total horas_videojuegos_total\n",
              "455    456        6265  ...                       0.0                     0.0\n",
              "1953  1953        4703  ...                       0.0                     0.0\n",
              "418    419        1515  ...                       0.0                     0.0\n",
              "84      85        4341  ...                       0.0                     0.0\n",
              "508    509        7995  ...                       0.0                     0.0\n",
              "\n",
              "[5 rows x 450 columns]"
            ]
          },
          "metadata": {
            "tags": []
          },
          "execution_count": 10
        }
      ]
    },
    {
      "cell_type": "markdown",
      "metadata": {
        "id": "J5G_q5f814ZL"
      },
      "source": [
        "# Según el [Informe del Ministerio de Cultura](https://back.sinca.gob.ar/download.aspx?id=2457), la asistencia al teatro cayó alrededor de un 40% entre 2013 y 2017. Sin embargo, ¿será esto un problema propio del Teatro o un síntoma más de la caída generalizada del consumo? \n",
        "\n"
      ]
    },
    {
      "cell_type": "markdown",
      "metadata": {
        "id": "wxaQRvKc8Tjp"
      },
      "source": [
        "Primero consultamos los casos de la pregunta 68 ('¿CONCURRIÓ A ESPECTÁCULOS TEATRALES DURANTE EL ÚLTIMO AÑO?') y asignamos cada grupo a una variable:"
      ]
    },
    {
      "cell_type": "code",
      "metadata": {
        "id": "o4vcmqFwvwQR",
        "colab": {
          "base_uri": "https://localhost:8080/"
        },
        "outputId": "10a7ecab-db6f-4d8f-e0d8-4f30ad2e3b3a"
      },
      "source": [
        "conc_teatro = df[df['p68']=='SI']\n",
        "no_conc_teatro = df[df['p68']=='NO']\n",
        "print(df['p68'].value_counts())"
      ],
      "execution_count": 11,
      "outputs": [
        {
          "output_type": "stream",
          "text": [
            "NO    2458\n",
            "SI     342\n",
            "Name: p68, dtype: int64\n"
          ],
          "name": "stdout"
        }
      ]
    },
    {
      "cell_type": "markdown",
      "metadata": {
        "id": "qnXMM1vWiOo2"
      },
      "source": [
        "¿Cuál es el porcentaje de personas que concurrieron al teatro en relación al total?"
      ]
    },
    {
      "cell_type": "code",
      "metadata": {
        "id": "chAgj6tA2tBf",
        "colab": {
          "base_uri": "https://localhost:8080/"
        },
        "outputId": "51424d28-d001-4bf7-c8d6-d33981b6d480"
      },
      "source": [
        "print(f'El {round(len(conc_teatro)/len(df)*100)}% de las personas concurrió al teatro\\\n",
        " el último año.') "
      ],
      "execution_count": 12,
      "outputs": [
        {
          "output_type": "stream",
          "text": [
            "El 12% de las personas concurrió al teatro el último año.\n"
          ],
          "name": "stdout"
        }
      ]
    },
    {
      "cell_type": "code",
      "metadata": {
        "id": "PvDU-u7UEGma",
        "colab": {
          "base_uri": "https://localhost:8080/",
          "height": 317
        },
        "outputId": "0a437b0a-210c-4747-8306-eca3cd4d793a"
      },
      "source": [
        "fig = px.pie(df,values='id',names='p68',\\\n",
        "             title='¿Asistió al teatro durante el último año?',\n",
        "             width=370,height=300)\n",
        "fig.show()"
      ],
      "execution_count": 13,
      "outputs": [
        {
          "output_type": "display_data",
          "data": {
            "text/html": [
              "<html>\n",
              "<head><meta charset=\"utf-8\" /></head>\n",
              "<body>\n",
              "    <div>\n",
              "            <script src=\"https://cdnjs.cloudflare.com/ajax/libs/mathjax/2.7.5/MathJax.js?config=TeX-AMS-MML_SVG\"></script><script type=\"text/javascript\">if (window.MathJax) {MathJax.Hub.Config({SVG: {font: \"STIX-Web\"}});}</script>\n",
              "                <script type=\"text/javascript\">window.PlotlyConfig = {MathJaxConfig: 'local'};</script>\n",
              "        <script src=\"https://cdn.plot.ly/plotly-latest.min.js\"></script>    \n",
              "            <div id=\"14fa6b2c-bab1-47f9-86ab-0cc8484c867a\" class=\"plotly-graph-div\" style=\"height:300px; width:370px;\"></div>\n",
              "            <script type=\"text/javascript\">\n",
              "                \n",
              "                    window.PLOTLYENV=window.PLOTLYENV || {};\n",
              "                    \n",
              "                if (document.getElementById(\"14fa6b2c-bab1-47f9-86ab-0cc8484c867a\")) {\n",
              "                    Plotly.newPlot(\n",
              "                        '14fa6b2c-bab1-47f9-86ab-0cc8484c867a',\n",
              "                        [{\"domain\": {\"x\": [0.0, 1.0], \"y\": [0.0, 1.0]}, \"hoverlabel\": {\"namelength\": 0}, \"hovertemplate\": \"p68=%{label}<br>id=%{value}\", \"labels\": [\"NO\", \"SI\", \"NO\", \"NO\", \"SI\", \"NO\", \"NO\", \"NO\", \"NO\", \"NO\", \"NO\", \"NO\", \"NO\", \"NO\", \"NO\", \"NO\", \"SI\", \"NO\", \"NO\", \"NO\", \"NO\", \"NO\", \"NO\", \"SI\", \"NO\", \"NO\", \"NO\", \"NO\", \"NO\", \"NO\", \"NO\", \"NO\", \"NO\", \"NO\", \"NO\", \"NO\", \"NO\", \"NO\", \"NO\", \"NO\", \"NO\", \"NO\", \"NO\", \"NO\", \"NO\", \"NO\", \"NO\", \"NO\", \"NO\", \"NO\", \"NO\", \"NO\", \"NO\", \"NO\", \"NO\", \"NO\", \"NO\", \"NO\", \"NO\", \"NO\", \"NO\", \"SI\", \"NO\", \"NO\", \"NO\", \"NO\", \"NO\", \"NO\", \"NO\", \"NO\", \"NO\", \"NO\", \"NO\", \"NO\", \"NO\", \"NO\", \"NO\", \"NO\", \"NO\", \"NO\", \"NO\", \"SI\", \"NO\", \"NO\", \"SI\", \"NO\", \"NO\", \"NO\", \"SI\", \"NO\", \"NO\", \"NO\", \"NO\", \"NO\", \"NO\", \"NO\", \"NO\", \"NO\", \"NO\", \"NO\", \"NO\", \"NO\", \"NO\", \"NO\", \"NO\", \"NO\", \"NO\", \"NO\", \"NO\", \"NO\", \"NO\", \"NO\", \"NO\", \"NO\", \"NO\", \"NO\", \"NO\", \"NO\", \"NO\", \"NO\", \"NO\", \"NO\", \"SI\", \"NO\", \"NO\", \"NO\", \"SI\", \"NO\", \"SI\", \"SI\", \"NO\", \"NO\", \"NO\", \"NO\", \"NO\", \"NO\", \"SI\", \"NO\", \"NO\", \"SI\", \"NO\", \"NO\", \"NO\", \"NO\", \"NO\", \"NO\", \"NO\", \"SI\", \"NO\", \"NO\", \"NO\", \"NO\", \"SI\", \"NO\", \"NO\", \"NO\", \"NO\", \"NO\", \"NO\", \"NO\", \"NO\", \"NO\", \"NO\", \"NO\", \"NO\", \"NO\", \"NO\", \"NO\", \"NO\", \"NO\", \"NO\", \"NO\", \"NO\", \"NO\", \"NO\", \"NO\", \"NO\", \"NO\", \"NO\", \"NO\", \"NO\", \"SI\", \"SI\", \"NO\", \"NO\", \"NO\", \"NO\", \"NO\", \"NO\", \"NO\", \"NO\", \"NO\", \"NO\", \"NO\", \"NO\", \"NO\", \"NO\", \"NO\", \"NO\", \"NO\", \"NO\", \"NO\", \"NO\", \"NO\", \"NO\", \"NO\", \"NO\", \"NO\", \"NO\", \"NO\", \"NO\", \"NO\", \"NO\", \"SI\", \"NO\", \"NO\", \"NO\", \"NO\", \"NO\", \"NO\", \"NO\", \"SI\", \"NO\", \"NO\", \"NO\", \"NO\", \"NO\", \"NO\", \"NO\", \"NO\", \"NO\", \"NO\", \"NO\", \"NO\", \"NO\", \"NO\", \"NO\", \"NO\", \"NO\", \"NO\", \"NO\", \"NO\", \"NO\", \"NO\", \"NO\", \"NO\", \"NO\", \"NO\", \"NO\", \"NO\", \"NO\", \"NO\", \"NO\", \"NO\", \"NO\", \"NO\", \"NO\", \"NO\", \"NO\", \"NO\", \"SI\", \"SI\", \"NO\", \"SI\", \"SI\", \"NO\", \"NO\", \"NO\", \"NO\", \"NO\", \"NO\", \"SI\", \"SI\", \"SI\", \"NO\", \"SI\", \"NO\", \"NO\", \"NO\", \"NO\", \"NO\", \"NO\", \"NO\", \"NO\", \"SI\", \"NO\", \"NO\", \"NO\", \"NO\", \"NO\", \"NO\", \"NO\", \"NO\", \"NO\", \"NO\", \"NO\", \"NO\", \"NO\", \"NO\", \"NO\", \"NO\", \"NO\", \"NO\", \"NO\", \"NO\", \"NO\", \"NO\", \"NO\", \"NO\", \"SI\", \"NO\", \"NO\", \"NO\", \"NO\", \"NO\", \"SI\", \"NO\", \"NO\", \"NO\", \"NO\", \"NO\", \"NO\", \"NO\", \"NO\", \"SI\", \"NO\", \"NO\", \"NO\", \"NO\", \"NO\", \"NO\", \"NO\", \"NO\", \"NO\", \"NO\", \"SI\", \"NO\", \"NO\", \"NO\", \"NO\", \"NO\", \"NO\", \"NO\", \"NO\", \"NO\", \"NO\", \"SI\", \"NO\", \"NO\", \"NO\", \"SI\", \"NO\", \"NO\", \"NO\", \"NO\", \"NO\", \"SI\", \"NO\", \"NO\", \"NO\", \"SI\", \"NO\", \"NO\", \"NO\", \"NO\", \"NO\", \"NO\", \"SI\", \"NO\", \"NO\", \"NO\", \"NO\", \"NO\", \"NO\", \"NO\", \"NO\", \"NO\", \"NO\", \"NO\", \"NO\", \"NO\", \"NO\", \"NO\", \"NO\", \"NO\", \"NO\", \"NO\", \"NO\", \"NO\", \"NO\", \"NO\", \"NO\", \"NO\", \"NO\", \"NO\", \"NO\", \"NO\", \"NO\", \"NO\", \"NO\", \"NO\", \"NO\", \"NO\", \"NO\", \"NO\", \"NO\", \"NO\", \"NO\", \"NO\", \"NO\", \"NO\", \"SI\", \"SI\", \"NO\", \"NO\", \"NO\", \"NO\", \"NO\", \"NO\", \"NO\", \"NO\", \"NO\", \"SI\", \"NO\", \"NO\", \"NO\", \"SI\", \"SI\", \"NO\", \"NO\", \"NO\", \"NO\", \"NO\", \"NO\", \"SI\", \"NO\", \"NO\", \"NO\", \"NO\", \"NO\", \"NO\", \"NO\", \"NO\", \"NO\", \"NO\", \"NO\", \"SI\", \"SI\", \"NO\", \"NO\", \"NO\", \"NO\", \"NO\", \"NO\", \"NO\", \"NO\", \"NO\", \"NO\", \"NO\", \"NO\", \"NO\", \"NO\", \"NO\", \"NO\", \"NO\", \"NO\", \"NO\", \"NO\", \"NO\", \"NO\", \"NO\", \"NO\", \"NO\", \"NO\", \"NO\", \"NO\", \"NO\", \"NO\", \"NO\", \"NO\", \"NO\", \"NO\", \"NO\", \"NO\", \"NO\", \"NO\", \"NO\", \"NO\", \"NO\", \"NO\", \"NO\", \"NO\", \"NO\", \"NO\", \"NO\", \"NO\", \"NO\", \"NO\", \"NO\", \"NO\", \"NO\", \"NO\", \"NO\", \"NO\", \"NO\", \"NO\", \"NO\", \"NO\", \"NO\", \"NO\", \"NO\", \"NO\", \"SI\", \"NO\", \"NO\", \"SI\", \"SI\", \"NO\", \"NO\", \"NO\", \"NO\", \"NO\", \"NO\", \"NO\", \"NO\", \"NO\", \"NO\", \"NO\", \"NO\", \"NO\", \"NO\", \"NO\", \"NO\", \"NO\", \"NO\", \"NO\", \"NO\", \"NO\", \"NO\", \"NO\", \"NO\", \"NO\", \"SI\", \"NO\", \"SI\", \"NO\", \"NO\", \"NO\", \"SI\", \"NO\", \"NO\", \"NO\", \"NO\", \"NO\", \"NO\", \"SI\", \"NO\", \"NO\", \"NO\", \"NO\", \"NO\", \"NO\", \"NO\", \"SI\", \"NO\", \"SI\", \"NO\", \"NO\", \"NO\", \"NO\", \"SI\", \"NO\", \"NO\", \"NO\", \"NO\", \"NO\", \"NO\", \"NO\", \"NO\", \"NO\", \"SI\", \"NO\", \"NO\", \"NO\", \"NO\", \"NO\", \"NO\", \"NO\", \"NO\", \"NO\", \"NO\", \"NO\", \"NO\", \"NO\", \"NO\", \"NO\", \"NO\", \"SI\", \"SI\", \"NO\", \"NO\", \"NO\", \"NO\", \"NO\", \"SI\", \"NO\", \"NO\", \"NO\", \"NO\", \"NO\", \"NO\", \"NO\", \"NO\", \"SI\", \"NO\", \"SI\", \"SI\", \"SI\", \"NO\", \"NO\", \"NO\", \"NO\", \"NO\", \"NO\", \"SI\", \"NO\", \"NO\", \"NO\", \"NO\", \"NO\", \"NO\", \"NO\", \"NO\", \"NO\", \"NO\", \"NO\", \"NO\", \"NO\", \"NO\", \"NO\", \"NO\", \"NO\", \"SI\", \"NO\", \"NO\", \"NO\", \"NO\", \"NO\", \"NO\", \"NO\", \"NO\", \"NO\", \"NO\", \"NO\", \"NO\", \"NO\", \"NO\", \"NO\", \"NO\", \"NO\", \"NO\", \"NO\", \"NO\", \"NO\", \"SI\", \"NO\", \"NO\", \"NO\", \"NO\", \"NO\", \"NO\", \"NO\", \"NO\", \"NO\", \"NO\", \"NO\", \"NO\", \"NO\", \"NO\", \"NO\", \"NO\", \"NO\", \"NO\", \"NO\", \"NO\", \"NO\", \"NO\", \"NO\", \"NO\", \"SI\", \"NO\", \"NO\", \"NO\", \"SI\", \"NO\", \"NO\", \"NO\", \"SI\", \"SI\", \"NO\", \"NO\", \"NO\", \"SI\", \"NO\", \"SI\", \"SI\", \"NO\", \"NO\", \"NO\", \"NO\", \"NO\", \"SI\", \"NO\", \"SI\", \"NO\", \"SI\", \"NO\", \"NO\", \"NO\", \"SI\", \"NO\", \"NO\", \"NO\", \"SI\", \"SI\", \"NO\", \"SI\", \"NO\", \"SI\", \"NO\", \"NO\", \"NO\", \"SI\", \"NO\", \"NO\", \"NO\", \"NO\", \"NO\", \"NO\", \"SI\", \"NO\", \"NO\", \"NO\", \"SI\", \"NO\", \"NO\", \"NO\", \"NO\", \"NO\", \"NO\", \"NO\", \"NO\", \"NO\", \"NO\", \"NO\", \"NO\", \"NO\", \"NO\", \"NO\", \"NO\", \"NO\", \"NO\", \"NO\", \"NO\", \"NO\", \"NO\", \"NO\", \"NO\", \"NO\", \"NO\", \"NO\", \"NO\", \"NO\", \"NO\", \"SI\", \"SI\", \"NO\", \"NO\", \"NO\", \"NO\", \"NO\", \"NO\", \"NO\", \"SI\", \"SI\", \"NO\", \"NO\", \"NO\", \"SI\", \"NO\", \"NO\", \"NO\", \"NO\", \"NO\", \"NO\", \"NO\", \"SI\", \"SI\", \"SI\", \"NO\", \"NO\", \"NO\", \"NO\", \"NO\", \"NO\", \"NO\", \"NO\", \"NO\", \"NO\", \"NO\", \"SI\", \"NO\", \"NO\", \"NO\", \"SI\", \"NO\", \"NO\", \"NO\", \"NO\", \"NO\", \"NO\", \"NO\", \"NO\", \"NO\", \"NO\", \"SI\", \"SI\", \"NO\", \"NO\", \"SI\", \"NO\", \"NO\", \"NO\", \"NO\", \"NO\", \"NO\", \"SI\", \"NO\", \"NO\", \"NO\", \"SI\", \"NO\", \"NO\", \"NO\", \"NO\", \"NO\", \"NO\", \"NO\", \"NO\", \"SI\", \"NO\", \"NO\", \"NO\", \"NO\", \"NO\", \"NO\", \"NO\", \"NO\", \"NO\", \"NO\", \"NO\", \"NO\", \"NO\", \"NO\", \"NO\", \"NO\", \"NO\", \"NO\", \"NO\", \"NO\", \"NO\", \"NO\", \"NO\", \"NO\", \"NO\", \"NO\", \"NO\", \"NO\", \"NO\", \"NO\", \"NO\", \"NO\", \"NO\", \"NO\", \"NO\", \"NO\", \"NO\", \"NO\", \"NO\", \"SI\", \"NO\", \"NO\", \"NO\", \"NO\", \"NO\", \"SI\", \"NO\", \"NO\", \"NO\", \"NO\", \"NO\", \"NO\", \"NO\", \"NO\", \"NO\", \"NO\", \"NO\", \"NO\", \"SI\", \"NO\", \"NO\", \"NO\", \"NO\", \"NO\", \"NO\", \"NO\", \"NO\", \"SI\", \"NO\", \"NO\", \"NO\", \"NO\", \"NO\", \"NO\", \"NO\", \"NO\", \"NO\", \"NO\", \"NO\", \"NO\", \"SI\", \"NO\", \"NO\", \"NO\", \"NO\", \"NO\", \"NO\", \"NO\", \"NO\", \"NO\", \"NO\", \"NO\", \"NO\", \"NO\", \"NO\", \"NO\", \"NO\", \"NO\", \"NO\", \"NO\", \"NO\", \"NO\", \"NO\", \"NO\", \"NO\", \"NO\", \"SI\", \"NO\", \"NO\", \"NO\", \"NO\", \"SI\", \"NO\", \"NO\", \"NO\", \"NO\", \"NO\", \"NO\", \"NO\", \"NO\", \"NO\", \"NO\", \"NO\", \"NO\", \"NO\", \"NO\", \"NO\", \"NO\", \"SI\", \"NO\", \"NO\", \"NO\", \"SI\", \"NO\", \"NO\", \"NO\", \"NO\", \"NO\", \"NO\", \"NO\", \"NO\", \"NO\", \"SI\", \"NO\", \"NO\", \"NO\", \"NO\", \"NO\", \"NO\", \"NO\", \"NO\", \"NO\", \"NO\", \"SI\", \"NO\", \"NO\", \"SI\", \"NO\", \"SI\", \"NO\", \"NO\", \"NO\", \"NO\", \"NO\", \"NO\", \"NO\", \"NO\", \"NO\", \"NO\", \"NO\", \"NO\", \"NO\", \"NO\", \"NO\", \"NO\", \"NO\", \"NO\", \"NO\", \"NO\", \"NO\", \"NO\", \"NO\", \"SI\", \"NO\", \"NO\", \"NO\", \"NO\", \"NO\", \"SI\", \"NO\", \"NO\", \"SI\", \"NO\", \"NO\", \"NO\", \"NO\", \"NO\", \"NO\", \"NO\", \"NO\", \"NO\", \"NO\", \"NO\", \"NO\", \"NO\", \"NO\", \"NO\", \"NO\", \"NO\", \"NO\", \"NO\", \"SI\", \"NO\", \"NO\", \"NO\", \"SI\", \"NO\", \"NO\", \"NO\", \"NO\", \"NO\", \"NO\", \"NO\", \"NO\", \"NO\", \"NO\", \"NO\", \"NO\", \"NO\", \"NO\", \"NO\", \"NO\", \"NO\", \"NO\", \"NO\", \"NO\", \"NO\", \"NO\", \"SI\", \"NO\", \"NO\", \"NO\", \"NO\", \"NO\", \"NO\", \"NO\", \"NO\", \"NO\", \"NO\", \"NO\", \"NO\", \"NO\", \"NO\", \"NO\", \"NO\", \"NO\", \"NO\", \"NO\", \"NO\", \"NO\", \"NO\", \"NO\", \"NO\", \"NO\", \"NO\", \"SI\", \"SI\", \"NO\", \"NO\", \"NO\", \"NO\", \"NO\", \"NO\", \"NO\", \"NO\", \"NO\", \"NO\", \"NO\", \"NO\", \"NO\", \"NO\", \"NO\", \"NO\", \"NO\", \"NO\", \"NO\", \"NO\", \"SI\", \"NO\", \"NO\", \"NO\", \"NO\", \"NO\", \"NO\", \"NO\", \"NO\", \"NO\", \"NO\", \"SI\", \"NO\", \"NO\", \"NO\", \"NO\", \"NO\", \"NO\", \"NO\", \"NO\", \"NO\", \"NO\", \"NO\", \"NO\", \"NO\", \"SI\", \"NO\", \"NO\", \"NO\", \"NO\", \"NO\", \"NO\", \"NO\", \"SI\", \"NO\", \"NO\", \"NO\", \"NO\", \"SI\", \"NO\", \"NO\", \"NO\", \"NO\", \"NO\", \"NO\", \"NO\", \"NO\", \"NO\", \"NO\", \"NO\", \"NO\", \"SI\", \"NO\", \"SI\", \"NO\", \"NO\", \"NO\", \"NO\", \"NO\", \"NO\", \"NO\", \"NO\", \"NO\", \"NO\", \"NO\", \"SI\", \"NO\", \"NO\", \"NO\", \"SI\", \"NO\", \"SI\", \"NO\", \"NO\", \"NO\", \"NO\", \"NO\", \"NO\", \"NO\", \"NO\", \"NO\", \"NO\", \"NO\", \"NO\", \"NO\", \"NO\", \"NO\", \"NO\", \"NO\", \"SI\", \"NO\", \"SI\", \"NO\", \"NO\", \"NO\", \"NO\", \"NO\", \"NO\", \"NO\", \"NO\", \"NO\", \"NO\", \"NO\", \"NO\", \"NO\", \"SI\", \"NO\", \"NO\", \"NO\", \"NO\", \"NO\", \"NO\", \"NO\", \"NO\", \"NO\", \"NO\", \"NO\", \"NO\", \"NO\", \"NO\", \"NO\", \"NO\", \"NO\", \"NO\", \"NO\", \"NO\", \"NO\", \"NO\", \"NO\", \"NO\", \"NO\", \"NO\", \"NO\", \"NO\", \"NO\", \"SI\", \"NO\", \"NO\", \"SI\", \"SI\", \"NO\", \"SI\", \"SI\", \"NO\", \"NO\", \"NO\", \"NO\", \"NO\", \"NO\", \"NO\", \"SI\", \"NO\", \"NO\", \"NO\", \"NO\", \"NO\", \"NO\", \"NO\", \"NO\", \"NO\", \"SI\", \"NO\", \"NO\", \"NO\", \"SI\", \"NO\", \"NO\", \"NO\", \"SI\", \"SI\", \"SI\", \"SI\", \"SI\", \"SI\", \"NO\", \"NO\", \"NO\", \"NO\", \"NO\", \"NO\", \"NO\", \"NO\", \"NO\", \"NO\", \"NO\", \"SI\", \"NO\", \"SI\", \"NO\", \"NO\", \"NO\", \"NO\", \"NO\", \"NO\", \"NO\", \"NO\", \"NO\", \"NO\", \"NO\", \"NO\", \"NO\", \"SI\", \"NO\", \"SI\", \"NO\", \"NO\", \"NO\", \"NO\", \"NO\", \"NO\", \"NO\", \"NO\", \"SI\", \"NO\", \"NO\", \"NO\", \"NO\", \"NO\", \"NO\", \"NO\", \"SI\", \"NO\", \"NO\", \"NO\", \"NO\", \"NO\", \"NO\", \"NO\", \"NO\", \"NO\", \"NO\", \"NO\", \"NO\", \"NO\", \"NO\", \"NO\", \"NO\", \"NO\", \"NO\", \"NO\", \"NO\", \"NO\", \"NO\", \"NO\", \"NO\", \"NO\", \"NO\", \"NO\", \"NO\", \"SI\", \"NO\", \"NO\", \"NO\", \"NO\", \"SI\", \"NO\", \"NO\", \"NO\", \"NO\", \"SI\", \"NO\", \"NO\", \"NO\", \"NO\", \"NO\", \"SI\", \"NO\", \"NO\", \"NO\", \"NO\", \"NO\", \"SI\", \"NO\", \"NO\", \"SI\", \"NO\", \"NO\", \"NO\", \"NO\", \"NO\", \"NO\", \"NO\", \"NO\", \"NO\", \"NO\", \"NO\", \"NO\", \"NO\", \"NO\", \"NO\", \"NO\", \"NO\", \"NO\", \"NO\", \"NO\", \"NO\", \"SI\", \"NO\", \"NO\", \"NO\", \"NO\", \"NO\", \"NO\", \"NO\", \"NO\", \"NO\", \"SI\", \"NO\", \"NO\", \"NO\", \"NO\", \"NO\", \"NO\", \"NO\", \"NO\", \"NO\", \"SI\", \"NO\", \"NO\", \"NO\", \"SI\", \"SI\", \"NO\", \"NO\", \"NO\", \"NO\", \"NO\", \"SI\", \"NO\", \"NO\", \"NO\", \"NO\", \"NO\", \"NO\", \"NO\", \"NO\", \"NO\", \"NO\", \"NO\", \"SI\", \"NO\", \"NO\", \"NO\", \"NO\", \"NO\", \"NO\", \"NO\", \"NO\", \"NO\", \"NO\", \"NO\", \"NO\", \"NO\", \"NO\", \"NO\", \"NO\", \"NO\", \"NO\", \"NO\", \"NO\", \"NO\", \"NO\", \"NO\", \"SI\", \"NO\", \"NO\", \"NO\", \"NO\", \"NO\", \"NO\", \"NO\", \"NO\", \"NO\", \"SI\", \"SI\", \"NO\", \"NO\", \"NO\", \"NO\", \"NO\", \"NO\", \"NO\", \"SI\", \"NO\", \"NO\", \"NO\", \"SI\", \"SI\", \"NO\", \"NO\", \"NO\", \"NO\", \"SI\", \"NO\", \"NO\", \"NO\", \"NO\", \"NO\", \"NO\", \"NO\", \"NO\", \"NO\", \"NO\", \"NO\", \"NO\", \"NO\", \"NO\", \"NO\", \"NO\", \"NO\", \"NO\", \"NO\", \"NO\", \"NO\", \"NO\", \"NO\", \"NO\", \"NO\", \"NO\", \"NO\", \"NO\", \"NO\", \"NO\", \"NO\", \"NO\", \"NO\", \"NO\", \"NO\", \"NO\", \"NO\", \"NO\", \"NO\", \"NO\", \"NO\", \"NO\", \"NO\", \"NO\", \"NO\", \"NO\", \"NO\", \"NO\", \"NO\", \"NO\", \"NO\", \"NO\", \"NO\", \"NO\", \"NO\", \"NO\", \"NO\", \"NO\", \"NO\", \"NO\", \"NO\", \"NO\", \"NO\", \"NO\", \"NO\", \"NO\", \"NO\", \"NO\", \"NO\", \"NO\", \"NO\", \"NO\", \"NO\", \"NO\", \"NO\", \"NO\", \"NO\", \"NO\", \"NO\", \"NO\", \"NO\", \"NO\", \"NO\", \"NO\", \"NO\", \"NO\", \"NO\", \"NO\", \"NO\", \"SI\", \"NO\", \"NO\", \"NO\", \"NO\", \"NO\", \"NO\", \"NO\", \"NO\", \"NO\", \"NO\", \"NO\", \"NO\", \"NO\", \"NO\", \"NO\", \"NO\", \"NO\", \"NO\", \"NO\", \"NO\", \"NO\", \"NO\", \"NO\", \"NO\", \"NO\", \"NO\", \"NO\", \"SI\", \"SI\", \"NO\", \"NO\", \"SI\", \"NO\", \"SI\", \"SI\", \"NO\", \"NO\", \"SI\", \"SI\", \"SI\", \"NO\", \"NO\", \"NO\", \"NO\", \"NO\", \"NO\", \"NO\", \"SI\", \"NO\", \"SI\", \"NO\", \"NO\", \"NO\", \"NO\", \"NO\", \"SI\", \"NO\", \"NO\", \"NO\", \"SI\", \"NO\", \"NO\", \"NO\", \"SI\", \"NO\", \"NO\", \"SI\", \"NO\", \"NO\", \"NO\", \"NO\", \"NO\", \"NO\", \"NO\", \"NO\", \"NO\", \"NO\", \"NO\", \"NO\", \"NO\", \"NO\", \"NO\", \"NO\", \"NO\", \"NO\", \"SI\", \"NO\", \"SI\", \"NO\", \"NO\", \"NO\", \"SI\", \"SI\", \"NO\", \"NO\", \"NO\", \"NO\", \"NO\", \"SI\", \"NO\", \"NO\", \"NO\", \"NO\", \"SI\", \"SI\", \"NO\", \"NO\", \"NO\", \"NO\", \"NO\", \"NO\", \"NO\", \"SI\", \"NO\", \"SI\", \"NO\", \"NO\", \"NO\", \"NO\", \"NO\", \"NO\", \"NO\", \"NO\", \"NO\", \"NO\", \"NO\", \"NO\", \"NO\", \"NO\", \"NO\", \"NO\", \"NO\", \"NO\", \"NO\", \"NO\", \"NO\", \"NO\", \"NO\", \"NO\", \"NO\", \"NO\", \"SI\", \"NO\", \"NO\", \"NO\", \"SI\", \"NO\", \"NO\", \"NO\", \"NO\", \"NO\", \"SI\", \"NO\", \"NO\", \"SI\", \"NO\", \"NO\", \"NO\", \"SI\", \"NO\", \"NO\", \"NO\", \"NO\", \"NO\", \"NO\", \"NO\", \"SI\", \"NO\", \"NO\", \"NO\", \"NO\", \"NO\", \"NO\", \"SI\", \"NO\", \"NO\", \"SI\", \"NO\", \"NO\", \"NO\", \"NO\", \"NO\", \"NO\", \"NO\", \"NO\", \"NO\", \"NO\", \"NO\", \"SI\", \"NO\", \"NO\", \"NO\", \"NO\", \"NO\", \"NO\", \"NO\", \"NO\", \"NO\", \"SI\", \"NO\", \"NO\", \"SI\", \"SI\", \"NO\", \"SI\", \"NO\", \"NO\", \"NO\", \"NO\", \"NO\", \"NO\", \"NO\", \"NO\", \"NO\", \"NO\", \"NO\", \"NO\", \"NO\", \"NO\", \"NO\", \"NO\", \"NO\", \"NO\", \"NO\", \"NO\", \"NO\", \"NO\", \"NO\", \"NO\", \"NO\", \"NO\", \"NO\", \"NO\", \"SI\", \"NO\", \"NO\", \"NO\", \"NO\", \"NO\", \"NO\", \"SI\", \"NO\", \"NO\", \"NO\", \"NO\", \"NO\", \"SI\", \"NO\", \"NO\", \"NO\", \"NO\", \"NO\", \"NO\", \"SI\", \"NO\", \"NO\", \"NO\", \"NO\", \"SI\", \"NO\", \"NO\", \"NO\", \"NO\", \"NO\", \"NO\", \"NO\", \"NO\", \"NO\", \"NO\", \"NO\", \"NO\", \"NO\", \"NO\", \"SI\", \"NO\", \"NO\", \"NO\", \"NO\", \"NO\", \"NO\", \"NO\", \"NO\", \"SI\", \"NO\", \"SI\", \"NO\", \"NO\", \"NO\", \"SI\", \"NO\", \"NO\", \"NO\", \"NO\", \"NO\", \"NO\", \"NO\", \"NO\", \"NO\", \"NO\", \"NO\", \"NO\", \"NO\", \"NO\", \"NO\", \"NO\", \"SI\", \"NO\", \"SI\", \"NO\", \"NO\", \"NO\", \"NO\", \"NO\", \"NO\", \"NO\", \"NO\", \"NO\", \"NO\", \"NO\", \"NO\", \"NO\", \"NO\", \"NO\", \"NO\", \"NO\", \"SI\", \"NO\", \"NO\", \"NO\", null, \"NO\", \"NO\", \"NO\", \"SI\", \"NO\", \"SI\", \"SI\", \"NO\", \"NO\", \"NO\", \"NO\", \"NO\", \"NO\", \"SI\", \"NO\", \"NO\", \"SI\", \"NO\", \"NO\", \"SI\", \"NO\", \"NO\", \"NO\", \"NO\", \"NO\", \"NO\", \"NO\", \"NO\", \"NO\", \"NO\", \"NO\", \"NO\", \"NO\", \"NO\", \"NO\", \"NO\", \"NO\", \"NO\", \"NO\", \"NO\", \"NO\", \"SI\", \"NO\", \"NO\", \"NO\", \"SI\", \"NO\", \"NO\", \"NO\", \"NO\", \"NO\", \"NO\", \"NO\", \"NO\", \"NO\", \"NO\", \"NO\", \"NO\", \"NO\", \"NO\", \"NO\", \"NO\", \"NO\", \"NO\", \"NO\", \"NO\", \"NO\", \"NO\", \"NO\", \"NO\", \"NO\", \"NO\", \"SI\", \"NO\", \"NO\", \"SI\", \"NO\", \"NO\", \"SI\", \"NO\", \"NO\", \"NO\", \"NO\", \"NO\", \"NO\", \"NO\", \"SI\", \"NO\", \"NO\", \"NO\", \"NO\", \"NO\", \"NO\", \"NO\", \"NO\", \"NO\", \"NO\", \"SI\", \"NO\", \"SI\", \"NO\", \"NO\", \"NO\", \"SI\", \"NO\", \"SI\", \"NO\", \"SI\", \"NO\", \"NO\", \"NO\", \"NO\", \"NO\", \"NO\", \"NO\", \"NO\", \"NO\", \"NO\", \"NO\", \"NO\", \"SI\", \"NO\", \"NO\", \"NO\", \"NO\", \"NO\", \"NO\", \"NO\", \"NO\", \"NO\", \"NO\", \"NO\", \"NO\", \"NO\", \"SI\", \"NO\", \"NO\", \"SI\", \"SI\", \"NO\", \"NO\", \"NO\", \"NO\", \"NO\", \"NO\", \"NO\", \"NO\", \"NO\", \"NO\", \"NO\", \"NO\", \"NO\", \"NO\", \"NO\", \"NO\", \"NO\", \"NO\", \"NO\", \"NO\", \"NO\", \"SI\", \"NO\", \"NO\", \"NO\", \"NO\", \"NO\", \"NO\", \"NO\", \"NO\", \"NO\", \"NO\", \"NO\", \"NO\", \"NO\", \"NO\", \"NO\", \"NO\", \"NO\", \"NO\", \"NO\", \"NO\", \"NO\", \"NO\", \"SI\", \"NO\", \"SI\", \"NO\", \"SI\", \"NO\", \"NO\", \"NO\", \"NO\", \"NO\", \"NO\", \"NO\", \"NO\", \"NO\", \"NO\", \"SI\", \"SI\", \"NO\", \"NO\", \"NO\", \"SI\", \"NO\", \"NO\", \"NO\", \"NO\", \"NO\", \"NO\", \"NO\", \"NO\", \"NO\", \"NO\", \"NO\", \"NO\", \"NO\", \"SI\", \"SI\", \"NO\", \"NO\", \"NO\", \"NO\", \"NO\", \"NO\", \"NO\", \"NO\", \"NO\", \"NO\", \"NO\", \"NO\", \"NO\", \"NO\", \"NO\", \"NO\", \"NO\", \"NO\", \"NO\", \"NO\", \"NO\", \"NO\", \"NO\", \"NO\", \"NO\", \"NO\", \"NO\", \"SI\", \"NO\", \"NO\", \"NO\", \"NO\", \"NO\", \"NO\", \"NO\", \"NO\", \"NO\", \"NO\", \"NO\", \"SI\", \"NO\", \"SI\", \"NO\", \"NO\", \"SI\", \"NO\", \"SI\", \"NO\", \"NO\", \"NO\", \"NO\", \"NO\", \"NO\", \"NO\", \"NO\", \"SI\", \"NO\", \"NO\", \"NO\", \"NO\", \"NO\", \"NO\", \"NO\", \"NO\", \"NO\", \"NO\", \"NO\", \"NO\", \"NO\", \"NO\", \"NO\", \"NO\", \"NO\", \"NO\", \"NO\", \"NO\", \"NO\", \"SI\", \"NO\", \"NO\", \"NO\", \"SI\", \"NO\", \"NO\", \"NO\", \"NO\", \"NO\", \"NO\", \"NO\", \"NO\", \"NO\", \"NO\", \"SI\", \"NO\", \"SI\", \"NO\", \"NO\", \"NO\", \"NO\", \"NO\", \"NO\", \"NO\", \"NO\", \"NO\", \"NO\", \"SI\", \"NO\", \"NO\", \"NO\", \"NO\", \"NO\", \"NO\", \"NO\", \"NO\", \"NO\", \"NO\", \"NO\", \"NO\", \"NO\", \"NO\", \"NO\", \"NO\", \"NO\", \"NO\", \"NO\", \"NO\", \"NO\", \"NO\", \"NO\", \"NO\", \"NO\", \"NO\", \"NO\", \"NO\", \"NO\", \"NO\", \"NO\", \"NO\", \"NO\", \"NO\", \"NO\", \"SI\", \"SI\", \"NO\", \"NO\", \"NO\", \"NO\", \"NO\", \"NO\", \"NO\", \"NO\", \"NO\", \"NO\", \"SI\", \"NO\", \"SI\", \"SI\", \"SI\", \"NO\", \"NO\", \"NO\", \"NO\", \"NO\", \"NO\", \"SI\", \"NO\", \"NO\", \"NO\", \"NO\", \"NO\", \"SI\", \"NO\", \"NO\", \"NO\", \"NO\", \"NO\", \"NO\", \"NO\", \"NO\", \"NO\", \"NO\", \"SI\", \"NO\", \"NO\", \"NO\", \"NO\", \"NO\", \"NO\", \"NO\", \"NO\", \"NO\", \"NO\", \"SI\", \"NO\", \"SI\", \"NO\", \"SI\", \"SI\", \"NO\", \"NO\", \"NO\", \"NO\", \"NO\", \"NO\", \"NO\", \"NO\", \"SI\", \"NO\", \"NO\", \"NO\", \"NO\", \"NO\", \"SI\", \"NO\", \"NO\", \"NO\", \"NO\", \"NO\", \"NO\", \"NO\", \"NO\", \"NO\", \"NO\", \"NO\", \"NO\", \"SI\", \"NO\", \"NO\", \"NO\", \"NO\", \"NO\", \"NO\", \"NO\", \"NO\", \"NO\", \"SI\", \"NO\", \"NO\", \"NO\", \"NO\", \"NO\", \"NO\", \"NO\", \"NO\", \"NO\", \"SI\", \"NO\", \"NO\", \"NO\", \"SI\", \"NO\", \"NO\", \"NO\", \"NO\", \"NO\", \"NO\", \"NO\", \"NO\", \"NO\", \"NO\", \"NO\", \"NO\", \"NO\", \"NO\", \"NO\", \"SI\", \"NO\", \"NO\", \"NO\", \"NO\", \"NO\", \"NO\", \"NO\", \"NO\", \"NO\", \"SI\", \"NO\", \"NO\", \"NO\", \"NO\", \"NO\", \"NO\", \"NO\", \"NO\", \"SI\", \"NO\", \"NO\", \"SI\", \"SI\", \"NO\", \"NO\", \"NO\", \"NO\", \"SI\", \"SI\", \"NO\", \"NO\", \"NO\", \"NO\", \"NO\", \"NO\", \"NO\", \"NO\", \"NO\", \"NO\", \"NO\", \"NO\", \"NO\", \"NO\", \"SI\", \"SI\", \"SI\", \"NO\", \"NO\", \"NO\", \"SI\", \"NO\", \"NO\", \"NO\", \"NO\", \"NO\", \"SI\", \"NO\", \"SI\", \"NO\", \"NO\", \"NO\", \"NO\", \"NO\", \"NO\", \"SI\", \"NO\", \"NO\", \"NO\", \"NO\", \"NO\", \"NO\", \"NO\", \"SI\", \"NO\", \"NO\", \"NO\", \"NO\", \"NO\", \"NO\", \"NO\", \"SI\", \"NO\", \"NO\", \"SI\", \"NO\", \"SI\", \"NO\", \"NO\", \"NO\", \"NO\", \"NO\", \"NO\", \"NO\", \"NO\", \"NO\", \"NO\", \"NO\", \"NO\", \"NO\", \"NO\", \"NO\", \"SI\", \"SI\", \"NO\", \"SI\", \"NO\", \"NO\", \"SI\", \"NO\", \"NO\", \"NO\", \"NO\", \"NO\", \"NO\", \"NO\", \"NO\", \"NO\", \"NO\", \"NO\", \"NO\", \"NO\", \"NO\", \"NO\", \"NO\", \"NO\", \"NO\", \"NO\", \"NO\", \"NO\", \"NO\", \"NO\", \"NO\", \"NO\", \"SI\", \"NO\", \"SI\", \"NO\", \"NO\", \"NO\", \"NO\", \"NO\", \"NO\", \"NO\", \"NO\", \"NO\", \"NO\", \"NO\", \"NO\", \"NO\", \"NO\", \"NO\", \"NO\", \"NO\", \"NO\", \"NO\", \"NO\", \"NO\", \"NO\", \"NO\", \"NO\", \"NO\", \"NO\", \"NO\", \"NO\", \"NO\", \"NO\", \"NO\", \"SI\", \"NO\", \"NO\", \"NO\", \"NO\", \"NO\", \"NO\", \"NO\", \"NO\", \"SI\", \"NO\", \"NO\", \"NO\", \"NO\", \"NO\", \"NO\", \"SI\", \"NO\", \"NO\", \"NO\", \"NO\", \"NO\", \"NO\", \"NO\", \"NO\", \"SI\", \"NO\", \"NO\", \"NO\", \"NO\", \"NO\", \"SI\", \"NO\", \"NO\", \"NO\", \"NO\", \"SI\", \"NO\", \"NO\", \"NO\", \"NO\", \"NO\", \"SI\", \"NO\", \"SI\", \"NO\", \"NO\", \"NO\", \"NO\", \"NO\", \"NO\", \"NO\", \"NO\", \"NO\", \"SI\", \"NO\", \"NO\", \"NO\", \"SI\", \"NO\", \"NO\", \"NO\", \"NO\", \"NO\", \"NO\", \"NO\", \"NO\", \"NO\", \"NO\", \"NO\", \"NO\", \"NO\", \"NO\", \"NO\", \"NO\", \"NO\", \"NO\", \"NO\", \"NO\", \"NO\", \"NO\", \"NO\", \"NO\", \"NO\", \"NO\", \"NO\", \"NO\", \"NO\", \"NO\", \"NO\", \"NO\", \"NO\", \"NO\", \"NO\", \"NO\", \"NO\", \"NO\", \"NO\", \"NO\", \"NO\", \"NO\", \"SI\", \"NO\", \"NO\", \"NO\", \"SI\", \"NO\", \"NO\", \"NO\", \"NO\", \"SI\", \"NO\", \"NO\", \"NO\", \"NO\", \"NO\", \"NO\", \"NO\", \"NO\", \"NO\", \"NO\", \"SI\", \"NO\", \"NO\", \"NO\", \"NO\", \"NO\", \"NO\", \"NO\", \"NO\", \"NO\", \"NO\", \"NO\", \"NO\", \"SI\", \"NO\", \"SI\", null, \"NO\", \"NO\", \"NO\", \"NO\", \"SI\", \"NO\", \"SI\", \"SI\", \"NO\", \"SI\", \"NO\", \"NO\", \"SI\", \"NO\", \"SI\", \"SI\", \"NO\", \"SI\", \"NO\", \"NO\", \"SI\", \"SI\", \"NO\", \"SI\", \"SI\", \"NO\", \"NO\", \"NO\", \"NO\", \"NO\", \"SI\", \"NO\", \"NO\", \"NO\", \"NO\", \"NO\", \"NO\", \"NO\", \"NO\", \"SI\", \"NO\", \"NO\", \"SI\", \"NO\", \"NO\", \"NO\", \"NO\", \"NO\", \"NO\", \"NO\", \"NO\", \"NO\", \"NO\", \"SI\", \"NO\", \"NO\", \"NO\", \"NO\", \"SI\", \"NO\", \"SI\", \"NO\"], \"legendgroup\": \"\", \"name\": \"\", \"showlegend\": true, \"type\": \"pie\", \"values\": [\"1\", \"2\", \"3\", \"4\", \"5\", \"6\", \"7\", \"8\", \"9\", \"10\", \"11\", \"12\", \"13\", \"14\", \"15\", \"16\", \"17\", \"18\", \"19\", \"20\", \"21\", \"22\", \"23\", \"24\", \"25\", \"26\", \"27\", \"28\", \"29\", \"30\", \"31\", \"32\", \"33\", \"34\", \"35\", \"36\", \"37\", \"38\", \"39\", \"40\", \"41\", \"42\", \"43\", \"44\", \"45\", \"46\", \"47\", \"48\", \"49\", \"50\", \"51\", \"52\", \"53\", \"54\", \"55\", \"56\", \"57\", \"58\", \"59\", \"60\", \"61\", \"62\", \"63\", \"64\", \"65\", \"66\", \"67\", \"68\", \"69\", \"70\", \"71\", \"72\", \"73\", \"74\", \"75\", \"76\", \"77\", \"78\", \"79\", \"80\", \"81\", \"82\", \"83\", \"84\", \"85\", \"86\", \"87\", \"88\", \"89\", \"90\", \"91\", \"92\", \"93\", \"94\", \"95\", \"96\", \"97\", \"98\", \"99\", \"100\", \"101\", \"102\", \"103\", \"104\", \"105\", \"106\", \"107\", \"108\", \"109\", \"110\", \"111\", \"112\", \"113\", \"114\", \"115\", \"116\", \"117\", \"118\", \"119\", \"120\", \"121\", \"122\", \"123\", \"124\", \"125\", \"126\", \"127\", \"128\", \"129\", \"130\", \"131\", \"132\", \"133\", \"134\", \"135\", \"136\", \"137\", \"138\", \"139\", \"140\", \"141\", \"142\", \"143\", \"144\", \"145\", \"146\", \"147\", \"148\", \"149\", \"150\", \"151\", \"152\", \"153\", \"154\", \"155\", \"156\", \"157\", \"158\", \"159\", \"160\", \"161\", \"162\", \"163\", \"164\", \"165\", \"166\", \"167\", \"168\", \"169\", \"170\", \"171\", \"172\", \"173\", \"174\", \"175\", \"176\", \"177\", \"178\", \"179\", \"180\", \"181\", \"182\", \"183\", \"184\", \"185\", \"186\", \"187\", \"188\", \"189\", \"190\", \"191\", \"192\", \"193\", \"194\", \"195\", \"196\", \"197\", \"198\", \"199\", \"200\", \"201\", \"202\", \"203\", \"204\", \"205\", \"206\", \"207\", \"208\", \"209\", \"210\", \"211\", \"212\", \"213\", \"214\", \"215\", \"216\", \"217\", \"218\", \"219\", \"220\", \"221\", \"222\", \"223\", \"224\", \"225\", \"226\", \"227\", \"228\", \"229\", \"230\", \"231\", \"232\", \"233\", \"234\", \"235\", \"236\", \"237\", \"238\", \"239\", \"240\", \"241\", \"242\", \"243\", \"244\", \"245\", \"246\", \"247\", \"248\", \"249\", \"250\", \"251\", \"252\", \"253\", \"254\", \"255\", \"256\", \"257\", \"258\", \"259\", \"260\", \"261\", \"262\", \"263\", \"264\", \"265\", \"266\", \"267\", \"268\", \"269\", \"270\", \"271\", \"272\", \"273\", \"274\", \"275\", \"276\", \"277\", \"278\", \"279\", \"280\", \"281\", \"282\", \"283\", \"284\", \"285\", \"286\", \"287\", \"288\", \"289\", \"290\", \"291\", \"292\", \"293\", \"294\", \"295\", \"296\", \"297\", \"298\", \"299\", \"300\", \"301\", \"302\", \"303\", \"304\", \"305\", \"306\", \"307\", \"308\", \"309\", \"310\", \"311\", \"312\", \"313\", \"314\", \"315\", \"316\", \"317\", \"318\", \"319\", \"320\", \"321\", \"322\", \"323\", \"324\", \"325\", \"326\", \"327\", \"328\", \"329\", \"330\", \"331\", \"332\", \"333\", \"334\", \"335\", \"336\", \"337\", \"338\", \"339\", \"340\", \"341\", \"342\", \"343\", \"344\", \"345\", \"346\", \"347\", \"348\", \"349\", \"350\", \"351\", \"352\", \"353\", \"354\", \"355\", \"356\", \"357\", \"358\", \"359\", \"360\", \"361\", \"362\", \"363\", \"364\", \"365\", \"366\", \"367\", \"368\", \"369\", \"370\", \"371\", \"372\", \"373\", \"374\", \"375\", \"376\", \"377\", \"378\", \"379\", \"380\", \"381\", \"382\", \"383\", \"384\", \"385\", \"386\", \"387\", \"388\", \"389\", \"390\", \"391\", \"392\", \"393\", \"394\", \"395\", \"396\", \"397\", \"398\", \"399\", \"400\", \"401\", \"402\", \"403\", \"404\", \"405\", \"406\", \"407\", \"408\", \"409\", \"410\", \"411\", \"412\", \"413\", \"414\", \"415\", \"416\", \"417\", \"418\", \"419\", \"420\", \"421\", \"422\", \"423\", \"424\", \"425\", \"426\", \"427\", \"428\", \"429\", \"430\", \"431\", \"432\", \"433\", \"434\", \"435\", \"436\", \"437\", \"438\", \"439\", \"440\", \"441\", \"442\", \"443\", \"444\", \"445\", \"446\", \"447\", \"448\", \"449\", \"450\", \"451\", \"452\", \"453\", \"454\", \"455\", \"456\", \"457\", \"458\", \"459\", \"460\", \"461\", \"462\", \"463\", \"464\", \"465\", \"466\", \"467\", \"468\", \"469\", \"470\", \"471\", \"472\", \"473\", \"474\", \"475\", \"476\", \"477\", \"478\", \"479\", \"480\", \"481\", \"482\", \"483\", \"484\", \"485\", \"486\", \"487\", \"488\", \"489\", \"490\", \"491\", \"492\", \"493\", \"494\", \"495\", \"496\", \"497\", \"498\", \"499\", \"500\", \"501\", \"502\", \"503\", \"504\", \"505\", \"506\", \"507\", \"508\", \"509\", \"510\", \"511\", \"512\", \"513\", \"514\", \"515\", \"516\", \"517\", \"518\", \"519\", \"520\", \"521\", \"522\", \"523\", \"524\", \"525\", \"526\", \"527\", \"528\", \"529\", \"530\", \"531\", \"532\", \"533\", \"534\", \"535\", \"536\", \"537\", \"538\", \"539\", \"540\", \"541\", \"542\", \"543\", \"544\", \"545\", \"546\", \"547\", \"548\", \"549\", \"550\", \"551\", \"552\", \"553\", \"554\", \"555\", \"556\", \"557\", \"558\", \"559\", \"560\", \"561\", \"562\", \"563\", \"564\", \"565\", \"566\", \"567\", \"568\", \"569\", \"570\", \"571\", \"572\", \"573\", \"574\", \"575\", \"576\", \"577\", \"578\", \"579\", \"580\", \"581\", \"582\", \"583\", \"584\", \"585\", \"586\", \"587\", \"588\", \"589\", \"590\", \"591\", \"592\", \"593\", \"594\", \"595\", \"596\", \"597\", \"598\", \"599\", \"600\", \"601\", \"602\", \"603\", \"604\", \"605\", \"606\", \"607\", \"608\", \"609\", \"610\", \"611\", \"612\", \"613\", \"614\", \"615\", \"616\", \"617\", \"618\", \"619\", \"620\", \"621\", \"622\", \"623\", \"624\", \"625\", \"626\", \"627\", \"628\", \"629\", \"630\", \"631\", \"632\", \"633\", \"634\", \"635\", \"636\", \"637\", \"638\", \"639\", \"640\", \"641\", \"642\", \"643\", \"644\", \"645\", \"646\", \"647\", \"648\", \"649\", \"650\", \"651\", \"652\", \"653\", \"654\", \"655\", \"656\", \"657\", \"658\", \"659\", \"660\", \"661\", \"662\", \"663\", \"664\", \"665\", \"666\", \"667\", \"668\", \"669\", \"670\", \"671\", \"672\", \"673\", \"674\", \"675\", \"676\", \"677\", \"678\", \"679\", \"680\", \"681\", \"682\", \"683\", \"684\", \"685\", \"686\", \"687\", \"688\", \"689\", \"690\", \"691\", \"692\", \"693\", \"694\", \"695\", \"696\", \"697\", \"698\", \"699\", \"700\", \"701\", \"702\", \"703\", \"704\", \"705\", \"706\", \"707\", \"708\", \"709\", \"710\", \"711\", \"712\", \"713\", \"714\", \"715\", \"716\", \"717\", \"718\", \"719\", \"720\", \"721\", \"722\", \"723\", \"724\", \"725\", \"726\", \"727\", \"728\", \"729\", \"730\", \"731\", \"732\", \"733\", \"734\", \"735\", \"736\", \"737\", \"738\", \"739\", \"740\", \"741\", \"742\", \"743\", \"744\", \"745\", \"746\", \"747\", \"748\", \"749\", \"750\", \"751\", \"752\", \"753\", \"754\", \"755\", \"756\", \"757\", \"758\", \"759\", \"760\", \"761\", \"762\", \"763\", \"764\", \"765\", \"766\", \"767\", \"768\", \"769\", \"770\", \"771\", \"772\", \"773\", \"774\", \"775\", \"776\", \"777\", \"778\", \"779\", \"780\", \"781\", \"782\", \"783\", \"784\", \"785\", \"786\", \"787\", \"788\", \"789\", \"790\", \"791\", \"792\", \"793\", \"794\", \"795\", \"796\", \"797\", \"798\", \"799\", \"800\", \"801\", \"802\", \"803\", \"804\", \"805\", \"806\", \"807\", \"808\", \"809\", \"810\", \"811\", \"812\", \"813\", \"814\", \"815\", \"816\", \"817\", \"818\", \"819\", \"820\", \"821\", \"822\", \"823\", \"824\", \"825\", \"826\", \"827\", \"828\", \"829\", \"830\", \"831\", \"832\", \"833\", \"834\", \"835\", \"836\", \"837\", \"838\", \"839\", \"840\", \"841\", \"842\", \"843\", \"844\", \"845\", \"846\", \"847\", \"848\", \"849\", \"850\", \"851\", \"852\", \"853\", \"854\", \"855\", \"856\", \"857\", \"858\", \"859\", \"860\", \"861\", \"862\", \"863\", \"864\", \"865\", \"866\", \"867\", \"868\", \"869\", \"870\", \"871\", \"872\", \"873\", \"874\", \"875\", \"876\", \"877\", \"878\", \"879\", \"880\", \"881\", \"882\", \"883\", \"884\", \"885\", \"886\", \"887\", \"888\", \"889\", \"890\", \"891\", \"892\", \"893\", \"894\", \"895\", \"896\", \"897\", \"898\", \"899\", \"900\", \"901\", \"902\", \"903\", \"904\", \"905\", \"906\", \"907\", \"908\", \"909\", \"910\", \"911\", \"912\", \"913\", \"914\", \"915\", \"916\", \"917\", \"918\", \"919\", \"920\", \"921\", \"922\", \"923\", \"924\", \"925\", \"926\", \"927\", \"928\", \"929\", \"930\", \"931\", \"932\", \"933\", \"934\", \"935\", \"936\", \"937\", \"938\", \"939\", \"940\", \"941\", \"942\", \"943\", \"944\", \"945\", \"946\", \"947\", \"948\", \"949\", \"950\", \"951\", \"952\", \"953\", \"954\", \"955\", \"956\", \"957\", \"958\", \"959\", \"960\", \"961\", \"962\", \"963\", \"964\", \"965\", \"966\", \"967\", \"968\", \"969\", \"970\", \"971\", \"972\", \"973\", \"974\", \"975\", \"976\", \"977\", \"978\", \"979\", \"980\", \"981\", \"982\", \"983\", \"984\", \"985\", \"986\", \"987\", \"988\", \"989\", \"990\", \"991\", \"992\", \"993\", \"994\", \"995\", \"996\", \"997\", \"998\", \"999\", \"1000\", \"1001\", \"1002\", \"1003\", \"1004\", \"1005\", \"1006\", \"1007\", \"1008\", \"1009\", \"1010\", \"1011\", \"1012\", \"1013\", \"1014\", \"1015\", \"1016\", \"1017\", \"1018\", \"1019\", \"1020\", \"1021\", \"1022\", \"1023\", \"1024\", \"1025\", \"1026\", \"1027\", \"1028\", \"1029\", \"1030\", \"1031\", \"1032\", \"1033\", \"1034\", \"1035\", \"1036\", \"1037\", \"1038\", \"1039\", \"1040\", \"1041\", \"1042\", \"1043\", \"1044\", \"1045\", \"1046\", \"1047\", \"1048\", \"1049\", \"1050\", \"1051\", \"1052\", \"1053\", \"1054\", \"1055\", \"1056\", \"1057\", \"1058\", \"1059\", \"1060\", \"1061\", \"1062\", \"1063\", \"1064\", \"1065\", \"1066\", \"1067\", \"1068\", \"1069\", \"1070\", \"1071\", \"1072\", \"1073\", \"1074\", \"1075\", \"1076\", \"1077\", \"1078\", \"1079\", \"1080\", \"1081\", \"1082\", \"1083\", \"1084\", \"1085\", \"1086\", \"1087\", \"1088\", \"1089\", \"1090\", \"1091\", \"1092\", \"1093\", \"1094\", \"1095\", \"1096\", \"1097\", \"1098\", \"1099\", \"1100\", \"1101\", \"1102\", \"1103\", \"1104\", \"1105\", \"1106\", \"1107\", \"1108\", \"1109\", \"1110\", \"1111\", \"1112\", \"1113\", \"1114\", \"1115\", \"1116\", \"1117\", \"1118\", \"1119\", \"1120\", \"1121\", \"1122\", \"1123\", \"1124\", \"1125\", \"1126\", \"1127\", \"1128\", \"1129\", \"1130\", \"1131\", \"1132\", \"1133\", \"1134\", \"1135\", \"1136\", \"1137\", \"1138\", \"1139\", \"1140\", \"1141\", \"1142\", \"1143\", \"1144\", \"1145\", \"1146\", \"1147\", \"1148\", \"1149\", \"1150\", \"1151\", \"1152\", \"1153\", \"1154\", \"1155\", \"1156\", \"1157\", \"1158\", \"1159\", \"1160\", \"1161\", \"1162\", \"1163\", \"1164\", \"1165\", \"1166\", \"1167\", \"1168\", \"1169\", \"1170\", \"1171\", \"1172\", \"1173\", \"1174\", \"1175\", \"1176\", \"1177\", \"1178\", \"1179\", \"1180\", \"1181\", \"1182\", \"1183\", \"1184\", \"1185\", \"1186\", \"1187\", \"1188\", \"1189\", \"1190\", \"1191\", \"1192\", \"1193\", \"1194\", \"1195\", \"1196\", \"1197\", \"1198\", \"1199\", \"1200\", \"1201\", \"1202\", \"1203\", \"1204\", \"1205\", \"1206\", \"1207\", \"1208\", \"1209\", \"1210\", \"1211\", \"1212\", \"1213\", \"1214\", \"1215\", \"1216\", \"1217\", \"1218\", \"1219\", \"1220\", \"1221\", \"1222\", \"1223\", \"1224\", \"1225\", \"1226\", \"1227\", \"1228\", \"1229\", \"1230\", \"1231\", \"1232\", \"1233\", \"1234\", \"1235\", \"1236\", \"1237\", \"1238\", \"1239\", \"1240\", \"1241\", \"1242\", \"1243\", \"1244\", \"1245\", \"1246\", \"1247\", \"1248\", \"1249\", \"1250\", \"1251\", \"1252\", \"1253\", \"1254\", \"1255\", \"1256\", \"1257\", \"1258\", \"1259\", \"1260\", \"1261\", \"1262\", \"1263\", \"1264\", \"1265\", \"1266\", \"1267\", \"1268\", \"1269\", \"1270\", \"1271\", \"1272\", \"1273\", \"1274\", \"1275\", \"1276\", \"1277\", \"1278\", \"1279\", \"1280\", \"1281\", \"1282\", \"1283\", \"1284\", \"1285\", \"1286\", \"1287\", \"1288\", \"1289\", \"1290\", \"1291\", \"1292\", \"1293\", \"1294\", \"1295\", \"1296\", \"1297\", \"1298\", \"1299\", \"1300\", \"1301\", \"1302\", \"1303\", \"1304\", \"1305\", \"1306\", \"1307\", \"1308\", \"1309\", \"1310\", \"1311\", \"1312\", \"1313\", \"1314\", \"1315\", \"1316\", \"1317\", \"1318\", \"1319\", \"1320\", \"1321\", \"1322\", \"1323\", \"1324\", \"1325\", \"1326\", \"1327\", \"1328\", \"1329\", \"1330\", \"1331\", \"1332\", \"1333\", \"1334\", \"1335\", \"1336\", \"1337\", \"1338\", \"1339\", \"1340\", \"1341\", \"1342\", \"1343\", \"1344\", \"1345\", \"1346\", \"1347\", \"1348\", \"1349\", \"1350\", \"1351\", \"1352\", \"1353\", \"1354\", \"1355\", \"1356\", \"1357\", \"1358\", \"1359\", \"1360\", \"1361\", \"1362\", \"1363\", \"1364\", \"1365\", \"1366\", \"1367\", \"1368\", \"1369\", \"1370\", \"1371\", \"1372\", \"1373\", \"1374\", \"1375\", \"1376\", \"1377\", \"1378\", \"1379\", \"1380\", \"1381\", \"1382\", \"1383\", \"1384\", \"1385\", \"1386\", \"1387\", \"1388\", \"1389\", \"1390\", \"1391\", \"1392\", \"1393\", \"1394\", \"1395\", \"1396\", \"1397\", \"1398\", \"1399\", \"1400\", \"1401\", \"1402\", \"1403\", \"1404\", \"1405\", \"1406\", \"1407\", \"1408\", \"1409\", \"1410\", \"1411\", \"1412\", \"1413\", \"1414\", \"1415\", \"1416\", \"1417\", \"1418\", \"1419\", \"1420\", \"1421\", \"1422\", \"1423\", \"1424\", \"1425\", \"1426\", \"1427\", \"1428\", \"1429\", \"1430\", \"1431\", \"1432\", \"1433\", \"1434\", \"1435\", \"1436\", \"1437\", \"1438\", \"1439\", \"1440\", \"1441\", \"1442\", \"1443\", \"1444\", \"1445\", \"1446\", \"1447\", \"1448\", \"1449\", \"1450\", \"1451\", \"1452\", \"1453\", \"1454\", \"1455\", \"1456\", \"1457\", \"1458\", \"1459\", \"1460\", \"1461\", \"1462\", \"1463\", \"1464\", \"1465\", \"1466\", \"1467\", \"1468\", \"1469\", \"1470\", \"1471\", \"1472\", \"1473\", \"1474\", \"1475\", \"1476\", \"1477\", \"1478\", \"1479\", \"1480\", \"1481\", \"1482\", \"1483\", \"1484\", \"1485\", \"1486\", \"1487\", \"1488\", \"1489\", \"1490\", \"1491\", \"1492\", \"1493\", \"1494\", \"1495\", \"1496\", \"1497\", \"1498\", \"1499\", \"1500\", \"1501\", \"1502\", \"1503\", \"1504\", \"1505\", \"1506\", \"1507\", \"1508\", \"1509\", \"1510\", \"1511\", \"1512\", \"1513\", \"1514\", \"1515\", \"1516\", \"1517\", \"1518\", \"1519\", \"1520\", \"1521\", \"1522\", \"1523\", \"1524\", \"1525\", \"1526\", \"1527\", \"1528\", \"1529\", \"1530\", \"1531\", \"1532\", \"1533\", \"1534\", \"1535\", \"1536\", \"1537\", \"1538\", \"1539\", \"1540\", \"1541\", \"1542\", \"1543\", \"1544\", \"1545\", \"1546\", \"1547\", \"1548\", \"1549\", \"1550\", \"1551\", \"1552\", \"1553\", \"1554\", \"1555\", \"1556\", \"1557\", \"1558\", \"1559\", \"1560\", \"1561\", \"1562\", \"1563\", \"1564\", \"1565\", \"1566\", \"1567\", \"1568\", \"1569\", \"1570\", \"1571\", \"1572\", \"1573\", \"1574\", \"1575\", \"1576\", \"1577\", \"1578\", \"1579\", \"1580\", \"1581\", \"1582\", \"1583\", \"1584\", \"1585\", \"1586\", \"1587\", \"1588\", \"1589\", \"1590\", \"1591\", \"1592\", \"1593\", \"1594\", \"1595\", \"1596\", \"1597\", \"1598\", \"1599\", \"1600\", \"1601\", \"1602\", \"1603\", \"1604\", \"1605\", \"1606\", \"1607\", \"1608\", \"1609\", \"1610\", \"1611\", \"1612\", \"1613\", \"1614\", \"1615\", \"1616\", \"1617\", \"1618\", \"1619\", \"1620\", \"1621\", \"1622\", \"1623\", \"1624\", \"1625\", \"1626\", \"1627\", \"1628\", \"1629\", \"1630\", \"1631\", \"1632\", \"1633\", \"1634\", \"1635\", \"1636\", \"1637\", \"1638\", \"1639\", \"1640\", \"1641\", \"1642\", \"1643\", \"1644\", \"1645\", \"1646\", \"1647\", \"1648\", \"1649\", \"1650\", \"1651\", \"1652\", \"1653\", \"1654\", \"1655\", \"1656\", \"1657\", \"1658\", \"1659\", \"1660\", \"1661\", \"1662\", \"1663\", \"1664\", \"1665\", \"1666\", \"1667\", \"1668\", \"1669\", \"1670\", \"1671\", \"1672\", \"1673\", \"1674\", \"1675\", \"1676\", \"1677\", \"1678\", \"1679\", \"1680\", \"1681\", \"1682\", \"1683\", \"1684\", \"1685\", \"1686\", \"1687\", \"1688\", \"1689\", \"1690\", \"1691\", \"1692\", \"1693\", \"1694\", \"1695\", \"1696\", \"1697\", \"1698\", \"1699\", \"1700\", \"1701\", \"1702\", \"1703\", \"1704\", \"1705\", \"1706\", \"1707\", \"1708\", \"1709\", \"1710\", \"1711\", \"1712\", \"1713\", \"1714\", \"1715\", \"1716\", \"1717\", \"1718\", \"1719\", \"1720\", \"1721\", \"1722\", \"1723\", \"1724\", \"1725\", \"1726\", \"1727\", \"1728\", \"1729\", \"1730\", \"1731\", \"1732\", \"1733\", \"1734\", \"1735\", \"1736\", \"1737\", \"1738\", \"1739\", \"1740\", \"1741\", \"1742\", \"1743\", \"1744\", \"1745\", \"1746\", \"1747\", \"1748\", \"1749\", \"1750\", \"1751\", \"1752\", \"1753\", \"1754\", \"1755\", \"1756\", \"1757\", \"1758\", \"1759\", \"1760\", \"1761\", \"1762\", \"1763\", \"1764\", \"1765\", \"1766\", \"1767\", \"1768\", \"1769\", \"1770\", \"1771\", \"1772\", \"1773\", \"1774\", \"1775\", \"1776\", \"1777\", \"1778\", \"1779\", \"1780\", \"1781\", \"1782\", \"1783\", \"1784\", \"1785\", \"1786\", \"1787\", \"1788\", \"1789\", \"1790\", \"1791\", \"1792\", \"1793\", \"1794\", \"1795\", \"1796\", \"1797\", \"1798\", \"1799\", \"1800\", \"1801\", \"1802\", \"1803\", \"1804\", \"1805\", \"1806\", \"1807\", \"1808\", \"1809\", \"1810\", \"1811\", \"1812\", \"1813\", \"1814\", \"1815\", \"1816\", \"1817\", \"1818\", \"1819\", \"1820\", \"1821\", \"1822\", \"1823\", \"1824\", \"1825\", \"1826\", \"1827\", \"1828\", \"1829\", \"1830\", \"1831\", \"1832\", \"1833\", \"1834\", \"1835\", \"1836\", \"1837\", \"1838\", \"1839\", \"1840\", \"1841\", \"1842\", \"1843\", \"1844\", \"1845\", \"1846\", \"1847\", \"1848\", \"1849\", \"1850\", \"1851\", \"1852\", \"1853\", \"1854\", \"1855\", \"1856\", \"1857\", \"1858\", \"1859\", \"1860\", \"1861\", \"1862\", \"1863\", \"1864\", \"1865\", \"1866\", \"1867\", \"1868\", \"1869\", \"1870\", \"1871\", \"1872\", \"1873\", \"1874\", \"1875\", \"1876\", \"1877\", \"1878\", \"1879\", \"1880\", \"1881\", \"1882\", \"1883\", \"1884\", \"1885\", \"1886\", \"1887\", \"1888\", \"1889\", \"1890\", \"1891\", \"1892\", \"1893\", \"1894\", \"1895\", \"1896\", \"1897\", \"1898\", \"1899\", \"1900\", \"1901\", \"1902\", \"1903\", \"1904\", \"1905\", \"1906\", \"1907\", \"1908\", \"1909\", \"1910\", \"1911\", \"1912\", \"1913\", \"1914\", \"1915\", \"1916\", \"1917\", \"1918\", \"1919\", \"1920\", \"1921\", \"1922\", \"1923\", \"1924\", \"1925\", \"1926\", \"1927\", \"1928\", \"1929\", \"1930\", \"1931\", \"1932\", \"1933\", \"1934\", \"1935\", \"1936\", \"1937\", \"1938\", \"1939\", \"1940\", \"1941\", \"1942\", \"1943\", \"1944\", \"1945\", \"1946\", \"1947\", \"1948\", \"1949\", \"metalicas\", \"1950\", \"1951\", \"1952\", \"1953\", \"1954\", \"1955\", \"1956\", \"1957\", \"1958\", \"1959\", \"1960\", \"1961\", \"1962\", \"1963\", \"1964\", \"1965\", \"1966\", \"1967\", \"1968\", \"1969\", \"1970\", \"1971\", \"1972\", \"1973\", \"1974\", \"1975\", \"1976\", \"1977\", \"1978\", \"1979\", \"1980\", \"1981\", \"1982\", \"1983\", \"1984\", \"1985\", \"1986\", \"1987\", \"1988\", \"1989\", \"1990\", \"1991\", \"1992\", \"1993\", \"1994\", \"1995\", \"1996\", \"1997\", \"1998\", \"1999\", \"2000\", \"2001\", \"2002\", \"2003\", \"2004\", \"2005\", \"2006\", \"2007\", \"2008\", \"2009\", \"2010\", \"2011\", \"2012\", \"2013\", \"2014\", \"2015\", \"2016\", \"2017\", \"2018\", \"2019\", \"2020\", \"2021\", \"2022\", \"2023\", \"2024\", \"2025\", \"2026\", \"2027\", \"2028\", \"2029\", \"2030\", \"2031\", \"2032\", \"2033\", \"2034\", \"2035\", \"2036\", \"2037\", \"2038\", \"2039\", \"2040\", \"2041\", \"2042\", \"2043\", \"2044\", \"2045\", \"2046\", \"2047\", 2048.0, 2049.0, 2050.0, 2051.0, 2052.0, 2053.0, 2054.0, 2055.0, 2056.0, 2057.0, 2058.0, 2059.0, 2060.0, 2061.0, 2062.0, 2063.0, 2064.0, 2065.0, 2066.0, 2067.0, 2068.0, 2069.0, 2070.0, 2071.0, 2072.0, 2073.0, 2074.0, 2075.0, 2076.0, 2077.0, 2078.0, 2079.0, 2080.0, 2081.0, 2082.0, 2083.0, 2084.0, 2085.0, 2086.0, 2087.0, 2088.0, 2089.0, 2090.0, 2091.0, 2092.0, 2093.0, 2094.0, 2095.0, 2096.0, 2097.0, 2098.0, 2099.0, 2100.0, 2101.0, 2102.0, 2103.0, 2104.0, 2105.0, 2106.0, 2107.0, 2108.0, 2109.0, 2110.0, 2111.0, 2112.0, 2113.0, 2114.0, 2115.0, 2116.0, 2117.0, 2118.0, 2119.0, 2120.0, 2121.0, 2122.0, 2123.0, 2124.0, 2125.0, 2126.0, 2127.0, 2128.0, 2129.0, 2130.0, 2131.0, 2132.0, 2133.0, 2134.0, 2135.0, 2136.0, 2137.0, 2138.0, 2139.0, 2140.0, 2141.0, 2142.0, 2143.0, 2144.0, 2145.0, 2146.0, 2147.0, 2148.0, 2149.0, 2150.0, 2151.0, 2152.0, 2153.0, 2154.0, 2155.0, 2156.0, 2157.0, 2158.0, 2159.0, 2160.0, 2161.0, 2162.0, 2163.0, 2164.0, 2165.0, 2166.0, 2167.0, 2168.0, 2169.0, 2170.0, 2171.0, 2172.0, 2173.0, 2174.0, 2175.0, 2176.0, 2177.0, 2178.0, 2179.0, 2180.0, 2181.0, 2182.0, 2183.0, 2184.0, 2185.0, 2186.0, 2187.0, 2188.0, 2189.0, 2190.0, 2191.0, 2192.0, 2193.0, 2194.0, 2195.0, 2196.0, 2197.0, 2198.0, 2199.0, 2200.0, 2201.0, 2202.0, 2203.0, 2204.0, 2205.0, 2206.0, 2207.0, 2208.0, 2209.0, 2210.0, 2211.0, 2212.0, 2213.0, 2214.0, 2215.0, 2216.0, 2217.0, 2218.0, 2219.0, 2220.0, 2221.0, 2222.0, 2223.0, 2224.0, 2225.0, 2226.0, 2227.0, 2228.0, 2229.0, 2230.0, 2231.0, 2232.0, 2233.0, 2234.0, 2235.0, 2236.0, 2237.0, 2238.0, 2239.0, 2240.0, 2241.0, 2242.0, 2243.0, 2244.0, 2245.0, 2246.0, 2247.0, 2248.0, 2249.0, 2250.0, 2251.0, 2252.0, 2253.0, 2254.0, 2255.0, 2256.0, 2257.0, 2258.0, 2259.0, 2260.0, 2261.0, 2262.0, 2263.0, 2264.0, 2265.0, 2266.0, 2267.0, 2268.0, 2269.0, 2270.0, 2271.0, 2272.0, 2273.0, 2274.0, 2275.0, 2276.0, 2277.0, 2278.0, 2279.0, 2280.0, 2281.0, 2282.0, 2283.0, 2284.0, 2285.0, 2286.0, 2287.0, 2288.0, 2289.0, 2290.0, 2291.0, 2292.0, 2293.0, 2294.0, 2295.0, 2296.0, 2297.0, 2298.0, 2299.0, 2300.0, 2301.0, 2302.0, 2303.0, 2304.0, 2305.0, 2306.0, 2307.0, 2308.0, 2309.0, 2310.0, 2311.0, 2312.0, 2313.0, 2314.0, 2315.0, 2316.0, 2317.0, 2318.0, 2319.0, 2320.0, 2321.0, 2322.0, 2323.0, 2324.0, 2325.0, 2326.0, 2327.0, 2328.0, 2329.0, 2330.0, 2331.0, 2332.0, 2333.0, 2334.0, 2335.0, 2336.0, 2337.0, 2338.0, 2339.0, 2340.0, 2341.0, 2342.0, 2343.0, 2344.0, 2345.0, 2346.0, 2347.0, 2348.0, 2349.0, 2350.0, 2351.0, 2352.0, 2353.0, 2354.0, 2355.0, 2356.0, 2357.0, 2358.0, 2359.0, 2360.0, 2361.0, 2362.0, 2363.0, 2364.0, 2365.0, 2366.0, 2367.0, 2368.0, 2369.0, 2370.0, 2371.0, 2372.0, 2373.0, 2374.0, 2375.0, 2376.0, 2377.0, 2378.0, 2379.0, 2380.0, 2381.0, 2382.0, 2383.0, 2384.0, 2385.0, 2386.0, 2387.0, 2388.0, 2389.0, 2390.0, 2391.0, 2392.0, 2393.0, 2394.0, 2395.0, 2396.0, 2397.0, 2398.0, 2399.0, 2400.0, 2401.0, 2402.0, 2403.0, 2404.0, 2405.0, 2406.0, 2407.0, 2408.0, 2409.0, 2410.0, 2411.0, 2412.0, 2413.0, 2414.0, 2415.0, 2416.0, 2417.0, 2418.0, 2419.0, 2420.0, 2421.0, 2422.0, 2423.0, 2424.0, 2425.0, 2426.0, 2427.0, 2428.0, 2429.0, 2430.0, 2431.0, 2432.0, 2433.0, 2434.0, 2435.0, 2436.0, 2437.0, 2438.0, 2439.0, 2440.0, 2441.0, 2442.0, 2443.0, 2444.0, 2445.0, 2446.0, 2447.0, 2448.0, 2449.0, 2450.0, 2451.0, 2452.0, 2453.0, 2454.0, 2455.0, 2456.0, 2457.0, 2458.0, 2459.0, 2460.0, 2461.0, 2462.0, 2463.0, 2464.0, 2465.0, 2466.0, 2467.0, 2468.0, 2469.0, 2470.0, 2471.0, 2472.0, 2473.0, 2474.0, 2475.0, 2476.0, 2477.0, 2478.0, 2479.0, 2480.0, 2481.0, 2482.0, 2483.0, 2484.0, 2485.0, 2486.0, 2487.0, 2488.0, 2489.0, 2490.0, 2491.0, 2492.0, 2493.0, 2494.0, 2495.0, 2496.0, 2497.0, 2498.0, 2499.0, 2500.0, 2501.0, 2502.0, 2503.0, 2504.0, 2505.0, 2506.0, 2507.0, 2508.0, 2509.0, 2510.0, 2511.0, 2512.0, 2513.0, 2514.0, 2515.0, 2516.0, 2517.0, 2518.0, 2519.0, 2520.0, 2521.0, 2522.0, 2523.0, 2524.0, 2525.0, 2526.0, 2527.0, 2528.0, 2529.0, 2530.0, 2531.0, 2532.0, 2533.0, 2534.0, 2535.0, 2536.0, 2537.0, 2538.0, 2539.0, 2540.0, 2541.0, 2542.0, 2543.0, 2544.0, 2545.0, 2546.0, 2547.0, 2548.0, 2549.0, 2550.0, 2551.0, 2552.0, 2553.0, 2554.0, 2555.0, 2556.0, 2557.0, 2558.0, 2559.0, 2560.0, 2561.0, 2562.0, 2563.0, 2564.0, 2565.0, 2566.0, 2567.0, 2568.0, 2569.0, 2570.0, 2571.0, 2572.0, 2573.0, 2574.0, 2575.0, 2576.0, 2577.0, 2578.0, 2579.0, 2580.0, 2581.0, 2582.0, 2583.0, 2584.0, 2585.0, 2586.0, 2587.0, 2588.0, 2589.0, 2590.0, 2591.0, 2592.0, 2593.0, 2594.0, 2595.0, 2596.0, 2597.0, 2598.0, 2599.0, 2600.0, 2601.0, 2602.0, 2603.0, 2604.0, 2605.0, 2606.0, 2607.0, 2608.0, 2609.0, 2610.0, 2611.0, 2612.0, 2613.0, 2614.0, 2615.0, 2616.0, 2617.0, 2618.0, 2619.0, 2620.0, 2621.0, 2622.0, 2623.0, 2624.0, 2625.0, 2626.0, 2627.0, 2628.0, 2629.0, 2630.0, 2631.0, 2632.0, 2633.0, 2634.0, 2635.0, 2636.0, 2637.0, 2638.0, 2639.0, 2640.0, 2641.0, 2642.0, 2643.0, 2644.0, 2645.0, 2646.0, 2647.0, 2648.0, 2649.0, 2650.0, 2651.0, 2652.0, 2653.0, 2654.0, 2655.0, 2656.0, 2657.0, 2658.0, 2659.0, 2660.0, 2661.0, 2662.0, 2663.0, 2664.0, 2665.0, 2666.0, 2667.0, 2668.0, 2669.0, 2670.0, 2671.0, 2672.0, 2673.0, 2674.0, 2675.0, 2676.0, 2677.0, 2678.0, 2679.0, 2680.0, 2681.0, 2682.0, 2683.0, 2684.0, 2685.0, 2686.0, 2687.0, 2688.0, 2689.0, 2690.0, 2691.0, 2692.0, 2693.0, 2694.0, 2695.0, 2696.0, 2697.0, 2698.0, 2699.0, 2700.0, 2701.0, 2702.0, 2703.0, 2704.0, 2705.0, 2706.0, 2707.0, 2708.0, 2709.0, 2710.0, 2711.0, 2712.0, 2713.0, 2714.0, 2715.0, 2716.0, 2717.0, 2718.0, 2719.0, 2720.0, 2721.0, 2722.0, 2723.0, 2724.0, 2725.0, 2726.0, 2727.0, 2728.0, 2729.0, 2730.0, 2731.0, 2732.0, 2733.0, 2734.0, 2735.0, 2736.0, 2737.0, 2738.0, null, 2739.0, 2740.0, 2741.0, 2742.0, 2743.0, 2744.0, 2745.0, 2746.0, 2747.0, 2748.0, 2749.0, 2750.0, 2751.0, 2752.0, 2753.0, 2754.0, 2755.0, 2756.0, 2757.0, 2758.0, 2759.0, 2760.0, 2761.0, 2762.0, 2763.0, 2764.0, 2765.0, 2766.0, 2767.0, 2768.0, 2769.0, 2770.0, 2771.0, 2772.0, 2773.0, 2774.0, 2775.0, 2776.0, 2777.0, 2778.0, 2779.0, 2780.0, 2781.0, 2782.0, 2783.0, 2784.0, 2785.0, 2786.0, 2787.0, 2788.0, 2789.0, 2790.0, 2791.0, 2792.0, 2793.0, 2794.0, 2795.0, 2796.0, 2797.0, 2798.0, 2799.0, 2800.0]}],\n",
              "                        {\"height\": 300, \"legend\": {\"tracegroupgap\": 0}, \"template\": {\"data\": {\"bar\": [{\"error_x\": {\"color\": \"#2a3f5f\"}, \"error_y\": {\"color\": \"#2a3f5f\"}, \"marker\": {\"line\": {\"color\": \"#E5ECF6\", \"width\": 0.5}}, \"type\": \"bar\"}], \"barpolar\": [{\"marker\": {\"line\": {\"color\": \"#E5ECF6\", \"width\": 0.5}}, \"type\": \"barpolar\"}], \"carpet\": [{\"aaxis\": {\"endlinecolor\": \"#2a3f5f\", \"gridcolor\": \"white\", \"linecolor\": \"white\", \"minorgridcolor\": \"white\", \"startlinecolor\": \"#2a3f5f\"}, \"baxis\": {\"endlinecolor\": \"#2a3f5f\", \"gridcolor\": \"white\", \"linecolor\": \"white\", \"minorgridcolor\": \"white\", \"startlinecolor\": \"#2a3f5f\"}, \"type\": \"carpet\"}], \"choropleth\": [{\"colorbar\": {\"outlinewidth\": 0, \"ticks\": \"\"}, \"type\": \"choropleth\"}], \"contour\": [{\"colorbar\": {\"outlinewidth\": 0, \"ticks\": \"\"}, \"colorscale\": [[0.0, \"#0d0887\"], [0.1111111111111111, \"#46039f\"], [0.2222222222222222, \"#7201a8\"], [0.3333333333333333, \"#9c179e\"], [0.4444444444444444, \"#bd3786\"], [0.5555555555555556, \"#d8576b\"], [0.6666666666666666, \"#ed7953\"], [0.7777777777777778, \"#fb9f3a\"], [0.8888888888888888, \"#fdca26\"], [1.0, \"#f0f921\"]], \"type\": \"contour\"}], \"contourcarpet\": [{\"colorbar\": {\"outlinewidth\": 0, \"ticks\": \"\"}, \"type\": \"contourcarpet\"}], \"heatmap\": [{\"colorbar\": {\"outlinewidth\": 0, \"ticks\": \"\"}, \"colorscale\": [[0.0, \"#0d0887\"], [0.1111111111111111, \"#46039f\"], [0.2222222222222222, \"#7201a8\"], [0.3333333333333333, \"#9c179e\"], [0.4444444444444444, \"#bd3786\"], [0.5555555555555556, \"#d8576b\"], [0.6666666666666666, \"#ed7953\"], [0.7777777777777778, \"#fb9f3a\"], [0.8888888888888888, \"#fdca26\"], [1.0, \"#f0f921\"]], \"type\": \"heatmap\"}], \"heatmapgl\": [{\"colorbar\": {\"outlinewidth\": 0, \"ticks\": \"\"}, \"colorscale\": [[0.0, \"#0d0887\"], [0.1111111111111111, \"#46039f\"], [0.2222222222222222, \"#7201a8\"], [0.3333333333333333, \"#9c179e\"], [0.4444444444444444, \"#bd3786\"], [0.5555555555555556, \"#d8576b\"], [0.6666666666666666, \"#ed7953\"], [0.7777777777777778, \"#fb9f3a\"], [0.8888888888888888, \"#fdca26\"], [1.0, \"#f0f921\"]], \"type\": \"heatmapgl\"}], \"histogram\": [{\"marker\": {\"colorbar\": {\"outlinewidth\": 0, \"ticks\": \"\"}}, \"type\": \"histogram\"}], \"histogram2d\": [{\"colorbar\": {\"outlinewidth\": 0, \"ticks\": \"\"}, \"colorscale\": [[0.0, \"#0d0887\"], [0.1111111111111111, \"#46039f\"], [0.2222222222222222, \"#7201a8\"], [0.3333333333333333, \"#9c179e\"], [0.4444444444444444, \"#bd3786\"], [0.5555555555555556, \"#d8576b\"], [0.6666666666666666, \"#ed7953\"], [0.7777777777777778, \"#fb9f3a\"], [0.8888888888888888, \"#fdca26\"], [1.0, \"#f0f921\"]], \"type\": \"histogram2d\"}], \"histogram2dcontour\": [{\"colorbar\": {\"outlinewidth\": 0, \"ticks\": \"\"}, \"colorscale\": [[0.0, \"#0d0887\"], [0.1111111111111111, \"#46039f\"], [0.2222222222222222, \"#7201a8\"], [0.3333333333333333, \"#9c179e\"], [0.4444444444444444, \"#bd3786\"], [0.5555555555555556, \"#d8576b\"], [0.6666666666666666, \"#ed7953\"], [0.7777777777777778, \"#fb9f3a\"], [0.8888888888888888, \"#fdca26\"], [1.0, \"#f0f921\"]], \"type\": \"histogram2dcontour\"}], \"mesh3d\": [{\"colorbar\": {\"outlinewidth\": 0, \"ticks\": \"\"}, \"type\": \"mesh3d\"}], \"parcoords\": [{\"line\": {\"colorbar\": {\"outlinewidth\": 0, \"ticks\": \"\"}}, \"type\": \"parcoords\"}], \"pie\": [{\"automargin\": true, \"type\": \"pie\"}], \"scatter\": [{\"marker\": {\"colorbar\": {\"outlinewidth\": 0, \"ticks\": \"\"}}, \"type\": \"scatter\"}], \"scatter3d\": [{\"line\": {\"colorbar\": {\"outlinewidth\": 0, \"ticks\": \"\"}}, \"marker\": {\"colorbar\": {\"outlinewidth\": 0, \"ticks\": \"\"}}, \"type\": \"scatter3d\"}], \"scattercarpet\": [{\"marker\": {\"colorbar\": {\"outlinewidth\": 0, \"ticks\": \"\"}}, \"type\": \"scattercarpet\"}], \"scattergeo\": [{\"marker\": {\"colorbar\": {\"outlinewidth\": 0, \"ticks\": \"\"}}, \"type\": \"scattergeo\"}], \"scattergl\": [{\"marker\": {\"colorbar\": {\"outlinewidth\": 0, \"ticks\": \"\"}}, \"type\": \"scattergl\"}], \"scattermapbox\": [{\"marker\": {\"colorbar\": {\"outlinewidth\": 0, \"ticks\": \"\"}}, \"type\": \"scattermapbox\"}], \"scatterpolar\": [{\"marker\": {\"colorbar\": {\"outlinewidth\": 0, \"ticks\": \"\"}}, \"type\": \"scatterpolar\"}], \"scatterpolargl\": [{\"marker\": {\"colorbar\": {\"outlinewidth\": 0, \"ticks\": \"\"}}, \"type\": \"scatterpolargl\"}], \"scatterternary\": [{\"marker\": {\"colorbar\": {\"outlinewidth\": 0, \"ticks\": \"\"}}, \"type\": \"scatterternary\"}], \"surface\": [{\"colorbar\": {\"outlinewidth\": 0, \"ticks\": \"\"}, \"colorscale\": [[0.0, \"#0d0887\"], [0.1111111111111111, \"#46039f\"], [0.2222222222222222, \"#7201a8\"], [0.3333333333333333, \"#9c179e\"], [0.4444444444444444, \"#bd3786\"], [0.5555555555555556, \"#d8576b\"], [0.6666666666666666, \"#ed7953\"], [0.7777777777777778, \"#fb9f3a\"], [0.8888888888888888, \"#fdca26\"], [1.0, \"#f0f921\"]], \"type\": \"surface\"}], \"table\": [{\"cells\": {\"fill\": {\"color\": \"#EBF0F8\"}, \"line\": {\"color\": \"white\"}}, \"header\": {\"fill\": {\"color\": \"#C8D4E3\"}, \"line\": {\"color\": \"white\"}}, \"type\": \"table\"}]}, \"layout\": {\"annotationdefaults\": {\"arrowcolor\": \"#2a3f5f\", \"arrowhead\": 0, \"arrowwidth\": 1}, \"coloraxis\": {\"colorbar\": {\"outlinewidth\": 0, \"ticks\": \"\"}}, \"colorscale\": {\"diverging\": [[0, \"#8e0152\"], [0.1, \"#c51b7d\"], [0.2, \"#de77ae\"], [0.3, \"#f1b6da\"], [0.4, \"#fde0ef\"], [0.5, \"#f7f7f7\"], [0.6, \"#e6f5d0\"], [0.7, \"#b8e186\"], [0.8, \"#7fbc41\"], [0.9, \"#4d9221\"], [1, \"#276419\"]], \"sequential\": [[0.0, \"#0d0887\"], [0.1111111111111111, \"#46039f\"], [0.2222222222222222, \"#7201a8\"], [0.3333333333333333, \"#9c179e\"], [0.4444444444444444, \"#bd3786\"], [0.5555555555555556, \"#d8576b\"], [0.6666666666666666, \"#ed7953\"], [0.7777777777777778, \"#fb9f3a\"], [0.8888888888888888, \"#fdca26\"], [1.0, \"#f0f921\"]], \"sequentialminus\": [[0.0, \"#0d0887\"], [0.1111111111111111, \"#46039f\"], [0.2222222222222222, \"#7201a8\"], [0.3333333333333333, \"#9c179e\"], [0.4444444444444444, \"#bd3786\"], [0.5555555555555556, \"#d8576b\"], [0.6666666666666666, \"#ed7953\"], [0.7777777777777778, \"#fb9f3a\"], [0.8888888888888888, \"#fdca26\"], [1.0, \"#f0f921\"]]}, \"colorway\": [\"#636efa\", \"#EF553B\", \"#00cc96\", \"#ab63fa\", \"#FFA15A\", \"#19d3f3\", \"#FF6692\", \"#B6E880\", \"#FF97FF\", \"#FECB52\"], \"font\": {\"color\": \"#2a3f5f\"}, \"geo\": {\"bgcolor\": \"white\", \"lakecolor\": \"white\", \"landcolor\": \"#E5ECF6\", \"showlakes\": true, \"showland\": true, \"subunitcolor\": \"white\"}, \"hoverlabel\": {\"align\": \"left\"}, \"hovermode\": \"closest\", \"mapbox\": {\"style\": \"light\"}, \"paper_bgcolor\": \"white\", \"plot_bgcolor\": \"#E5ECF6\", \"polar\": {\"angularaxis\": {\"gridcolor\": \"white\", \"linecolor\": \"white\", \"ticks\": \"\"}, \"bgcolor\": \"#E5ECF6\", \"radialaxis\": {\"gridcolor\": \"white\", \"linecolor\": \"white\", \"ticks\": \"\"}}, \"scene\": {\"xaxis\": {\"backgroundcolor\": \"#E5ECF6\", \"gridcolor\": \"white\", \"gridwidth\": 2, \"linecolor\": \"white\", \"showbackground\": true, \"ticks\": \"\", \"zerolinecolor\": \"white\"}, \"yaxis\": {\"backgroundcolor\": \"#E5ECF6\", \"gridcolor\": \"white\", \"gridwidth\": 2, \"linecolor\": \"white\", \"showbackground\": true, \"ticks\": \"\", \"zerolinecolor\": \"white\"}, \"zaxis\": {\"backgroundcolor\": \"#E5ECF6\", \"gridcolor\": \"white\", \"gridwidth\": 2, \"linecolor\": \"white\", \"showbackground\": true, \"ticks\": \"\", \"zerolinecolor\": \"white\"}}, \"shapedefaults\": {\"line\": {\"color\": \"#2a3f5f\"}}, \"ternary\": {\"aaxis\": {\"gridcolor\": \"white\", \"linecolor\": \"white\", \"ticks\": \"\"}, \"baxis\": {\"gridcolor\": \"white\", \"linecolor\": \"white\", \"ticks\": \"\"}, \"bgcolor\": \"#E5ECF6\", \"caxis\": {\"gridcolor\": \"white\", \"linecolor\": \"white\", \"ticks\": \"\"}}, \"title\": {\"x\": 0.05}, \"xaxis\": {\"automargin\": true, \"gridcolor\": \"white\", \"linecolor\": \"white\", \"ticks\": \"\", \"title\": {\"standoff\": 15}, \"zerolinecolor\": \"white\", \"zerolinewidth\": 2}, \"yaxis\": {\"automargin\": true, \"gridcolor\": \"white\", \"linecolor\": \"white\", \"ticks\": \"\", \"title\": {\"standoff\": 15}, \"zerolinecolor\": \"white\", \"zerolinewidth\": 2}}}, \"title\": {\"text\": \"\\u00bfAsisti\\u00f3 al teatro durante el \\u00faltimo a\\u00f1o?\"}, \"width\": 370},\n",
              "                        {\"responsive\": true}\n",
              "                    ).then(function(){\n",
              "                            \n",
              "var gd = document.getElementById('14fa6b2c-bab1-47f9-86ab-0cc8484c867a');\n",
              "var x = new MutationObserver(function (mutations, observer) {{\n",
              "        var display = window.getComputedStyle(gd).display;\n",
              "        if (!display || display === 'none') {{\n",
              "            console.log([gd, 'removed!']);\n",
              "            Plotly.purge(gd);\n",
              "            observer.disconnect();\n",
              "        }}\n",
              "}});\n",
              "\n",
              "// Listen for the removal of the full notebook cells\n",
              "var notebookContainer = gd.closest('#notebook-container');\n",
              "if (notebookContainer) {{\n",
              "    x.observe(notebookContainer, {childList: true});\n",
              "}}\n",
              "\n",
              "// Listen for the clearing of the current output cell\n",
              "var outputEl = gd.closest('.output');\n",
              "if (outputEl) {{\n",
              "    x.observe(outputEl, {childList: true});\n",
              "}}\n",
              "\n",
              "                        })\n",
              "                };\n",
              "                \n",
              "            </script>\n",
              "        </div>\n",
              "</body>\n",
              "</html>"
            ]
          },
          "metadata": {
            "tags": []
          }
        }
      ]
    },
    {
      "cell_type": "markdown",
      "metadata": {
        "id": "5UlHL3RuiVZs"
      },
      "source": [
        "Luego comparamos el promedio de edad de quienes concurrieron al teatro y el de quienes no lo hicieron. Sin embargo, no observamos una diferencia significativa:"
      ]
    },
    {
      "cell_type": "code",
      "metadata": {
        "id": "cylRR2xWwEAo",
        "colab": {
          "base_uri": "https://localhost:8080/"
        },
        "outputId": "b92cb543-7f2a-4ea5-a2e7-71d6550349a4"
      },
      "source": [
        "print('\\033[92m','Concurrieron promedio edad:',round(conc_teatro['edad'].astype(int).mean()))\n",
        "print('\\033[91m','No concurrieron promedio edad:',round(no_conc_teatro['edad'].astype(int).mean()))"
      ],
      "execution_count": 14,
      "outputs": [
        {
          "output_type": "stream",
          "text": [
            "\u001b[92m Concurrieron promedio edad: 41\n",
            "\u001b[91m No concurrieron promedio edad: 39\n"
          ],
          "name": "stdout"
        }
      ]
    },
    {
      "cell_type": "markdown",
      "metadata": {
        "id": "5inQDHgvjve-"
      },
      "source": [
        "¿Cómo se distribuyen por región quienes sí concurrieron al teatro?"
      ]
    },
    {
      "cell_type": "code",
      "metadata": {
        "id": "iNSLrz9e4E2M",
        "colab": {
          "base_uri": "https://localhost:8080/"
        },
        "outputId": "035f91fb-71e1-46f6-97e4-41f34ce0925b"
      },
      "source": [
        "print('Concurrieron por regiones:\\n','\\033[92m',conc_teatro['region'].value_counts())"
      ],
      "execution_count": 15,
      "outputs": [
        {
          "output_type": "stream",
          "text": [
            "Concurrieron por regiones:\n",
            " \u001b[92m CABA         73\n",
            "PATAGONIA    58\n",
            "CENTRO       57\n",
            "NEA          41\n",
            "CUYO         40\n",
            "PBA          38\n",
            "NOA          35\n",
            "Name: region, dtype: int64\n"
          ],
          "name": "stdout"
        }
      ]
    },
    {
      "cell_type": "markdown",
      "metadata": {
        "id": "_aum8g7Sj34m"
      },
      "source": [
        "¿Qué porcentaje representa cada región?"
      ]
    },
    {
      "cell_type": "code",
      "metadata": {
        "id": "4dbyMfuS6wHi",
        "colab": {
          "base_uri": "https://localhost:8080/",
          "height": 542
        },
        "outputId": "663e8552-f591-411e-d8cc-12dec1a2a6f5"
      },
      "source": [
        "conteo_regiones = conc_teatro.groupby('region').count()['id']\n",
        "porcentaje_regiones_si = conteo_regiones/(conteo_regiones.sum())*100\n",
        "\n",
        "fig = dict({\n",
        "    \"data\": [{\"type\": \"bar\",\n",
        "              \"x\": porcentaje_regiones_si.index.tolist(),\n",
        "              \"y\": porcentaje_regiones_si}],\n",
        "    \"layout\": {\"title\": {\"text\": \"Porcentaje de asistentes al teatro por región\"},\n",
        "               \"template\":\"ggplot2\",\n",
        "               'xaxis':{'title':'Regiones','color':'green'},\n",
        "               'yaxis':{'title':'Porcentaje','color':'green'}}\n",
        "})\n",
        "\n",
        "pio.show(fig)"
      ],
      "execution_count": 16,
      "outputs": [
        {
          "output_type": "display_data",
          "data": {
            "text/html": [
              "<html>\n",
              "<head><meta charset=\"utf-8\" /></head>\n",
              "<body>\n",
              "    <div>\n",
              "            <script src=\"https://cdnjs.cloudflare.com/ajax/libs/mathjax/2.7.5/MathJax.js?config=TeX-AMS-MML_SVG\"></script><script type=\"text/javascript\">if (window.MathJax) {MathJax.Hub.Config({SVG: {font: \"STIX-Web\"}});}</script>\n",
              "                <script type=\"text/javascript\">window.PlotlyConfig = {MathJaxConfig: 'local'};</script>\n",
              "        <script src=\"https://cdn.plot.ly/plotly-latest.min.js\"></script>    \n",
              "            <div id=\"570d9f46-8913-44c2-9998-161df16c3b7e\" class=\"plotly-graph-div\" style=\"height:525px; width:100%;\"></div>\n",
              "            <script type=\"text/javascript\">\n",
              "                \n",
              "                    window.PLOTLYENV=window.PLOTLYENV || {};\n",
              "                    \n",
              "                if (document.getElementById(\"570d9f46-8913-44c2-9998-161df16c3b7e\")) {\n",
              "                    Plotly.newPlot(\n",
              "                        '570d9f46-8913-44c2-9998-161df16c3b7e',\n",
              "                        [{\"type\": \"bar\", \"x\": [\"CABA\", \"CENTRO\", \"CUYO\", \"NEA\", \"NOA\", \"PATAGONIA\", \"PBA\"], \"y\": [21.34502923976608, 16.666666666666664, 11.695906432748536, 11.988304093567251, 10.23391812865497, 16.95906432748538, 11.11111111111111]}],\n",
              "                        {\"template\": {\"data\": {\"bar\": [{\"error_x\": {\"color\": \"rgb(51,51,51)\"}, \"error_y\": {\"color\": \"rgb(51,51,51)\"}, \"marker\": {\"line\": {\"color\": \"rgb(237,237,237)\", \"width\": 0.5}}, \"type\": \"bar\"}], \"barpolar\": [{\"marker\": {\"line\": {\"color\": \"rgb(237,237,237)\", \"width\": 0.5}}, \"type\": \"barpolar\"}], \"carpet\": [{\"aaxis\": {\"endlinecolor\": \"rgb(51,51,51)\", \"gridcolor\": \"white\", \"linecolor\": \"white\", \"minorgridcolor\": \"white\", \"startlinecolor\": \"rgb(51,51,51)\"}, \"baxis\": {\"endlinecolor\": \"rgb(51,51,51)\", \"gridcolor\": \"white\", \"linecolor\": \"white\", \"minorgridcolor\": \"white\", \"startlinecolor\": \"rgb(51,51,51)\"}, \"type\": \"carpet\"}], \"choropleth\": [{\"colorbar\": {\"outlinewidth\": 0, \"tickcolor\": \"rgb(237,237,237)\", \"ticklen\": 6, \"ticks\": \"inside\"}, \"type\": \"choropleth\"}], \"contour\": [{\"colorbar\": {\"outlinewidth\": 0, \"tickcolor\": \"rgb(237,237,237)\", \"ticklen\": 6, \"ticks\": \"inside\"}, \"colorscale\": [[0, \"rgb(20,44,66)\"], [1, \"rgb(90,179,244)\"]], \"type\": \"contour\"}], \"contourcarpet\": [{\"colorbar\": {\"outlinewidth\": 0, \"tickcolor\": \"rgb(237,237,237)\", \"ticklen\": 6, \"ticks\": \"inside\"}, \"type\": \"contourcarpet\"}], \"heatmap\": [{\"colorbar\": {\"outlinewidth\": 0, \"tickcolor\": \"rgb(237,237,237)\", \"ticklen\": 6, \"ticks\": \"inside\"}, \"colorscale\": [[0, \"rgb(20,44,66)\"], [1, \"rgb(90,179,244)\"]], \"type\": \"heatmap\"}], \"heatmapgl\": [{\"colorbar\": {\"outlinewidth\": 0, \"tickcolor\": \"rgb(237,237,237)\", \"ticklen\": 6, \"ticks\": \"inside\"}, \"colorscale\": [[0, \"rgb(20,44,66)\"], [1, \"rgb(90,179,244)\"]], \"type\": \"heatmapgl\"}], \"histogram\": [{\"marker\": {\"colorbar\": {\"outlinewidth\": 0, \"tickcolor\": \"rgb(237,237,237)\", \"ticklen\": 6, \"ticks\": \"inside\"}}, \"type\": \"histogram\"}], \"histogram2d\": [{\"colorbar\": {\"outlinewidth\": 0, \"tickcolor\": \"rgb(237,237,237)\", \"ticklen\": 6, \"ticks\": \"inside\"}, \"colorscale\": [[0, \"rgb(20,44,66)\"], [1, \"rgb(90,179,244)\"]], \"type\": \"histogram2d\"}], \"histogram2dcontour\": [{\"colorbar\": {\"outlinewidth\": 0, \"tickcolor\": \"rgb(237,237,237)\", \"ticklen\": 6, \"ticks\": \"inside\"}, \"colorscale\": [[0, \"rgb(20,44,66)\"], [1, \"rgb(90,179,244)\"]], \"type\": \"histogram2dcontour\"}], \"mesh3d\": [{\"colorbar\": {\"outlinewidth\": 0, \"tickcolor\": \"rgb(237,237,237)\", \"ticklen\": 6, \"ticks\": \"inside\"}, \"type\": \"mesh3d\"}], \"parcoords\": [{\"line\": {\"colorbar\": {\"outlinewidth\": 0, \"tickcolor\": \"rgb(237,237,237)\", \"ticklen\": 6, \"ticks\": \"inside\"}}, \"type\": \"parcoords\"}], \"pie\": [{\"automargin\": true, \"type\": \"pie\"}], \"scatter\": [{\"marker\": {\"colorbar\": {\"outlinewidth\": 0, \"tickcolor\": \"rgb(237,237,237)\", \"ticklen\": 6, \"ticks\": \"inside\"}}, \"type\": \"scatter\"}], \"scatter3d\": [{\"line\": {\"colorbar\": {\"outlinewidth\": 0, \"tickcolor\": \"rgb(237,237,237)\", \"ticklen\": 6, \"ticks\": \"inside\"}}, \"marker\": {\"colorbar\": {\"outlinewidth\": 0, \"tickcolor\": \"rgb(237,237,237)\", \"ticklen\": 6, \"ticks\": \"inside\"}}, \"type\": \"scatter3d\"}], \"scattercarpet\": [{\"marker\": {\"colorbar\": {\"outlinewidth\": 0, \"tickcolor\": \"rgb(237,237,237)\", \"ticklen\": 6, \"ticks\": \"inside\"}}, \"type\": \"scattercarpet\"}], \"scattergeo\": [{\"marker\": {\"colorbar\": {\"outlinewidth\": 0, \"tickcolor\": \"rgb(237,237,237)\", \"ticklen\": 6, \"ticks\": \"inside\"}}, \"type\": \"scattergeo\"}], \"scattergl\": [{\"marker\": {\"colorbar\": {\"outlinewidth\": 0, \"tickcolor\": \"rgb(237,237,237)\", \"ticklen\": 6, \"ticks\": \"inside\"}}, \"type\": \"scattergl\"}], \"scattermapbox\": [{\"marker\": {\"colorbar\": {\"outlinewidth\": 0, \"tickcolor\": \"rgb(237,237,237)\", \"ticklen\": 6, \"ticks\": \"inside\"}}, \"type\": \"scattermapbox\"}], \"scatterpolar\": [{\"marker\": {\"colorbar\": {\"outlinewidth\": 0, \"tickcolor\": \"rgb(237,237,237)\", \"ticklen\": 6, \"ticks\": \"inside\"}}, \"type\": \"scatterpolar\"}], \"scatterpolargl\": [{\"marker\": {\"colorbar\": {\"outlinewidth\": 0, \"tickcolor\": \"rgb(237,237,237)\", \"ticklen\": 6, \"ticks\": \"inside\"}}, \"type\": \"scatterpolargl\"}], \"scatterternary\": [{\"marker\": {\"colorbar\": {\"outlinewidth\": 0, \"tickcolor\": \"rgb(237,237,237)\", \"ticklen\": 6, \"ticks\": \"inside\"}}, \"type\": \"scatterternary\"}], \"surface\": [{\"colorbar\": {\"outlinewidth\": 0, \"tickcolor\": \"rgb(237,237,237)\", \"ticklen\": 6, \"ticks\": \"inside\"}, \"colorscale\": [[0, \"rgb(20,44,66)\"], [1, \"rgb(90,179,244)\"]], \"type\": \"surface\"}], \"table\": [{\"cells\": {\"fill\": {\"color\": \"rgb(237,237,237)\"}, \"line\": {\"color\": \"white\"}}, \"header\": {\"fill\": {\"color\": \"rgb(217,217,217)\"}, \"line\": {\"color\": \"white\"}}, \"type\": \"table\"}]}, \"layout\": {\"annotationdefaults\": {\"arrowhead\": 0, \"arrowwidth\": 1}, \"coloraxis\": {\"colorbar\": {\"outlinewidth\": 0, \"tickcolor\": \"rgb(237,237,237)\", \"ticklen\": 6, \"ticks\": \"inside\"}}, \"colorscale\": {\"sequential\": [[0, \"rgb(20,44,66)\"], [1, \"rgb(90,179,244)\"]], \"sequentialminus\": [[0, \"rgb(20,44,66)\"], [1, \"rgb(90,179,244)\"]]}, \"colorway\": [\"#F8766D\", \"#A3A500\", \"#00BF7D\", \"#00B0F6\", \"#E76BF3\"], \"font\": {\"color\": \"rgb(51,51,51)\"}, \"geo\": {\"bgcolor\": \"white\", \"lakecolor\": \"white\", \"landcolor\": \"rgb(237,237,237)\", \"showlakes\": true, \"showland\": true, \"subunitcolor\": \"white\"}, \"hoverlabel\": {\"align\": \"left\"}, \"hovermode\": \"closest\", \"paper_bgcolor\": \"white\", \"plot_bgcolor\": \"rgb(237,237,237)\", \"polar\": {\"angularaxis\": {\"gridcolor\": \"white\", \"linecolor\": \"white\", \"showgrid\": true, \"tickcolor\": \"rgb(51,51,51)\", \"ticks\": \"outside\"}, \"bgcolor\": \"rgb(237,237,237)\", \"radialaxis\": {\"gridcolor\": \"white\", \"linecolor\": \"white\", \"showgrid\": true, \"tickcolor\": \"rgb(51,51,51)\", \"ticks\": \"outside\"}}, \"scene\": {\"xaxis\": {\"backgroundcolor\": \"rgb(237,237,237)\", \"gridcolor\": \"white\", \"gridwidth\": 2, \"linecolor\": \"white\", \"showbackground\": true, \"showgrid\": true, \"tickcolor\": \"rgb(51,51,51)\", \"ticks\": \"outside\", \"zerolinecolor\": \"white\"}, \"yaxis\": {\"backgroundcolor\": \"rgb(237,237,237)\", \"gridcolor\": \"white\", \"gridwidth\": 2, \"linecolor\": \"white\", \"showbackground\": true, \"showgrid\": true, \"tickcolor\": \"rgb(51,51,51)\", \"ticks\": \"outside\", \"zerolinecolor\": \"white\"}, \"zaxis\": {\"backgroundcolor\": \"rgb(237,237,237)\", \"gridcolor\": \"white\", \"gridwidth\": 2, \"linecolor\": \"white\", \"showbackground\": true, \"showgrid\": true, \"tickcolor\": \"rgb(51,51,51)\", \"ticks\": \"outside\", \"zerolinecolor\": \"white\"}}, \"shapedefaults\": {\"fillcolor\": \"black\", \"line\": {\"width\": 0}, \"opacity\": 0.3}, \"ternary\": {\"aaxis\": {\"gridcolor\": \"white\", \"linecolor\": \"white\", \"showgrid\": true, \"tickcolor\": \"rgb(51,51,51)\", \"ticks\": \"outside\"}, \"baxis\": {\"gridcolor\": \"white\", \"linecolor\": \"white\", \"showgrid\": true, \"tickcolor\": \"rgb(51,51,51)\", \"ticks\": \"outside\"}, \"bgcolor\": \"rgb(237,237,237)\", \"caxis\": {\"gridcolor\": \"white\", \"linecolor\": \"white\", \"showgrid\": true, \"tickcolor\": \"rgb(51,51,51)\", \"ticks\": \"outside\"}}, \"xaxis\": {\"automargin\": true, \"gridcolor\": \"white\", \"linecolor\": \"white\", \"showgrid\": true, \"tickcolor\": \"rgb(51,51,51)\", \"ticks\": \"outside\", \"title\": {\"standoff\": 15}, \"zerolinecolor\": \"white\"}, \"yaxis\": {\"automargin\": true, \"gridcolor\": \"white\", \"linecolor\": \"white\", \"showgrid\": true, \"tickcolor\": \"rgb(51,51,51)\", \"ticks\": \"outside\", \"title\": {\"standoff\": 15}, \"zerolinecolor\": \"white\"}}}, \"title\": {\"text\": \"Porcentaje de asistentes al teatro por regi\\u00f3n\"}, \"xaxis\": {\"color\": \"green\", \"title\": {\"text\": \"Regiones\"}}, \"yaxis\": {\"color\": \"green\", \"title\": {\"text\": \"Porcentaje\"}}},\n",
              "                        {\"responsive\": true}\n",
              "                    ).then(function(){\n",
              "                            \n",
              "var gd = document.getElementById('570d9f46-8913-44c2-9998-161df16c3b7e');\n",
              "var x = new MutationObserver(function (mutations, observer) {{\n",
              "        var display = window.getComputedStyle(gd).display;\n",
              "        if (!display || display === 'none') {{\n",
              "            console.log([gd, 'removed!']);\n",
              "            Plotly.purge(gd);\n",
              "            observer.disconnect();\n",
              "        }}\n",
              "}});\n",
              "\n",
              "// Listen for the removal of the full notebook cells\n",
              "var notebookContainer = gd.closest('#notebook-container');\n",
              "if (notebookContainer) {{\n",
              "    x.observe(notebookContainer, {childList: true});\n",
              "}}\n",
              "\n",
              "// Listen for the clearing of the current output cell\n",
              "var outputEl = gd.closest('.output');\n",
              "if (outputEl) {{\n",
              "    x.observe(outputEl, {childList: true});\n",
              "}}\n",
              "\n",
              "                        })\n",
              "                };\n",
              "                \n",
              "            </script>\n",
              "        </div>\n",
              "</body>\n",
              "</html>"
            ]
          },
          "metadata": {
            "tags": []
          }
        }
      ]
    },
    {
      "cell_type": "markdown",
      "metadata": {
        "id": "JK3FJ0gcZvGK"
      },
      "source": [
        "# Vemos que las regiones que presentan una mayor concurrencia al teatro son CABA (21,35%), Patagonia (16,96%) y Centro (16,67%)"
      ]
    },
    {
      "cell_type": "markdown",
      "metadata": {
        "id": "1aGcG9MnkB9q"
      },
      "source": [
        "Ahora, ¿Cómo se distribuyen por región quienes no concurrieron al teatro?"
      ]
    },
    {
      "cell_type": "code",
      "metadata": {
        "id": "a3-IRuJH5JVD",
        "colab": {
          "base_uri": "https://localhost:8080/"
        },
        "outputId": "da04c08e-943b-48b2-8045-a9d9df94a0e7"
      },
      "source": [
        "print('No concurrieron por regiones:\\n','\\033[91m',no_conc_teatro['region'].value_counts())"
      ],
      "execution_count": 17,
      "outputs": [
        {
          "output_type": "stream",
          "text": [
            "No concurrieron por regiones:\n",
            " \u001b[91m NOA          365\n",
            "PBA          362\n",
            "CUYO         360\n",
            "NEA          359\n",
            "CENTRO       343\n",
            "PATAGONIA    342\n",
            "CABA         327\n",
            "Name: region, dtype: int64\n"
          ],
          "name": "stdout"
        }
      ]
    },
    {
      "cell_type": "markdown",
      "metadata": {
        "id": "cPbaPGimkItt"
      },
      "source": [
        "¿Qué porcentaje representa cada región?"
      ]
    },
    {
      "cell_type": "code",
      "metadata": {
        "id": "H2cnvff-6lkD",
        "colab": {
          "base_uri": "https://localhost:8080/",
          "height": 542
        },
        "outputId": "acb10628-9b49-4778-a2c6-dfce1b04f970"
      },
      "source": [
        "conteo_regiones_no = no_conc_teatro.groupby('region').count()['id']\n",
        "porcentaje_regiones_no = conteo_regiones_no/(conteo_regiones_no.sum())*100\n",
        "\n",
        "fig = dict({\n",
        "    \"data\": [{\"type\": \"bar\",\n",
        "              \"x\": porcentaje_regiones_no.index.tolist(),\n",
        "              \"y\": porcentaje_regiones_no}],\n",
        "    \"layout\": {\"title\": {\"text\": \"Porcentaje de no asistentes al teatro por región\"},\n",
        "               \"template\":\"ggplot2\",\n",
        "               'xaxis':{'title':'Regiones','color':'red'},\n",
        "               'yaxis':{'title':'Porcentaje','color':'red'}}\n",
        "})\n",
        "\n",
        "pio.show(fig)"
      ],
      "execution_count": 18,
      "outputs": [
        {
          "output_type": "display_data",
          "data": {
            "text/html": [
              "<html>\n",
              "<head><meta charset=\"utf-8\" /></head>\n",
              "<body>\n",
              "    <div>\n",
              "            <script src=\"https://cdnjs.cloudflare.com/ajax/libs/mathjax/2.7.5/MathJax.js?config=TeX-AMS-MML_SVG\"></script><script type=\"text/javascript\">if (window.MathJax) {MathJax.Hub.Config({SVG: {font: \"STIX-Web\"}});}</script>\n",
              "                <script type=\"text/javascript\">window.PlotlyConfig = {MathJaxConfig: 'local'};</script>\n",
              "        <script src=\"https://cdn.plot.ly/plotly-latest.min.js\"></script>    \n",
              "            <div id=\"77a88dfa-5dcd-4206-9c68-e0490970eb4b\" class=\"plotly-graph-div\" style=\"height:525px; width:100%;\"></div>\n",
              "            <script type=\"text/javascript\">\n",
              "                \n",
              "                    window.PLOTLYENV=window.PLOTLYENV || {};\n",
              "                    \n",
              "                if (document.getElementById(\"77a88dfa-5dcd-4206-9c68-e0490970eb4b\")) {\n",
              "                    Plotly.newPlot(\n",
              "                        '77a88dfa-5dcd-4206-9c68-e0490970eb4b',\n",
              "                        [{\"type\": \"bar\", \"x\": [\"CABA\", \"CENTRO\", \"CUYO\", \"NEA\", \"NOA\", \"PATAGONIA\", \"PBA\"], \"y\": [13.303498779495527, 13.954434499593166, 14.646053702196907, 14.605370219690805, 14.84947111472742, 13.913751017087062, 14.727420667209113]}],\n",
              "                        {\"template\": {\"data\": {\"bar\": [{\"error_x\": {\"color\": \"rgb(51,51,51)\"}, \"error_y\": {\"color\": \"rgb(51,51,51)\"}, \"marker\": {\"line\": {\"color\": \"rgb(237,237,237)\", \"width\": 0.5}}, \"type\": \"bar\"}], \"barpolar\": [{\"marker\": {\"line\": {\"color\": \"rgb(237,237,237)\", \"width\": 0.5}}, \"type\": \"barpolar\"}], \"carpet\": [{\"aaxis\": {\"endlinecolor\": \"rgb(51,51,51)\", \"gridcolor\": \"white\", \"linecolor\": \"white\", \"minorgridcolor\": \"white\", \"startlinecolor\": \"rgb(51,51,51)\"}, \"baxis\": {\"endlinecolor\": \"rgb(51,51,51)\", \"gridcolor\": \"white\", \"linecolor\": \"white\", \"minorgridcolor\": \"white\", \"startlinecolor\": \"rgb(51,51,51)\"}, \"type\": \"carpet\"}], \"choropleth\": [{\"colorbar\": {\"outlinewidth\": 0, \"tickcolor\": \"rgb(237,237,237)\", \"ticklen\": 6, \"ticks\": \"inside\"}, \"type\": \"choropleth\"}], \"contour\": [{\"colorbar\": {\"outlinewidth\": 0, \"tickcolor\": \"rgb(237,237,237)\", \"ticklen\": 6, \"ticks\": \"inside\"}, \"colorscale\": [[0, \"rgb(20,44,66)\"], [1, \"rgb(90,179,244)\"]], \"type\": \"contour\"}], \"contourcarpet\": [{\"colorbar\": {\"outlinewidth\": 0, \"tickcolor\": \"rgb(237,237,237)\", \"ticklen\": 6, \"ticks\": \"inside\"}, \"type\": \"contourcarpet\"}], \"heatmap\": [{\"colorbar\": {\"outlinewidth\": 0, \"tickcolor\": \"rgb(237,237,237)\", \"ticklen\": 6, \"ticks\": \"inside\"}, \"colorscale\": [[0, \"rgb(20,44,66)\"], [1, \"rgb(90,179,244)\"]], \"type\": \"heatmap\"}], \"heatmapgl\": [{\"colorbar\": {\"outlinewidth\": 0, \"tickcolor\": \"rgb(237,237,237)\", \"ticklen\": 6, \"ticks\": \"inside\"}, \"colorscale\": [[0, \"rgb(20,44,66)\"], [1, \"rgb(90,179,244)\"]], \"type\": \"heatmapgl\"}], \"histogram\": [{\"marker\": {\"colorbar\": {\"outlinewidth\": 0, \"tickcolor\": \"rgb(237,237,237)\", \"ticklen\": 6, \"ticks\": \"inside\"}}, \"type\": \"histogram\"}], \"histogram2d\": [{\"colorbar\": {\"outlinewidth\": 0, \"tickcolor\": \"rgb(237,237,237)\", \"ticklen\": 6, \"ticks\": \"inside\"}, \"colorscale\": [[0, \"rgb(20,44,66)\"], [1, \"rgb(90,179,244)\"]], \"type\": \"histogram2d\"}], \"histogram2dcontour\": [{\"colorbar\": {\"outlinewidth\": 0, \"tickcolor\": \"rgb(237,237,237)\", \"ticklen\": 6, \"ticks\": \"inside\"}, \"colorscale\": [[0, \"rgb(20,44,66)\"], [1, \"rgb(90,179,244)\"]], \"type\": \"histogram2dcontour\"}], \"mesh3d\": [{\"colorbar\": {\"outlinewidth\": 0, \"tickcolor\": \"rgb(237,237,237)\", \"ticklen\": 6, \"ticks\": \"inside\"}, \"type\": \"mesh3d\"}], \"parcoords\": [{\"line\": {\"colorbar\": {\"outlinewidth\": 0, \"tickcolor\": \"rgb(237,237,237)\", \"ticklen\": 6, \"ticks\": \"inside\"}}, \"type\": \"parcoords\"}], \"pie\": [{\"automargin\": true, \"type\": \"pie\"}], \"scatter\": [{\"marker\": {\"colorbar\": {\"outlinewidth\": 0, \"tickcolor\": \"rgb(237,237,237)\", \"ticklen\": 6, \"ticks\": \"inside\"}}, \"type\": \"scatter\"}], \"scatter3d\": [{\"line\": {\"colorbar\": {\"outlinewidth\": 0, \"tickcolor\": \"rgb(237,237,237)\", \"ticklen\": 6, \"ticks\": \"inside\"}}, \"marker\": {\"colorbar\": {\"outlinewidth\": 0, \"tickcolor\": \"rgb(237,237,237)\", \"ticklen\": 6, \"ticks\": \"inside\"}}, \"type\": \"scatter3d\"}], \"scattercarpet\": [{\"marker\": {\"colorbar\": {\"outlinewidth\": 0, \"tickcolor\": \"rgb(237,237,237)\", \"ticklen\": 6, \"ticks\": \"inside\"}}, \"type\": \"scattercarpet\"}], \"scattergeo\": [{\"marker\": {\"colorbar\": {\"outlinewidth\": 0, \"tickcolor\": \"rgb(237,237,237)\", \"ticklen\": 6, \"ticks\": \"inside\"}}, \"type\": \"scattergeo\"}], \"scattergl\": [{\"marker\": {\"colorbar\": {\"outlinewidth\": 0, \"tickcolor\": \"rgb(237,237,237)\", \"ticklen\": 6, \"ticks\": \"inside\"}}, \"type\": \"scattergl\"}], \"scattermapbox\": [{\"marker\": {\"colorbar\": {\"outlinewidth\": 0, \"tickcolor\": \"rgb(237,237,237)\", \"ticklen\": 6, \"ticks\": \"inside\"}}, \"type\": \"scattermapbox\"}], \"scatterpolar\": [{\"marker\": {\"colorbar\": {\"outlinewidth\": 0, \"tickcolor\": \"rgb(237,237,237)\", \"ticklen\": 6, \"ticks\": \"inside\"}}, \"type\": \"scatterpolar\"}], \"scatterpolargl\": [{\"marker\": {\"colorbar\": {\"outlinewidth\": 0, \"tickcolor\": \"rgb(237,237,237)\", \"ticklen\": 6, \"ticks\": \"inside\"}}, \"type\": \"scatterpolargl\"}], \"scatterternary\": [{\"marker\": {\"colorbar\": {\"outlinewidth\": 0, \"tickcolor\": \"rgb(237,237,237)\", \"ticklen\": 6, \"ticks\": \"inside\"}}, \"type\": \"scatterternary\"}], \"surface\": [{\"colorbar\": {\"outlinewidth\": 0, \"tickcolor\": \"rgb(237,237,237)\", \"ticklen\": 6, \"ticks\": \"inside\"}, \"colorscale\": [[0, \"rgb(20,44,66)\"], [1, \"rgb(90,179,244)\"]], \"type\": \"surface\"}], \"table\": [{\"cells\": {\"fill\": {\"color\": \"rgb(237,237,237)\"}, \"line\": {\"color\": \"white\"}}, \"header\": {\"fill\": {\"color\": \"rgb(217,217,217)\"}, \"line\": {\"color\": \"white\"}}, \"type\": \"table\"}]}, \"layout\": {\"annotationdefaults\": {\"arrowhead\": 0, \"arrowwidth\": 1}, \"coloraxis\": {\"colorbar\": {\"outlinewidth\": 0, \"tickcolor\": \"rgb(237,237,237)\", \"ticklen\": 6, \"ticks\": \"inside\"}}, \"colorscale\": {\"sequential\": [[0, \"rgb(20,44,66)\"], [1, \"rgb(90,179,244)\"]], \"sequentialminus\": [[0, \"rgb(20,44,66)\"], [1, \"rgb(90,179,244)\"]]}, \"colorway\": [\"#F8766D\", \"#A3A500\", \"#00BF7D\", \"#00B0F6\", \"#E76BF3\"], \"font\": {\"color\": \"rgb(51,51,51)\"}, \"geo\": {\"bgcolor\": \"white\", \"lakecolor\": \"white\", \"landcolor\": \"rgb(237,237,237)\", \"showlakes\": true, \"showland\": true, \"subunitcolor\": \"white\"}, \"hoverlabel\": {\"align\": \"left\"}, \"hovermode\": \"closest\", \"paper_bgcolor\": \"white\", \"plot_bgcolor\": \"rgb(237,237,237)\", \"polar\": {\"angularaxis\": {\"gridcolor\": \"white\", \"linecolor\": \"white\", \"showgrid\": true, \"tickcolor\": \"rgb(51,51,51)\", \"ticks\": \"outside\"}, \"bgcolor\": \"rgb(237,237,237)\", \"radialaxis\": {\"gridcolor\": \"white\", \"linecolor\": \"white\", \"showgrid\": true, \"tickcolor\": \"rgb(51,51,51)\", \"ticks\": \"outside\"}}, \"scene\": {\"xaxis\": {\"backgroundcolor\": \"rgb(237,237,237)\", \"gridcolor\": \"white\", \"gridwidth\": 2, \"linecolor\": \"white\", \"showbackground\": true, \"showgrid\": true, \"tickcolor\": \"rgb(51,51,51)\", \"ticks\": \"outside\", \"zerolinecolor\": \"white\"}, \"yaxis\": {\"backgroundcolor\": \"rgb(237,237,237)\", \"gridcolor\": \"white\", \"gridwidth\": 2, \"linecolor\": \"white\", \"showbackground\": true, \"showgrid\": true, \"tickcolor\": \"rgb(51,51,51)\", \"ticks\": \"outside\", \"zerolinecolor\": \"white\"}, \"zaxis\": {\"backgroundcolor\": \"rgb(237,237,237)\", \"gridcolor\": \"white\", \"gridwidth\": 2, \"linecolor\": \"white\", \"showbackground\": true, \"showgrid\": true, \"tickcolor\": \"rgb(51,51,51)\", \"ticks\": \"outside\", \"zerolinecolor\": \"white\"}}, \"shapedefaults\": {\"fillcolor\": \"black\", \"line\": {\"width\": 0}, \"opacity\": 0.3}, \"ternary\": {\"aaxis\": {\"gridcolor\": \"white\", \"linecolor\": \"white\", \"showgrid\": true, \"tickcolor\": \"rgb(51,51,51)\", \"ticks\": \"outside\"}, \"baxis\": {\"gridcolor\": \"white\", \"linecolor\": \"white\", \"showgrid\": true, \"tickcolor\": \"rgb(51,51,51)\", \"ticks\": \"outside\"}, \"bgcolor\": \"rgb(237,237,237)\", \"caxis\": {\"gridcolor\": \"white\", \"linecolor\": \"white\", \"showgrid\": true, \"tickcolor\": \"rgb(51,51,51)\", \"ticks\": \"outside\"}}, \"xaxis\": {\"automargin\": true, \"gridcolor\": \"white\", \"linecolor\": \"white\", \"showgrid\": true, \"tickcolor\": \"rgb(51,51,51)\", \"ticks\": \"outside\", \"title\": {\"standoff\": 15}, \"zerolinecolor\": \"white\"}, \"yaxis\": {\"automargin\": true, \"gridcolor\": \"white\", \"linecolor\": \"white\", \"showgrid\": true, \"tickcolor\": \"rgb(51,51,51)\", \"ticks\": \"outside\", \"title\": {\"standoff\": 15}, \"zerolinecolor\": \"white\"}}}, \"title\": {\"text\": \"Porcentaje de no asistentes al teatro por regi\\u00f3n\"}, \"xaxis\": {\"color\": \"red\", \"title\": {\"text\": \"Regiones\"}}, \"yaxis\": {\"color\": \"red\", \"title\": {\"text\": \"Porcentaje\"}}},\n",
              "                        {\"responsive\": true}\n",
              "                    ).then(function(){\n",
              "                            \n",
              "var gd = document.getElementById('77a88dfa-5dcd-4206-9c68-e0490970eb4b');\n",
              "var x = new MutationObserver(function (mutations, observer) {{\n",
              "        var display = window.getComputedStyle(gd).display;\n",
              "        if (!display || display === 'none') {{\n",
              "            console.log([gd, 'removed!']);\n",
              "            Plotly.purge(gd);\n",
              "            observer.disconnect();\n",
              "        }}\n",
              "}});\n",
              "\n",
              "// Listen for the removal of the full notebook cells\n",
              "var notebookContainer = gd.closest('#notebook-container');\n",
              "if (notebookContainer) {{\n",
              "    x.observe(notebookContainer, {childList: true});\n",
              "}}\n",
              "\n",
              "// Listen for the clearing of the current output cell\n",
              "var outputEl = gd.closest('.output');\n",
              "if (outputEl) {{\n",
              "    x.observe(outputEl, {childList: true});\n",
              "}}\n",
              "\n",
              "                        })\n",
              "                };\n",
              "                \n",
              "            </script>\n",
              "        </div>\n",
              "</body>\n",
              "</html>"
            ]
          },
          "metadata": {
            "tags": []
          }
        }
      ]
    },
    {
      "cell_type": "markdown",
      "metadata": {
        "id": "ISlM9U8QaMfD"
      },
      "source": [
        "# El porcentaje de no concurrencia parece estar más o menos equilibrado en todas las regiones."
      ]
    },
    {
      "cell_type": "markdown",
      "metadata": {
        "id": "eOjXjLPekRG-"
      },
      "source": [
        "Ahora veamos si hay alguna relación entre la concurrencia y el sexo:"
      ]
    },
    {
      "cell_type": "code",
      "metadata": {
        "id": "6K5lHqiYabza",
        "colab": {
          "base_uri": "https://localhost:8080/",
          "height": 317
        },
        "outputId": "9eb48853-ecb1-4afb-b9d8-3d3a700dfd1c"
      },
      "source": [
        "fig = px.pie(conc_teatro,values='id',names='sexo',\\\n",
        "             title='Porcentaje de asistentes al teatro por sexo',\n",
        "             width=390,height=300)\n",
        "fig.show()"
      ],
      "execution_count": 19,
      "outputs": [
        {
          "output_type": "display_data",
          "data": {
            "text/html": [
              "<html>\n",
              "<head><meta charset=\"utf-8\" /></head>\n",
              "<body>\n",
              "    <div>\n",
              "            <script src=\"https://cdnjs.cloudflare.com/ajax/libs/mathjax/2.7.5/MathJax.js?config=TeX-AMS-MML_SVG\"></script><script type=\"text/javascript\">if (window.MathJax) {MathJax.Hub.Config({SVG: {font: \"STIX-Web\"}});}</script>\n",
              "                <script type=\"text/javascript\">window.PlotlyConfig = {MathJaxConfig: 'local'};</script>\n",
              "        <script src=\"https://cdn.plot.ly/plotly-latest.min.js\"></script>    \n",
              "            <div id=\"5acecd93-bf27-46bb-a1e1-42390104adfa\" class=\"plotly-graph-div\" style=\"height:300px; width:390px;\"></div>\n",
              "            <script type=\"text/javascript\">\n",
              "                \n",
              "                    window.PLOTLYENV=window.PLOTLYENV || {};\n",
              "                    \n",
              "                if (document.getElementById(\"5acecd93-bf27-46bb-a1e1-42390104adfa\")) {\n",
              "                    Plotly.newPlot(\n",
              "                        '5acecd93-bf27-46bb-a1e1-42390104adfa',\n",
              "                        [{\"domain\": {\"x\": [0.0, 1.0], \"y\": [0.0, 1.0]}, \"hoverlabel\": {\"namelength\": 0}, \"hovertemplate\": \"sexo=%{label}<br>id=%{value}\", \"labels\": [\"Var\\u00f3n\", \"Var\\u00f3n\", \"Mujer\", \"Mujer\", \"Var\\u00f3n\", \"Var\\u00f3n\", \"Var\\u00f3n\", \"Mujer\", \"Var\\u00f3n\", \"Mujer\", \"Mujer\", \"Mujer\", \"Mujer\", \"Mujer\", \"Mujer\", \"Var\\u00f3n\", \"Var\\u00f3n\", \"Var\\u00f3n\", \"Var\\u00f3n\", \"Var\\u00f3n\", \"Var\\u00f3n\", \"Var\\u00f3n\", \"Var\\u00f3n\", \"Var\\u00f3n\", \"Var\\u00f3n\", \"Var\\u00f3n\", \"Var\\u00f3n\", \"Mujer\", \"Var\\u00f3n\", \"Mujer\", \"Mujer\", \"Var\\u00f3n\", \"Mujer\", \"Mujer\", \"Var\\u00f3n\", \"Mujer\", \"Var\\u00f3n\", \"Mujer\", \"Var\\u00f3n\", \"Var\\u00f3n\", \"Var\\u00f3n\", \"Mujer\", \"Mujer\", \"Var\\u00f3n\", \"Mujer\", \"Mujer\", \"Var\\u00f3n\", \"Mujer\", \"Mujer\", \"Var\\u00f3n\", \"Var\\u00f3n\", \"Mujer\", \"Mujer\", \"Var\\u00f3n\", \"Mujer\", \"Var\\u00f3n\", \"Var\\u00f3n\", \"Mujer\", \"Mujer\", \"Mujer\", \"Var\\u00f3n\", \"Mujer\", \"Mujer\", \"Mujer\", \"Var\\u00f3n\", \"Var\\u00f3n\", \"Var\\u00f3n\", \"Mujer\", \"Var\\u00f3n\", \"Mujer\", \"Mujer\", \"Var\\u00f3n\", \"Var\\u00f3n\", \"Mujer\", \"Var\\u00f3n\", \"Var\\u00f3n\", \"Mujer\", \"Mujer\", \"Var\\u00f3n\", \"Var\\u00f3n\", \"Mujer\", \"Mujer\", \"Var\\u00f3n\", \"Mujer\", \"Var\\u00f3n\", \"Var\\u00f3n\", \"Mujer\", \"Var\\u00f3n\", \"Var\\u00f3n\", \"Mujer\", \"Mujer\", \"Mujer\", \"Mujer\", \"Var\\u00f3n\", \"Var\\u00f3n\", \"Mujer\", \"Mujer\", \"Mujer\", \"Mujer\", \"Var\\u00f3n\", \"Mujer\", \"Mujer\", \"Mujer\", \"Mujer\", \"Mujer\", \"Var\\u00f3n\", \"Mujer\", \"Var\\u00f3n\", \"Mujer\", \"Var\\u00f3n\", \"Var\\u00f3n\", \"Var\\u00f3n\", \"Mujer\", \"Mujer\", \"Var\\u00f3n\", \"Mujer\", \"Var\\u00f3n\", \"Var\\u00f3n\", \"Mujer\", \"Mujer\", \"Mujer\", \"Mujer\", \"Mujer\", \"Mujer\", \"Var\\u00f3n\", \"Var\\u00f3n\", \"Mujer\", \"Mujer\", \"Var\\u00f3n\", \"Var\\u00f3n\", \"Mujer\", \"Mujer\", \"Var\\u00f3n\", \"Var\\u00f3n\", \"Var\\u00f3n\", \"Var\\u00f3n\", \"Mujer\", \"Mujer\", \"Mujer\", \"Mujer\", \"Mujer\", \"Mujer\", \"Var\\u00f3n\", \"Mujer\", \"Mujer\", \"Mujer\", \"Mujer\", \"Mujer\", \"Var\\u00f3n\", \"Var\\u00f3n\", \"Var\\u00f3n\", \"Mujer\", \"Var\\u00f3n\", \"Mujer\", \"Mujer\", \"Mujer\", \"Var\\u00f3n\", \"Mujer\", \"Var\\u00f3n\", \"Mujer\", \"Var\\u00f3n\", \"Mujer\", \"Var\\u00f3n\", \"Var\\u00f3n\", \"Mujer\", \"Mujer\", \"Var\\u00f3n\", \"Mujer\", \"Var\\u00f3n\", \"Var\\u00f3n\", \"Var\\u00f3n\", \"Mujer\", \"Var\\u00f3n\", \"Mujer\", \"Mujer\", \"Mujer\", \"Mujer\", \"Mujer\", \"Var\\u00f3n\", \"Var\\u00f3n\", \"Var\\u00f3n\", \"Mujer\", \"Mujer\", \"Mujer\", \"Mujer\", \"Mujer\", \"Mujer\", \"Mujer\", \"Var\\u00f3n\", \"Mujer\", \"Mujer\", \"Mujer\", \"Var\\u00f3n\", \"Var\\u00f3n\", \"Mujer\", \"Var\\u00f3n\", \"Var\\u00f3n\", \"Var\\u00f3n\", \"Var\\u00f3n\", \"Var\\u00f3n\", \"Mujer\", \"Var\\u00f3n\", \"Mujer\", \"Mujer\", \"Mujer\", \"Var\\u00f3n\", \"Var\\u00f3n\", \"Mujer\", \"Mujer\", \"Mujer\", \"Var\\u00f3n\", \"Mujer\", \"Var\\u00f3n\", \"Mujer\", \"Mujer\", \"Mujer\", \"Mujer\", \"Mujer\", \"Mujer\", \"Mujer\", \"Mujer\", \"Mujer\", \"Mujer\", \"Mujer\", \"Mujer\", \"Var\\u00f3n\", \"Var\\u00f3n\", \"Var\\u00f3n\", \"Mujer\", \"Mujer\", \"Mujer\", \"Var\\u00f3n\", \"Mujer\", \"Mujer\", \"Var\\u00f3n\", \"Var\\u00f3n\", \"Mujer\", \"Var\\u00f3n\", \"Var\\u00f3n\", \"Var\\u00f3n\", \"Var\\u00f3n\", \"Var\\u00f3n\", \"Var\\u00f3n\", \"Mujer\", \"Mujer\", \"Mujer\", \"Mujer\", \"Var\\u00f3n\", \"Var\\u00f3n\", \"Var\\u00f3n\", \"Mujer\", \"Mujer\", \"Mujer\", \"Mujer\", \"Mujer\", \"Var\\u00f3n\", \"Mujer\", \"Mujer\", \"Var\\u00f3n\", \"Mujer\", \"Mujer\", \"Mujer\", \"Var\\u00f3n\", \"Var\\u00f3n\", \"Mujer\", \"Var\\u00f3n\", \"Mujer\", \"Var\\u00f3n\", \"Var\\u00f3n\", \"Mujer\", \"Var\\u00f3n\", \"Mujer\", \"Var\\u00f3n\", \"Var\\u00f3n\", \"Mujer\", \"Var\\u00f3n\", \"Mujer\", \"Mujer\", \"Mujer\", \"Mujer\", \"Var\\u00f3n\", \"Mujer\", \"Var\\u00f3n\", \"Mujer\", \"Mujer\", \"Var\\u00f3n\", \"Var\\u00f3n\", \"Mujer\", \"Mujer\", \"Var\\u00f3n\", \"Mujer\", \"Mujer\", \"Var\\u00f3n\", \"Mujer\", \"Var\\u00f3n\", \"Var\\u00f3n\", \"Var\\u00f3n\", \"Mujer\", \"Var\\u00f3n\", \"Mujer\", \"Var\\u00f3n\", \"Mujer\", \"Mujer\", \"Var\\u00f3n\", \"Mujer\", \"Mujer\", \"Var\\u00f3n\", \"Mujer\", \"Var\\u00f3n\", \"Mujer\", \"Mujer\", \"Var\\u00f3n\", \"Mujer\", \"Var\\u00f3n\", \"Var\\u00f3n\", \"Var\\u00f3n\", \"Var\\u00f3n\", \"Mujer\", \"Mujer\", \"Var\\u00f3n\", \"Mujer\", \"Mujer\", \"Var\\u00f3n\", \"Mujer\", \"Var\\u00f3n\", \"Var\\u00f3n\", \"Mujer\", \"Mujer\", \"Mujer\", \"Var\\u00f3n\", \"Mujer\", \"Mujer\", \"Var\\u00f3n\", \"Mujer\", \"Var\\u00f3n\", \"Var\\u00f3n\", \"Mujer\", \"Mujer\", \"Var\\u00f3n\", \"Var\\u00f3n\", \"Mujer\", \"Mujer\"], \"legendgroup\": \"\", \"name\": \"\", \"showlegend\": true, \"type\": \"pie\", \"values\": [\"2\", \"5\", \"17\", \"24\", \"62\", \"82\", \"85\", \"89\", \"123\", \"127\", \"129\", \"130\", \"137\", \"140\", \"148\", \"153\", \"182\", \"183\", \"214\", \"222\", \"261\", \"262\", \"264\", \"265\", \"272\", \"273\", \"274\", \"276\", \"285\", \"310\", \"316\", \"325\", \"336\", \"347\", \"351\", \"357\", \"361\", \"368\", \"412\", \"413\", \"423\", \"427\", \"428\", \"435\", \"447\", \"448\", \"513\", \"516\", \"517\", \"543\", \"545\", \"549\", \"556\", \"564\", \"566\", \"571\", \"581\", \"598\", \"599\", \"605\", \"614\", \"616\", \"617\", \"618\", \"625\", \"643\", \"665\", \"690\", \"694\", \"698\", \"699\", \"703\", \"705\", \"706\", \"712\", \"714\", \"716\", \"720\", \"724\", \"725\", \"727\", \"729\", \"733\", \"740\", \"744\", \"775\", \"776\", \"784\", \"785\", \"789\", \"797\", \"798\", \"799\", \"811\", \"815\", \"826\", \"827\", \"830\", \"837\", \"841\", \"850\", \"890\", \"896\", \"909\", \"918\", \"931\", \"957\", \"962\", \"979\", \"983\", \"993\", \"1004\", \"1007\", \"1009\", \"1033\", \"1039\", \"1042\", \"1062\", \"1066\", \"1089\", \"1116\", \"1117\", \"1138\", \"1149\", \"1163\", \"1171\", \"1176\", \"1189\", \"1191\", \"1203\", \"1207\", \"1209\", \"1227\", \"1229\", \"1243\", \"1273\", \"1276\", \"1277\", \"1279\", \"1280\", \"1288\", \"1298\", \"1302\", \"1306\", \"1307\", \"1308\", \"1309\", \"1310\", \"1311\", \"1323\", \"1325\", \"1339\", \"1341\", \"1350\", \"1358\", \"1387\", \"1392\", \"1397\", \"1403\", \"1409\", \"1412\", \"1434\", \"1444\", \"1454\", \"1458\", \"1459\", \"1465\", \"1477\", \"1501\", \"1511\", \"1512\", \"1520\", \"1524\", \"1525\", \"1530\", \"1620\", \"1648\", \"1649\", \"1652\", \"1654\", \"1655\", \"1658\", \"1659\", \"1660\", \"1668\", \"1670\", \"1676\", \"1680\", \"1684\", \"1687\", \"1706\", \"1708\", \"1712\", \"1713\", \"1719\", \"1724\", \"1725\", \"1733\", \"1735\", \"1762\", \"1766\", \"1772\", \"1775\", \"1779\", \"1787\", \"1794\", \"1797\", \"1809\", \"1819\", \"1822\", \"1823\", \"1825\", \"1854\", \"1861\", \"1867\", \"1874\", \"1879\", \"1894\", \"1903\", \"1905\", \"1909\", \"1926\", \"1928\", \"1946\", \"1953\", \"1955\", \"1956\", \"1963\", \"1966\", \"1969\", \"1991\", \"1995\", \"2022\", \"2025\", \"2028\", \"2036\", \"2047\", 2049.0, 2053.0, 2055.0, 2057.0, 2070.0, 2084.0, 2087.0, 2088.0, 2110.0, 2133.0, 2135.0, 2137.0, 2148.0, 2149.0, 2153.0, 2167.0, 2168.0, 2196.0, 2208.0, 2210.0, 2213.0, 2215.0, 2224.0, 2246.0, 2250.0, 2261.0, 2263.0, 2274.0, 2310.0, 2311.0, 2322.0, 2324.0, 2325.0, 2326.0, 2333.0, 2339.0, 2350.0, 2361.0, 2363.0, 2365.0, 2366.0, 2375.0, 2381.0, 2394.0, 2404.0, 2414.0, 2418.0, 2434.0, 2444.0, 2453.0, 2456.0, 2457.0, 2462.0, 2463.0, 2478.0, 2479.0, 2480.0, 2484.0, 2490.0, 2492.0, 2499.0, 2507.0, 2515.0, 2518.0, 2520.0, 2536.0, 2537.0, 2539.0, 2542.0, 2568.0, 2570.0, 2602.0, 2611.0, 2618.0, 2627.0, 2633.0, 2638.0, 2644.0, 2646.0, 2656.0, 2660.0, 2703.0, 2707.0, 2712.0, 2723.0, 2736.0, 2738.0, 2743.0, 2745.0, 2746.0, 2748.0, 2751.0, 2753.0, 2754.0, 2756.0, 2759.0, 2760.0, 2762.0, 2763.0, 2769.0, 2778.0, 2781.0, 2792.0, 2797.0, 2799.0]}],\n",
              "                        {\"height\": 300, \"legend\": {\"tracegroupgap\": 0}, \"template\": {\"data\": {\"bar\": [{\"error_x\": {\"color\": \"#2a3f5f\"}, \"error_y\": {\"color\": \"#2a3f5f\"}, \"marker\": {\"line\": {\"color\": \"#E5ECF6\", \"width\": 0.5}}, \"type\": \"bar\"}], \"barpolar\": [{\"marker\": {\"line\": {\"color\": \"#E5ECF6\", \"width\": 0.5}}, \"type\": \"barpolar\"}], \"carpet\": [{\"aaxis\": {\"endlinecolor\": \"#2a3f5f\", \"gridcolor\": \"white\", \"linecolor\": \"white\", \"minorgridcolor\": \"white\", \"startlinecolor\": \"#2a3f5f\"}, \"baxis\": {\"endlinecolor\": \"#2a3f5f\", \"gridcolor\": \"white\", \"linecolor\": \"white\", \"minorgridcolor\": \"white\", \"startlinecolor\": \"#2a3f5f\"}, \"type\": \"carpet\"}], \"choropleth\": [{\"colorbar\": {\"outlinewidth\": 0, \"ticks\": \"\"}, \"type\": \"choropleth\"}], \"contour\": [{\"colorbar\": {\"outlinewidth\": 0, \"ticks\": \"\"}, \"colorscale\": [[0.0, \"#0d0887\"], [0.1111111111111111, \"#46039f\"], [0.2222222222222222, \"#7201a8\"], [0.3333333333333333, \"#9c179e\"], [0.4444444444444444, \"#bd3786\"], [0.5555555555555556, \"#d8576b\"], [0.6666666666666666, \"#ed7953\"], [0.7777777777777778, \"#fb9f3a\"], [0.8888888888888888, \"#fdca26\"], [1.0, \"#f0f921\"]], \"type\": \"contour\"}], \"contourcarpet\": [{\"colorbar\": {\"outlinewidth\": 0, \"ticks\": \"\"}, \"type\": \"contourcarpet\"}], \"heatmap\": [{\"colorbar\": {\"outlinewidth\": 0, \"ticks\": \"\"}, \"colorscale\": [[0.0, \"#0d0887\"], [0.1111111111111111, \"#46039f\"], [0.2222222222222222, \"#7201a8\"], [0.3333333333333333, \"#9c179e\"], [0.4444444444444444, \"#bd3786\"], [0.5555555555555556, \"#d8576b\"], [0.6666666666666666, \"#ed7953\"], [0.7777777777777778, \"#fb9f3a\"], [0.8888888888888888, \"#fdca26\"], [1.0, \"#f0f921\"]], \"type\": \"heatmap\"}], \"heatmapgl\": [{\"colorbar\": {\"outlinewidth\": 0, \"ticks\": \"\"}, \"colorscale\": [[0.0, \"#0d0887\"], [0.1111111111111111, \"#46039f\"], [0.2222222222222222, \"#7201a8\"], [0.3333333333333333, \"#9c179e\"], [0.4444444444444444, \"#bd3786\"], [0.5555555555555556, \"#d8576b\"], [0.6666666666666666, \"#ed7953\"], [0.7777777777777778, \"#fb9f3a\"], [0.8888888888888888, \"#fdca26\"], [1.0, \"#f0f921\"]], \"type\": \"heatmapgl\"}], \"histogram\": [{\"marker\": {\"colorbar\": {\"outlinewidth\": 0, \"ticks\": \"\"}}, \"type\": \"histogram\"}], \"histogram2d\": [{\"colorbar\": {\"outlinewidth\": 0, \"ticks\": \"\"}, \"colorscale\": [[0.0, \"#0d0887\"], [0.1111111111111111, \"#46039f\"], [0.2222222222222222, \"#7201a8\"], [0.3333333333333333, \"#9c179e\"], [0.4444444444444444, \"#bd3786\"], [0.5555555555555556, \"#d8576b\"], [0.6666666666666666, \"#ed7953\"], [0.7777777777777778, \"#fb9f3a\"], [0.8888888888888888, \"#fdca26\"], [1.0, \"#f0f921\"]], \"type\": \"histogram2d\"}], \"histogram2dcontour\": [{\"colorbar\": {\"outlinewidth\": 0, \"ticks\": \"\"}, \"colorscale\": [[0.0, \"#0d0887\"], [0.1111111111111111, \"#46039f\"], [0.2222222222222222, \"#7201a8\"], [0.3333333333333333, \"#9c179e\"], [0.4444444444444444, \"#bd3786\"], [0.5555555555555556, \"#d8576b\"], [0.6666666666666666, \"#ed7953\"], [0.7777777777777778, \"#fb9f3a\"], [0.8888888888888888, \"#fdca26\"], [1.0, \"#f0f921\"]], \"type\": \"histogram2dcontour\"}], \"mesh3d\": [{\"colorbar\": {\"outlinewidth\": 0, \"ticks\": \"\"}, \"type\": \"mesh3d\"}], \"parcoords\": [{\"line\": {\"colorbar\": {\"outlinewidth\": 0, \"ticks\": \"\"}}, \"type\": \"parcoords\"}], \"pie\": [{\"automargin\": true, \"type\": \"pie\"}], \"scatter\": [{\"marker\": {\"colorbar\": {\"outlinewidth\": 0, \"ticks\": \"\"}}, \"type\": \"scatter\"}], \"scatter3d\": [{\"line\": {\"colorbar\": {\"outlinewidth\": 0, \"ticks\": \"\"}}, \"marker\": {\"colorbar\": {\"outlinewidth\": 0, \"ticks\": \"\"}}, \"type\": \"scatter3d\"}], \"scattercarpet\": [{\"marker\": {\"colorbar\": {\"outlinewidth\": 0, \"ticks\": \"\"}}, \"type\": \"scattercarpet\"}], \"scattergeo\": [{\"marker\": {\"colorbar\": {\"outlinewidth\": 0, \"ticks\": \"\"}}, \"type\": \"scattergeo\"}], \"scattergl\": [{\"marker\": {\"colorbar\": {\"outlinewidth\": 0, \"ticks\": \"\"}}, \"type\": \"scattergl\"}], \"scattermapbox\": [{\"marker\": {\"colorbar\": {\"outlinewidth\": 0, \"ticks\": \"\"}}, \"type\": \"scattermapbox\"}], \"scatterpolar\": [{\"marker\": {\"colorbar\": {\"outlinewidth\": 0, \"ticks\": \"\"}}, \"type\": \"scatterpolar\"}], \"scatterpolargl\": [{\"marker\": {\"colorbar\": {\"outlinewidth\": 0, \"ticks\": \"\"}}, \"type\": \"scatterpolargl\"}], \"scatterternary\": [{\"marker\": {\"colorbar\": {\"outlinewidth\": 0, \"ticks\": \"\"}}, \"type\": \"scatterternary\"}], \"surface\": [{\"colorbar\": {\"outlinewidth\": 0, \"ticks\": \"\"}, \"colorscale\": [[0.0, \"#0d0887\"], [0.1111111111111111, \"#46039f\"], [0.2222222222222222, \"#7201a8\"], [0.3333333333333333, \"#9c179e\"], [0.4444444444444444, \"#bd3786\"], [0.5555555555555556, \"#d8576b\"], [0.6666666666666666, \"#ed7953\"], [0.7777777777777778, \"#fb9f3a\"], [0.8888888888888888, \"#fdca26\"], [1.0, \"#f0f921\"]], \"type\": \"surface\"}], \"table\": [{\"cells\": {\"fill\": {\"color\": \"#EBF0F8\"}, \"line\": {\"color\": \"white\"}}, \"header\": {\"fill\": {\"color\": \"#C8D4E3\"}, \"line\": {\"color\": \"white\"}}, \"type\": \"table\"}]}, \"layout\": {\"annotationdefaults\": {\"arrowcolor\": \"#2a3f5f\", \"arrowhead\": 0, \"arrowwidth\": 1}, \"coloraxis\": {\"colorbar\": {\"outlinewidth\": 0, \"ticks\": \"\"}}, \"colorscale\": {\"diverging\": [[0, \"#8e0152\"], [0.1, \"#c51b7d\"], [0.2, \"#de77ae\"], [0.3, \"#f1b6da\"], [0.4, \"#fde0ef\"], [0.5, \"#f7f7f7\"], [0.6, \"#e6f5d0\"], [0.7, \"#b8e186\"], [0.8, \"#7fbc41\"], [0.9, \"#4d9221\"], [1, \"#276419\"]], \"sequential\": [[0.0, \"#0d0887\"], [0.1111111111111111, \"#46039f\"], [0.2222222222222222, \"#7201a8\"], [0.3333333333333333, \"#9c179e\"], [0.4444444444444444, \"#bd3786\"], [0.5555555555555556, \"#d8576b\"], [0.6666666666666666, \"#ed7953\"], [0.7777777777777778, \"#fb9f3a\"], [0.8888888888888888, \"#fdca26\"], [1.0, \"#f0f921\"]], \"sequentialminus\": [[0.0, \"#0d0887\"], [0.1111111111111111, \"#46039f\"], [0.2222222222222222, \"#7201a8\"], [0.3333333333333333, \"#9c179e\"], [0.4444444444444444, \"#bd3786\"], [0.5555555555555556, \"#d8576b\"], [0.6666666666666666, \"#ed7953\"], [0.7777777777777778, \"#fb9f3a\"], [0.8888888888888888, \"#fdca26\"], [1.0, \"#f0f921\"]]}, \"colorway\": [\"#636efa\", \"#EF553B\", \"#00cc96\", \"#ab63fa\", \"#FFA15A\", \"#19d3f3\", \"#FF6692\", \"#B6E880\", \"#FF97FF\", \"#FECB52\"], \"font\": {\"color\": \"#2a3f5f\"}, \"geo\": {\"bgcolor\": \"white\", \"lakecolor\": \"white\", \"landcolor\": \"#E5ECF6\", \"showlakes\": true, \"showland\": true, \"subunitcolor\": \"white\"}, \"hoverlabel\": {\"align\": \"left\"}, \"hovermode\": \"closest\", \"mapbox\": {\"style\": \"light\"}, \"paper_bgcolor\": \"white\", \"plot_bgcolor\": \"#E5ECF6\", \"polar\": {\"angularaxis\": {\"gridcolor\": \"white\", \"linecolor\": \"white\", \"ticks\": \"\"}, \"bgcolor\": \"#E5ECF6\", \"radialaxis\": {\"gridcolor\": \"white\", \"linecolor\": \"white\", \"ticks\": \"\"}}, \"scene\": {\"xaxis\": {\"backgroundcolor\": \"#E5ECF6\", \"gridcolor\": \"white\", \"gridwidth\": 2, \"linecolor\": \"white\", \"showbackground\": true, \"ticks\": \"\", \"zerolinecolor\": \"white\"}, \"yaxis\": {\"backgroundcolor\": \"#E5ECF6\", \"gridcolor\": \"white\", \"gridwidth\": 2, \"linecolor\": \"white\", \"showbackground\": true, \"ticks\": \"\", \"zerolinecolor\": \"white\"}, \"zaxis\": {\"backgroundcolor\": \"#E5ECF6\", \"gridcolor\": \"white\", \"gridwidth\": 2, \"linecolor\": \"white\", \"showbackground\": true, \"ticks\": \"\", \"zerolinecolor\": \"white\"}}, \"shapedefaults\": {\"line\": {\"color\": \"#2a3f5f\"}}, \"ternary\": {\"aaxis\": {\"gridcolor\": \"white\", \"linecolor\": \"white\", \"ticks\": \"\"}, \"baxis\": {\"gridcolor\": \"white\", \"linecolor\": \"white\", \"ticks\": \"\"}, \"bgcolor\": \"#E5ECF6\", \"caxis\": {\"gridcolor\": \"white\", \"linecolor\": \"white\", \"ticks\": \"\"}}, \"title\": {\"x\": 0.05}, \"xaxis\": {\"automargin\": true, \"gridcolor\": \"white\", \"linecolor\": \"white\", \"ticks\": \"\", \"title\": {\"standoff\": 15}, \"zerolinecolor\": \"white\", \"zerolinewidth\": 2}, \"yaxis\": {\"automargin\": true, \"gridcolor\": \"white\", \"linecolor\": \"white\", \"ticks\": \"\", \"title\": {\"standoff\": 15}, \"zerolinecolor\": \"white\", \"zerolinewidth\": 2}}}, \"title\": {\"text\": \"Porcentaje de asistentes al teatro por sexo\"}, \"width\": 390},\n",
              "                        {\"responsive\": true}\n",
              "                    ).then(function(){\n",
              "                            \n",
              "var gd = document.getElementById('5acecd93-bf27-46bb-a1e1-42390104adfa');\n",
              "var x = new MutationObserver(function (mutations, observer) {{\n",
              "        var display = window.getComputedStyle(gd).display;\n",
              "        if (!display || display === 'none') {{\n",
              "            console.log([gd, 'removed!']);\n",
              "            Plotly.purge(gd);\n",
              "            observer.disconnect();\n",
              "        }}\n",
              "}});\n",
              "\n",
              "// Listen for the removal of the full notebook cells\n",
              "var notebookContainer = gd.closest('#notebook-container');\n",
              "if (notebookContainer) {{\n",
              "    x.observe(notebookContainer, {childList: true});\n",
              "}}\n",
              "\n",
              "// Listen for the clearing of the current output cell\n",
              "var outputEl = gd.closest('.output');\n",
              "if (outputEl) {{\n",
              "    x.observe(outputEl, {childList: true});\n",
              "}}\n",
              "\n",
              "                        })\n",
              "                };\n",
              "                \n",
              "            </script>\n",
              "        </div>\n",
              "</body>\n",
              "</html>"
            ]
          },
          "metadata": {
            "tags": []
          }
        }
      ]
    },
    {
      "cell_type": "markdown",
      "metadata": {
        "id": "_dNfJ_gicQZO"
      },
      "source": [
        "# Parece que es mayor la concurrencia al teatro entre las mujeres."
      ]
    },
    {
      "cell_type": "markdown",
      "metadata": {
        "id": "yohvtiVPkcuv"
      },
      "source": [
        "#Ahora vemos que los no concurrentes parecen estar equilibrados por sexo."
      ]
    },
    {
      "cell_type": "code",
      "metadata": {
        "id": "pWuIY5-gbK1R",
        "colab": {
          "base_uri": "https://localhost:8080/",
          "height": 542
        },
        "outputId": "9f3e4c79-3473-4ae2-a066-f6b3f1fcd1cc"
      },
      "source": [
        " fig = px.pie(no_conc_teatro,values='id',names='sexo',\\\n",
        "             title='Porcentaje de no asistentes al teatro por sexo')\n",
        "fig.show()"
      ],
      "execution_count": 20,
      "outputs": [
        {
          "output_type": "display_data",
          "data": {
            "text/html": [
              "<html>\n",
              "<head><meta charset=\"utf-8\" /></head>\n",
              "<body>\n",
              "    <div>\n",
              "            <script src=\"https://cdnjs.cloudflare.com/ajax/libs/mathjax/2.7.5/MathJax.js?config=TeX-AMS-MML_SVG\"></script><script type=\"text/javascript\">if (window.MathJax) {MathJax.Hub.Config({SVG: {font: \"STIX-Web\"}});}</script>\n",
              "                <script type=\"text/javascript\">window.PlotlyConfig = {MathJaxConfig: 'local'};</script>\n",
              "        <script src=\"https://cdn.plot.ly/plotly-latest.min.js\"></script>    \n",
              "            <div id=\"31de3f05-be21-48e0-a0f2-abc98c9578b7\" class=\"plotly-graph-div\" style=\"height:525px; width:100%;\"></div>\n",
              "            <script type=\"text/javascript\">\n",
              "                \n",
              "                    window.PLOTLYENV=window.PLOTLYENV || {};\n",
              "                    \n",
              "                if (document.getElementById(\"31de3f05-be21-48e0-a0f2-abc98c9578b7\")) {\n",
              "                    Plotly.newPlot(\n",
              "                        '31de3f05-be21-48e0-a0f2-abc98c9578b7',\n",
              "                        [{\"domain\": {\"x\": [0.0, 1.0], \"y\": [0.0, 1.0]}, \"hoverlabel\": {\"namelength\": 0}, \"hovertemplate\": \"sexo=%{label}<br>id=%{value}\", \"labels\": [\"Var\\u00f3n\", \"Var\\u00f3n\", \"Var\\u00f3n\", \"Mujer\", \"Mujer\", \"Mujer\", \"Mujer\", \"Mujer\", \"Var\\u00f3n\", \"Var\\u00f3n\", \"Var\\u00f3n\", \"Var\\u00f3n\", \"Mujer\", \"Mujer\", \"Mujer\", \"Mujer\", \"Var\\u00f3n\", \"Var\\u00f3n\", \"Var\\u00f3n\", \"Var\\u00f3n\", \"Mujer\", \"Var\\u00f3n\", \"Mujer\", \"Mujer\", \"Mujer\", \"Var\\u00f3n\", \"Var\\u00f3n\", \"Var\\u00f3n\", \"Var\\u00f3n\", \"Var\\u00f3n\", \"Var\\u00f3n\", \"Mujer\", \"Mujer\", \"Mujer\", \"Mujer\", \"Mujer\", \"Var\\u00f3n\", \"Var\\u00f3n\", \"Var\\u00f3n\", \"Var\\u00f3n\", \"Var\\u00f3n\", \"Mujer\", \"Mujer\", \"Mujer\", \"Mujer\", \"Mujer\", \"Var\\u00f3n\", \"Var\\u00f3n\", \"Var\\u00f3n\", \"Var\\u00f3n\", \"Var\\u00f3n\", \"Mujer\", \"Mujer\", \"Mujer\", \"Mujer\", \"Mujer\", \"Var\\u00f3n\", \"Var\\u00f3n\", \"Var\\u00f3n\", \"Var\\u00f3n\", \"Mujer\", \"Mujer\", \"Mujer\", \"Mujer\", \"Mujer\", \"Var\\u00f3n\", \"Var\\u00f3n\", \"Var\\u00f3n\", \"Var\\u00f3n\", \"Var\\u00f3n\", \"Mujer\", \"Mujer\", \"Mujer\", \"Mujer\", \"Mujer\", \"Var\\u00f3n\", \"Var\\u00f3n\", \"Var\\u00f3n\", \"Mujer\", \"Mujer\", \"Mujer\", \"Mujer\", \"Var\\u00f3n\", \"Var\\u00f3n\", \"Var\\u00f3n\", \"Var\\u00f3n\", \"Var\\u00f3n\", \"Mujer\", \"Mujer\", \"Mujer\", \"Mujer\", \"Mujer\", \"Var\\u00f3n\", \"Var\\u00f3n\", \"Var\\u00f3n\", \"Var\\u00f3n\", \"Var\\u00f3n\", \"Mujer\", \"Mujer\", \"Mujer\", \"Mujer\", \"Mujer\", \"Var\\u00f3n\", \"Var\\u00f3n\", \"Var\\u00f3n\", \"Var\\u00f3n\", \"Var\\u00f3n\", \"Mujer\", \"Mujer\", \"Mujer\", \"Mujer\", \"Mujer\", \"Var\\u00f3n\", \"Var\\u00f3n\", \"Var\\u00f3n\", \"Var\\u00f3n\", \"Mujer\", \"Mujer\", \"Var\\u00f3n\", \"Var\\u00f3n\", \"Var\\u00f3n\", \"Var\\u00f3n\", \"Var\\u00f3n\", \"Mujer\", \"Mujer\", \"Mujer\", \"Var\\u00f3n\", \"Var\\u00f3n\", \"Var\\u00f3n\", \"Var\\u00f3n\", \"Var\\u00f3n\", \"Mujer\", \"Mujer\", \"Mujer\", \"Mujer\", \"Var\\u00f3n\", \"Var\\u00f3n\", \"Var\\u00f3n\", \"Var\\u00f3n\", \"Mujer\", \"Mujer\", \"Mujer\", \"Mujer\", \"Mujer\", \"Var\\u00f3n\", \"Var\\u00f3n\", \"Var\\u00f3n\", \"Var\\u00f3n\", \"Var\\u00f3n\", \"Mujer\", \"Mujer\", \"Mujer\", \"Mujer\", \"Mujer\", \"Var\\u00f3n\", \"Var\\u00f3n\", \"Var\\u00f3n\", \"Var\\u00f3n\", \"Var\\u00f3n\", \"Mujer\", \"Mujer\", \"Mujer\", \"Mujer\", \"Mujer\", \"Var\\u00f3n\", \"Var\\u00f3n\", \"Var\\u00f3n\", \"Mujer\", \"Mujer\", \"Mujer\", \"Mujer\", \"Mujer\", \"Var\\u00f3n\", \"Var\\u00f3n\", \"Var\\u00f3n\", \"Var\\u00f3n\", \"Var\\u00f3n\", \"Mujer\", \"Mujer\", \"Mujer\", \"Mujer\", \"Mujer\", \"Var\\u00f3n\", \"Var\\u00f3n\", \"Var\\u00f3n\", \"Var\\u00f3n\", \"Var\\u00f3n\", \"Mujer\", \"Mujer\", \"Mujer\", \"Mujer\", \"Mujer\", \"Mujer\", \"Mujer\", \"Var\\u00f3n\", \"Mujer\", \"Mujer\", \"Var\\u00f3n\", \"Var\\u00f3n\", \"Var\\u00f3n\", \"Mujer\", \"Mujer\", \"Var\\u00f3n\", \"Mujer\", \"Mujer\", \"Var\\u00f3n\", \"Mujer\", \"Mujer\", \"Var\\u00f3n\", \"Var\\u00f3n\", \"Var\\u00f3n\", \"Var\\u00f3n\", \"Var\\u00f3n\", \"Var\\u00f3n\", \"Mujer\", \"Mujer\", \"Mujer\", \"Var\\u00f3n\", \"Mujer\", \"Mujer\", \"Mujer\", \"Var\\u00f3n\", \"Var\\u00f3n\", \"Var\\u00f3n\", \"Mujer\", \"Mujer\", \"Mujer\", \"Var\\u00f3n\", \"Mujer\", \"Var\\u00f3n\", \"Var\\u00f3n\", \"Var\\u00f3n\", \"Var\\u00f3n\", \"Var\\u00f3n\", \"Var\\u00f3n\", \"Mujer\", \"Mujer\", \"Mujer\", \"Mujer\", \"Mujer\", \"Var\\u00f3n\", \"Mujer\", \"Mujer\", \"Mujer\", \"Mujer\", \"Mujer\", \"Var\\u00f3n\", \"Var\\u00f3n\", \"Mujer\", \"Mujer\", \"Mujer\", \"Mujer\", \"Var\\u00f3n\", \"Var\\u00f3n\", \"Var\\u00f3n\", \"Var\\u00f3n\", \"Mujer\", \"Mujer\", \"Mujer\", \"Mujer\", \"Mujer\", \"Var\\u00f3n\", \"Var\\u00f3n\", \"Var\\u00f3n\", \"Var\\u00f3n\", \"Var\\u00f3n\", \"Mujer\", \"Mujer\", \"Mujer\", \"Mujer\", \"Mujer\", \"Var\\u00f3n\", \"Var\\u00f3n\", \"Var\\u00f3n\", \"Var\\u00f3n\", \"Var\\u00f3n\", \"Mujer\", \"Mujer\", \"Mujer\", \"Mujer\", \"Var\\u00f3n\", \"Var\\u00f3n\", \"Var\\u00f3n\", \"Var\\u00f3n\", \"Var\\u00f3n\", \"Mujer\", \"Mujer\", \"Mujer\", \"Mujer\", \"Var\\u00f3n\", \"Var\\u00f3n\", \"Var\\u00f3n\", \"Var\\u00f3n\", \"Mujer\", \"Mujer\", \"Mujer\", \"Mujer\", \"Mujer\", \"Var\\u00f3n\", \"Mujer\", \"Var\\u00f3n\", \"Mujer\", \"Mujer\", \"Var\\u00f3n\", \"Mujer\", \"Var\\u00f3n\", \"Var\\u00f3n\", \"Var\\u00f3n\", \"Var\\u00f3n\", \"Var\\u00f3n\", \"Var\\u00f3n\", \"Var\\u00f3n\", \"Mujer\", \"Mujer\", \"Mujer\", \"Mujer\", \"Var\\u00f3n\", \"Var\\u00f3n\", \"Var\\u00f3n\", \"Var\\u00f3n\", \"Mujer\", \"Mujer\", \"Mujer\", \"Mujer\", \"Var\\u00f3n\", \"Var\\u00f3n\", \"Var\\u00f3n\", \"Var\\u00f3n\", \"Mujer\", \"Mujer\", \"Mujer\", \"Mujer\", \"Var\\u00f3n\", \"Var\\u00f3n\", \"Var\\u00f3n\", \"Var\\u00f3n\", \"Var\\u00f3n\", \"Mujer\", \"Mujer\", \"Mujer\", \"Mujer\", \"Mujer\", \"Mujer\", \"Var\\u00f3n\", \"Var\\u00f3n\", \"Var\\u00f3n\", \"Var\\u00f3n\", \"Var\\u00f3n\", \"Mujer\", \"Mujer\", \"Mujer\", \"Mujer\", \"Var\\u00f3n\", \"Var\\u00f3n\", \"Var\\u00f3n\", \"Var\\u00f3n\", \"Var\\u00f3n\", \"Mujer\", \"Mujer\", \"Mujer\", \"Mujer\", \"Mujer\", \"Var\\u00f3n\", \"Var\\u00f3n\", \"Var\\u00f3n\", \"Var\\u00f3n\", \"Var\\u00f3n\", \"Mujer\", \"Mujer\", \"Mujer\", \"Mujer\", \"Mujer\", \"Var\\u00f3n\", \"Var\\u00f3n\", \"Var\\u00f3n\", \"Mujer\", \"Mujer\", \"Mujer\", \"Mujer\", \"Mujer\", \"Var\\u00f3n\", \"Var\\u00f3n\", \"Var\\u00f3n\", \"Var\\u00f3n\", \"Mujer\", \"Mujer\", \"Mujer\", \"Var\\u00f3n\", \"Var\\u00f3n\", \"Var\\u00f3n\", \"Var\\u00f3n\", \"Mujer\", \"Mujer\", \"Mujer\", \"Mujer\", \"Mujer\", \"Var\\u00f3n\", \"Var\\u00f3n\", \"Var\\u00f3n\", \"Var\\u00f3n\", \"Var\\u00f3n\", \"Mujer\", \"Mujer\", \"Mujer\", \"Var\\u00f3n\", \"Var\\u00f3n\", \"Var\\u00f3n\", \"Var\\u00f3n\", \"Var\\u00f3n\", \"Mujer\", \"Mujer\", \"Mujer\", \"Mujer\", \"Mujer\", \"Var\\u00f3n\", \"Var\\u00f3n\", \"Var\\u00f3n\", \"Var\\u00f3n\", \"Var\\u00f3n\", \"Mujer\", \"Mujer\", \"Mujer\", \"Mujer\", \"Mujer\", \"Var\\u00f3n\", \"Var\\u00f3n\", \"Var\\u00f3n\", \"Var\\u00f3n\", \"Var\\u00f3n\", \"Mujer\", \"Mujer\", \"Mujer\", \"Mujer\", \"Mujer\", \"Var\\u00f3n\", \"Var\\u00f3n\", \"Var\\u00f3n\", \"Var\\u00f3n\", \"Mujer\", \"Mujer\", \"Mujer\", \"Mujer\", \"Mujer\", \"Mujer\", \"Var\\u00f3n\", \"Var\\u00f3n\", \"Var\\u00f3n\", \"Var\\u00f3n\", \"Var\\u00f3n\", \"Mujer\", \"Mujer\", \"Mujer\", \"Mujer\", \"Mujer\", \"Var\\u00f3n\", \"Var\\u00f3n\", \"Var\\u00f3n\", \"Var\\u00f3n\", \"Var\\u00f3n\", \"Mujer\", \"Mujer\", \"Mujer\", \"Mujer\", \"Mujer\", \"Var\\u00f3n\", \"Var\\u00f3n\", \"Var\\u00f3n\", \"Var\\u00f3n\", \"Mujer\", \"Mujer\", \"Mujer\", \"Var\\u00f3n\", \"Var\\u00f3n\", \"Var\\u00f3n\", \"Var\\u00f3n\", \"Var\\u00f3n\", \"Mujer\", \"Mujer\", \"Mujer\", \"Mujer\", \"Mujer\", \"Var\\u00f3n\", \"Var\\u00f3n\", \"Var\\u00f3n\", \"Var\\u00f3n\", \"Var\\u00f3n\", \"Mujer\", \"Mujer\", \"Mujer\", \"Mujer\", \"Mujer\", \"Var\\u00f3n\", \"Var\\u00f3n\", \"Var\\u00f3n\", \"Mujer\", \"Mujer\", \"Mujer\", \"Mujer\", \"Var\\u00f3n\", \"Var\\u00f3n\", \"Var\\u00f3n\", \"Var\\u00f3n\", \"Var\\u00f3n\", \"Mujer\", \"Mujer\", \"Mujer\", \"Mujer\", \"Var\\u00f3n\", \"Var\\u00f3n\", \"Var\\u00f3n\", \"Var\\u00f3n\", \"Mujer\", \"Mujer\", \"Mujer\", \"Mujer\", \"Var\\u00f3n\", \"Var\\u00f3n\", \"Var\\u00f3n\", \"Var\\u00f3n\", \"Mujer\", \"Mujer\", \"Mujer\", \"Mujer\", \"Mujer\", \"Var\\u00f3n\", \"Var\\u00f3n\", \"Var\\u00f3n\", \"Var\\u00f3n\", \"Mujer\", \"Mujer\", \"Mujer\", \"Mujer\", \"Mujer\", \"Var\\u00f3n\", \"Var\\u00f3n\", \"Var\\u00f3n\", \"Var\\u00f3n\", \"Var\\u00f3n\", \"Mujer\", \"Mujer\", \"Mujer\", \"Var\\u00f3n\", \"Var\\u00f3n\", \"Var\\u00f3n\", \"Var\\u00f3n\", \"Mujer\", \"Mujer\", \"Mujer\", \"Mujer\", \"Var\\u00f3n\", \"Var\\u00f3n\", \"Var\\u00f3n\", \"Var\\u00f3n\", \"Var\\u00f3n\", \"Mujer\", \"Mujer\", \"Var\\u00f3n\", \"Var\\u00f3n\", \"Var\\u00f3n\", \"Var\\u00f3n\", \"Mujer\", \"Mujer\", \"Mujer\", \"Mujer\", \"Mujer\", \"Var\\u00f3n\", \"Var\\u00f3n\", \"Var\\u00f3n\", \"Mujer\", \"Var\\u00f3n\", \"Var\\u00f3n\", \"Mujer\", \"Mujer\", \"Mujer\", \"Mujer\", \"Var\\u00f3n\", \"Var\\u00f3n\", \"Var\\u00f3n\", \"Var\\u00f3n\", \"Mujer\", \"Mujer\", \"Mujer\", \"Mujer\", \"Mujer\", \"Var\\u00f3n\", \"Var\\u00f3n\", \"Var\\u00f3n\", \"Var\\u00f3n\", \"Var\\u00f3n\", \"Mujer\", \"Mujer\", \"Mujer\", \"Mujer\", \"Mujer\", \"Var\\u00f3n\", \"Var\\u00f3n\", \"Var\\u00f3n\", \"Var\\u00f3n\", \"Mujer\", \"Mujer\", \"Mujer\", \"Mujer\", \"Mujer\", \"Var\\u00f3n\", \"Var\\u00f3n\", \"Var\\u00f3n\", \"Var\\u00f3n\", \"Var\\u00f3n\", \"Mujer\", \"Mujer\", \"Mujer\", \"Mujer\", \"Mujer\", \"Var\\u00f3n\", \"Var\\u00f3n\", \"Var\\u00f3n\", \"Var\\u00f3n\", \"Var\\u00f3n\", \"Mujer\", \"Mujer\", \"Mujer\", \"Mujer\", \"Var\\u00f3n\", \"Var\\u00f3n\", \"Var\\u00f3n\", \"Var\\u00f3n\", \"Mujer\", \"Mujer\", \"Mujer\", \"Var\\u00f3n\", \"Var\\u00f3n\", \"Var\\u00f3n\", \"Mujer\", \"Mujer\", \"Mujer\", \"Mujer\", \"Var\\u00f3n\", \"Var\\u00f3n\", \"Var\\u00f3n\", \"Mujer\", \"Mujer\", \"Mujer\", \"Var\\u00f3n\", \"Var\\u00f3n\", \"Var\\u00f3n\", \"Mujer\", \"Mujer\", \"Mujer\", \"Var\\u00f3n\", \"Var\\u00f3n\", \"Var\\u00f3n\", \"Var\\u00f3n\", \"Mujer\", \"Mujer\", \"Mujer\", \"Mujer\", \"Var\\u00f3n\", \"Var\\u00f3n\", \"Var\\u00f3n\", \"Var\\u00f3n\", \"Mujer\", \"Mujer\", \"Mujer\", \"Mujer\", \"Mujer\", \"Var\\u00f3n\", \"Var\\u00f3n\", \"Var\\u00f3n\", \"Var\\u00f3n\", \"Var\\u00f3n\", \"Mujer\", \"Mujer\", \"Mujer\", \"Mujer\", \"Mujer\", \"Var\\u00f3n\", \"Var\\u00f3n\", \"Var\\u00f3n\", \"Var\\u00f3n\", \"Var\\u00f3n\", \"Mujer\", \"Mujer\", \"Mujer\", \"Mujer\", \"Mujer\", \"Var\\u00f3n\", \"Var\\u00f3n\", \"Var\\u00f3n\", \"Var\\u00f3n\", \"Mujer\", \"Mujer\", \"Mujer\", \"Mujer\", \"Var\\u00f3n\", \"Var\\u00f3n\", \"Var\\u00f3n\", \"Mujer\", \"Mujer\", \"Mujer\", \"Mujer\", \"Var\\u00f3n\", \"Var\\u00f3n\", \"Var\\u00f3n\", \"Var\\u00f3n\", \"Var\\u00f3n\", \"Mujer\", \"Mujer\", \"Var\\u00f3n\", \"Var\\u00f3n\", \"Var\\u00f3n\", \"Var\\u00f3n\", \"Var\\u00f3n\", \"Mujer\", \"Mujer\", \"Mujer\", \"Mujer\", \"Mujer\", \"Var\\u00f3n\", \"Var\\u00f3n\", \"Var\\u00f3n\", \"Mujer\", \"Mujer\", \"Mujer\", \"Mujer\", \"Mujer\", \"Var\\u00f3n\", \"Var\\u00f3n\", \"Var\\u00f3n\", \"Var\\u00f3n\", \"Var\\u00f3n\", \"Mujer\", \"Mujer\", \"Var\\u00f3n\", \"Var\\u00f3n\", \"Var\\u00f3n\", \"Var\\u00f3n\", \"Var\\u00f3n\", \"Mujer\", \"Mujer\", \"Mujer\", \"Mujer\", \"Var\\u00f3n\", \"Var\\u00f3n\", \"Var\\u00f3n\", \"Var\\u00f3n\", \"Mujer\", \"Mujer\", \"Mujer\", \"Mujer\", \"Var\\u00f3n\", \"Var\\u00f3n\", \"Var\\u00f3n\", \"Var\\u00f3n\", \"Var\\u00f3n\", \"Mujer\", \"Mujer\", \"Mujer\", \"Mujer\", \"Mujer\", \"Var\\u00f3n\", \"Var\\u00f3n\", \"Var\\u00f3n\", \"Var\\u00f3n\", \"Var\\u00f3n\", \"Mujer\", \"Mujer\", \"Mujer\", \"Mujer\", \"Mujer\", \"Var\\u00f3n\", \"Var\\u00f3n\", \"Var\\u00f3n\", \"Var\\u00f3n\", \"Var\\u00f3n\", \"Mujer\", \"Mujer\", \"Mujer\", \"Mujer\", \"Mujer\", \"Var\\u00f3n\", \"Var\\u00f3n\", \"Var\\u00f3n\", \"Var\\u00f3n\", \"Var\\u00f3n\", \"Mujer\", \"Mujer\", \"Mujer\", \"Mujer\", \"Var\\u00f3n\", \"Var\\u00f3n\", \"Var\\u00f3n\", \"Var\\u00f3n\", \"Var\\u00f3n\", \"Mujer\", \"Mujer\", \"Mujer\", \"Mujer\", \"Var\\u00f3n\", \"Var\\u00f3n\", \"Var\\u00f3n\", \"Var\\u00f3n\", \"Var\\u00f3n\", \"Mujer\", \"Mujer\", \"Mujer\", \"Mujer\", \"Var\\u00f3n\", \"Var\\u00f3n\", \"Var\\u00f3n\", \"Var\\u00f3n\", \"Var\\u00f3n\", \"Mujer\", \"Mujer\", \"Mujer\", \"Mujer\", \"Var\\u00f3n\", \"Var\\u00f3n\", \"Var\\u00f3n\", \"Var\\u00f3n\", \"Var\\u00f3n\", \"Mujer\", \"Mujer\", \"Mujer\", \"Mujer\", \"Mujer\", \"Var\\u00f3n\", \"Var\\u00f3n\", \"Var\\u00f3n\", \"Var\\u00f3n\", \"Mujer\", \"Mujer\", \"Mujer\", \"Mujer\", \"Mujer\", \"Var\\u00f3n\", \"Var\\u00f3n\", \"Var\\u00f3n\", \"Var\\u00f3n\", \"Var\\u00f3n\", \"Mujer\", \"Mujer\", \"Mujer\", \"Mujer\", \"Mujer\", \"Var\\u00f3n\", \"Var\\u00f3n\", \"Var\\u00f3n\", \"Var\\u00f3n\", \"Var\\u00f3n\", \"Mujer\", \"Mujer\", \"Mujer\", \"Mujer\", \"Var\\u00f3n\", \"Var\\u00f3n\", \"Var\\u00f3n\", \"Var\\u00f3n\", \"Mujer\", \"Mujer\", \"Mujer\", \"Mujer\", \"Mujer\", \"Var\\u00f3n\", \"Var\\u00f3n\", \"Var\\u00f3n\", \"Var\\u00f3n\", \"Var\\u00f3n\", \"Mujer\", \"Mujer\", \"Mujer\", \"Mujer\", \"Var\\u00f3n\", \"Var\\u00f3n\", \"Var\\u00f3n\", \"Var\\u00f3n\", \"Mujer\", \"Mujer\", \"Mujer\", \"Mujer\", \"Mujer\", \"Var\\u00f3n\", \"Var\\u00f3n\", \"Var\\u00f3n\", \"Var\\u00f3n\", \"Mujer\", \"Mujer\", \"Mujer\", \"Mujer\", \"Mujer\", \"Var\\u00f3n\", \"Var\\u00f3n\", \"Var\\u00f3n\", \"Var\\u00f3n\", \"Mujer\", \"Mujer\", \"Mujer\", \"Var\\u00f3n\", \"Var\\u00f3n\", \"Var\\u00f3n\", \"Var\\u00f3n\", \"Var\\u00f3n\", \"Mujer\", \"Mujer\", \"Mujer\", \"Mujer\", \"Mujer\", \"Var\\u00f3n\", \"Var\\u00f3n\", \"Var\\u00f3n\", \"Var\\u00f3n\", \"Var\\u00f3n\", \"Mujer\", \"Mujer\", \"Mujer\", \"Mujer\", \"Mujer\", \"Var\\u00f3n\", \"Var\\u00f3n\", \"Var\\u00f3n\", \"Var\\u00f3n\", \"Mujer\", \"Mujer\", \"Mujer\", \"Mujer\", \"Var\\u00f3n\", \"Var\\u00f3n\", \"Var\\u00f3n\", \"Var\\u00f3n\", \"Mujer\", \"Mujer\", \"Mujer\", \"Mujer\", \"Mujer\", \"Var\\u00f3n\", \"Var\\u00f3n\", \"Var\\u00f3n\", \"Var\\u00f3n\", \"Var\\u00f3n\", \"Mujer\", \"Mujer\", \"Mujer\", \"Mujer\", \"Mujer\", \"Var\\u00f3n\", \"Var\\u00f3n\", \"Var\\u00f3n\", \"Var\\u00f3n\", \"Mujer\", \"Mujer\", \"Mujer\", \"Mujer\", \"Var\\u00f3n\", \"Var\\u00f3n\", \"Var\\u00f3n\", \"Var\\u00f3n\", \"Var\\u00f3n\", \"Mujer\", \"Mujer\", \"Mujer\", \"Mujer\", \"Mujer\", \"Var\\u00f3n\", \"Var\\u00f3n\", \"Var\\u00f3n\", \"Var\\u00f3n\", \"Var\\u00f3n\", \"Mujer\", \"Mujer\", \"Mujer\", \"Mujer\", \"Var\\u00f3n\", \"Var\\u00f3n\", \"Var\\u00f3n\", \"Var\\u00f3n\", \"Var\\u00f3n\", \"Mujer\", \"Mujer\", \"Mujer\", \"Mujer\", \"Mujer\", \"Var\\u00f3n\", \"Var\\u00f3n\", \"Var\\u00f3n\", \"Var\\u00f3n\", \"Var\\u00f3n\", \"Mujer\", \"Mujer\", \"Mujer\", \"Mujer\", \"Mujer\", \"Var\\u00f3n\", \"Var\\u00f3n\", \"Var\\u00f3n\", \"Var\\u00f3n\", \"Var\\u00f3n\", \"Mujer\", \"Mujer\", \"Mujer\", \"Var\\u00f3n\", \"Var\\u00f3n\", \"Var\\u00f3n\", \"Var\\u00f3n\", \"Var\\u00f3n\", \"Mujer\", \"Mujer\", \"Mujer\", \"Mujer\", \"Mujer\", \"Var\\u00f3n\", \"Var\\u00f3n\", \"Var\\u00f3n\", \"Var\\u00f3n\", \"Var\\u00f3n\", \"Mujer\", \"Mujer\", \"Mujer\", \"Mujer\", \"Var\\u00f3n\", \"Var\\u00f3n\", \"Var\\u00f3n\", \"Var\\u00f3n\", \"Var\\u00f3n\", \"Mujer\", \"Mujer\", \"Mujer\", \"Mujer\", \"Var\\u00f3n\", \"Var\\u00f3n\", \"Var\\u00f3n\", \"Var\\u00f3n\", \"Var\\u00f3n\", \"Mujer\", \"Mujer\", \"Mujer\", \"Mujer\", \"Mujer\", \"Var\\u00f3n\", \"Var\\u00f3n\", \"Var\\u00f3n\", \"Var\\u00f3n\", \"Mujer\", \"Mujer\", \"Mujer\", \"Mujer\", \"Mujer\", \"Var\\u00f3n\", \"Var\\u00f3n\", \"Var\\u00f3n\", \"Var\\u00f3n\", \"Mujer\", \"Mujer\", \"Mujer\", \"Mujer\", \"Var\\u00f3n\", \"Var\\u00f3n\", \"Var\\u00f3n\", \"Var\\u00f3n\", \"Var\\u00f3n\", \"Mujer\", \"Mujer\", \"Mujer\", \"Mujer\", \"Var\\u00f3n\", \"Var\\u00f3n\", \"Var\\u00f3n\", \"Var\\u00f3n\", \"Mujer\", \"Mujer\", \"Mujer\", \"Mujer\", \"Mujer\", \"Var\\u00f3n\", \"Var\\u00f3n\", \"Var\\u00f3n\", \"Var\\u00f3n\", \"Mujer\", \"Mujer\", \"Mujer\", \"Var\\u00f3n\", \"Var\\u00f3n\", \"Var\\u00f3n\", \"Var\\u00f3n\", \"Var\\u00f3n\", \"Mujer\", \"Mujer\", \"Mujer\", \"Mujer\", \"Mujer\", \"Mujer\", \"Mujer\", \"Mujer\", \"Mujer\", \"Var\\u00f3n\", \"Var\\u00f3n\", \"Var\\u00f3n\", \"Mujer\", \"Var\\u00f3n\", \"Var\\u00f3n\", \"Var\\u00f3n\", \"Var\\u00f3n\", \"Mujer\", \"Mujer\", \"Mujer\", \"Mujer\", \"Mujer\", \"Var\\u00f3n\", \"Var\\u00f3n\", \"Var\\u00f3n\", \"Var\\u00f3n\", \"Var\\u00f3n\", \"Mujer\", \"Mujer\", \"Mujer\", \"Mujer\", \"Mujer\", \"Var\\u00f3n\", \"Var\\u00f3n\", \"Var\\u00f3n\", \"Var\\u00f3n\", \"Var\\u00f3n\", \"Mujer\", \"Mujer\", \"Mujer\", \"Mujer\", \"Mujer\", \"Var\\u00f3n\", \"Var\\u00f3n\", \"Var\\u00f3n\", \"Var\\u00f3n\", \"Var\\u00f3n\", \"Mujer\", \"Mujer\", \"Mujer\", \"Mujer\", \"Mujer\", \"Var\\u00f3n\", \"Var\\u00f3n\", \"Var\\u00f3n\", \"Var\\u00f3n\", \"Mujer\", \"Var\\u00f3n\", \"Var\\u00f3n\", \"Var\\u00f3n\", \"Var\\u00f3n\", \"Var\\u00f3n\", \"Mujer\", \"Mujer\", \"Mujer\", \"Mujer\", \"Var\\u00f3n\", \"Var\\u00f3n\", \"Var\\u00f3n\", \"Var\\u00f3n\", \"Var\\u00f3n\", \"Mujer\", \"Mujer\", \"Mujer\", \"Mujer\", \"Var\\u00f3n\", \"Var\\u00f3n\", \"Var\\u00f3n\", \"Var\\u00f3n\", \"Var\\u00f3n\", \"Var\\u00f3n\", \"Var\\u00f3n\", \"Var\\u00f3n\", \"Mujer\", \"Mujer\", \"Mujer\", \"Mujer\", \"Mujer\", \"Var\\u00f3n\", \"Var\\u00f3n\", \"Var\\u00f3n\", \"Mujer\", \"Mujer\", \"Mujer\", \"Mujer\", \"Mujer\", \"Var\\u00f3n\", \"Var\\u00f3n\", \"Var\\u00f3n\", \"Var\\u00f3n\", \"Var\\u00f3n\", \"Mujer\", \"Mujer\", \"Mujer\", \"Mujer\", \"Var\\u00f3n\", \"Var\\u00f3n\", \"Var\\u00f3n\", \"Var\\u00f3n\", \"Mujer\", \"Mujer\", \"Mujer\", \"Mujer\", \"Var\\u00f3n\", \"Var\\u00f3n\", \"Var\\u00f3n\", \"Var\\u00f3n\", \"Var\\u00f3n\", \"Mujer\", \"Mujer\", \"Mujer\", \"Mujer\", \"Var\\u00f3n\", \"Var\\u00f3n\", \"Var\\u00f3n\", \"Var\\u00f3n\", \"Var\\u00f3n\", \"Mujer\", \"Mujer\", \"Mujer\", \"Mujer\", \"Mujer\", \"Var\\u00f3n\", \"Var\\u00f3n\", \"Var\\u00f3n\", \"Var\\u00f3n\", \"Var\\u00f3n\", \"Mujer\", \"Mujer\", \"Mujer\", \"Mujer\", \"Mujer\", \"Var\\u00f3n\", \"Var\\u00f3n\", \"Var\\u00f3n\", \"Var\\u00f3n\", \"Mujer\", \"Mujer\", \"Mujer\", \"Mujer\", \"Var\\u00f3n\", \"Var\\u00f3n\", \"Var\\u00f3n\", \"Var\\u00f3n\", \"Var\\u00f3n\", \"Mujer\", \"Mujer\", \"Mujer\", \"Mujer\", \"Var\\u00f3n\", \"Var\\u00f3n\", \"Var\\u00f3n\", \"Var\\u00f3n\", \"Mujer\", \"Mujer\", \"Mujer\", \"Mujer\", \"Var\\u00f3n\", \"Var\\u00f3n\", \"Var\\u00f3n\", \"Var\\u00f3n\", \"Mujer\", \"Mujer\", \"Mujer\", \"Mujer\", \"Mujer\", \"Var\\u00f3n\", \"Var\\u00f3n\", \"Var\\u00f3n\", \"Var\\u00f3n\", \"Var\\u00f3n\", \"Mujer\", \"Mujer\", \"Mujer\", \"Mujer\", \"Mujer\", \"Var\\u00f3n\", \"Var\\u00f3n\", \"Var\\u00f3n\", \"Var\\u00f3n\", \"Var\\u00f3n\", \"Mujer\", \"Mujer\", \"Mujer\", \"Mujer\", \"Var\\u00f3n\", \"Var\\u00f3n\", \"Var\\u00f3n\", \"Var\\u00f3n\", \"Mujer\", \"Mujer\", \"Mujer\", \"Mujer\", \"Mujer\", \"Var\\u00f3n\", \"Var\\u00f3n\", \"Var\\u00f3n\", \"Var\\u00f3n\", \"Mujer\", \"Mujer\", \"Mujer\", \"Var\\u00f3n\", \"Var\\u00f3n\", \"Var\\u00f3n\", \"Var\\u00f3n\", \"Mujer\", \"Mujer\", \"Mujer\", \"Mujer\", \"Mujer\", \"Var\\u00f3n\", \"Var\\u00f3n\", \"Var\\u00f3n\", \"Var\\u00f3n\", \"Var\\u00f3n\", \"Mujer\", \"Mujer\", \"Mujer\", \"Mujer\", \"Var\\u00f3n\", \"Var\\u00f3n\", \"Var\\u00f3n\", \"Var\\u00f3n\", \"Var\\u00f3n\", \"Mujer\", \"Mujer\", \"Mujer\", \"Mujer\", \"Mujer\", \"Var\\u00f3n\", \"Var\\u00f3n\", \"Var\\u00f3n\", \"Var\\u00f3n\", \"Var\\u00f3n\", \"Mujer\", \"Mujer\", \"Mujer\", \"Mujer\", \"Mujer\", \"Var\\u00f3n\", \"Var\\u00f3n\", \"Var\\u00f3n\", \"Var\\u00f3n\", \"Mujer\", \"Mujer\", \"Mujer\", \"Mujer\", \"Mujer\", \"Var\\u00f3n\", \"Var\\u00f3n\", \"Var\\u00f3n\", \"Mujer\", \"Mujer\", \"Mujer\", \"Mujer\", \"Var\\u00f3n\", \"Var\\u00f3n\", \"Var\\u00f3n\", \"Mujer\", \"Mujer\", \"Mujer\", \"Mujer\", \"Var\\u00f3n\", \"Var\\u00f3n\", \"Var\\u00f3n\", \"Var\\u00f3n\", \"Var\\u00f3n\", \"Mujer\", \"Mujer\", \"Mujer\", \"Mujer\", \"Mujer\", \"Var\\u00f3n\", \"Var\\u00f3n\", \"Var\\u00f3n\", \"Var\\u00f3n\", \"Var\\u00f3n\", \"Mujer\", \"Mujer\", \"Mujer\", \"Mujer\", \"Mujer\", \"Var\\u00f3n\", \"Var\\u00f3n\", \"Var\\u00f3n\", \"Var\\u00f3n\", \"Var\\u00f3n\", \"Mujer\", \"Mujer\", \"Mujer\", \"Mujer\", \"Mujer\", \"Var\\u00f3n\", \"Var\\u00f3n\", \"Var\\u00f3n\", \"Var\\u00f3n\", \"Var\\u00f3n\", \"Mujer\", \"Mujer\", \"Mujer\", \"Mujer\", \"Mujer\", \"Var\\u00f3n\", \"Var\\u00f3n\", \"Var\\u00f3n\", \"Var\\u00f3n\", \"Var\\u00f3n\", \"Mujer\", \"Mujer\", \"Mujer\", \"Mujer\", \"Mujer\", \"Var\\u00f3n\", \"Var\\u00f3n\", \"Var\\u00f3n\", \"Var\\u00f3n\", \"Var\\u00f3n\", \"Mujer\", \"Mujer\", \"Mujer\", \"Mujer\", \"Mujer\", \"Var\\u00f3n\", \"Var\\u00f3n\", \"Var\\u00f3n\", \"Var\\u00f3n\", \"Var\\u00f3n\", \"Mujer\", \"Mujer\", \"Mujer\", \"Mujer\", \"Mujer\", \"Var\\u00f3n\", \"Var\\u00f3n\", \"Var\\u00f3n\", \"Var\\u00f3n\", \"Var\\u00f3n\", \"Mujer\", \"Mujer\", \"Mujer\", \"Mujer\", \"Mujer\", \"Var\\u00f3n\", \"Var\\u00f3n\", \"Var\\u00f3n\", \"Var\\u00f3n\", \"Var\\u00f3n\", \"Mujer\", \"Mujer\", \"Mujer\", \"Mujer\", \"Var\\u00f3n\", \"Var\\u00f3n\", \"Var\\u00f3n\", \"Var\\u00f3n\", \"Var\\u00f3n\", \"Mujer\", \"Mujer\", \"Mujer\", \"Mujer\", \"Mujer\", \"Var\\u00f3n\", \"Var\\u00f3n\", \"Var\\u00f3n\", \"Var\\u00f3n\", \"Var\\u00f3n\", \"Mujer\", \"Mujer\", \"Mujer\", \"Mujer\", \"Mujer\", \"Var\\u00f3n\", \"Var\\u00f3n\", \"Var\\u00f3n\", \"Var\\u00f3n\", \"Var\\u00f3n\", \"Mujer\", \"Mujer\", \"Mujer\", \"Var\\u00f3n\", \"Var\\u00f3n\", \"Mujer\", \"Mujer\", \"Var\\u00f3n\", \"Var\\u00f3n\", \"Var\\u00f3n\", \"Var\\u00f3n\", \"Var\\u00f3n\", \"Mujer\", \"Mujer\", \"Mujer\", \"Var\\u00f3n\", \"Var\\u00f3n\", \"Var\\u00f3n\", \"Var\\u00f3n\", \"Var\\u00f3n\", \"Mujer\", \"Mujer\", \"Mujer\", \"Var\\u00f3n\", \"Var\\u00f3n\", \"Var\\u00f3n\", \"Var\\u00f3n\", \"Mujer\", \"Mujer\", \"Mujer\", \"Mujer\", \"Var\\u00f3n\", \"Var\\u00f3n\", \"Var\\u00f3n\", \"Var\\u00f3n\", \"Mujer\", \"Mujer\", \"Mujer\", \"Mujer\", \"Mujer\", \"Mujer\", \"Var\\u00f3n\", \"Var\\u00f3n\", \"Var\\u00f3n\", \"Var\\u00f3n\", \"Var\\u00f3n\", \"Mujer\", \"Mujer\", \"Mujer\", \"Var\\u00f3n\", \"Var\\u00f3n\", \"Var\\u00f3n\", \"Mujer\", \"Mujer\", \"Mujer\", \"Mujer\", \"Var\\u00f3n\", \"Var\\u00f3n\", \"Var\\u00f3n\", \"Mujer\", \"Mujer\", \"Mujer\", \"Mujer\", \"Mujer\", \"Var\\u00f3n\", \"Var\\u00f3n\", \"Var\\u00f3n\", \"Mujer\", \"Mujer\", \"Mujer\", \"Mujer\", \"Mujer\", \"Var\\u00f3n\", \"Var\\u00f3n\", \"Var\\u00f3n\", \"Var\\u00f3n\", \"Var\\u00f3n\", \"Mujer\", \"Mujer\", \"Mujer\", \"Mujer\", \"Mujer\", \"Var\\u00f3n\", \"Var\\u00f3n\", \"Var\\u00f3n\", \"Var\\u00f3n\", \"Var\\u00f3n\", \"Mujer\", \"Mujer\", \"Mujer\", \"Mujer\", \"Mujer\", \"Var\\u00f3n\", \"Var\\u00f3n\", \"Var\\u00f3n\", \"Var\\u00f3n\", \"Mujer\", \"Mujer\", \"Mujer\", \"Mujer\", \"Var\\u00f3n\", \"Var\\u00f3n\", \"Var\\u00f3n\", \"Mujer\", \"Mujer\", \"Mujer\", \"Var\\u00f3n\", \"Var\\u00f3n\", \"Var\\u00f3n\", \"Var\\u00f3n\", \"Var\\u00f3n\", \"Var\\u00f3n\", \"Mujer\", \"Mujer\", \"Mujer\", \"Mujer\", \"Var\\u00f3n\", \"Var\\u00f3n\", \"Var\\u00f3n\", \"Var\\u00f3n\", \"Mujer\", \"Mujer\", \"Mujer\", \"Mujer\", \"Mujer\", \"Var\\u00f3n\", \"Mujer\", \"Var\\u00f3n\", \"Mujer\", \"Var\\u00f3n\", \"Mujer\", \"Var\\u00f3n\", \"Mujer\", \"Mujer\", \"Var\\u00f3n\", \"Mujer\", \"Mujer\", \"Mujer\", \"Mujer\", \"Var\\u00f3n\", \"Var\\u00f3n\", \"Var\\u00f3n\", \"Mujer\", \"Var\\u00f3n\", \"Var\\u00f3n\", \"Var\\u00f3n\", \"Mujer\", \"Mujer\", \"Mujer\", \"Var\\u00f3n\", \"Var\\u00f3n\", \"Mujer\", \"Var\\u00f3n\", \"Var\\u00f3n\", \"Mujer\", \"Mujer\", \"Var\\u00f3n\", \"Mujer\", \"Mujer\", \"Var\\u00f3n\", \"Var\\u00f3n\", \"Mujer\", \"Var\\u00f3n\", \"Var\\u00f3n\", \"Var\\u00f3n\", \"Var\\u00f3n\", \"Var\\u00f3n\", \"Mujer\", \"Mujer\", \"Mujer\", \"Mujer\", \"Mujer\", \"Mujer\", \"Var\\u00f3n\", \"Mujer\", \"Mujer\", \"Var\\u00f3n\", \"Mujer\", \"Mujer\", \"Mujer\", \"Var\\u00f3n\", \"Mujer\", \"Mujer\", \"Var\\u00f3n\", \"Mujer\", \"Var\\u00f3n\", \"Var\\u00f3n\", \"Var\\u00f3n\", \"Var\\u00f3n\", \"Mujer\", \"Var\\u00f3n\", \"Var\\u00f3n\", \"Var\\u00f3n\", \"Mujer\", \"Var\\u00f3n\", \"Var\\u00f3n\", \"Var\\u00f3n\", \"Mujer\", \"Var\\u00f3n\", \"Mujer\", \"Mujer\", \"Var\\u00f3n\", \"Mujer\", \"Mujer\", \"Mujer\", \"Mujer\", \"Mujer\", \"Var\\u00f3n\", \"Mujer\", \"Var\\u00f3n\", \"Var\\u00f3n\", \"Var\\u00f3n\", \"Mujer\", \"Var\\u00f3n\", \"Mujer\", \"Mujer\", \"Mujer\", \"Var\\u00f3n\", \"Var\\u00f3n\", \"Mujer\", \"Mujer\", \"Var\\u00f3n\", \"Var\\u00f3n\", \"Var\\u00f3n\", \"Var\\u00f3n\", \"Mujer\", \"Var\\u00f3n\", \"Mujer\", \"Var\\u00f3n\", \"Mujer\", \"Mujer\", \"Var\\u00f3n\", \"Mujer\", \"Var\\u00f3n\", \"Var\\u00f3n\", \"Var\\u00f3n\", \"Mujer\", \"Var\\u00f3n\", \"Var\\u00f3n\", \"Var\\u00f3n\", \"Mujer\", \"Var\\u00f3n\", \"Var\\u00f3n\", \"Mujer\", \"Mujer\", \"Mujer\", \"Mujer\", \"Mujer\", \"Mujer\", \"Mujer\", \"Mujer\", \"Var\\u00f3n\", \"Var\\u00f3n\", \"Mujer\", \"Mujer\", \"Var\\u00f3n\", \"Mujer\", \"Var\\u00f3n\", \"Var\\u00f3n\", \"Var\\u00f3n\", \"Var\\u00f3n\", \"Mujer\", \"Mujer\", \"Mujer\", \"Var\\u00f3n\", \"Var\\u00f3n\", \"Var\\u00f3n\", \"Mujer\", \"Mujer\", \"Mujer\", \"Mujer\", \"Var\\u00f3n\", \"Var\\u00f3n\", \"Var\\u00f3n\", \"Var\\u00f3n\", \"Mujer\", \"Var\\u00f3n\", \"Var\\u00f3n\", \"Var\\u00f3n\", \"Var\\u00f3n\", \"Mujer\", \"Var\\u00f3n\", \"Var\\u00f3n\", \"Var\\u00f3n\", \"Var\\u00f3n\", \"Var\\u00f3n\", \"Mujer\", \"Var\\u00f3n\", \"Mujer\", \"Var\\u00f3n\", \"Mujer\", \"Var\\u00f3n\", \"Mujer\", \"Mujer\", \"Var\\u00f3n\", \"Mujer\", \"Var\\u00f3n\", \"Mujer\", \"Var\\u00f3n\", \"Mujer\", \"Mujer\", \"Mujer\", \"Mujer\", \"Var\\u00f3n\", \"Mujer\", \"Var\\u00f3n\", \"Var\\u00f3n\", \"Var\\u00f3n\", \"Mujer\", \"Var\\u00f3n\", \"Var\\u00f3n\", \"Var\\u00f3n\", \"Var\\u00f3n\", \"Var\\u00f3n\", \"Var\\u00f3n\", \"Var\\u00f3n\", \"Var\\u00f3n\", \"Mujer\", \"Var\\u00f3n\", \"Var\\u00f3n\", \"Mujer\", \"Var\\u00f3n\", \"Var\\u00f3n\", \"Mujer\", \"Var\\u00f3n\", \"Var\\u00f3n\", \"Mujer\", \"Mujer\", \"Mujer\", \"Mujer\", \"Var\\u00f3n\", \"Var\\u00f3n\", \"Mujer\", \"Mujer\", \"Mujer\", \"Mujer\", \"Mujer\", \"Mujer\", \"Var\\u00f3n\", \"Var\\u00f3n\", \"Mujer\", \"Mujer\", \"Mujer\", \"Var\\u00f3n\", \"Var\\u00f3n\", \"Mujer\", \"Var\\u00f3n\", \"Var\\u00f3n\", \"Var\\u00f3n\", \"Mujer\", \"Mujer\", \"Var\\u00f3n\", \"Var\\u00f3n\", \"Var\\u00f3n\", \"Mujer\", \"Mujer\", \"Mujer\", \"Var\\u00f3n\", \"Var\\u00f3n\", \"Var\\u00f3n\", \"Var\\u00f3n\", \"Var\\u00f3n\", \"Mujer\", \"Mujer\", \"Mujer\", \"Mujer\", \"Mujer\", \"Mujer\", \"Mujer\", \"Var\\u00f3n\", \"Var\\u00f3n\", \"Mujer\", \"Mujer\", \"Var\\u00f3n\", \"Var\\u00f3n\", \"Var\\u00f3n\", \"Mujer\", \"Var\\u00f3n\", \"Var\\u00f3n\", \"Mujer\", \"Mujer\", \"Mujer\", \"Var\\u00f3n\", \"Var\\u00f3n\", \"Mujer\", \"Var\\u00f3n\", \"Var\\u00f3n\", \"Mujer\", \"Var\\u00f3n\", \"Mujer\", \"Mujer\", \"Var\\u00f3n\", \"Var\\u00f3n\", \"Mujer\", \"Mujer\", \"Var\\u00f3n\", \"Mujer\", \"Var\\u00f3n\", \"Mujer\", \"Var\\u00f3n\", \"Var\\u00f3n\", \"Mujer\", \"Mujer\", \"Var\\u00f3n\", \"Var\\u00f3n\", \"Mujer\", \"Var\\u00f3n\", \"Mujer\", \"Var\\u00f3n\", \"Mujer\", \"Mujer\", \"Mujer\", \"Var\\u00f3n\", \"Mujer\", \"Var\\u00f3n\", \"Var\\u00f3n\", \"Var\\u00f3n\", \"Mujer\", \"Mujer\", \"Mujer\", \"Var\\u00f3n\", \"Var\\u00f3n\", \"Var\\u00f3n\", \"Var\\u00f3n\", \"Mujer\", \"Mujer\", \"Var\\u00f3n\", \"Mujer\", \"Var\\u00f3n\", \"Mujer\", \"Var\\u00f3n\", \"Var\\u00f3n\", \"Var\\u00f3n\", \"Mujer\", \"Var\\u00f3n\", \"Mujer\", \"Var\\u00f3n\", \"Var\\u00f3n\", \"Var\\u00f3n\", \"Mujer\", \"Mujer\", \"Var\\u00f3n\", \"Var\\u00f3n\", \"Mujer\", \"Var\\u00f3n\", \"Var\\u00f3n\", \"Mujer\", \"Var\\u00f3n\", \"Mujer\", \"Var\\u00f3n\", \"Var\\u00f3n\", \"Var\\u00f3n\", \"Mujer\", \"Mujer\", \"Mujer\", \"Var\\u00f3n\", \"Mujer\", \"Mujer\", \"Var\\u00f3n\", \"Var\\u00f3n\", \"Mujer\", \"Var\\u00f3n\", \"Var\\u00f3n\", \"Mujer\", \"Mujer\", \"Var\\u00f3n\", \"Var\\u00f3n\", \"Mujer\", \"Var\\u00f3n\", \"Mujer\", \"Mujer\", \"Mujer\", \"Var\\u00f3n\", \"Var\\u00f3n\", \"Mujer\", \"Mujer\", \"Mujer\", \"Var\\u00f3n\", \"Var\\u00f3n\", \"Var\\u00f3n\", \"Var\\u00f3n\", \"Var\\u00f3n\", \"Mujer\", \"Var\\u00f3n\", \"Mujer\", \"Mujer\", \"Mujer\", \"Mujer\", \"Mujer\", \"Var\\u00f3n\", \"Mujer\", \"Var\\u00f3n\", \"Var\\u00f3n\", \"Mujer\", \"Var\\u00f3n\", \"Mujer\", \"Var\\u00f3n\", \"Mujer\", \"Mujer\", \"Var\\u00f3n\", \"Var\\u00f3n\", \"Mujer\", \"Mujer\", \"Var\\u00f3n\", \"Mujer\", \"Mujer\", \"Var\\u00f3n\", \"Mujer\", \"Var\\u00f3n\", \"Mujer\", \"Var\\u00f3n\", \"Var\\u00f3n\", \"Mujer\", \"Var\\u00f3n\", \"Mujer\", \"Var\\u00f3n\", \"Mujer\", \"Var\\u00f3n\", \"Mujer\", \"Var\\u00f3n\", \"Mujer\", \"Var\\u00f3n\", \"Var\\u00f3n\", \"Var\\u00f3n\", \"Var\\u00f3n\", \"Mujer\", \"Var\\u00f3n\", \"Mujer\", \"Mujer\", \"Var\\u00f3n\", \"Var\\u00f3n\", \"Var\\u00f3n\", \"Mujer\", \"Mujer\", \"Mujer\", \"Var\\u00f3n\", \"Var\\u00f3n\", \"Mujer\", \"Var\\u00f3n\", \"Mujer\", \"Var\\u00f3n\", \"Var\\u00f3n\", \"Var\\u00f3n\", \"Var\\u00f3n\", \"Mujer\", \"Mujer\", \"Var\\u00f3n\", \"Var\\u00f3n\", \"Mujer\", \"Var\\u00f3n\", \"Mujer\", \"Var\\u00f3n\", \"Mujer\", \"Mujer\", \"Var\\u00f3n\", \"Var\\u00f3n\", \"Var\\u00f3n\", \"Mujer\", \"Var\\u00f3n\", \"Mujer\", \"Mujer\", \"Mujer\", \"Mujer\", \"Var\\u00f3n\", \"Var\\u00f3n\", \"Var\\u00f3n\", \"Var\\u00f3n\", \"Var\\u00f3n\", \"Mujer\", \"Var\\u00f3n\", \"Mujer\", \"Var\\u00f3n\", \"Mujer\", \"Mujer\", \"Mujer\", \"Mujer\", \"Var\\u00f3n\", \"Mujer\", \"Mujer\", \"Var\\u00f3n\", \"Var\\u00f3n\", \"Mujer\", \"Var\\u00f3n\", \"Var\\u00f3n\", \"Mujer\", \"Var\\u00f3n\", \"Mujer\", \"Mujer\", \"Mujer\", \"Var\\u00f3n\", \"Mujer\", \"Var\\u00f3n\", \"Var\\u00f3n\", \"Var\\u00f3n\", \"Var\\u00f3n\", \"Mujer\", \"Mujer\", \"Mujer\", \"Var\\u00f3n\", \"Mujer\", \"Var\\u00f3n\", \"Var\\u00f3n\", \"Mujer\", \"Mujer\", \"Var\\u00f3n\", \"Mujer\", \"Var\\u00f3n\", \"Mujer\", \"Mujer\", \"Mujer\", \"Var\\u00f3n\", \"Var\\u00f3n\", \"Mujer\", \"Var\\u00f3n\", \"Var\\u00f3n\", \"Var\\u00f3n\", \"Mujer\", \"Var\\u00f3n\", \"Mujer\", \"Mujer\", \"Var\\u00f3n\", \"Var\\u00f3n\", \"Mujer\", \"Mujer\", \"Mujer\", \"Var\\u00f3n\", \"Var\\u00f3n\", \"Var\\u00f3n\", \"Mujer\", \"Var\\u00f3n\", \"Var\\u00f3n\", \"Var\\u00f3n\", \"Var\\u00f3n\", \"Mujer\", \"Mujer\", \"Var\\u00f3n\", \"Mujer\", \"Mujer\", \"Var\\u00f3n\", \"Mujer\", \"Mujer\", \"Var\\u00f3n\", \"Var\\u00f3n\", \"Var\\u00f3n\", \"Mujer\", \"Mujer\", \"Mujer\", \"Var\\u00f3n\", \"Var\\u00f3n\", \"Mujer\", \"Var\\u00f3n\", \"Mujer\", \"Var\\u00f3n\", \"Var\\u00f3n\", \"Mujer\", \"Var\\u00f3n\", \"Var\\u00f3n\", \"Var\\u00f3n\", \"Var\\u00f3n\", \"Var\\u00f3n\", \"Mujer\", \"Var\\u00f3n\", \"Mujer\", \"Var\\u00f3n\", \"Var\\u00f3n\", \"Mujer\", \"Var\\u00f3n\", \"Var\\u00f3n\", \"Mujer\", \"Mujer\", \"Mujer\", \"Var\\u00f3n\", \"Mujer\", \"Mujer\", \"Var\\u00f3n\", \"Mujer\", \"Var\\u00f3n\", \"Var\\u00f3n\", \"Var\\u00f3n\", \"Mujer\", \"Mujer\", \"Var\\u00f3n\", \"Var\\u00f3n\", \"Var\\u00f3n\", \"Mujer\", \"Mujer\", \"Var\\u00f3n\", \"Var\\u00f3n\", \"Var\\u00f3n\", \"Mujer\", \"Mujer\", \"Mujer\", \"Mujer\", \"Var\\u00f3n\", \"Var\\u00f3n\", \"Mujer\", \"Mujer\", \"Var\\u00f3n\", \"Mujer\", \"Mujer\", \"Var\\u00f3n\", \"Var\\u00f3n\", \"Mujer\", \"Mujer\", \"Var\\u00f3n\", \"Var\\u00f3n\", \"Mujer\", \"Mujer\", \"Mujer\", \"Var\\u00f3n\", \"Mujer\", \"Mujer\", \"Var\\u00f3n\", \"Mujer\", \"Mujer\", \"Var\\u00f3n\", \"Var\\u00f3n\", \"Var\\u00f3n\", \"Var\\u00f3n\", \"Mujer\", \"Mujer\", \"Var\\u00f3n\", \"Mujer\", \"Mujer\", \"Var\\u00f3n\", \"Mujer\", \"Mujer\", \"Var\\u00f3n\", \"Var\\u00f3n\", \"Var\\u00f3n\", \"Mujer\", \"Var\\u00f3n\", \"Var\\u00f3n\", \"Mujer\", \"Mujer\", \"Var\\u00f3n\", \"Mujer\", \"Mujer\", \"Mujer\", \"Var\\u00f3n\", \"Mujer\", \"Var\\u00f3n\", \"Var\\u00f3n\", \"Mujer\", \"Mujer\", \"Var\\u00f3n\", \"Var\\u00f3n\", \"Mujer\", \"Mujer\", \"Var\\u00f3n\", \"Mujer\", \"Var\\u00f3n\", \"Mujer\", \"Var\\u00f3n\", \"Mujer\", \"Mujer\", \"Var\\u00f3n\", \"Mujer\", \"Var\\u00f3n\", \"Var\\u00f3n\", \"Mujer\", \"Var\\u00f3n\", \"Mujer\", \"Var\\u00f3n\", \"Var\\u00f3n\", \"Mujer\", \"Var\\u00f3n\", \"Mujer\", \"Var\\u00f3n\", \"Var\\u00f3n\", \"Mujer\", \"Var\\u00f3n\", \"Mujer\", \"Mujer\", \"Mujer\", \"Var\\u00f3n\", \"Var\\u00f3n\", \"Mujer\", \"Mujer\", \"Mujer\", \"Var\\u00f3n\", \"Var\\u00f3n\", \"Mujer\", \"Var\\u00f3n\", \"Var\\u00f3n\", \"Mujer\", \"Var\\u00f3n\", \"Mujer\", \"Mujer\", \"Var\\u00f3n\", \"Var\\u00f3n\", \"Var\\u00f3n\", \"Mujer\", \"Mujer\", \"Mujer\", \"Var\\u00f3n\", \"Var\\u00f3n\", \"Var\\u00f3n\", \"Mujer\", \"Mujer\", \"Mujer\", \"Var\\u00f3n\", \"Var\\u00f3n\", \"Var\\u00f3n\", \"Mujer\", \"Mujer\", \"Var\\u00f3n\", \"Mujer\", \"Var\\u00f3n\", \"Var\\u00f3n\", \"Mujer\", \"Var\\u00f3n\", \"Mujer\", \"Var\\u00f3n\", \"Var\\u00f3n\", \"Var\\u00f3n\", \"Mujer\", \"Mujer\", \"Var\\u00f3n\", \"Mujer\", \"Mujer\", \"Mujer\", \"Var\\u00f3n\", \"Mujer\", \"Var\\u00f3n\", \"Var\\u00f3n\", \"Mujer\", \"Mujer\", \"Var\\u00f3n\", \"Var\\u00f3n\", \"Var\\u00f3n\", \"Mujer\", \"Var\\u00f3n\", \"Var\\u00f3n\", \"Mujer\", \"Mujer\", \"Var\\u00f3n\", \"Mujer\", \"Mujer\", \"Var\\u00f3n\", \"Var\\u00f3n\", \"Mujer\", \"Mujer\", \"Mujer\", \"Var\\u00f3n\", \"Mujer\", \"Mujer\", \"Mujer\", \"Var\\u00f3n\", \"Var\\u00f3n\", \"Mujer\", \"Mujer\", \"Mujer\", \"Var\\u00f3n\", \"Mujer\", \"Mujer\", \"Var\\u00f3n\", \"Mujer\", \"Var\\u00f3n\", \"Mujer\", \"Var\\u00f3n\", \"Mujer\", \"Mujer\", \"Var\\u00f3n\", \"Mujer\", \"Var\\u00f3n\", \"Var\\u00f3n\", \"Mujer\", \"Var\\u00f3n\", \"Mujer\", \"Mujer\", \"Mujer\", \"Var\\u00f3n\", \"Mujer\", \"Var\\u00f3n\", \"Var\\u00f3n\", \"Mujer\", \"Mujer\", \"Var\\u00f3n\", \"Var\\u00f3n\", \"Var\\u00f3n\", \"Var\\u00f3n\", \"Mujer\", \"Mujer\", \"Var\\u00f3n\", \"Var\\u00f3n\", \"Mujer\", \"Mujer\", \"Mujer\", \"Var\\u00f3n\", \"Var\\u00f3n\", \"Mujer\", \"Mujer\", \"Mujer\", \"Mujer\", \"Var\\u00f3n\", \"Var\\u00f3n\", \"Mujer\", \"Var\\u00f3n\", \"Var\\u00f3n\", \"Mujer\", \"Var\\u00f3n\", \"Mujer\", \"Mujer\", \"Mujer\", \"Var\\u00f3n\", \"Mujer\", \"Var\\u00f3n\", \"Mujer\", \"Var\\u00f3n\", \"Mujer\", \"Var\\u00f3n\", \"Var\\u00f3n\", \"Var\\u00f3n\", \"Var\\u00f3n\", \"Var\\u00f3n\", \"Var\\u00f3n\", \"Mujer\", \"Mujer\", \"Var\\u00f3n\", \"Mujer\", \"Mujer\", \"Var\\u00f3n\", \"Var\\u00f3n\", \"Var\\u00f3n\", \"Mujer\", \"Var\\u00f3n\", \"Mujer\", \"Var\\u00f3n\", \"Mujer\", \"Var\\u00f3n\", \"Var\\u00f3n\", \"Mujer\", \"Var\\u00f3n\", \"Var\\u00f3n\", \"Mujer\", \"Mujer\", \"Var\\u00f3n\", \"Var\\u00f3n\", \"Mujer\", \"Var\\u00f3n\", \"Mujer\", \"Mujer\", \"Mujer\", \"Mujer\", \"Var\\u00f3n\", \"Mujer\", \"Mujer\", \"Var\\u00f3n\", \"Var\\u00f3n\", \"Var\\u00f3n\", \"Var\\u00f3n\", \"Mujer\", \"Mujer\", \"Var\\u00f3n\", \"Var\\u00f3n\", \"Var\\u00f3n\", \"Mujer\", \"Var\\u00f3n\", \"Var\\u00f3n\", \"Mujer\", \"Mujer\", \"Mujer\", \"Var\\u00f3n\", \"Var\\u00f3n\", \"Var\\u00f3n\", \"Var\\u00f3n\", \"Var\\u00f3n\", \"Mujer\", \"Mujer\", \"Mujer\", \"Mujer\", \"Var\\u00f3n\", \"Mujer\", \"Mujer\", \"Var\\u00f3n\", \"Mujer\", \"Mujer\", \"Mujer\", \"Var\\u00f3n\", \"Var\\u00f3n\", \"Var\\u00f3n\", \"Var\\u00f3n\", \"Var\\u00f3n\", \"Var\\u00f3n\", \"Mujer\", \"Mujer\", \"Mujer\", \"Mujer\"], \"legendgroup\": \"\", \"name\": \"\", \"showlegend\": true, \"type\": \"pie\", \"values\": [\"1\", \"3\", \"4\", \"6\", \"7\", \"8\", \"9\", \"10\", \"11\", \"12\", \"13\", \"14\", \"15\", \"16\", \"18\", \"19\", \"20\", \"21\", \"22\", \"23\", \"25\", \"26\", \"27\", \"28\", \"29\", \"30\", \"31\", \"32\", \"33\", \"34\", \"35\", \"36\", \"37\", \"38\", \"39\", \"40\", \"41\", \"42\", \"43\", \"44\", \"45\", \"46\", \"47\", \"48\", \"49\", \"50\", \"51\", \"52\", \"53\", \"54\", \"55\", \"56\", \"57\", \"58\", \"59\", \"60\", \"61\", \"63\", \"64\", \"65\", \"66\", \"67\", \"68\", \"69\", \"70\", \"71\", \"72\", \"73\", \"74\", \"75\", \"76\", \"77\", \"78\", \"79\", \"80\", \"81\", \"83\", \"84\", \"86\", \"87\", \"88\", \"90\", \"91\", \"92\", \"93\", \"94\", \"95\", \"96\", \"97\", \"98\", \"99\", \"100\", \"101\", \"102\", \"103\", \"104\", \"105\", \"106\", \"107\", \"108\", \"109\", \"110\", \"111\", \"112\", \"113\", \"114\", \"115\", \"116\", \"117\", \"118\", \"119\", \"120\", \"121\", \"122\", \"124\", \"125\", \"126\", \"128\", \"131\", \"132\", \"133\", \"134\", \"135\", \"136\", \"138\", \"139\", \"141\", \"142\", \"143\", \"144\", \"145\", \"146\", \"147\", \"149\", \"150\", \"151\", \"152\", \"154\", \"155\", \"156\", \"157\", \"158\", \"159\", \"160\", \"161\", \"162\", \"163\", \"164\", \"165\", \"166\", \"167\", \"168\", \"169\", \"170\", \"171\", \"172\", \"173\", \"174\", \"175\", \"176\", \"177\", \"178\", \"179\", \"180\", \"181\", \"184\", \"185\", \"186\", \"187\", \"188\", \"189\", \"190\", \"191\", \"192\", \"193\", \"194\", \"195\", \"196\", \"197\", \"198\", \"199\", \"200\", \"201\", \"202\", \"203\", \"204\", \"205\", \"206\", \"207\", \"208\", \"209\", \"210\", \"211\", \"212\", \"213\", \"215\", \"216\", \"217\", \"218\", \"219\", \"220\", \"221\", \"223\", \"224\", \"225\", \"226\", \"227\", \"228\", \"229\", \"230\", \"231\", \"232\", \"233\", \"234\", \"235\", \"236\", \"237\", \"238\", \"239\", \"240\", \"241\", \"242\", \"243\", \"244\", \"245\", \"246\", \"247\", \"248\", \"249\", \"250\", \"251\", \"252\", \"253\", \"254\", \"255\", \"256\", \"257\", \"258\", \"259\", \"260\", \"263\", \"266\", \"267\", \"268\", \"269\", \"270\", \"271\", \"275\", \"277\", \"278\", \"279\", \"280\", \"281\", \"282\", \"283\", \"284\", \"286\", \"287\", \"288\", \"289\", \"290\", \"291\", \"292\", \"293\", \"294\", \"295\", \"296\", \"297\", \"298\", \"299\", \"300\", \"301\", \"302\", \"303\", \"304\", \"305\", \"306\", \"307\", \"308\", \"309\", \"311\", \"312\", \"313\", \"314\", \"315\", \"317\", \"318\", \"319\", \"320\", \"321\", \"322\", \"323\", \"324\", \"326\", \"327\", \"328\", \"329\", \"330\", \"331\", \"332\", \"333\", \"334\", \"335\", \"337\", \"338\", \"339\", \"340\", \"341\", \"342\", \"343\", \"344\", \"345\", \"346\", \"348\", \"349\", \"350\", \"352\", \"353\", \"354\", \"355\", \"356\", \"358\", \"359\", \"360\", \"362\", \"363\", \"364\", \"365\", \"366\", \"367\", \"369\", \"370\", \"371\", \"372\", \"373\", \"374\", \"375\", \"376\", \"377\", \"378\", \"379\", \"380\", \"381\", \"382\", \"383\", \"384\", \"385\", \"386\", \"387\", \"388\", \"389\", \"390\", \"391\", \"392\", \"393\", \"394\", \"395\", \"396\", \"397\", \"398\", \"399\", \"400\", \"401\", \"402\", \"403\", \"404\", \"405\", \"406\", \"407\", \"408\", \"409\", \"410\", \"411\", \"414\", \"415\", \"416\", \"417\", \"418\", \"419\", \"420\", \"421\", \"422\", \"424\", \"425\", \"426\", \"429\", \"430\", \"431\", \"432\", \"433\", \"434\", \"436\", \"437\", \"438\", \"439\", \"440\", \"441\", \"442\", \"443\", \"444\", \"445\", \"446\", \"449\", \"450\", \"451\", \"452\", \"453\", \"454\", \"455\", \"456\", \"457\", \"458\", \"459\", \"460\", \"461\", \"462\", \"463\", \"464\", \"465\", \"466\", \"467\", \"468\", \"469\", \"470\", \"471\", \"472\", \"473\", \"474\", \"475\", \"476\", \"477\", \"478\", \"479\", \"480\", \"481\", \"482\", \"483\", \"484\", \"485\", \"486\", \"487\", \"488\", \"489\", \"490\", \"491\", \"492\", \"493\", \"494\", \"495\", \"496\", \"497\", \"498\", \"499\", \"500\", \"501\", \"502\", \"503\", \"504\", \"505\", \"506\", \"507\", \"508\", \"509\", \"510\", \"511\", \"512\", \"514\", \"515\", \"518\", \"519\", \"520\", \"521\", \"522\", \"523\", \"524\", \"525\", \"526\", \"527\", \"528\", \"529\", \"530\", \"531\", \"532\", \"533\", \"534\", \"535\", \"536\", \"537\", \"538\", \"539\", \"540\", \"541\", \"542\", \"544\", \"546\", \"547\", \"548\", \"550\", \"551\", \"552\", \"553\", \"554\", \"555\", \"557\", \"558\", \"559\", \"560\", \"561\", \"562\", \"563\", \"565\", \"567\", \"568\", \"569\", \"570\", \"572\", \"573\", \"574\", \"575\", \"576\", \"577\", \"578\", \"579\", \"580\", \"582\", \"583\", \"584\", \"585\", \"586\", \"587\", \"588\", \"589\", \"590\", \"591\", \"592\", \"593\", \"594\", \"595\", \"596\", \"597\", \"600\", \"601\", \"602\", \"603\", \"604\", \"606\", \"607\", \"608\", \"609\", \"610\", \"611\", \"612\", \"613\", \"615\", \"619\", \"620\", \"621\", \"622\", \"623\", \"624\", \"626\", \"627\", \"628\", \"629\", \"630\", \"631\", \"632\", \"633\", \"634\", \"635\", \"636\", \"637\", \"638\", \"639\", \"640\", \"641\", \"642\", \"644\", \"645\", \"646\", \"647\", \"648\", \"649\", \"650\", \"651\", \"652\", \"653\", \"654\", \"655\", \"656\", \"657\", \"658\", \"659\", \"660\", \"661\", \"662\", \"663\", \"664\", \"666\", \"667\", \"668\", \"669\", \"670\", \"671\", \"672\", \"673\", \"674\", \"675\", \"676\", \"677\", \"678\", \"679\", \"680\", \"681\", \"682\", \"683\", \"684\", \"685\", \"686\", \"687\", \"688\", \"689\", \"691\", \"692\", \"693\", \"695\", \"696\", \"697\", \"700\", \"701\", \"702\", \"704\", \"707\", \"708\", \"709\", \"710\", \"711\", \"713\", \"715\", \"717\", \"718\", \"719\", \"721\", \"722\", \"723\", \"726\", \"728\", \"730\", \"731\", \"732\", \"734\", \"735\", \"736\", \"737\", \"738\", \"739\", \"741\", \"742\", \"743\", \"745\", \"746\", \"747\", \"748\", \"749\", \"750\", \"751\", \"752\", \"753\", \"754\", \"755\", \"756\", \"757\", \"758\", \"759\", \"760\", \"761\", \"762\", \"763\", \"764\", \"765\", \"766\", \"767\", \"768\", \"769\", \"770\", \"771\", \"772\", \"773\", \"774\", \"777\", \"778\", \"779\", \"780\", \"781\", \"782\", \"783\", \"786\", \"787\", \"788\", \"790\", \"791\", \"792\", \"793\", \"794\", \"795\", \"796\", \"800\", \"801\", \"802\", \"803\", \"804\", \"805\", \"806\", \"807\", \"808\", \"809\", \"810\", \"812\", \"813\", \"814\", \"816\", \"817\", \"818\", \"819\", \"820\", \"821\", \"822\", \"823\", \"824\", \"825\", \"828\", \"829\", \"831\", \"832\", \"833\", \"834\", \"835\", \"836\", \"838\", \"839\", \"840\", \"842\", \"843\", \"844\", \"845\", \"846\", \"847\", \"848\", \"849\", \"851\", \"852\", \"853\", \"854\", \"855\", \"856\", \"857\", \"858\", \"859\", \"860\", \"861\", \"862\", \"863\", \"864\", \"865\", \"866\", \"867\", \"868\", \"869\", \"870\", \"871\", \"872\", \"873\", \"874\", \"875\", \"876\", \"877\", \"878\", \"879\", \"880\", \"881\", \"882\", \"883\", \"884\", \"885\", \"886\", \"887\", \"888\", \"889\", \"891\", \"892\", \"893\", \"894\", \"895\", \"897\", \"898\", \"899\", \"900\", \"901\", \"902\", \"903\", \"904\", \"905\", \"906\", \"907\", \"908\", \"910\", \"911\", \"912\", \"913\", \"914\", \"915\", \"916\", \"917\", \"919\", \"920\", \"921\", \"922\", \"923\", \"924\", \"925\", \"926\", \"927\", \"928\", \"929\", \"930\", \"932\", \"933\", \"934\", \"935\", \"936\", \"937\", \"938\", \"939\", \"940\", \"941\", \"942\", \"943\", \"944\", \"945\", \"946\", \"947\", \"948\", \"949\", \"950\", \"951\", \"952\", \"953\", \"954\", \"955\", \"956\", \"958\", \"959\", \"960\", \"961\", \"963\", \"964\", \"965\", \"966\", \"967\", \"968\", \"969\", \"970\", \"971\", \"972\", \"973\", \"974\", \"975\", \"976\", \"977\", \"978\", \"980\", \"981\", \"982\", \"984\", \"985\", \"986\", \"987\", \"988\", \"989\", \"990\", \"991\", \"992\", \"994\", \"995\", \"996\", \"997\", \"998\", \"999\", \"1000\", \"1001\", \"1002\", \"1003\", \"1005\", \"1006\", \"1008\", \"1010\", \"1011\", \"1012\", \"1013\", \"1014\", \"1015\", \"1016\", \"1017\", \"1018\", \"1019\", \"1020\", \"1021\", \"1022\", \"1023\", \"1024\", \"1025\", \"1026\", \"1027\", \"1028\", \"1029\", \"1030\", \"1031\", \"1032\", \"1034\", \"1035\", \"1036\", \"1037\", \"1038\", \"1040\", \"1041\", \"1043\", \"1044\", \"1045\", \"1046\", \"1047\", \"1048\", \"1049\", \"1050\", \"1051\", \"1052\", \"1053\", \"1054\", \"1055\", \"1056\", \"1057\", \"1058\", \"1059\", \"1060\", \"1061\", \"1063\", \"1064\", \"1065\", \"1067\", \"1068\", \"1069\", \"1070\", \"1071\", \"1072\", \"1073\", \"1074\", \"1075\", \"1076\", \"1077\", \"1078\", \"1079\", \"1080\", \"1081\", \"1082\", \"1083\", \"1084\", \"1085\", \"1086\", \"1087\", \"1088\", \"1090\", \"1091\", \"1092\", \"1093\", \"1094\", \"1095\", \"1096\", \"1097\", \"1098\", \"1099\", \"1100\", \"1101\", \"1102\", \"1103\", \"1104\", \"1105\", \"1106\", \"1107\", \"1108\", \"1109\", \"1110\", \"1111\", \"1112\", \"1113\", \"1114\", \"1115\", \"1118\", \"1119\", \"1120\", \"1121\", \"1122\", \"1123\", \"1124\", \"1125\", \"1126\", \"1127\", \"1128\", \"1129\", \"1130\", \"1131\", \"1132\", \"1133\", \"1134\", \"1135\", \"1136\", \"1137\", \"1139\", \"1140\", \"1141\", \"1142\", \"1143\", \"1144\", \"1145\", \"1146\", \"1147\", \"1148\", \"1150\", \"1151\", \"1152\", \"1153\", \"1154\", \"1155\", \"1156\", \"1157\", \"1158\", \"1159\", \"1160\", \"1161\", \"1162\", \"1164\", \"1165\", \"1166\", \"1167\", \"1168\", \"1169\", \"1170\", \"1172\", \"1173\", \"1174\", \"1175\", \"1177\", \"1178\", \"1179\", \"1180\", \"1181\", \"1182\", \"1183\", \"1184\", \"1185\", \"1186\", \"1187\", \"1188\", \"1190\", \"1192\", \"1193\", \"1194\", \"1195\", \"1196\", \"1197\", \"1198\", \"1199\", \"1200\", \"1201\", \"1202\", \"1204\", \"1205\", \"1206\", \"1208\", \"1210\", \"1211\", \"1212\", \"1213\", \"1214\", \"1215\", \"1216\", \"1217\", \"1218\", \"1219\", \"1220\", \"1221\", \"1222\", \"1223\", \"1224\", \"1225\", \"1226\", \"1228\", \"1230\", \"1231\", \"1232\", \"1233\", \"1234\", \"1235\", \"1236\", \"1237\", \"1238\", \"1239\", \"1240\", \"1241\", \"1242\", \"1244\", \"1245\", \"1246\", \"1247\", \"1248\", \"1249\", \"1250\", \"1251\", \"1252\", \"1253\", \"1254\", \"1255\", \"1256\", \"1257\", \"1258\", \"1259\", \"1260\", \"1261\", \"1262\", \"1263\", \"1264\", \"1265\", \"1266\", \"1267\", \"1268\", \"1269\", \"1270\", \"1271\", \"1272\", \"1274\", \"1275\", \"1278\", \"1281\", \"1282\", \"1283\", \"1284\", \"1285\", \"1286\", \"1287\", \"1289\", \"1290\", \"1291\", \"1292\", \"1293\", \"1294\", \"1295\", \"1296\", \"1297\", \"1299\", \"1300\", \"1301\", \"1303\", \"1304\", \"1305\", \"1312\", \"1313\", \"1314\", \"1315\", \"1316\", \"1317\", \"1318\", \"1319\", \"1320\", \"1321\", \"1322\", \"1324\", \"1326\", \"1327\", \"1328\", \"1329\", \"1330\", \"1331\", \"1332\", \"1333\", \"1334\", \"1335\", \"1336\", \"1337\", \"1338\", \"1340\", \"1342\", \"1343\", \"1344\", \"1345\", \"1346\", \"1347\", \"1348\", \"1349\", \"1351\", \"1352\", \"1353\", \"1354\", \"1355\", \"1356\", \"1357\", \"1359\", \"1360\", \"1361\", \"1362\", \"1363\", \"1364\", \"1365\", \"1366\", \"1367\", \"1368\", \"1369\", \"1370\", \"1371\", \"1372\", \"1373\", \"1374\", \"1375\", \"1376\", \"1377\", \"1378\", \"1379\", \"1380\", \"1381\", \"1382\", \"1383\", \"1384\", \"1385\", \"1386\", \"1388\", \"1389\", \"1390\", \"1391\", \"1393\", \"1394\", \"1395\", \"1396\", \"1398\", \"1399\", \"1400\", \"1401\", \"1402\", \"1404\", \"1405\", \"1406\", \"1407\", \"1408\", \"1410\", \"1411\", \"1413\", \"1414\", \"1415\", \"1416\", \"1417\", \"1418\", \"1419\", \"1420\", \"1421\", \"1422\", \"1423\", \"1424\", \"1425\", \"1426\", \"1427\", \"1428\", \"1429\", \"1430\", \"1431\", \"1432\", \"1433\", \"1435\", \"1436\", \"1437\", \"1438\", \"1439\", \"1440\", \"1441\", \"1442\", \"1443\", \"1445\", \"1446\", \"1447\", \"1448\", \"1449\", \"1450\", \"1451\", \"1452\", \"1453\", \"1455\", \"1456\", \"1457\", \"1460\", \"1461\", \"1462\", \"1463\", \"1464\", \"1466\", \"1467\", \"1468\", \"1469\", \"1470\", \"1471\", \"1472\", \"1473\", \"1474\", \"1475\", \"1476\", \"1478\", \"1479\", \"1480\", \"1481\", \"1482\", \"1483\", \"1484\", \"1485\", \"1486\", \"1487\", \"1488\", \"1489\", \"1490\", \"1491\", \"1492\", \"1493\", \"1494\", \"1495\", \"1496\", \"1497\", \"1498\", \"1499\", \"1500\", \"1502\", \"1503\", \"1504\", \"1505\", \"1506\", \"1507\", \"1508\", \"1509\", \"1510\", \"1513\", \"1514\", \"1515\", \"1516\", \"1517\", \"1518\", \"1519\", \"1521\", \"1522\", \"1523\", \"1526\", \"1527\", \"1528\", \"1529\", \"1531\", \"1532\", \"1533\", \"1534\", \"1535\", \"1536\", \"1537\", \"1538\", \"1539\", \"1540\", \"1541\", \"1542\", \"1543\", \"1544\", \"1545\", \"1546\", \"1547\", \"1548\", \"1549\", \"1550\", \"1551\", \"1552\", \"1553\", \"1554\", \"1555\", \"1556\", \"1557\", \"1558\", \"1559\", \"1560\", \"1561\", \"1562\", \"1563\", \"1564\", \"1565\", \"1566\", \"1567\", \"1568\", \"1569\", \"1570\", \"1571\", \"1572\", \"1573\", \"1574\", \"1575\", \"1576\", \"1577\", \"1578\", \"1579\", \"1580\", \"1581\", \"1582\", \"1583\", \"1584\", \"1585\", \"1586\", \"1587\", \"1588\", \"1589\", \"1590\", \"1591\", \"1592\", \"1593\", \"1594\", \"1595\", \"1596\", \"1597\", \"1598\", \"1599\", \"1600\", \"1601\", \"1602\", \"1603\", \"1604\", \"1605\", \"1606\", \"1607\", \"1608\", \"1609\", \"1610\", \"1611\", \"1612\", \"1613\", \"1614\", \"1615\", \"1616\", \"1617\", \"1618\", \"1619\", \"1621\", \"1622\", \"1623\", \"1624\", \"1625\", \"1626\", \"1627\", \"1628\", \"1629\", \"1630\", \"1631\", \"1632\", \"1633\", \"1634\", \"1635\", \"1636\", \"1637\", \"1638\", \"1639\", \"1640\", \"1641\", \"1642\", \"1643\", \"1644\", \"1645\", \"1646\", \"1647\", \"1650\", \"1651\", \"1653\", \"1656\", \"1657\", \"1661\", \"1662\", \"1663\", \"1664\", \"1665\", \"1666\", \"1667\", \"1669\", \"1671\", \"1672\", \"1673\", \"1674\", \"1675\", \"1677\", \"1678\", \"1679\", \"1681\", \"1682\", \"1683\", \"1685\", \"1686\", \"1688\", \"1689\", \"1690\", \"1691\", \"1692\", \"1693\", \"1694\", \"1695\", \"1696\", \"1697\", \"1698\", \"1699\", \"1700\", \"1701\", \"1702\", \"1703\", \"1704\", \"1705\", \"1707\", \"1709\", \"1710\", \"1711\", \"1714\", \"1715\", \"1716\", \"1717\", \"1718\", \"1720\", \"1721\", \"1722\", \"1723\", \"1726\", \"1727\", \"1728\", \"1729\", \"1730\", \"1731\", \"1732\", \"1734\", \"1736\", \"1737\", \"1738\", \"1739\", \"1740\", \"1741\", \"1742\", \"1743\", \"1744\", \"1745\", \"1746\", \"1747\", \"1748\", \"1749\", \"1750\", \"1751\", \"1752\", \"1753\", \"1754\", \"1755\", \"1756\", \"1757\", \"1758\", \"1759\", \"1760\", \"1761\", \"1763\", \"1764\", \"1765\", \"1767\", \"1768\", \"1769\", \"1770\", \"1771\", \"1773\", \"1774\", \"1776\", \"1777\", \"1778\", \"1780\", \"1781\", \"1782\", \"1783\", \"1784\", \"1785\", \"1786\", \"1788\", \"1789\", \"1790\", \"1791\", \"1792\", \"1793\", \"1795\", \"1796\", \"1798\", \"1799\", \"1800\", \"1801\", \"1802\", \"1803\", \"1804\", \"1805\", \"1806\", \"1807\", \"1808\", \"1810\", \"1811\", \"1812\", \"1813\", \"1814\", \"1815\", \"1816\", \"1817\", \"1818\", \"1820\", \"1821\", \"1824\", \"1826\", \"1827\", \"1828\", \"1829\", \"1830\", \"1831\", \"1832\", \"1833\", \"1834\", \"1835\", \"1836\", \"1837\", \"1838\", \"1839\", \"1840\", \"1841\", \"1842\", \"1843\", \"1844\", \"1845\", \"1846\", \"1847\", \"1848\", \"1849\", \"1850\", \"1851\", \"1852\", \"1853\", \"1855\", \"1856\", \"1857\", \"1858\", \"1859\", \"1860\", \"1862\", \"1863\", \"1864\", \"1865\", \"1866\", \"1868\", \"1869\", \"1870\", \"1871\", \"1872\", \"1873\", \"1875\", \"1876\", \"1877\", \"1878\", \"1880\", \"1881\", \"1882\", \"1883\", \"1884\", \"1885\", \"1886\", \"1887\", \"1888\", \"1889\", \"1890\", \"1891\", \"1892\", \"1893\", \"1895\", \"1896\", \"1897\", \"1898\", \"1899\", \"1900\", \"1901\", \"1902\", \"1904\", \"1906\", \"1907\", \"1908\", \"1910\", \"1911\", \"1912\", \"1913\", \"1914\", \"1915\", \"1916\", \"1917\", \"1918\", \"1919\", \"1920\", \"1921\", \"1922\", \"1923\", \"1924\", \"1925\", \"1927\", \"1929\", \"1930\", \"1931\", \"1932\", \"1933\", \"1934\", \"1935\", \"1936\", \"1937\", \"1938\", \"1939\", \"1940\", \"1941\", \"1942\", \"1943\", \"1944\", \"1945\", \"1947\", \"1948\", \"1949\", \"1950\", \"1951\", \"1952\", \"1954\", \"1957\", \"1958\", \"1959\", \"1960\", \"1961\", \"1962\", \"1964\", \"1965\", \"1967\", \"1968\", \"1970\", \"1971\", \"1972\", \"1973\", \"1974\", \"1975\", \"1976\", \"1977\", \"1978\", \"1979\", \"1980\", \"1981\", \"1982\", \"1983\", \"1984\", \"1985\", \"1986\", \"1987\", \"1988\", \"1989\", \"1990\", \"1992\", \"1993\", \"1994\", \"1996\", \"1997\", \"1998\", \"1999\", \"2000\", \"2001\", \"2002\", \"2003\", \"2004\", \"2005\", \"2006\", \"2007\", \"2008\", \"2009\", \"2010\", \"2011\", \"2012\", \"2013\", \"2014\", \"2015\", \"2016\", \"2017\", \"2018\", \"2019\", \"2020\", \"2021\", \"2023\", \"2024\", \"2026\", \"2027\", \"2029\", \"2030\", \"2031\", \"2032\", \"2033\", \"2034\", \"2035\", \"2037\", \"2038\", \"2039\", \"2040\", \"2041\", \"2042\", \"2043\", \"2044\", \"2045\", \"2046\", 2048.0, 2050.0, 2051.0, 2052.0, 2054.0, 2056.0, 2058.0, 2059.0, 2060.0, 2061.0, 2062.0, 2063.0, 2064.0, 2065.0, 2066.0, 2067.0, 2068.0, 2069.0, 2071.0, 2072.0, 2073.0, 2074.0, 2075.0, 2076.0, 2077.0, 2078.0, 2079.0, 2080.0, 2081.0, 2082.0, 2083.0, 2085.0, 2086.0, 2089.0, 2090.0, 2091.0, 2092.0, 2093.0, 2094.0, 2095.0, 2096.0, 2097.0, 2098.0, 2099.0, 2100.0, 2101.0, 2102.0, 2103.0, 2104.0, 2105.0, 2106.0, 2107.0, 2108.0, 2109.0, 2111.0, 2112.0, 2113.0, 2114.0, 2115.0, 2116.0, 2117.0, 2118.0, 2119.0, 2120.0, 2121.0, 2122.0, 2123.0, 2124.0, 2125.0, 2126.0, 2127.0, 2128.0, 2129.0, 2130.0, 2131.0, 2132.0, 2134.0, 2136.0, 2138.0, 2139.0, 2140.0, 2141.0, 2142.0, 2143.0, 2144.0, 2145.0, 2146.0, 2147.0, 2150.0, 2151.0, 2152.0, 2154.0, 2155.0, 2156.0, 2157.0, 2158.0, 2159.0, 2160.0, 2161.0, 2162.0, 2163.0, 2164.0, 2165.0, 2166.0, 2169.0, 2170.0, 2171.0, 2172.0, 2173.0, 2174.0, 2175.0, 2176.0, 2177.0, 2178.0, 2179.0, 2180.0, 2181.0, 2182.0, 2183.0, 2184.0, 2185.0, 2186.0, 2187.0, 2188.0, 2189.0, 2190.0, 2191.0, 2192.0, 2193.0, 2194.0, 2195.0, 2197.0, 2198.0, 2199.0, 2200.0, 2201.0, 2202.0, 2203.0, 2204.0, 2205.0, 2206.0, 2207.0, 2209.0, 2211.0, 2212.0, 2214.0, 2216.0, 2217.0, 2218.0, 2219.0, 2220.0, 2221.0, 2222.0, 2223.0, 2225.0, 2226.0, 2227.0, 2228.0, 2229.0, 2230.0, 2231.0, 2232.0, 2233.0, 2234.0, 2235.0, 2236.0, 2237.0, 2238.0, 2239.0, 2240.0, 2241.0, 2242.0, 2243.0, 2244.0, 2245.0, 2247.0, 2248.0, 2249.0, 2251.0, 2252.0, 2253.0, 2254.0, 2255.0, 2256.0, 2257.0, 2258.0, 2259.0, 2260.0, 2262.0, 2264.0, 2265.0, 2266.0, 2267.0, 2268.0, 2269.0, 2270.0, 2271.0, 2272.0, 2273.0, 2275.0, 2276.0, 2277.0, 2278.0, 2279.0, 2280.0, 2281.0, 2282.0, 2283.0, 2284.0, 2285.0, 2286.0, 2287.0, 2288.0, 2289.0, 2290.0, 2291.0, 2292.0, 2293.0, 2294.0, 2295.0, 2296.0, 2297.0, 2298.0, 2299.0, 2300.0, 2301.0, 2302.0, 2303.0, 2304.0, 2305.0, 2306.0, 2307.0, 2308.0, 2309.0, 2312.0, 2313.0, 2314.0, 2315.0, 2316.0, 2317.0, 2318.0, 2319.0, 2320.0, 2321.0, 2323.0, 2327.0, 2328.0, 2329.0, 2330.0, 2331.0, 2332.0, 2334.0, 2335.0, 2336.0, 2337.0, 2338.0, 2340.0, 2341.0, 2342.0, 2343.0, 2344.0, 2345.0, 2346.0, 2347.0, 2348.0, 2349.0, 2351.0, 2352.0, 2353.0, 2354.0, 2355.0, 2356.0, 2357.0, 2358.0, 2359.0, 2360.0, 2362.0, 2364.0, 2367.0, 2368.0, 2369.0, 2370.0, 2371.0, 2372.0, 2373.0, 2374.0, 2376.0, 2377.0, 2378.0, 2379.0, 2380.0, 2382.0, 2383.0, 2384.0, 2385.0, 2386.0, 2387.0, 2388.0, 2389.0, 2390.0, 2391.0, 2392.0, 2393.0, 2395.0, 2396.0, 2397.0, 2398.0, 2399.0, 2400.0, 2401.0, 2402.0, 2403.0, 2405.0, 2406.0, 2407.0, 2408.0, 2409.0, 2410.0, 2411.0, 2412.0, 2413.0, 2415.0, 2416.0, 2417.0, 2419.0, 2420.0, 2421.0, 2422.0, 2423.0, 2424.0, 2425.0, 2426.0, 2427.0, 2428.0, 2429.0, 2430.0, 2431.0, 2432.0, 2433.0, 2435.0, 2436.0, 2437.0, 2438.0, 2439.0, 2440.0, 2441.0, 2442.0, 2443.0, 2445.0, 2446.0, 2447.0, 2448.0, 2449.0, 2450.0, 2451.0, 2452.0, 2454.0, 2455.0, 2458.0, 2459.0, 2460.0, 2461.0, 2464.0, 2465.0, 2466.0, 2467.0, 2468.0, 2469.0, 2470.0, 2471.0, 2472.0, 2473.0, 2474.0, 2475.0, 2476.0, 2477.0, 2481.0, 2482.0, 2483.0, 2485.0, 2486.0, 2487.0, 2488.0, 2489.0, 2491.0, 2493.0, 2494.0, 2495.0, 2496.0, 2497.0, 2498.0, 2500.0, 2501.0, 2502.0, 2503.0, 2504.0, 2505.0, 2506.0, 2508.0, 2509.0, 2510.0, 2511.0, 2512.0, 2513.0, 2514.0, 2516.0, 2517.0, 2519.0, 2521.0, 2522.0, 2523.0, 2524.0, 2525.0, 2526.0, 2527.0, 2528.0, 2529.0, 2530.0, 2531.0, 2532.0, 2533.0, 2534.0, 2535.0, 2538.0, 2540.0, 2541.0, 2543.0, 2544.0, 2545.0, 2546.0, 2547.0, 2548.0, 2549.0, 2550.0, 2551.0, 2552.0, 2553.0, 2554.0, 2555.0, 2556.0, 2557.0, 2558.0, 2559.0, 2560.0, 2561.0, 2562.0, 2563.0, 2564.0, 2565.0, 2566.0, 2567.0, 2569.0, 2571.0, 2572.0, 2573.0, 2574.0, 2575.0, 2576.0, 2577.0, 2578.0, 2579.0, 2580.0, 2581.0, 2582.0, 2583.0, 2584.0, 2585.0, 2586.0, 2587.0, 2588.0, 2589.0, 2590.0, 2591.0, 2592.0, 2593.0, 2594.0, 2595.0, 2596.0, 2597.0, 2598.0, 2599.0, 2600.0, 2601.0, 2603.0, 2604.0, 2605.0, 2606.0, 2607.0, 2608.0, 2609.0, 2610.0, 2612.0, 2613.0, 2614.0, 2615.0, 2616.0, 2617.0, 2619.0, 2620.0, 2621.0, 2622.0, 2623.0, 2624.0, 2625.0, 2626.0, 2628.0, 2629.0, 2630.0, 2631.0, 2632.0, 2634.0, 2635.0, 2636.0, 2637.0, 2639.0, 2640.0, 2641.0, 2642.0, 2643.0, 2645.0, 2647.0, 2648.0, 2649.0, 2650.0, 2651.0, 2652.0, 2653.0, 2654.0, 2655.0, 2657.0, 2658.0, 2659.0, 2661.0, 2662.0, 2663.0, 2664.0, 2665.0, 2666.0, 2667.0, 2668.0, 2669.0, 2670.0, 2671.0, 2672.0, 2673.0, 2674.0, 2675.0, 2676.0, 2677.0, 2678.0, 2679.0, 2680.0, 2681.0, 2682.0, 2683.0, 2684.0, 2685.0, 2686.0, 2687.0, 2688.0, 2689.0, 2690.0, 2691.0, 2692.0, 2693.0, 2694.0, 2695.0, 2696.0, 2697.0, 2698.0, 2699.0, 2700.0, 2701.0, 2702.0, 2704.0, 2705.0, 2706.0, 2708.0, 2709.0, 2710.0, 2711.0, 2713.0, 2714.0, 2715.0, 2716.0, 2717.0, 2718.0, 2719.0, 2720.0, 2721.0, 2722.0, 2724.0, 2725.0, 2726.0, 2727.0, 2728.0, 2729.0, 2730.0, 2731.0, 2732.0, 2733.0, 2734.0, 2735.0, 2737.0, 2739.0, 2740.0, 2741.0, 2742.0, 2744.0, 2747.0, 2749.0, 2750.0, 2752.0, 2755.0, 2757.0, 2758.0, 2761.0, 2764.0, 2765.0, 2766.0, 2767.0, 2768.0, 2770.0, 2771.0, 2772.0, 2773.0, 2774.0, 2775.0, 2776.0, 2777.0, 2779.0, 2780.0, 2782.0, 2783.0, 2784.0, 2785.0, 2786.0, 2787.0, 2788.0, 2789.0, 2790.0, 2791.0, 2793.0, 2794.0, 2795.0, 2796.0, 2798.0, 2800.0]}],\n",
              "                        {\"legend\": {\"tracegroupgap\": 0}, \"template\": {\"data\": {\"bar\": [{\"error_x\": {\"color\": \"#2a3f5f\"}, \"error_y\": {\"color\": \"#2a3f5f\"}, \"marker\": {\"line\": {\"color\": \"#E5ECF6\", \"width\": 0.5}}, \"type\": \"bar\"}], \"barpolar\": [{\"marker\": {\"line\": {\"color\": \"#E5ECF6\", \"width\": 0.5}}, \"type\": \"barpolar\"}], \"carpet\": [{\"aaxis\": {\"endlinecolor\": \"#2a3f5f\", \"gridcolor\": \"white\", \"linecolor\": \"white\", \"minorgridcolor\": \"white\", \"startlinecolor\": \"#2a3f5f\"}, \"baxis\": {\"endlinecolor\": \"#2a3f5f\", \"gridcolor\": \"white\", \"linecolor\": \"white\", \"minorgridcolor\": \"white\", \"startlinecolor\": \"#2a3f5f\"}, \"type\": \"carpet\"}], \"choropleth\": [{\"colorbar\": {\"outlinewidth\": 0, \"ticks\": \"\"}, \"type\": \"choropleth\"}], \"contour\": [{\"colorbar\": {\"outlinewidth\": 0, \"ticks\": \"\"}, \"colorscale\": [[0.0, \"#0d0887\"], [0.1111111111111111, \"#46039f\"], [0.2222222222222222, \"#7201a8\"], [0.3333333333333333, \"#9c179e\"], [0.4444444444444444, \"#bd3786\"], [0.5555555555555556, \"#d8576b\"], [0.6666666666666666, \"#ed7953\"], [0.7777777777777778, \"#fb9f3a\"], [0.8888888888888888, \"#fdca26\"], [1.0, \"#f0f921\"]], \"type\": \"contour\"}], \"contourcarpet\": [{\"colorbar\": {\"outlinewidth\": 0, \"ticks\": \"\"}, \"type\": \"contourcarpet\"}], \"heatmap\": [{\"colorbar\": {\"outlinewidth\": 0, \"ticks\": \"\"}, \"colorscale\": [[0.0, \"#0d0887\"], [0.1111111111111111, \"#46039f\"], [0.2222222222222222, \"#7201a8\"], [0.3333333333333333, \"#9c179e\"], [0.4444444444444444, \"#bd3786\"], [0.5555555555555556, \"#d8576b\"], [0.6666666666666666, \"#ed7953\"], [0.7777777777777778, \"#fb9f3a\"], [0.8888888888888888, \"#fdca26\"], [1.0, \"#f0f921\"]], \"type\": \"heatmap\"}], \"heatmapgl\": [{\"colorbar\": {\"outlinewidth\": 0, \"ticks\": \"\"}, \"colorscale\": [[0.0, \"#0d0887\"], [0.1111111111111111, \"#46039f\"], [0.2222222222222222, \"#7201a8\"], [0.3333333333333333, \"#9c179e\"], [0.4444444444444444, \"#bd3786\"], [0.5555555555555556, \"#d8576b\"], [0.6666666666666666, \"#ed7953\"], [0.7777777777777778, \"#fb9f3a\"], [0.8888888888888888, \"#fdca26\"], [1.0, \"#f0f921\"]], \"type\": \"heatmapgl\"}], \"histogram\": [{\"marker\": {\"colorbar\": {\"outlinewidth\": 0, \"ticks\": \"\"}}, \"type\": \"histogram\"}], \"histogram2d\": [{\"colorbar\": {\"outlinewidth\": 0, \"ticks\": \"\"}, \"colorscale\": [[0.0, \"#0d0887\"], [0.1111111111111111, \"#46039f\"], [0.2222222222222222, \"#7201a8\"], [0.3333333333333333, \"#9c179e\"], [0.4444444444444444, \"#bd3786\"], [0.5555555555555556, \"#d8576b\"], [0.6666666666666666, \"#ed7953\"], [0.7777777777777778, \"#fb9f3a\"], [0.8888888888888888, \"#fdca26\"], [1.0, \"#f0f921\"]], \"type\": \"histogram2d\"}], \"histogram2dcontour\": [{\"colorbar\": {\"outlinewidth\": 0, \"ticks\": \"\"}, \"colorscale\": [[0.0, \"#0d0887\"], [0.1111111111111111, \"#46039f\"], [0.2222222222222222, \"#7201a8\"], [0.3333333333333333, \"#9c179e\"], [0.4444444444444444, \"#bd3786\"], [0.5555555555555556, \"#d8576b\"], [0.6666666666666666, \"#ed7953\"], [0.7777777777777778, \"#fb9f3a\"], [0.8888888888888888, \"#fdca26\"], [1.0, \"#f0f921\"]], \"type\": \"histogram2dcontour\"}], \"mesh3d\": [{\"colorbar\": {\"outlinewidth\": 0, \"ticks\": \"\"}, \"type\": \"mesh3d\"}], \"parcoords\": [{\"line\": {\"colorbar\": {\"outlinewidth\": 0, \"ticks\": \"\"}}, \"type\": \"parcoords\"}], \"pie\": [{\"automargin\": true, \"type\": \"pie\"}], \"scatter\": [{\"marker\": {\"colorbar\": {\"outlinewidth\": 0, \"ticks\": \"\"}}, \"type\": \"scatter\"}], \"scatter3d\": [{\"line\": {\"colorbar\": {\"outlinewidth\": 0, \"ticks\": \"\"}}, \"marker\": {\"colorbar\": {\"outlinewidth\": 0, \"ticks\": \"\"}}, \"type\": \"scatter3d\"}], \"scattercarpet\": [{\"marker\": {\"colorbar\": {\"outlinewidth\": 0, \"ticks\": \"\"}}, \"type\": \"scattercarpet\"}], \"scattergeo\": [{\"marker\": {\"colorbar\": {\"outlinewidth\": 0, \"ticks\": \"\"}}, \"type\": \"scattergeo\"}], \"scattergl\": [{\"marker\": {\"colorbar\": {\"outlinewidth\": 0, \"ticks\": \"\"}}, \"type\": \"scattergl\"}], \"scattermapbox\": [{\"marker\": {\"colorbar\": {\"outlinewidth\": 0, \"ticks\": \"\"}}, \"type\": \"scattermapbox\"}], \"scatterpolar\": [{\"marker\": {\"colorbar\": {\"outlinewidth\": 0, \"ticks\": \"\"}}, \"type\": \"scatterpolar\"}], \"scatterpolargl\": [{\"marker\": {\"colorbar\": {\"outlinewidth\": 0, \"ticks\": \"\"}}, \"type\": \"scatterpolargl\"}], \"scatterternary\": [{\"marker\": {\"colorbar\": {\"outlinewidth\": 0, \"ticks\": \"\"}}, \"type\": \"scatterternary\"}], \"surface\": [{\"colorbar\": {\"outlinewidth\": 0, \"ticks\": \"\"}, \"colorscale\": [[0.0, \"#0d0887\"], [0.1111111111111111, \"#46039f\"], [0.2222222222222222, \"#7201a8\"], [0.3333333333333333, \"#9c179e\"], [0.4444444444444444, \"#bd3786\"], [0.5555555555555556, \"#d8576b\"], [0.6666666666666666, \"#ed7953\"], [0.7777777777777778, \"#fb9f3a\"], [0.8888888888888888, \"#fdca26\"], [1.0, \"#f0f921\"]], \"type\": \"surface\"}], \"table\": [{\"cells\": {\"fill\": {\"color\": \"#EBF0F8\"}, \"line\": {\"color\": \"white\"}}, \"header\": {\"fill\": {\"color\": \"#C8D4E3\"}, \"line\": {\"color\": \"white\"}}, \"type\": \"table\"}]}, \"layout\": {\"annotationdefaults\": {\"arrowcolor\": \"#2a3f5f\", \"arrowhead\": 0, \"arrowwidth\": 1}, \"coloraxis\": {\"colorbar\": {\"outlinewidth\": 0, \"ticks\": \"\"}}, \"colorscale\": {\"diverging\": [[0, \"#8e0152\"], [0.1, \"#c51b7d\"], [0.2, \"#de77ae\"], [0.3, \"#f1b6da\"], [0.4, \"#fde0ef\"], [0.5, \"#f7f7f7\"], [0.6, \"#e6f5d0\"], [0.7, \"#b8e186\"], [0.8, \"#7fbc41\"], [0.9, \"#4d9221\"], [1, \"#276419\"]], \"sequential\": [[0.0, \"#0d0887\"], [0.1111111111111111, \"#46039f\"], [0.2222222222222222, \"#7201a8\"], [0.3333333333333333, \"#9c179e\"], [0.4444444444444444, \"#bd3786\"], [0.5555555555555556, \"#d8576b\"], [0.6666666666666666, \"#ed7953\"], [0.7777777777777778, \"#fb9f3a\"], [0.8888888888888888, \"#fdca26\"], [1.0, \"#f0f921\"]], \"sequentialminus\": [[0.0, \"#0d0887\"], [0.1111111111111111, \"#46039f\"], [0.2222222222222222, \"#7201a8\"], [0.3333333333333333, \"#9c179e\"], [0.4444444444444444, \"#bd3786\"], [0.5555555555555556, \"#d8576b\"], [0.6666666666666666, \"#ed7953\"], [0.7777777777777778, \"#fb9f3a\"], [0.8888888888888888, \"#fdca26\"], [1.0, \"#f0f921\"]]}, \"colorway\": [\"#636efa\", \"#EF553B\", \"#00cc96\", \"#ab63fa\", \"#FFA15A\", \"#19d3f3\", \"#FF6692\", \"#B6E880\", \"#FF97FF\", \"#FECB52\"], \"font\": {\"color\": \"#2a3f5f\"}, \"geo\": {\"bgcolor\": \"white\", \"lakecolor\": \"white\", \"landcolor\": \"#E5ECF6\", \"showlakes\": true, \"showland\": true, \"subunitcolor\": \"white\"}, \"hoverlabel\": {\"align\": \"left\"}, \"hovermode\": \"closest\", \"mapbox\": {\"style\": \"light\"}, \"paper_bgcolor\": \"white\", \"plot_bgcolor\": \"#E5ECF6\", \"polar\": {\"angularaxis\": {\"gridcolor\": \"white\", \"linecolor\": \"white\", \"ticks\": \"\"}, \"bgcolor\": \"#E5ECF6\", \"radialaxis\": {\"gridcolor\": \"white\", \"linecolor\": \"white\", \"ticks\": \"\"}}, \"scene\": {\"xaxis\": {\"backgroundcolor\": \"#E5ECF6\", \"gridcolor\": \"white\", \"gridwidth\": 2, \"linecolor\": \"white\", \"showbackground\": true, \"ticks\": \"\", \"zerolinecolor\": \"white\"}, \"yaxis\": {\"backgroundcolor\": \"#E5ECF6\", \"gridcolor\": \"white\", \"gridwidth\": 2, \"linecolor\": \"white\", \"showbackground\": true, \"ticks\": \"\", \"zerolinecolor\": \"white\"}, \"zaxis\": {\"backgroundcolor\": \"#E5ECF6\", \"gridcolor\": \"white\", \"gridwidth\": 2, \"linecolor\": \"white\", \"showbackground\": true, \"ticks\": \"\", \"zerolinecolor\": \"white\"}}, \"shapedefaults\": {\"line\": {\"color\": \"#2a3f5f\"}}, \"ternary\": {\"aaxis\": {\"gridcolor\": \"white\", \"linecolor\": \"white\", \"ticks\": \"\"}, \"baxis\": {\"gridcolor\": \"white\", \"linecolor\": \"white\", \"ticks\": \"\"}, \"bgcolor\": \"#E5ECF6\", \"caxis\": {\"gridcolor\": \"white\", \"linecolor\": \"white\", \"ticks\": \"\"}}, \"title\": {\"x\": 0.05}, \"xaxis\": {\"automargin\": true, \"gridcolor\": \"white\", \"linecolor\": \"white\", \"ticks\": \"\", \"title\": {\"standoff\": 15}, \"zerolinecolor\": \"white\", \"zerolinewidth\": 2}, \"yaxis\": {\"automargin\": true, \"gridcolor\": \"white\", \"linecolor\": \"white\", \"ticks\": \"\", \"title\": {\"standoff\": 15}, \"zerolinecolor\": \"white\", \"zerolinewidth\": 2}}}, \"title\": {\"text\": \"Porcentaje de no asistentes al teatro por sexo\"}},\n",
              "                        {\"responsive\": true}\n",
              "                    ).then(function(){\n",
              "                            \n",
              "var gd = document.getElementById('31de3f05-be21-48e0-a0f2-abc98c9578b7');\n",
              "var x = new MutationObserver(function (mutations, observer) {{\n",
              "        var display = window.getComputedStyle(gd).display;\n",
              "        if (!display || display === 'none') {{\n",
              "            console.log([gd, 'removed!']);\n",
              "            Plotly.purge(gd);\n",
              "            observer.disconnect();\n",
              "        }}\n",
              "}});\n",
              "\n",
              "// Listen for the removal of the full notebook cells\n",
              "var notebookContainer = gd.closest('#notebook-container');\n",
              "if (notebookContainer) {{\n",
              "    x.observe(notebookContainer, {childList: true});\n",
              "}}\n",
              "\n",
              "// Listen for the clearing of the current output cell\n",
              "var outputEl = gd.closest('.output');\n",
              "if (outputEl) {{\n",
              "    x.observe(outputEl, {childList: true});\n",
              "}}\n",
              "\n",
              "                        })\n",
              "                };\n",
              "                \n",
              "            </script>\n",
              "        </div>\n",
              "</body>\n",
              "</html>"
            ]
          },
          "metadata": {
            "tags": []
          }
        }
      ]
    },
    {
      "cell_type": "markdown",
      "metadata": {
        "id": "uIxu63w6l_sn"
      },
      "source": [
        "Si vemos el nivel educativo de quienes concurrieron al teatro, comprobamos que tiende a ser más alto que el de quienes no lo hicieron."
      ]
    },
    {
      "cell_type": "code",
      "metadata": {
        "id": "r6mvmWP6dqIE",
        "colab": {
          "base_uri": "https://localhost:8080/",
          "height": 542
        },
        "outputId": "3342fa32-7f3c-4274-e41c-2ff6cd4209e7"
      },
      "source": [
        "niv_socioeco = conc_teatro['p106'].value_counts()\n",
        "fig = dict({\n",
        "    \"data\": [{\"type\": \"bar\",\n",
        "              \"x\": niv_socioeco.index.tolist(),\n",
        "              \"y\": [i/len(conc_teatro['p106'])*100 for i in niv_socioeco]}],\n",
        "    \"layout\": {\"title\": {\"text\": \"Nivel educativo de los asistentes al teatro\"},\n",
        "               'xaxis':{'title':'Nivel educativo','color':'green'},\n",
        "               'yaxis':{'title':'Porcentaje','color':'green'}}\n",
        "})\n",
        "\n",
        "pio.show(fig)"
      ],
      "execution_count": 21,
      "outputs": [
        {
          "output_type": "display_data",
          "data": {
            "text/html": [
              "<html>\n",
              "<head><meta charset=\"utf-8\" /></head>\n",
              "<body>\n",
              "    <div>\n",
              "            <script src=\"https://cdnjs.cloudflare.com/ajax/libs/mathjax/2.7.5/MathJax.js?config=TeX-AMS-MML_SVG\"></script><script type=\"text/javascript\">if (window.MathJax) {MathJax.Hub.Config({SVG: {font: \"STIX-Web\"}});}</script>\n",
              "                <script type=\"text/javascript\">window.PlotlyConfig = {MathJaxConfig: 'local'};</script>\n",
              "        <script src=\"https://cdn.plot.ly/plotly-latest.min.js\"></script>    \n",
              "            <div id=\"d318514a-f657-4830-9b27-6e53f9a7d52b\" class=\"plotly-graph-div\" style=\"height:525px; width:100%;\"></div>\n",
              "            <script type=\"text/javascript\">\n",
              "                \n",
              "                    window.PLOTLYENV=window.PLOTLYENV || {};\n",
              "                    \n",
              "                if (document.getElementById(\"d318514a-f657-4830-9b27-6e53f9a7d52b\")) {\n",
              "                    Plotly.newPlot(\n",
              "                        'd318514a-f657-4830-9b27-6e53f9a7d52b',\n",
              "                        [{\"type\": \"bar\", \"x\": [\"SECUNDARIA COMPLETA\", \"SECUNDARIA INCOMPLETA\", \"UNIVERSITARIO COMPLETO\", \"TERCIARIO COMPLETO\", \"UNIVERSITARIO INCOMPLETO\", \"TERCIARIO INCOMPLETO\", \"PRIMARIA COMPLETA\", \"POSGRADO INCOMPLETO O COMPLETO\", \"PRIMARIA INCOMPLETA\"], \"y\": [19.298245614035086, 17.83625730994152, 16.666666666666664, 14.327485380116958, 13.742690058479532, 7.894736842105263, 7.017543859649122, 2.631578947368421, 0.5847953216374269]}],\n",
              "                        {\"template\": {\"data\": {\"bar\": [{\"error_x\": {\"color\": \"#2a3f5f\"}, \"error_y\": {\"color\": \"#2a3f5f\"}, \"marker\": {\"line\": {\"color\": \"#E5ECF6\", \"width\": 0.5}}, \"type\": \"bar\"}], \"barpolar\": [{\"marker\": {\"line\": {\"color\": \"#E5ECF6\", \"width\": 0.5}}, \"type\": \"barpolar\"}], \"carpet\": [{\"aaxis\": {\"endlinecolor\": \"#2a3f5f\", \"gridcolor\": \"white\", \"linecolor\": \"white\", \"minorgridcolor\": \"white\", \"startlinecolor\": \"#2a3f5f\"}, \"baxis\": {\"endlinecolor\": \"#2a3f5f\", \"gridcolor\": \"white\", \"linecolor\": \"white\", \"minorgridcolor\": \"white\", \"startlinecolor\": \"#2a3f5f\"}, \"type\": \"carpet\"}], \"choropleth\": [{\"colorbar\": {\"outlinewidth\": 0, \"ticks\": \"\"}, \"type\": \"choropleth\"}], \"contour\": [{\"colorbar\": {\"outlinewidth\": 0, \"ticks\": \"\"}, \"colorscale\": [[0.0, \"#0d0887\"], [0.1111111111111111, \"#46039f\"], [0.2222222222222222, \"#7201a8\"], [0.3333333333333333, \"#9c179e\"], [0.4444444444444444, \"#bd3786\"], [0.5555555555555556, \"#d8576b\"], [0.6666666666666666, \"#ed7953\"], [0.7777777777777778, \"#fb9f3a\"], [0.8888888888888888, \"#fdca26\"], [1.0, \"#f0f921\"]], \"type\": \"contour\"}], \"contourcarpet\": [{\"colorbar\": {\"outlinewidth\": 0, \"ticks\": \"\"}, \"type\": \"contourcarpet\"}], \"heatmap\": [{\"colorbar\": {\"outlinewidth\": 0, \"ticks\": \"\"}, \"colorscale\": [[0.0, \"#0d0887\"], [0.1111111111111111, \"#46039f\"], [0.2222222222222222, \"#7201a8\"], [0.3333333333333333, \"#9c179e\"], [0.4444444444444444, \"#bd3786\"], [0.5555555555555556, \"#d8576b\"], [0.6666666666666666, \"#ed7953\"], [0.7777777777777778, \"#fb9f3a\"], [0.8888888888888888, \"#fdca26\"], [1.0, \"#f0f921\"]], \"type\": \"heatmap\"}], \"heatmapgl\": [{\"colorbar\": {\"outlinewidth\": 0, \"ticks\": \"\"}, \"colorscale\": [[0.0, \"#0d0887\"], [0.1111111111111111, \"#46039f\"], [0.2222222222222222, \"#7201a8\"], [0.3333333333333333, \"#9c179e\"], [0.4444444444444444, \"#bd3786\"], [0.5555555555555556, \"#d8576b\"], [0.6666666666666666, \"#ed7953\"], [0.7777777777777778, \"#fb9f3a\"], [0.8888888888888888, \"#fdca26\"], [1.0, \"#f0f921\"]], \"type\": \"heatmapgl\"}], \"histogram\": [{\"marker\": {\"colorbar\": {\"outlinewidth\": 0, \"ticks\": \"\"}}, \"type\": \"histogram\"}], \"histogram2d\": [{\"colorbar\": {\"outlinewidth\": 0, \"ticks\": \"\"}, \"colorscale\": [[0.0, \"#0d0887\"], [0.1111111111111111, \"#46039f\"], [0.2222222222222222, \"#7201a8\"], [0.3333333333333333, \"#9c179e\"], [0.4444444444444444, \"#bd3786\"], [0.5555555555555556, \"#d8576b\"], [0.6666666666666666, \"#ed7953\"], [0.7777777777777778, \"#fb9f3a\"], [0.8888888888888888, \"#fdca26\"], [1.0, \"#f0f921\"]], \"type\": \"histogram2d\"}], \"histogram2dcontour\": [{\"colorbar\": {\"outlinewidth\": 0, \"ticks\": \"\"}, \"colorscale\": [[0.0, \"#0d0887\"], [0.1111111111111111, \"#46039f\"], [0.2222222222222222, \"#7201a8\"], [0.3333333333333333, \"#9c179e\"], [0.4444444444444444, \"#bd3786\"], [0.5555555555555556, \"#d8576b\"], [0.6666666666666666, \"#ed7953\"], [0.7777777777777778, \"#fb9f3a\"], [0.8888888888888888, \"#fdca26\"], [1.0, \"#f0f921\"]], \"type\": \"histogram2dcontour\"}], \"mesh3d\": [{\"colorbar\": {\"outlinewidth\": 0, \"ticks\": \"\"}, \"type\": \"mesh3d\"}], \"parcoords\": [{\"line\": {\"colorbar\": {\"outlinewidth\": 0, \"ticks\": \"\"}}, \"type\": \"parcoords\"}], \"pie\": [{\"automargin\": true, \"type\": \"pie\"}], \"scatter\": [{\"marker\": {\"colorbar\": {\"outlinewidth\": 0, \"ticks\": \"\"}}, \"type\": \"scatter\"}], \"scatter3d\": [{\"line\": {\"colorbar\": {\"outlinewidth\": 0, \"ticks\": \"\"}}, \"marker\": {\"colorbar\": {\"outlinewidth\": 0, \"ticks\": \"\"}}, \"type\": \"scatter3d\"}], \"scattercarpet\": [{\"marker\": {\"colorbar\": {\"outlinewidth\": 0, \"ticks\": \"\"}}, \"type\": \"scattercarpet\"}], \"scattergeo\": [{\"marker\": {\"colorbar\": {\"outlinewidth\": 0, \"ticks\": \"\"}}, \"type\": \"scattergeo\"}], \"scattergl\": [{\"marker\": {\"colorbar\": {\"outlinewidth\": 0, \"ticks\": \"\"}}, \"type\": \"scattergl\"}], \"scattermapbox\": [{\"marker\": {\"colorbar\": {\"outlinewidth\": 0, \"ticks\": \"\"}}, \"type\": \"scattermapbox\"}], \"scatterpolar\": [{\"marker\": {\"colorbar\": {\"outlinewidth\": 0, \"ticks\": \"\"}}, \"type\": \"scatterpolar\"}], \"scatterpolargl\": [{\"marker\": {\"colorbar\": {\"outlinewidth\": 0, \"ticks\": \"\"}}, \"type\": \"scatterpolargl\"}], \"scatterternary\": [{\"marker\": {\"colorbar\": {\"outlinewidth\": 0, \"ticks\": \"\"}}, \"type\": \"scatterternary\"}], \"surface\": [{\"colorbar\": {\"outlinewidth\": 0, \"ticks\": \"\"}, \"colorscale\": [[0.0, \"#0d0887\"], [0.1111111111111111, \"#46039f\"], [0.2222222222222222, \"#7201a8\"], [0.3333333333333333, \"#9c179e\"], [0.4444444444444444, \"#bd3786\"], [0.5555555555555556, \"#d8576b\"], [0.6666666666666666, \"#ed7953\"], [0.7777777777777778, \"#fb9f3a\"], [0.8888888888888888, \"#fdca26\"], [1.0, \"#f0f921\"]], \"type\": \"surface\"}], \"table\": [{\"cells\": {\"fill\": {\"color\": \"#EBF0F8\"}, \"line\": {\"color\": \"white\"}}, \"header\": {\"fill\": {\"color\": \"#C8D4E3\"}, \"line\": {\"color\": \"white\"}}, \"type\": \"table\"}]}, \"layout\": {\"annotationdefaults\": {\"arrowcolor\": \"#2a3f5f\", \"arrowhead\": 0, \"arrowwidth\": 1}, \"coloraxis\": {\"colorbar\": {\"outlinewidth\": 0, \"ticks\": \"\"}}, \"colorscale\": {\"diverging\": [[0, \"#8e0152\"], [0.1, \"#c51b7d\"], [0.2, \"#de77ae\"], [0.3, \"#f1b6da\"], [0.4, \"#fde0ef\"], [0.5, \"#f7f7f7\"], [0.6, \"#e6f5d0\"], [0.7, \"#b8e186\"], [0.8, \"#7fbc41\"], [0.9, \"#4d9221\"], [1, \"#276419\"]], \"sequential\": [[0.0, \"#0d0887\"], [0.1111111111111111, \"#46039f\"], [0.2222222222222222, \"#7201a8\"], [0.3333333333333333, \"#9c179e\"], [0.4444444444444444, \"#bd3786\"], [0.5555555555555556, \"#d8576b\"], [0.6666666666666666, \"#ed7953\"], [0.7777777777777778, \"#fb9f3a\"], [0.8888888888888888, \"#fdca26\"], [1.0, \"#f0f921\"]], \"sequentialminus\": [[0.0, \"#0d0887\"], [0.1111111111111111, \"#46039f\"], [0.2222222222222222, \"#7201a8\"], [0.3333333333333333, \"#9c179e\"], [0.4444444444444444, \"#bd3786\"], [0.5555555555555556, \"#d8576b\"], [0.6666666666666666, \"#ed7953\"], [0.7777777777777778, \"#fb9f3a\"], [0.8888888888888888, \"#fdca26\"], [1.0, \"#f0f921\"]]}, \"colorway\": [\"#636efa\", \"#EF553B\", \"#00cc96\", \"#ab63fa\", \"#FFA15A\", \"#19d3f3\", \"#FF6692\", \"#B6E880\", \"#FF97FF\", \"#FECB52\"], \"font\": {\"color\": \"#2a3f5f\"}, \"geo\": {\"bgcolor\": \"white\", \"lakecolor\": \"white\", \"landcolor\": \"#E5ECF6\", \"showlakes\": true, \"showland\": true, \"subunitcolor\": \"white\"}, \"hoverlabel\": {\"align\": \"left\"}, \"hovermode\": \"closest\", \"mapbox\": {\"style\": \"light\"}, \"paper_bgcolor\": \"white\", \"plot_bgcolor\": \"#E5ECF6\", \"polar\": {\"angularaxis\": {\"gridcolor\": \"white\", \"linecolor\": \"white\", \"ticks\": \"\"}, \"bgcolor\": \"#E5ECF6\", \"radialaxis\": {\"gridcolor\": \"white\", \"linecolor\": \"white\", \"ticks\": \"\"}}, \"scene\": {\"xaxis\": {\"backgroundcolor\": \"#E5ECF6\", \"gridcolor\": \"white\", \"gridwidth\": 2, \"linecolor\": \"white\", \"showbackground\": true, \"ticks\": \"\", \"zerolinecolor\": \"white\"}, \"yaxis\": {\"backgroundcolor\": \"#E5ECF6\", \"gridcolor\": \"white\", \"gridwidth\": 2, \"linecolor\": \"white\", \"showbackground\": true, \"ticks\": \"\", \"zerolinecolor\": \"white\"}, \"zaxis\": {\"backgroundcolor\": \"#E5ECF6\", \"gridcolor\": \"white\", \"gridwidth\": 2, \"linecolor\": \"white\", \"showbackground\": true, \"ticks\": \"\", \"zerolinecolor\": \"white\"}}, \"shapedefaults\": {\"line\": {\"color\": \"#2a3f5f\"}}, \"ternary\": {\"aaxis\": {\"gridcolor\": \"white\", \"linecolor\": \"white\", \"ticks\": \"\"}, \"baxis\": {\"gridcolor\": \"white\", \"linecolor\": \"white\", \"ticks\": \"\"}, \"bgcolor\": \"#E5ECF6\", \"caxis\": {\"gridcolor\": \"white\", \"linecolor\": \"white\", \"ticks\": \"\"}}, \"title\": {\"x\": 0.05}, \"xaxis\": {\"automargin\": true, \"gridcolor\": \"white\", \"linecolor\": \"white\", \"ticks\": \"\", \"title\": {\"standoff\": 15}, \"zerolinecolor\": \"white\", \"zerolinewidth\": 2}, \"yaxis\": {\"automargin\": true, \"gridcolor\": \"white\", \"linecolor\": \"white\", \"ticks\": \"\", \"title\": {\"standoff\": 15}, \"zerolinecolor\": \"white\", \"zerolinewidth\": 2}}}, \"title\": {\"text\": \"Nivel educativo de los asistentes al teatro\"}, \"xaxis\": {\"color\": \"green\", \"title\": {\"text\": \"Nivel educativo\"}}, \"yaxis\": {\"color\": \"green\", \"title\": {\"text\": \"Porcentaje\"}}},\n",
              "                        {\"responsive\": true}\n",
              "                    ).then(function(){\n",
              "                            \n",
              "var gd = document.getElementById('d318514a-f657-4830-9b27-6e53f9a7d52b');\n",
              "var x = new MutationObserver(function (mutations, observer) {{\n",
              "        var display = window.getComputedStyle(gd).display;\n",
              "        if (!display || display === 'none') {{\n",
              "            console.log([gd, 'removed!']);\n",
              "            Plotly.purge(gd);\n",
              "            observer.disconnect();\n",
              "        }}\n",
              "}});\n",
              "\n",
              "// Listen for the removal of the full notebook cells\n",
              "var notebookContainer = gd.closest('#notebook-container');\n",
              "if (notebookContainer) {{\n",
              "    x.observe(notebookContainer, {childList: true});\n",
              "}}\n",
              "\n",
              "// Listen for the clearing of the current output cell\n",
              "var outputEl = gd.closest('.output');\n",
              "if (outputEl) {{\n",
              "    x.observe(outputEl, {childList: true});\n",
              "}}\n",
              "\n",
              "                        })\n",
              "                };\n",
              "                \n",
              "            </script>\n",
              "        </div>\n",
              "</body>\n",
              "</html>"
            ]
          },
          "metadata": {
            "tags": []
          }
        }
      ]
    },
    {
      "cell_type": "code",
      "metadata": {
        "id": "hUXQ5WYjCfsC"
      },
      "source": [
        "niv_socioeco['porc'] = [i/len(conc_teatro['p106'])*100 for i in niv_socioeco]"
      ],
      "execution_count": 22,
      "outputs": []
    },
    {
      "cell_type": "code",
      "metadata": {
        "id": "knkS2Vw-eHMq",
        "colab": {
          "base_uri": "https://localhost:8080/",
          "height": 542
        },
        "outputId": "cf001935-63a4-4735-9878-0e92f05fcc3b"
      },
      "source": [
        "niv_socioeco_no = no_conc_teatro['p106'].value_counts()\n",
        "fig = dict({\n",
        "    \"data\": [{\"type\": \"bar\",\n",
        "              \"x\": niv_socioeco_no.index.tolist(),\n",
        "              \"y\": [i/len(no_conc_teatro['p106'])*100 for i in niv_socioeco_no]}],\n",
        "    \"layout\": {\"title\": {\"text\": \"Nivel socioeconómico de los no asistentes al teatro\"},\n",
        "               'xaxis':{'title':'Nivel socioeconómico','color':'red'},\n",
        "               'yaxis':{'title':'Porcentaje','color':'red'}}\n",
        "})\n",
        "\n",
        "pio.show(fig)"
      ],
      "execution_count": 23,
      "outputs": [
        {
          "output_type": "display_data",
          "data": {
            "text/html": [
              "<html>\n",
              "<head><meta charset=\"utf-8\" /></head>\n",
              "<body>\n",
              "    <div>\n",
              "            <script src=\"https://cdnjs.cloudflare.com/ajax/libs/mathjax/2.7.5/MathJax.js?config=TeX-AMS-MML_SVG\"></script><script type=\"text/javascript\">if (window.MathJax) {MathJax.Hub.Config({SVG: {font: \"STIX-Web\"}});}</script>\n",
              "                <script type=\"text/javascript\">window.PlotlyConfig = {MathJaxConfig: 'local'};</script>\n",
              "        <script src=\"https://cdn.plot.ly/plotly-latest.min.js\"></script>    \n",
              "            <div id=\"6f2320cc-f456-4600-9a39-a63be584eeba\" class=\"plotly-graph-div\" style=\"height:525px; width:100%;\"></div>\n",
              "            <script type=\"text/javascript\">\n",
              "                \n",
              "                    window.PLOTLYENV=window.PLOTLYENV || {};\n",
              "                    \n",
              "                if (document.getElementById(\"6f2320cc-f456-4600-9a39-a63be584eeba\")) {\n",
              "                    Plotly.newPlot(\n",
              "                        '6f2320cc-f456-4600-9a39-a63be584eeba',\n",
              "                        [{\"type\": \"bar\", \"x\": [\"SECUNDARIA INCOMPLETA\", \"SECUNDARIA COMPLETA\", \"PRIMARIA COMPLETA\", \"UNIVERSITARIO INCOMPLETO\", \"TERCIARIO COMPLETO\", \"TERCIARIO INCOMPLETO\", \"UNIVERSITARIO COMPLETO\", \"PRIMARIA INCOMPLETA\", \"SIN ESTUDIOS\", \"POSGRADO INCOMPLETO O COMPLETO\"], \"y\": [29.373474369406022, 25.793327908869003, 14.890154597233524, 8.502847843775427, 6.102522375915378, 5.288852725793328, 5.00406834825061, 3.7428803905614325, 0.8950366151342555, 0.40683482506102525]}],\n",
              "                        {\"template\": {\"data\": {\"bar\": [{\"error_x\": {\"color\": \"#2a3f5f\"}, \"error_y\": {\"color\": \"#2a3f5f\"}, \"marker\": {\"line\": {\"color\": \"#E5ECF6\", \"width\": 0.5}}, \"type\": \"bar\"}], \"barpolar\": [{\"marker\": {\"line\": {\"color\": \"#E5ECF6\", \"width\": 0.5}}, \"type\": \"barpolar\"}], \"carpet\": [{\"aaxis\": {\"endlinecolor\": \"#2a3f5f\", \"gridcolor\": \"white\", \"linecolor\": \"white\", \"minorgridcolor\": \"white\", \"startlinecolor\": \"#2a3f5f\"}, \"baxis\": {\"endlinecolor\": \"#2a3f5f\", \"gridcolor\": \"white\", \"linecolor\": \"white\", \"minorgridcolor\": \"white\", \"startlinecolor\": \"#2a3f5f\"}, \"type\": \"carpet\"}], \"choropleth\": [{\"colorbar\": {\"outlinewidth\": 0, \"ticks\": \"\"}, \"type\": \"choropleth\"}], \"contour\": [{\"colorbar\": {\"outlinewidth\": 0, \"ticks\": \"\"}, \"colorscale\": [[0.0, \"#0d0887\"], [0.1111111111111111, \"#46039f\"], [0.2222222222222222, \"#7201a8\"], [0.3333333333333333, \"#9c179e\"], [0.4444444444444444, \"#bd3786\"], [0.5555555555555556, \"#d8576b\"], [0.6666666666666666, \"#ed7953\"], [0.7777777777777778, \"#fb9f3a\"], [0.8888888888888888, \"#fdca26\"], [1.0, \"#f0f921\"]], \"type\": \"contour\"}], \"contourcarpet\": [{\"colorbar\": {\"outlinewidth\": 0, \"ticks\": \"\"}, \"type\": \"contourcarpet\"}], \"heatmap\": [{\"colorbar\": {\"outlinewidth\": 0, \"ticks\": \"\"}, \"colorscale\": [[0.0, \"#0d0887\"], [0.1111111111111111, \"#46039f\"], [0.2222222222222222, \"#7201a8\"], [0.3333333333333333, \"#9c179e\"], [0.4444444444444444, \"#bd3786\"], [0.5555555555555556, \"#d8576b\"], [0.6666666666666666, \"#ed7953\"], [0.7777777777777778, \"#fb9f3a\"], [0.8888888888888888, \"#fdca26\"], [1.0, \"#f0f921\"]], \"type\": \"heatmap\"}], \"heatmapgl\": [{\"colorbar\": {\"outlinewidth\": 0, \"ticks\": \"\"}, \"colorscale\": [[0.0, \"#0d0887\"], [0.1111111111111111, \"#46039f\"], [0.2222222222222222, \"#7201a8\"], [0.3333333333333333, \"#9c179e\"], [0.4444444444444444, \"#bd3786\"], [0.5555555555555556, \"#d8576b\"], [0.6666666666666666, \"#ed7953\"], [0.7777777777777778, \"#fb9f3a\"], [0.8888888888888888, \"#fdca26\"], [1.0, \"#f0f921\"]], \"type\": \"heatmapgl\"}], \"histogram\": [{\"marker\": {\"colorbar\": {\"outlinewidth\": 0, \"ticks\": \"\"}}, \"type\": \"histogram\"}], \"histogram2d\": [{\"colorbar\": {\"outlinewidth\": 0, \"ticks\": \"\"}, \"colorscale\": [[0.0, \"#0d0887\"], [0.1111111111111111, \"#46039f\"], [0.2222222222222222, \"#7201a8\"], [0.3333333333333333, \"#9c179e\"], [0.4444444444444444, \"#bd3786\"], [0.5555555555555556, \"#d8576b\"], [0.6666666666666666, \"#ed7953\"], [0.7777777777777778, \"#fb9f3a\"], [0.8888888888888888, \"#fdca26\"], [1.0, \"#f0f921\"]], \"type\": \"histogram2d\"}], \"histogram2dcontour\": [{\"colorbar\": {\"outlinewidth\": 0, \"ticks\": \"\"}, \"colorscale\": [[0.0, \"#0d0887\"], [0.1111111111111111, \"#46039f\"], [0.2222222222222222, \"#7201a8\"], [0.3333333333333333, \"#9c179e\"], [0.4444444444444444, \"#bd3786\"], [0.5555555555555556, \"#d8576b\"], [0.6666666666666666, \"#ed7953\"], [0.7777777777777778, \"#fb9f3a\"], [0.8888888888888888, \"#fdca26\"], [1.0, \"#f0f921\"]], \"type\": \"histogram2dcontour\"}], \"mesh3d\": [{\"colorbar\": {\"outlinewidth\": 0, \"ticks\": \"\"}, \"type\": \"mesh3d\"}], \"parcoords\": [{\"line\": {\"colorbar\": {\"outlinewidth\": 0, \"ticks\": \"\"}}, \"type\": \"parcoords\"}], \"pie\": [{\"automargin\": true, \"type\": \"pie\"}], \"scatter\": [{\"marker\": {\"colorbar\": {\"outlinewidth\": 0, \"ticks\": \"\"}}, \"type\": \"scatter\"}], \"scatter3d\": [{\"line\": {\"colorbar\": {\"outlinewidth\": 0, \"ticks\": \"\"}}, \"marker\": {\"colorbar\": {\"outlinewidth\": 0, \"ticks\": \"\"}}, \"type\": \"scatter3d\"}], \"scattercarpet\": [{\"marker\": {\"colorbar\": {\"outlinewidth\": 0, \"ticks\": \"\"}}, \"type\": \"scattercarpet\"}], \"scattergeo\": [{\"marker\": {\"colorbar\": {\"outlinewidth\": 0, \"ticks\": \"\"}}, \"type\": \"scattergeo\"}], \"scattergl\": [{\"marker\": {\"colorbar\": {\"outlinewidth\": 0, \"ticks\": \"\"}}, \"type\": \"scattergl\"}], \"scattermapbox\": [{\"marker\": {\"colorbar\": {\"outlinewidth\": 0, \"ticks\": \"\"}}, \"type\": \"scattermapbox\"}], \"scatterpolar\": [{\"marker\": {\"colorbar\": {\"outlinewidth\": 0, \"ticks\": \"\"}}, \"type\": \"scatterpolar\"}], \"scatterpolargl\": [{\"marker\": {\"colorbar\": {\"outlinewidth\": 0, \"ticks\": \"\"}}, \"type\": \"scatterpolargl\"}], \"scatterternary\": [{\"marker\": {\"colorbar\": {\"outlinewidth\": 0, \"ticks\": \"\"}}, \"type\": \"scatterternary\"}], \"surface\": [{\"colorbar\": {\"outlinewidth\": 0, \"ticks\": \"\"}, \"colorscale\": [[0.0, \"#0d0887\"], [0.1111111111111111, \"#46039f\"], [0.2222222222222222, \"#7201a8\"], [0.3333333333333333, \"#9c179e\"], [0.4444444444444444, \"#bd3786\"], [0.5555555555555556, \"#d8576b\"], [0.6666666666666666, \"#ed7953\"], [0.7777777777777778, \"#fb9f3a\"], [0.8888888888888888, \"#fdca26\"], [1.0, \"#f0f921\"]], \"type\": \"surface\"}], \"table\": [{\"cells\": {\"fill\": {\"color\": \"#EBF0F8\"}, \"line\": {\"color\": \"white\"}}, \"header\": {\"fill\": {\"color\": \"#C8D4E3\"}, \"line\": {\"color\": \"white\"}}, \"type\": \"table\"}]}, \"layout\": {\"annotationdefaults\": {\"arrowcolor\": \"#2a3f5f\", \"arrowhead\": 0, \"arrowwidth\": 1}, \"coloraxis\": {\"colorbar\": {\"outlinewidth\": 0, \"ticks\": \"\"}}, \"colorscale\": {\"diverging\": [[0, \"#8e0152\"], [0.1, \"#c51b7d\"], [0.2, \"#de77ae\"], [0.3, \"#f1b6da\"], [0.4, \"#fde0ef\"], [0.5, \"#f7f7f7\"], [0.6, \"#e6f5d0\"], [0.7, \"#b8e186\"], [0.8, \"#7fbc41\"], [0.9, \"#4d9221\"], [1, \"#276419\"]], \"sequential\": [[0.0, \"#0d0887\"], [0.1111111111111111, \"#46039f\"], [0.2222222222222222, \"#7201a8\"], [0.3333333333333333, \"#9c179e\"], [0.4444444444444444, \"#bd3786\"], [0.5555555555555556, \"#d8576b\"], [0.6666666666666666, \"#ed7953\"], [0.7777777777777778, \"#fb9f3a\"], [0.8888888888888888, \"#fdca26\"], [1.0, \"#f0f921\"]], \"sequentialminus\": [[0.0, \"#0d0887\"], [0.1111111111111111, \"#46039f\"], [0.2222222222222222, \"#7201a8\"], [0.3333333333333333, \"#9c179e\"], [0.4444444444444444, \"#bd3786\"], [0.5555555555555556, \"#d8576b\"], [0.6666666666666666, \"#ed7953\"], [0.7777777777777778, \"#fb9f3a\"], [0.8888888888888888, \"#fdca26\"], [1.0, \"#f0f921\"]]}, \"colorway\": [\"#636efa\", \"#EF553B\", \"#00cc96\", \"#ab63fa\", \"#FFA15A\", \"#19d3f3\", \"#FF6692\", \"#B6E880\", \"#FF97FF\", \"#FECB52\"], \"font\": {\"color\": \"#2a3f5f\"}, \"geo\": {\"bgcolor\": \"white\", \"lakecolor\": \"white\", \"landcolor\": \"#E5ECF6\", \"showlakes\": true, \"showland\": true, \"subunitcolor\": \"white\"}, \"hoverlabel\": {\"align\": \"left\"}, \"hovermode\": \"closest\", \"mapbox\": {\"style\": \"light\"}, \"paper_bgcolor\": \"white\", \"plot_bgcolor\": \"#E5ECF6\", \"polar\": {\"angularaxis\": {\"gridcolor\": \"white\", \"linecolor\": \"white\", \"ticks\": \"\"}, \"bgcolor\": \"#E5ECF6\", \"radialaxis\": {\"gridcolor\": \"white\", \"linecolor\": \"white\", \"ticks\": \"\"}}, \"scene\": {\"xaxis\": {\"backgroundcolor\": \"#E5ECF6\", \"gridcolor\": \"white\", \"gridwidth\": 2, \"linecolor\": \"white\", \"showbackground\": true, \"ticks\": \"\", \"zerolinecolor\": \"white\"}, \"yaxis\": {\"backgroundcolor\": \"#E5ECF6\", \"gridcolor\": \"white\", \"gridwidth\": 2, \"linecolor\": \"white\", \"showbackground\": true, \"ticks\": \"\", \"zerolinecolor\": \"white\"}, \"zaxis\": {\"backgroundcolor\": \"#E5ECF6\", \"gridcolor\": \"white\", \"gridwidth\": 2, \"linecolor\": \"white\", \"showbackground\": true, \"ticks\": \"\", \"zerolinecolor\": \"white\"}}, \"shapedefaults\": {\"line\": {\"color\": \"#2a3f5f\"}}, \"ternary\": {\"aaxis\": {\"gridcolor\": \"white\", \"linecolor\": \"white\", \"ticks\": \"\"}, \"baxis\": {\"gridcolor\": \"white\", \"linecolor\": \"white\", \"ticks\": \"\"}, \"bgcolor\": \"#E5ECF6\", \"caxis\": {\"gridcolor\": \"white\", \"linecolor\": \"white\", \"ticks\": \"\"}}, \"title\": {\"x\": 0.05}, \"xaxis\": {\"automargin\": true, \"gridcolor\": \"white\", \"linecolor\": \"white\", \"ticks\": \"\", \"title\": {\"standoff\": 15}, \"zerolinecolor\": \"white\", \"zerolinewidth\": 2}, \"yaxis\": {\"automargin\": true, \"gridcolor\": \"white\", \"linecolor\": \"white\", \"ticks\": \"\", \"title\": {\"standoff\": 15}, \"zerolinecolor\": \"white\", \"zerolinewidth\": 2}}}, \"title\": {\"text\": \"Nivel socioecon\\u00f3mico de los no asistentes al teatro\"}, \"xaxis\": {\"color\": \"red\", \"title\": {\"text\": \"Nivel socioecon\\u00f3mico\"}}, \"yaxis\": {\"color\": \"red\", \"title\": {\"text\": \"Porcentaje\"}}},\n",
              "                        {\"responsive\": true}\n",
              "                    ).then(function(){\n",
              "                            \n",
              "var gd = document.getElementById('6f2320cc-f456-4600-9a39-a63be584eeba');\n",
              "var x = new MutationObserver(function (mutations, observer) {{\n",
              "        var display = window.getComputedStyle(gd).display;\n",
              "        if (!display || display === 'none') {{\n",
              "            console.log([gd, 'removed!']);\n",
              "            Plotly.purge(gd);\n",
              "            observer.disconnect();\n",
              "        }}\n",
              "}});\n",
              "\n",
              "// Listen for the removal of the full notebook cells\n",
              "var notebookContainer = gd.closest('#notebook-container');\n",
              "if (notebookContainer) {{\n",
              "    x.observe(notebookContainer, {childList: true});\n",
              "}}\n",
              "\n",
              "// Listen for the clearing of the current output cell\n",
              "var outputEl = gd.closest('.output');\n",
              "if (outputEl) {{\n",
              "    x.observe(outputEl, {childList: true});\n",
              "}}\n",
              "\n",
              "                        })\n",
              "                };\n",
              "                \n",
              "            </script>\n",
              "        </div>\n",
              "</body>\n",
              "</html>"
            ]
          },
          "metadata": {
            "tags": []
          }
        }
      ]
    },
    {
      "cell_type": "markdown",
      "metadata": {
        "id": "gqQ6GBNjwACs"
      },
      "source": [
        "# Hasta ahora vemos que quienes concurrían al teatro en 2017 constituían una minoría concentrada sobre todo en la capital y el centro del país. La mayoría tenía un nivel educativo igual o mayor a la secundaria completa, y más de la mitad eran mujeres. Podríamos querer concluir con estos datos que el teatro es una actividad de elite. Sin embargo, ¿qué pasa con los demás espectáculos que implican una salida del hogar, tales como el cine y los recitales de música?"
      ]
    },
    {
      "cell_type": "markdown",
      "metadata": {
        "id": "VST1r5-mC9ZG"
      },
      "source": [
        "¿Qué pasa con la pregunta 63 (\"¿CONCURRIÓ AL CINE DURANTE EL ÚLTIMO AÑO?\")?"
      ]
    },
    {
      "cell_type": "code",
      "metadata": {
        "id": "lNfxPV82DH6u",
        "colab": {
          "base_uri": "https://localhost:8080/"
        },
        "outputId": "07a81112-5116-48aa-abbc-8a20804a747a"
      },
      "source": [
        "print(df['p63'].value_counts())\n",
        "conc_cine = df[df['p63']=='SI']\n",
        "no_conc_cine = df[df['p63']=='NO']\n",
        "print(f'\\033[92m El {round(len(conc_cine)/len(df)*100)}% concurrió al cine\\\n",
        "\\033[91m mientras que el {round(len(no_conc_cine)/len(df)*100)}% no lo hizo.')"
      ],
      "execution_count": 24,
      "outputs": [
        {
          "output_type": "stream",
          "text": [
            "NO    1692\n",
            "SI    1108\n",
            "Name: p63, dtype: int64\n",
            "\u001b[92m El 40% concurrió al cine\u001b[91m mientras que el 60% no lo hizo.\n"
          ],
          "name": "stdout"
        }
      ]
    },
    {
      "cell_type": "markdown",
      "metadata": {
        "id": "6_c5K39cF5SD"
      },
      "source": [
        "Si bien la concurrencia al cine es más frecuente que la concurrencia al teatro, tampoco representa a la mayoría de los encuestados. Veamos el caso de la pregunta 23: \"¿CONCURRIÓ A RECITALES O PRESENTACIONES DE MÚSICA EN VIVO DURANTE EL ÚLTIMO AÑO?\""
      ]
    },
    {
      "cell_type": "code",
      "metadata": {
        "id": "4BChNHP-GsLF",
        "colab": {
          "base_uri": "https://localhost:8080/"
        },
        "outputId": "4087fb7b-4786-456b-d43c-3f077c9b16e2"
      },
      "source": [
        "print(df['p23'].value_counts())\n",
        "conc_reci = df[df['p23']=='SI']\n",
        "no_conc_reci = df[df['p23']=='NO']\n",
        "print(f'\\033[92m El {round(len(conc_reci)/len(df)*100)}% concurrió a recitales\\\n",
        "\\033[91m mientras que el {round(len(no_conc_reci)/len(df)*100)}% no lo hizo.')"
      ],
      "execution_count": 25,
      "outputs": [
        {
          "output_type": "stream",
          "text": [
            "NO    2082\n",
            "SI     718\n",
            "Name: p23, dtype: int64\n",
            "\u001b[92m El 26% concurrió a recitales\u001b[91m mientras que el 74% no lo hizo.\n"
          ],
          "name": "stdout"
        }
      ]
    },
    {
      "cell_type": "markdown",
      "metadata": {
        "id": "PWYYvyv8CReo"
      },
      "source": [
        "El porcentaje de concurrencia es mayor al del teatro pero sigue siendo bajo y además, según el Informe, ésta y la del cine también disminuyeron entre 2013 y 2017.\n",
        " A continuación observamos que el apartado \"Teatro\" del cuestionario no contiene preguntas acerca del motivo de la no concurrencia. En cambio, para las salas de cine y los recitales de música sí se obtuvieron estos datos (Preguntas '63_1' y '23_1'):"
      ]
    },
    {
      "cell_type": "code",
      "metadata": {
        "id": "SqqFmHu9ISp8",
        "colab": {
          "base_uri": "https://localhost:8080/",
          "height": 542
        },
        "outputId": "4c8b1820-f45c-4b70-9d8a-69e9c2a06a4d"
      },
      "source": [
        "df['p63_1'].value_counts()\n",
        "fig = dict({\n",
        "    \"data\": [{\"type\": \"bar\",\n",
        "              \"x\": df['p63_1'].value_counts().index.tolist(),\n",
        "              \"y\": df['p63_1'].value_counts()}],\n",
        "    \"layout\": {\"title\": {\"text\": \"¿Cuál es el motivo principal por el que no\\\n",
        " acostumbra ir al cine?\"},\n",
        "               'template': 'ggplot2',\n",
        "               'xaxis':{'title':'Motivo','color':'black'},\n",
        "               'yaxis':{'title':'Casos','color':'red'}}\n",
        "})\n",
        "pio.show(fig)"
      ],
      "execution_count": 26,
      "outputs": [
        {
          "output_type": "display_data",
          "data": {
            "text/html": [
              "<html>\n",
              "<head><meta charset=\"utf-8\" /></head>\n",
              "<body>\n",
              "    <div>\n",
              "            <script src=\"https://cdnjs.cloudflare.com/ajax/libs/mathjax/2.7.5/MathJax.js?config=TeX-AMS-MML_SVG\"></script><script type=\"text/javascript\">if (window.MathJax) {MathJax.Hub.Config({SVG: {font: \"STIX-Web\"}});}</script>\n",
              "                <script type=\"text/javascript\">window.PlotlyConfig = {MathJaxConfig: 'local'};</script>\n",
              "        <script src=\"https://cdn.plot.ly/plotly-latest.min.js\"></script>    \n",
              "            <div id=\"7b7533e3-238f-403c-b684-e486f432631d\" class=\"plotly-graph-div\" style=\"height:525px; width:100%;\"></div>\n",
              "            <script type=\"text/javascript\">\n",
              "                \n",
              "                    window.PLOTLYENV=window.PLOTLYENV || {};\n",
              "                    \n",
              "                if (document.getElementById(\"7b7533e3-238f-403c-b684-e486f432631d\")) {\n",
              "                    Plotly.newPlot(\n",
              "                        '7b7533e3-238f-403c-b684-e486f432631d',\n",
              "                        [{\"type\": \"bar\", \"x\": [\"POR FALTA DE TIEMPO\", \"PORQUE NO LE INTERESA\", \"POR FALTA DE DINERO\", \"PORQUE NO LE GUSTA EL CINE\", \"PORQUE IR AL CINE ES MUY CARO\", \"PORQUE NO TENGO NINGUNO CERCA\", \"POR PROBLEMAS DE SALUD EN LA VISTA\", \"NS/NC\", \"UTILIZA OTROS FORMATOS PARA MIRAR PELICULAS\", \"PORQUE TIENE HIJOS PEQUE\\u00d1OS\", \"NO TIENE CON QUIEN IR\", \"NO DAN PELICULAS DE SU INTERES\", \"POR PROBLEMAS DE SALUD (MOVILIDAD)\", \"POR SU EDAD\", \"OTRO\", \"DISCONFORMIDAD CON LA INFRAESTRUCTURA DEL CINE\", \"NUNCA FUE AL CINE\", \"EDAD\"], \"y\": [350, 346, 330, 274, 145, 114, 55, 33, 11, 8, 6, 4, 3, 3, 3, 3, 2, 2]}],\n",
              "                        {\"template\": {\"data\": {\"bar\": [{\"error_x\": {\"color\": \"rgb(51,51,51)\"}, \"error_y\": {\"color\": \"rgb(51,51,51)\"}, \"marker\": {\"line\": {\"color\": \"rgb(237,237,237)\", \"width\": 0.5}}, \"type\": \"bar\"}], \"barpolar\": [{\"marker\": {\"line\": {\"color\": \"rgb(237,237,237)\", \"width\": 0.5}}, \"type\": \"barpolar\"}], \"carpet\": [{\"aaxis\": {\"endlinecolor\": \"rgb(51,51,51)\", \"gridcolor\": \"white\", \"linecolor\": \"white\", \"minorgridcolor\": \"white\", \"startlinecolor\": \"rgb(51,51,51)\"}, \"baxis\": {\"endlinecolor\": \"rgb(51,51,51)\", \"gridcolor\": \"white\", \"linecolor\": \"white\", \"minorgridcolor\": \"white\", \"startlinecolor\": \"rgb(51,51,51)\"}, \"type\": \"carpet\"}], \"choropleth\": [{\"colorbar\": {\"outlinewidth\": 0, \"tickcolor\": \"rgb(237,237,237)\", \"ticklen\": 6, \"ticks\": \"inside\"}, \"type\": \"choropleth\"}], \"contour\": [{\"colorbar\": {\"outlinewidth\": 0, \"tickcolor\": \"rgb(237,237,237)\", \"ticklen\": 6, \"ticks\": \"inside\"}, \"colorscale\": [[0, \"rgb(20,44,66)\"], [1, \"rgb(90,179,244)\"]], \"type\": \"contour\"}], \"contourcarpet\": [{\"colorbar\": {\"outlinewidth\": 0, \"tickcolor\": \"rgb(237,237,237)\", \"ticklen\": 6, \"ticks\": \"inside\"}, \"type\": \"contourcarpet\"}], \"heatmap\": [{\"colorbar\": {\"outlinewidth\": 0, \"tickcolor\": \"rgb(237,237,237)\", \"ticklen\": 6, \"ticks\": \"inside\"}, \"colorscale\": [[0, \"rgb(20,44,66)\"], [1, \"rgb(90,179,244)\"]], \"type\": \"heatmap\"}], \"heatmapgl\": [{\"colorbar\": {\"outlinewidth\": 0, \"tickcolor\": \"rgb(237,237,237)\", \"ticklen\": 6, \"ticks\": \"inside\"}, \"colorscale\": [[0, \"rgb(20,44,66)\"], [1, \"rgb(90,179,244)\"]], \"type\": \"heatmapgl\"}], \"histogram\": [{\"marker\": {\"colorbar\": {\"outlinewidth\": 0, \"tickcolor\": \"rgb(237,237,237)\", \"ticklen\": 6, \"ticks\": \"inside\"}}, \"type\": \"histogram\"}], \"histogram2d\": [{\"colorbar\": {\"outlinewidth\": 0, \"tickcolor\": \"rgb(237,237,237)\", \"ticklen\": 6, \"ticks\": \"inside\"}, \"colorscale\": [[0, \"rgb(20,44,66)\"], [1, \"rgb(90,179,244)\"]], \"type\": \"histogram2d\"}], \"histogram2dcontour\": [{\"colorbar\": {\"outlinewidth\": 0, \"tickcolor\": \"rgb(237,237,237)\", \"ticklen\": 6, \"ticks\": \"inside\"}, \"colorscale\": [[0, \"rgb(20,44,66)\"], [1, \"rgb(90,179,244)\"]], \"type\": \"histogram2dcontour\"}], \"mesh3d\": [{\"colorbar\": {\"outlinewidth\": 0, \"tickcolor\": \"rgb(237,237,237)\", \"ticklen\": 6, \"ticks\": \"inside\"}, \"type\": \"mesh3d\"}], \"parcoords\": [{\"line\": {\"colorbar\": {\"outlinewidth\": 0, \"tickcolor\": \"rgb(237,237,237)\", \"ticklen\": 6, \"ticks\": \"inside\"}}, \"type\": \"parcoords\"}], \"pie\": [{\"automargin\": true, \"type\": \"pie\"}], \"scatter\": [{\"marker\": {\"colorbar\": {\"outlinewidth\": 0, \"tickcolor\": \"rgb(237,237,237)\", \"ticklen\": 6, \"ticks\": \"inside\"}}, \"type\": \"scatter\"}], \"scatter3d\": [{\"line\": {\"colorbar\": {\"outlinewidth\": 0, \"tickcolor\": \"rgb(237,237,237)\", \"ticklen\": 6, \"ticks\": \"inside\"}}, \"marker\": {\"colorbar\": {\"outlinewidth\": 0, \"tickcolor\": \"rgb(237,237,237)\", \"ticklen\": 6, \"ticks\": \"inside\"}}, \"type\": \"scatter3d\"}], \"scattercarpet\": [{\"marker\": {\"colorbar\": {\"outlinewidth\": 0, \"tickcolor\": \"rgb(237,237,237)\", \"ticklen\": 6, \"ticks\": \"inside\"}}, \"type\": \"scattercarpet\"}], \"scattergeo\": [{\"marker\": {\"colorbar\": {\"outlinewidth\": 0, \"tickcolor\": \"rgb(237,237,237)\", \"ticklen\": 6, \"ticks\": \"inside\"}}, \"type\": \"scattergeo\"}], \"scattergl\": [{\"marker\": {\"colorbar\": {\"outlinewidth\": 0, \"tickcolor\": \"rgb(237,237,237)\", \"ticklen\": 6, \"ticks\": \"inside\"}}, \"type\": \"scattergl\"}], \"scattermapbox\": [{\"marker\": {\"colorbar\": {\"outlinewidth\": 0, \"tickcolor\": \"rgb(237,237,237)\", \"ticklen\": 6, \"ticks\": \"inside\"}}, \"type\": \"scattermapbox\"}], \"scatterpolar\": [{\"marker\": {\"colorbar\": {\"outlinewidth\": 0, \"tickcolor\": \"rgb(237,237,237)\", \"ticklen\": 6, \"ticks\": \"inside\"}}, \"type\": \"scatterpolar\"}], \"scatterpolargl\": [{\"marker\": {\"colorbar\": {\"outlinewidth\": 0, \"tickcolor\": \"rgb(237,237,237)\", \"ticklen\": 6, \"ticks\": \"inside\"}}, \"type\": \"scatterpolargl\"}], \"scatterternary\": [{\"marker\": {\"colorbar\": {\"outlinewidth\": 0, \"tickcolor\": \"rgb(237,237,237)\", \"ticklen\": 6, \"ticks\": \"inside\"}}, \"type\": \"scatterternary\"}], \"surface\": [{\"colorbar\": {\"outlinewidth\": 0, \"tickcolor\": \"rgb(237,237,237)\", \"ticklen\": 6, \"ticks\": \"inside\"}, \"colorscale\": [[0, \"rgb(20,44,66)\"], [1, \"rgb(90,179,244)\"]], \"type\": \"surface\"}], \"table\": [{\"cells\": {\"fill\": {\"color\": \"rgb(237,237,237)\"}, \"line\": {\"color\": \"white\"}}, \"header\": {\"fill\": {\"color\": \"rgb(217,217,217)\"}, \"line\": {\"color\": \"white\"}}, \"type\": \"table\"}]}, \"layout\": {\"annotationdefaults\": {\"arrowhead\": 0, \"arrowwidth\": 1}, \"coloraxis\": {\"colorbar\": {\"outlinewidth\": 0, \"tickcolor\": \"rgb(237,237,237)\", \"ticklen\": 6, \"ticks\": \"inside\"}}, \"colorscale\": {\"sequential\": [[0, \"rgb(20,44,66)\"], [1, \"rgb(90,179,244)\"]], \"sequentialminus\": [[0, \"rgb(20,44,66)\"], [1, \"rgb(90,179,244)\"]]}, \"colorway\": [\"#F8766D\", \"#A3A500\", \"#00BF7D\", \"#00B0F6\", \"#E76BF3\"], \"font\": {\"color\": \"rgb(51,51,51)\"}, \"geo\": {\"bgcolor\": \"white\", \"lakecolor\": \"white\", \"landcolor\": \"rgb(237,237,237)\", \"showlakes\": true, \"showland\": true, \"subunitcolor\": \"white\"}, \"hoverlabel\": {\"align\": \"left\"}, \"hovermode\": \"closest\", \"paper_bgcolor\": \"white\", \"plot_bgcolor\": \"rgb(237,237,237)\", \"polar\": {\"angularaxis\": {\"gridcolor\": \"white\", \"linecolor\": \"white\", \"showgrid\": true, \"tickcolor\": \"rgb(51,51,51)\", \"ticks\": \"outside\"}, \"bgcolor\": \"rgb(237,237,237)\", \"radialaxis\": {\"gridcolor\": \"white\", \"linecolor\": \"white\", \"showgrid\": true, \"tickcolor\": \"rgb(51,51,51)\", \"ticks\": \"outside\"}}, \"scene\": {\"xaxis\": {\"backgroundcolor\": \"rgb(237,237,237)\", \"gridcolor\": \"white\", \"gridwidth\": 2, \"linecolor\": \"white\", \"showbackground\": true, \"showgrid\": true, \"tickcolor\": \"rgb(51,51,51)\", \"ticks\": \"outside\", \"zerolinecolor\": \"white\"}, \"yaxis\": {\"backgroundcolor\": \"rgb(237,237,237)\", \"gridcolor\": \"white\", \"gridwidth\": 2, \"linecolor\": \"white\", \"showbackground\": true, \"showgrid\": true, \"tickcolor\": \"rgb(51,51,51)\", \"ticks\": \"outside\", \"zerolinecolor\": \"white\"}, \"zaxis\": {\"backgroundcolor\": \"rgb(237,237,237)\", \"gridcolor\": \"white\", \"gridwidth\": 2, \"linecolor\": \"white\", \"showbackground\": true, \"showgrid\": true, \"tickcolor\": \"rgb(51,51,51)\", \"ticks\": \"outside\", \"zerolinecolor\": \"white\"}}, \"shapedefaults\": {\"fillcolor\": \"black\", \"line\": {\"width\": 0}, \"opacity\": 0.3}, \"ternary\": {\"aaxis\": {\"gridcolor\": \"white\", \"linecolor\": \"white\", \"showgrid\": true, \"tickcolor\": \"rgb(51,51,51)\", \"ticks\": \"outside\"}, \"baxis\": {\"gridcolor\": \"white\", \"linecolor\": \"white\", \"showgrid\": true, \"tickcolor\": \"rgb(51,51,51)\", \"ticks\": \"outside\"}, \"bgcolor\": \"rgb(237,237,237)\", \"caxis\": {\"gridcolor\": \"white\", \"linecolor\": \"white\", \"showgrid\": true, \"tickcolor\": \"rgb(51,51,51)\", \"ticks\": \"outside\"}}, \"xaxis\": {\"automargin\": true, \"gridcolor\": \"white\", \"linecolor\": \"white\", \"showgrid\": true, \"tickcolor\": \"rgb(51,51,51)\", \"ticks\": \"outside\", \"title\": {\"standoff\": 15}, \"zerolinecolor\": \"white\"}, \"yaxis\": {\"automargin\": true, \"gridcolor\": \"white\", \"linecolor\": \"white\", \"showgrid\": true, \"tickcolor\": \"rgb(51,51,51)\", \"ticks\": \"outside\", \"title\": {\"standoff\": 15}, \"zerolinecolor\": \"white\"}}}, \"title\": {\"text\": \"\\u00bfCu\\u00e1l es el motivo principal por el que no acostumbra ir al cine?\"}, \"xaxis\": {\"color\": \"black\", \"title\": {\"text\": \"Motivo\"}}, \"yaxis\": {\"color\": \"red\", \"title\": {\"text\": \"Casos\"}}},\n",
              "                        {\"responsive\": true}\n",
              "                    ).then(function(){\n",
              "                            \n",
              "var gd = document.getElementById('7b7533e3-238f-403c-b684-e486f432631d');\n",
              "var x = new MutationObserver(function (mutations, observer) {{\n",
              "        var display = window.getComputedStyle(gd).display;\n",
              "        if (!display || display === 'none') {{\n",
              "            console.log([gd, 'removed!']);\n",
              "            Plotly.purge(gd);\n",
              "            observer.disconnect();\n",
              "        }}\n",
              "}});\n",
              "\n",
              "// Listen for the removal of the full notebook cells\n",
              "var notebookContainer = gd.closest('#notebook-container');\n",
              "if (notebookContainer) {{\n",
              "    x.observe(notebookContainer, {childList: true});\n",
              "}}\n",
              "\n",
              "// Listen for the clearing of the current output cell\n",
              "var outputEl = gd.closest('.output');\n",
              "if (outputEl) {{\n",
              "    x.observe(outputEl, {childList: true});\n",
              "}}\n",
              "\n",
              "                        })\n",
              "                };\n",
              "                \n",
              "            </script>\n",
              "        </div>\n",
              "</body>\n",
              "</html>"
            ]
          },
          "metadata": {
            "tags": []
          }
        }
      ]
    },
    {
      "cell_type": "code",
      "metadata": {
        "id": "62R1yAfjNNOM",
        "colab": {
          "base_uri": "https://localhost:8080/",
          "height": 542
        },
        "outputId": "d0f3b989-3103-4275-929d-69fbca688b84"
      },
      "source": [
        "df['p23_1'].value_counts()\n",
        "fig = dict({\n",
        "    \"data\": [{\"type\": \"bar\",\n",
        "              \"x\": df['p23_1'].value_counts().index.tolist(),\n",
        "              \"y\": df['p23_1'].value_counts()}],\n",
        "    \"layout\": {\"title\": {\"text\": \"¿Cuál es el motivo principal por el que no\\\n",
        " concurre a recitales?\"},\n",
        "               'template': 'simple_white',\n",
        "               'xaxis':{'title':'Motivo','color':'red'},\n",
        "               'yaxis':{'title':'Casos','color':'red'}}\n",
        "})\n",
        "pio.show(fig)"
      ],
      "execution_count": 27,
      "outputs": [
        {
          "output_type": "display_data",
          "data": {
            "text/html": [
              "<html>\n",
              "<head><meta charset=\"utf-8\" /></head>\n",
              "<body>\n",
              "    <div>\n",
              "            <script src=\"https://cdnjs.cloudflare.com/ajax/libs/mathjax/2.7.5/MathJax.js?config=TeX-AMS-MML_SVG\"></script><script type=\"text/javascript\">if (window.MathJax) {MathJax.Hub.Config({SVG: {font: \"STIX-Web\"}});}</script>\n",
              "                <script type=\"text/javascript\">window.PlotlyConfig = {MathJaxConfig: 'local'};</script>\n",
              "        <script src=\"https://cdn.plot.ly/plotly-latest.min.js\"></script>    \n",
              "            <div id=\"6d9fe8f1-8394-404c-b46d-16f8c43ab46d\" class=\"plotly-graph-div\" style=\"height:525px; width:100%;\"></div>\n",
              "            <script type=\"text/javascript\">\n",
              "                \n",
              "                    window.PLOTLYENV=window.PLOTLYENV || {};\n",
              "                    \n",
              "                if (document.getElementById(\"6d9fe8f1-8394-404c-b46d-16f8c43ab46d\")) {\n",
              "                    Plotly.newPlot(\n",
              "                        '6d9fe8f1-8394-404c-b46d-16f8c43ab46d',\n",
              "                        [{\"type\": \"bar\", \"x\": [\"PORQUE NO LE INTERESA\", \"PORQUE NO LE GUSTA IR A RECITALES\", \"POR FALTA DE TIEMPO\", \"POR FALTA DE DINERO\", \"PORQUE NO TIENE CON QUIEN IR\", \"PORQUE LAS ENTRADAS ESTAN CARAS\", \"PORQUE NO TOCAN CERCA\", \"POR PROBLEMAS DE SALUD\", \"POR SU EDAD\", \"PORQUE NO SE ENTERA\", \"NO LE DAN PERMISO PARA IR\", \"NS/NC\", \"PORQUE NO TOCAN ARTISTAS DE SU INTERES\", \"POR INSEGURIDAD\", \"PORQUE TIENE HIJOS PEQUE\\u00d1OS\", \"OTRO\", \"POR RELIGION\", \"POR TRABAJO\"], \"y\": [589, 410, 320, 258, 114, 95, 73, 72, 31, 31, 29, 23, 10, 7, 7, 7, 3, 3]}],\n",
              "                        {\"template\": {\"data\": {\"bar\": [{\"error_x\": {\"color\": \"rgb(36,36,36)\"}, \"error_y\": {\"color\": \"rgb(36,36,36)\"}, \"marker\": {\"line\": {\"color\": \"white\", \"width\": 0.5}}, \"type\": \"bar\"}], \"barpolar\": [{\"marker\": {\"line\": {\"color\": \"white\", \"width\": 0.5}}, \"type\": \"barpolar\"}], \"carpet\": [{\"aaxis\": {\"endlinecolor\": \"rgb(36,36,36)\", \"gridcolor\": \"white\", \"linecolor\": \"white\", \"minorgridcolor\": \"white\", \"startlinecolor\": \"rgb(36,36,36)\"}, \"baxis\": {\"endlinecolor\": \"rgb(36,36,36)\", \"gridcolor\": \"white\", \"linecolor\": \"white\", \"minorgridcolor\": \"white\", \"startlinecolor\": \"rgb(36,36,36)\"}, \"type\": \"carpet\"}], \"choropleth\": [{\"colorbar\": {\"outlinewidth\": 10, \"tickcolor\": \"rgb(36,36,36)\", \"ticklen\": 8, \"ticks\": \"outside\", \"tickwidth\": 2}, \"type\": \"choropleth\"}], \"contour\": [{\"colorbar\": {\"outlinewidth\": 10, \"tickcolor\": \"rgb(36,36,36)\", \"ticklen\": 8, \"ticks\": \"outside\", \"tickwidth\": 2}, \"colorscale\": [[0.0, \"#440154\"], [0.1111111111111111, \"#482878\"], [0.2222222222222222, \"#3e4989\"], [0.3333333333333333, \"#31688e\"], [0.4444444444444444, \"#26828e\"], [0.5555555555555556, \"#1f9e89\"], [0.6666666666666666, \"#35b779\"], [0.7777777777777778, \"#6ece58\"], [0.8888888888888888, \"#b5de2b\"], [1.0, \"#fde725\"]], \"type\": \"contour\"}], \"contourcarpet\": [{\"colorbar\": {\"outlinewidth\": 10, \"tickcolor\": \"rgb(36,36,36)\", \"ticklen\": 8, \"ticks\": \"outside\", \"tickwidth\": 2}, \"type\": \"contourcarpet\"}], \"heatmap\": [{\"colorbar\": {\"outlinewidth\": 10, \"tickcolor\": \"rgb(36,36,36)\", \"ticklen\": 8, \"ticks\": \"outside\", \"tickwidth\": 2}, \"colorscale\": [[0.0, \"#440154\"], [0.1111111111111111, \"#482878\"], [0.2222222222222222, \"#3e4989\"], [0.3333333333333333, \"#31688e\"], [0.4444444444444444, \"#26828e\"], [0.5555555555555556, \"#1f9e89\"], [0.6666666666666666, \"#35b779\"], [0.7777777777777778, \"#6ece58\"], [0.8888888888888888, \"#b5de2b\"], [1.0, \"#fde725\"]], \"type\": \"heatmap\"}], \"heatmapgl\": [{\"colorbar\": {\"outlinewidth\": 10, \"tickcolor\": \"rgb(36,36,36)\", \"ticklen\": 8, \"ticks\": \"outside\", \"tickwidth\": 2}, \"colorscale\": [[0.0, \"#440154\"], [0.1111111111111111, \"#482878\"], [0.2222222222222222, \"#3e4989\"], [0.3333333333333333, \"#31688e\"], [0.4444444444444444, \"#26828e\"], [0.5555555555555556, \"#1f9e89\"], [0.6666666666666666, \"#35b779\"], [0.7777777777777778, \"#6ece58\"], [0.8888888888888888, \"#b5de2b\"], [1.0, \"#fde725\"]], \"type\": \"heatmapgl\"}], \"histogram\": [{\"marker\": {\"line\": {\"color\": \"white\", \"width\": 0.6}}, \"type\": \"histogram\"}], \"histogram2d\": [{\"colorbar\": {\"outlinewidth\": 10, \"tickcolor\": \"rgb(36,36,36)\", \"ticklen\": 8, \"ticks\": \"outside\", \"tickwidth\": 2}, \"colorscale\": [[0.0, \"#440154\"], [0.1111111111111111, \"#482878\"], [0.2222222222222222, \"#3e4989\"], [0.3333333333333333, \"#31688e\"], [0.4444444444444444, \"#26828e\"], [0.5555555555555556, \"#1f9e89\"], [0.6666666666666666, \"#35b779\"], [0.7777777777777778, \"#6ece58\"], [0.8888888888888888, \"#b5de2b\"], [1.0, \"#fde725\"]], \"type\": \"histogram2d\"}], \"histogram2dcontour\": [{\"colorbar\": {\"outlinewidth\": 10, \"tickcolor\": \"rgb(36,36,36)\", \"ticklen\": 8, \"ticks\": \"outside\", \"tickwidth\": 2}, \"colorscale\": [[0.0, \"#440154\"], [0.1111111111111111, \"#482878\"], [0.2222222222222222, \"#3e4989\"], [0.3333333333333333, \"#31688e\"], [0.4444444444444444, \"#26828e\"], [0.5555555555555556, \"#1f9e89\"], [0.6666666666666666, \"#35b779\"], [0.7777777777777778, \"#6ece58\"], [0.8888888888888888, \"#b5de2b\"], [1.0, \"#fde725\"]], \"type\": \"histogram2dcontour\"}], \"mesh3d\": [{\"colorbar\": {\"outlinewidth\": 10, \"tickcolor\": \"rgb(36,36,36)\", \"ticklen\": 8, \"ticks\": \"outside\", \"tickwidth\": 2}, \"type\": \"mesh3d\"}], \"parcoords\": [{\"line\": {\"colorbar\": {\"outlinewidth\": 10, \"tickcolor\": \"rgb(36,36,36)\", \"ticklen\": 8, \"ticks\": \"outside\", \"tickwidth\": 2}}, \"type\": \"parcoords\"}], \"pie\": [{\"automargin\": true, \"type\": \"pie\"}], \"scatter\": [{\"marker\": {\"colorbar\": {\"outlinewidth\": 10, \"tickcolor\": \"rgb(36,36,36)\", \"ticklen\": 8, \"ticks\": \"outside\", \"tickwidth\": 2}}, \"type\": \"scatter\"}], \"scatter3d\": [{\"line\": {\"colorbar\": {\"outlinewidth\": 10, \"tickcolor\": \"rgb(36,36,36)\", \"ticklen\": 8, \"ticks\": \"outside\", \"tickwidth\": 2}}, \"marker\": {\"colorbar\": {\"outlinewidth\": 10, \"tickcolor\": \"rgb(36,36,36)\", \"ticklen\": 8, \"ticks\": \"outside\", \"tickwidth\": 2}}, \"type\": \"scatter3d\"}], \"scattercarpet\": [{\"marker\": {\"colorbar\": {\"outlinewidth\": 10, \"tickcolor\": \"rgb(36,36,36)\", \"ticklen\": 8, \"ticks\": \"outside\", \"tickwidth\": 2}}, \"type\": \"scattercarpet\"}], \"scattergeo\": [{\"marker\": {\"colorbar\": {\"outlinewidth\": 10, \"tickcolor\": \"rgb(36,36,36)\", \"ticklen\": 8, \"ticks\": \"outside\", \"tickwidth\": 2}}, \"type\": \"scattergeo\"}], \"scattergl\": [{\"marker\": {\"colorbar\": {\"outlinewidth\": 10, \"tickcolor\": \"rgb(36,36,36)\", \"ticklen\": 8, \"ticks\": \"outside\", \"tickwidth\": 2}}, \"type\": \"scattergl\"}], \"scattermapbox\": [{\"marker\": {\"colorbar\": {\"outlinewidth\": 10, \"tickcolor\": \"rgb(36,36,36)\", \"ticklen\": 8, \"ticks\": \"outside\", \"tickwidth\": 2}}, \"type\": \"scattermapbox\"}], \"scatterpolar\": [{\"marker\": {\"colorbar\": {\"outlinewidth\": 10, \"tickcolor\": \"rgb(36,36,36)\", \"ticklen\": 8, \"ticks\": \"outside\", \"tickwidth\": 2}}, \"type\": \"scatterpolar\"}], \"scatterpolargl\": [{\"marker\": {\"colorbar\": {\"outlinewidth\": 10, \"tickcolor\": \"rgb(36,36,36)\", \"ticklen\": 8, \"ticks\": \"outside\", \"tickwidth\": 2}}, \"type\": \"scatterpolargl\"}], \"scatterternary\": [{\"marker\": {\"colorbar\": {\"outlinewidth\": 10, \"tickcolor\": \"rgb(36,36,36)\", \"ticklen\": 8, \"ticks\": \"outside\", \"tickwidth\": 2}}, \"type\": \"scatterternary\"}], \"surface\": [{\"colorbar\": {\"outlinewidth\": 10, \"tickcolor\": \"rgb(36,36,36)\", \"ticklen\": 8, \"ticks\": \"outside\", \"tickwidth\": 2}, \"colorscale\": [[0.0, \"#440154\"], [0.1111111111111111, \"#482878\"], [0.2222222222222222, \"#3e4989\"], [0.3333333333333333, \"#31688e\"], [0.4444444444444444, \"#26828e\"], [0.5555555555555556, \"#1f9e89\"], [0.6666666666666666, \"#35b779\"], [0.7777777777777778, \"#6ece58\"], [0.8888888888888888, \"#b5de2b\"], [1.0, \"#fde725\"]], \"type\": \"surface\"}], \"table\": [{\"cells\": {\"fill\": {\"color\": \"rgb(237,237,237)\"}, \"line\": {\"color\": \"white\"}}, \"header\": {\"fill\": {\"color\": \"rgb(217,217,217)\"}, \"line\": {\"color\": \"white\"}}, \"type\": \"table\"}]}, \"layout\": {\"annotationdefaults\": {\"arrowhead\": 0, \"arrowwidth\": 1}, \"coloraxis\": {\"colorbar\": {\"outlinewidth\": 10, \"tickcolor\": \"rgb(36,36,36)\", \"ticklen\": 8, \"ticks\": \"outside\", \"tickwidth\": 2}}, \"colorscale\": {\"diverging\": [[0.0, \"rgb(103,0,31)\"], [0.1, \"rgb(178,24,43)\"], [0.2, \"rgb(214,96,77)\"], [0.3, \"rgb(244,165,130)\"], [0.4, \"rgb(253,219,199)\"], [0.5, \"rgb(247,247,247)\"], [0.6, \"rgb(209,229,240)\"], [0.7, \"rgb(146,197,222)\"], [0.8, \"rgb(67,147,195)\"], [0.9, \"rgb(33,102,172)\"], [1.0, \"rgb(5,48,97)\"]], \"sequential\": [[0.0, \"#440154\"], [0.1111111111111111, \"#482878\"], [0.2222222222222222, \"#3e4989\"], [0.3333333333333333, \"#31688e\"], [0.4444444444444444, \"#26828e\"], [0.5555555555555556, \"#1f9e89\"], [0.6666666666666666, \"#35b779\"], [0.7777777777777778, \"#6ece58\"], [0.8888888888888888, \"#b5de2b\"], [1.0, \"#fde725\"]], \"sequentialminus\": [[0.0, \"#440154\"], [0.1111111111111111, \"#482878\"], [0.2222222222222222, \"#3e4989\"], [0.3333333333333333, \"#31688e\"], [0.4444444444444444, \"#26828e\"], [0.5555555555555556, \"#1f9e89\"], [0.6666666666666666, \"#35b779\"], [0.7777777777777778, \"#6ece58\"], [0.8888888888888888, \"#b5de2b\"], [1.0, \"#fde725\"]]}, \"colorway\": [\"#1F77B4\", \"#FF7F0E\", \"#2CA02C\", \"#D62728\", \"#9467BD\", \"#8C564B\", \"#E377C2\", \"#7F7F7F\", \"#BCBD22\", \"#17BECF\"], \"font\": {\"color\": \"rgb(36,36,36)\"}, \"geo\": {\"bgcolor\": \"white\", \"lakecolor\": \"white\", \"landcolor\": \"white\", \"showlakes\": true, \"showland\": true, \"subunitcolor\": \"white\"}, \"hoverlabel\": {\"align\": \"left\"}, \"hovermode\": \"closest\", \"mapbox\": {\"style\": \"light\"}, \"paper_bgcolor\": \"white\", \"plot_bgcolor\": \"white\", \"polar\": {\"angularaxis\": {\"gridcolor\": \"rgb(232,232,232)\", \"linecolor\": \"rgb(36,36,36)\", \"showgrid\": false, \"showline\": true, \"ticks\": \"outside\"}, \"bgcolor\": \"white\", \"radialaxis\": {\"gridcolor\": \"rgb(232,232,232)\", \"linecolor\": \"rgb(36,36,36)\", \"showgrid\": false, \"showline\": true, \"ticks\": \"outside\"}}, \"scene\": {\"xaxis\": {\"backgroundcolor\": \"white\", \"gridcolor\": \"rgb(232,232,232)\", \"gridwidth\": 2, \"linecolor\": \"rgb(36,36,36)\", \"showbackground\": true, \"showgrid\": false, \"showline\": true, \"ticks\": \"outside\", \"zeroline\": false, \"zerolinecolor\": \"rgb(36,36,36)\"}, \"yaxis\": {\"backgroundcolor\": \"white\", \"gridcolor\": \"rgb(232,232,232)\", \"gridwidth\": 2, \"linecolor\": \"rgb(36,36,36)\", \"showbackground\": true, \"showgrid\": false, \"showline\": true, \"ticks\": \"outside\", \"zeroline\": false, \"zerolinecolor\": \"rgb(36,36,36)\"}, \"zaxis\": {\"backgroundcolor\": \"white\", \"gridcolor\": \"rgb(232,232,232)\", \"gridwidth\": 2, \"linecolor\": \"rgb(36,36,36)\", \"showbackground\": true, \"showgrid\": false, \"showline\": true, \"ticks\": \"outside\", \"zeroline\": false, \"zerolinecolor\": \"rgb(36,36,36)\"}}, \"shapedefaults\": {\"fillcolor\": \"black\", \"line\": {\"width\": 0}, \"opacity\": 0.3}, \"ternary\": {\"aaxis\": {\"gridcolor\": \"rgb(232,232,232)\", \"linecolor\": \"rgb(36,36,36)\", \"showgrid\": false, \"showline\": true, \"ticks\": \"outside\"}, \"baxis\": {\"gridcolor\": \"rgb(232,232,232)\", \"linecolor\": \"rgb(36,36,36)\", \"showgrid\": false, \"showline\": true, \"ticks\": \"outside\"}, \"bgcolor\": \"white\", \"caxis\": {\"gridcolor\": \"rgb(232,232,232)\", \"linecolor\": \"rgb(36,36,36)\", \"showgrid\": false, \"showline\": true, \"ticks\": \"outside\"}}, \"title\": {\"x\": 0.05}, \"xaxis\": {\"automargin\": true, \"gridcolor\": \"rgb(232,232,232)\", \"linecolor\": \"rgb(36,36,36)\", \"showgrid\": false, \"showline\": true, \"ticks\": \"outside\", \"title\": {\"standoff\": 15}, \"zeroline\": false, \"zerolinecolor\": \"rgb(36,36,36)\"}, \"yaxis\": {\"automargin\": true, \"gridcolor\": \"rgb(232,232,232)\", \"linecolor\": \"rgb(36,36,36)\", \"showgrid\": false, \"showline\": true, \"ticks\": \"outside\", \"title\": {\"standoff\": 15}, \"zeroline\": false, \"zerolinecolor\": \"rgb(36,36,36)\"}}}, \"title\": {\"text\": \"\\u00bfCu\\u00e1l es el motivo principal por el que no concurre a recitales?\"}, \"xaxis\": {\"color\": \"red\", \"title\": {\"text\": \"Motivo\"}}, \"yaxis\": {\"color\": \"red\", \"title\": {\"text\": \"Casos\"}}},\n",
              "                        {\"responsive\": true}\n",
              "                    ).then(function(){\n",
              "                            \n",
              "var gd = document.getElementById('6d9fe8f1-8394-404c-b46d-16f8c43ab46d');\n",
              "var x = new MutationObserver(function (mutations, observer) {{\n",
              "        var display = window.getComputedStyle(gd).display;\n",
              "        if (!display || display === 'none') {{\n",
              "            console.log([gd, 'removed!']);\n",
              "            Plotly.purge(gd);\n",
              "            observer.disconnect();\n",
              "        }}\n",
              "}});\n",
              "\n",
              "// Listen for the removal of the full notebook cells\n",
              "var notebookContainer = gd.closest('#notebook-container');\n",
              "if (notebookContainer) {{\n",
              "    x.observe(notebookContainer, {childList: true});\n",
              "}}\n",
              "\n",
              "// Listen for the clearing of the current output cell\n",
              "var outputEl = gd.closest('.output');\n",
              "if (outputEl) {{\n",
              "    x.observe(outputEl, {childList: true});\n",
              "}}\n",
              "\n",
              "                        })\n",
              "                };\n",
              "                \n",
              "            </script>\n",
              "        </div>\n",
              "</body>\n",
              "</html>"
            ]
          },
          "metadata": {
            "tags": []
          }
        }
      ]
    },
    {
      "cell_type": "markdown",
      "metadata": {
        "id": "2JRK_6EbNv9B"
      },
      "source": [
        "# Parece que la falta de interés, gusto y/o tiempo son los motivos más frecuentes por los cuales la mayoría no consume estas actividades culturales que implican una salida del hogar."
      ]
    },
    {
      "cell_type": "markdown",
      "metadata": {
        "id": "2hPDQo_8Obul"
      },
      "source": [
        "Ahora, quienes sí concurren al cine y a recitales de música, ¿irán al teatro también?"
      ]
    },
    {
      "cell_type": "code",
      "metadata": {
        "id": "d3jGRdqFOs7D",
        "colab": {
          "base_uri": "https://localhost:8080/"
        },
        "outputId": "6b6d5d71-c469-467a-980e-a87d895f182f"
      },
      "source": [
        "cine_y_musica = df.query('p63 == \"SI\" & p23 == \"SI\"')\n",
        "asist_cinmustea = cine_y_musica.query('p68 == \"SI\"')\n",
        "print(f'\\033[92mHay {len(cine_y_musica)} casos que van al cine y a recitales.\\n De ellos,\\\n",
        " {len(asist_cinmustea)} van también al teatro.\\n Esto supone un {round(len(cin_mus_tea)/\\\n",
        "  len(cine_y_musica)*100)}%.')"
      ],
      "execution_count": 54,
      "outputs": [
        {
          "output_type": "stream",
          "text": [
            "\u001b[92mHay 429 casos que van al cine y a recitales.\n",
            " De ellos, 113 van también al teatro.\n",
            " Esto supone un 26%.\n"
          ],
          "name": "stdout"
        }
      ]
    },
    {
      "cell_type": "code",
      "metadata": {
        "id": "Ldcmj9yDGtc0"
      },
      "source": [
        "#Creamos una nueva serie uniendo las de asistencia al cine y a recitales de música.\n",
        "df['cine_y_musica'] = df['p63'] + df['p23']"
      ],
      "execution_count": 30,
      "outputs": []
    },
    {
      "cell_type": "code",
      "metadata": {
        "id": "NlD_3zkcHDcl"
      },
      "source": [
        "#Modificamos los nombres de los casos con expresiones regulares\n",
        "import re\n",
        "patron = re.compile('.{4}')\n",
        "df['cine_y_musica'] = df['cine_y_musica'].str.replace('SISI', 'SI').replace(patron,'NO')"
      ],
      "execution_count": 36,
      "outputs": []
    },
    {
      "cell_type": "code",
      "metadata": {
        "colab": {
          "base_uri": "https://localhost:8080/",
          "height": 417
        },
        "id": "g0Q-bQcGCksS",
        "outputId": "cc18cedd-4ca7-48c6-b007-ada3fecacf6a"
      },
      "source": [
        " fig = px.pie(df, values='id', names=df['cine_y_musica'],\\\n",
        "             title='Asistentes a cines y recitales de música',\n",
        "              width=450,height=400)\n",
        "fig.show()"
      ],
      "execution_count": 32,
      "outputs": [
        {
          "output_type": "display_data",
          "data": {
            "text/html": [
              "<html>\n",
              "<head><meta charset=\"utf-8\" /></head>\n",
              "<body>\n",
              "    <div>\n",
              "            <script src=\"https://cdnjs.cloudflare.com/ajax/libs/mathjax/2.7.5/MathJax.js?config=TeX-AMS-MML_SVG\"></script><script type=\"text/javascript\">if (window.MathJax) {MathJax.Hub.Config({SVG: {font: \"STIX-Web\"}});}</script>\n",
              "                <script type=\"text/javascript\">window.PlotlyConfig = {MathJaxConfig: 'local'};</script>\n",
              "        <script src=\"https://cdn.plot.ly/plotly-latest.min.js\"></script>    \n",
              "            <div id=\"8697d17a-c2e5-40be-8d44-ecf78aac8a44\" class=\"plotly-graph-div\" style=\"height:400px; width:450px;\"></div>\n",
              "            <script type=\"text/javascript\">\n",
              "                \n",
              "                    window.PLOTLYENV=window.PLOTLYENV || {};\n",
              "                    \n",
              "                if (document.getElementById(\"8697d17a-c2e5-40be-8d44-ecf78aac8a44\")) {\n",
              "                    Plotly.newPlot(\n",
              "                        '8697d17a-c2e5-40be-8d44-ecf78aac8a44',\n",
              "                        [{\"domain\": {\"x\": [0.0, 1.0], \"y\": [0.0, 1.0]}, \"hoverlabel\": {\"namelength\": 0}, \"hovertemplate\": \"cine_y_musica=%{label}<br>id=%{value}\", \"labels\": [\"NO\", \"SI\", \"NO\", \"SI\", \"NO\", \"NO\", \"SI\", \"SI\", \"NO\", \"NO\", \"NO\", \"SI\", \"NO\", \"NO\", \"NO\", \"NO\", \"NO\", \"SI\", \"NO\", \"NO\", \"NO\", \"NO\", \"NO\", \"SI\", \"SI\", \"NO\", \"SI\", \"NO\", \"NO\", \"SI\", \"NO\", \"NO\", \"NO\", \"NO\", \"NO\", \"NO\", \"NO\", \"NO\", \"NO\", \"NO\", \"NO\", \"NO\", \"NO\", \"NO\", \"NO\", \"NO\", \"NO\", \"NO\", \"NO\", \"NO\", \"NO\", \"SI\", \"NO\", \"NO\", \"NO\", \"NO\", \"NO\", \"NO\", \"NO\", \"NO\", \"NO\", \"SI\", \"NO\", \"NO\", \"NO\", \"NO\", \"NO\", \"NO\", \"NO\", \"NO\", \"NO\", \"NO\", \"NO\", \"NO\", \"NO\", \"NO\", \"NO\", \"NO\", \"NO\", \"NO\", \"NO\", \"SI\", \"SI\", \"NO\", \"SI\", \"NO\", \"NO\", \"NO\", \"NO\", \"NO\", \"NO\", \"SI\", \"NO\", \"NO\", \"NO\", \"SI\", \"NO\", \"NO\", \"SI\", \"NO\", \"NO\", \"NO\", \"NO\", \"NO\", \"NO\", \"NO\", \"NO\", \"NO\", \"NO\", \"NO\", \"NO\", \"NO\", \"NO\", \"NO\", \"NO\", \"NO\", \"NO\", \"NO\", \"NO\", \"NO\", \"NO\", \"SI\", \"SI\", \"SI\", \"NO\", \"NO\", \"SI\", \"NO\", \"SI\", \"SI\", \"NO\", \"NO\", \"NO\", \"NO\", \"NO\", \"NO\", \"NO\", \"NO\", \"NO\", \"SI\", \"NO\", \"NO\", \"NO\", \"NO\", \"NO\", \"NO\", \"NO\", \"NO\", \"NO\", \"NO\", \"NO\", \"NO\", \"NO\", \"NO\", \"NO\", \"NO\", \"NO\", \"NO\", \"NO\", \"NO\", \"NO\", \"NO\", \"NO\", \"NO\", \"NO\", \"NO\", \"NO\", \"NO\", \"NO\", \"NO\", \"NO\", \"NO\", \"NO\", \"NO\", \"NO\", \"SI\", \"NO\", \"NO\", \"NO\", \"NO\", \"NO\", \"NO\", \"SI\", \"NO\", \"NO\", \"NO\", \"NO\", \"NO\", \"NO\", \"NO\", \"NO\", \"NO\", \"NO\", \"NO\", \"NO\", \"NO\", \"NO\", \"NO\", \"NO\", \"NO\", \"NO\", \"NO\", \"SI\", \"NO\", \"NO\", \"NO\", \"NO\", \"NO\", \"NO\", \"NO\", \"NO\", \"NO\", \"SI\", \"SI\", \"NO\", \"SI\", \"SI\", \"SI\", \"NO\", \"NO\", \"NO\", \"SI\", \"NO\", \"NO\", \"NO\", \"NO\", \"NO\", \"NO\", \"NO\", \"SI\", \"NO\", \"NO\", \"NO\", \"NO\", \"SI\", \"NO\", \"NO\", \"NO\", \"NO\", \"NO\", \"NO\", \"NO\", \"NO\", \"NO\", \"NO\", \"NO\", \"NO\", \"SI\", \"SI\", \"NO\", \"NO\", \"NO\", \"NO\", \"NO\", \"NO\", \"NO\", \"NO\", \"NO\", \"NO\", \"NO\", \"NO\", \"NO\", \"SI\", \"NO\", \"NO\", \"SI\", \"SI\", \"NO\", \"NO\", \"NO\", \"SI\", \"NO\", \"NO\", \"NO\", \"NO\", \"SI\", \"NO\", \"NO\", \"NO\", \"NO\", \"SI\", \"NO\", \"NO\", \"NO\", \"NO\", \"NO\", \"SI\", \"NO\", \"SI\", \"NO\", \"NO\", \"NO\", \"NO\", \"NO\", \"NO\", \"SI\", \"SI\", \"NO\", \"NO\", \"NO\", \"NO\", \"NO\", \"NO\", \"NO\", \"NO\", \"NO\", \"NO\", \"NO\", \"NO\", \"NO\", \"NO\", \"SI\", \"NO\", \"SI\", \"NO\", \"SI\", \"NO\", \"NO\", \"NO\", \"NO\", \"NO\", \"NO\", \"NO\", \"NO\", \"SI\", \"NO\", \"NO\", \"NO\", \"NO\", \"NO\", \"NO\", \"NO\", \"NO\", \"SI\", \"NO\", \"NO\", \"NO\", \"NO\", \"NO\", \"NO\", \"NO\", \"SI\", \"NO\", \"NO\", \"NO\", \"NO\", \"NO\", \"NO\", \"NO\", \"NO\", \"SI\", \"NO\", \"NO\", \"NO\", \"NO\", \"NO\", \"SI\", \"NO\", \"NO\", \"NO\", \"NO\", \"NO\", \"NO\", \"NO\", \"NO\", \"NO\", \"SI\", \"NO\", \"NO\", \"NO\", \"NO\", \"NO\", \"NO\", \"NO\", \"NO\", \"NO\", \"NO\", \"NO\", \"NO\", \"NO\", \"NO\", \"NO\", \"NO\", \"NO\", \"NO\", \"NO\", \"NO\", \"NO\", \"NO\", \"NO\", \"NO\", \"NO\", \"NO\", \"NO\", \"NO\", \"NO\", \"NO\", \"NO\", \"NO\", \"NO\", \"NO\", \"NO\", \"NO\", \"NO\", \"NO\", \"NO\", \"NO\", \"NO\", \"NO\", \"NO\", \"NO\", \"NO\", \"NO\", \"NO\", \"NO\", \"NO\", \"NO\", \"NO\", \"NO\", \"NO\", \"NO\", \"NO\", \"NO\", \"NO\", \"NO\", \"NO\", \"NO\", \"NO\", \"NO\", \"NO\", \"NO\", \"NO\", \"NO\", \"NO\", \"NO\", \"NO\", \"SI\", \"SI\", \"NO\", \"NO\", \"NO\", \"NO\", \"NO\", \"NO\", \"NO\", \"NO\", \"NO\", \"SI\", \"NO\", \"NO\", \"NO\", \"NO\", \"NO\", \"NO\", \"NO\", \"NO\", \"NO\", \"NO\", \"NO\", \"NO\", \"NO\", \"NO\", \"NO\", \"NO\", \"NO\", \"NO\", \"SI\", \"SI\", \"SI\", \"NO\", \"SI\", \"NO\", \"SI\", \"NO\", \"NO\", \"NO\", \"NO\", \"SI\", \"NO\", \"NO\", \"NO\", \"NO\", \"NO\", \"NO\", \"NO\", \"NO\", \"NO\", \"NO\", \"NO\", \"NO\", \"NO\", \"NO\", \"NO\", \"NO\", \"NO\", \"NO\", \"NO\", \"NO\", \"NO\", \"NO\", \"NO\", \"NO\", \"NO\", \"NO\", \"NO\", \"NO\", \"NO\", \"NO\", \"NO\", \"NO\", \"NO\", \"NO\", \"SI\", \"NO\", \"NO\", \"NO\", \"NO\", \"NO\", \"NO\", \"NO\", \"NO\", \"NO\", \"NO\", \"SI\", \"NO\", \"NO\", \"NO\", \"NO\", \"NO\", \"NO\", \"NO\", \"NO\", \"NO\", \"NO\", \"NO\", \"NO\", \"NO\", \"NO\", \"NO\", \"NO\", \"NO\", \"SI\", \"NO\", \"NO\", \"NO\", \"SI\", \"NO\", \"NO\", \"NO\", \"NO\", \"NO\", \"NO\", \"NO\", \"NO\", \"NO\", \"NO\", \"SI\", \"NO\", \"NO\", \"NO\", \"SI\", \"NO\", \"NO\", \"SI\", \"NO\", \"SI\", \"SI\", \"NO\", \"NO\", \"NO\", \"NO\", \"NO\", \"NO\", \"NO\", \"NO\", \"NO\", \"NO\", \"SI\", \"NO\", \"NO\", \"NO\", \"SI\", \"NO\", \"NO\", \"NO\", \"NO\", \"SI\", \"NO\", \"NO\", \"NO\", \"NO\", \"NO\", \"SI\", \"NO\", \"NO\", \"NO\", \"NO\", \"NO\", \"SI\", \"NO\", \"NO\", \"NO\", \"NO\", \"NO\", \"NO\", \"NO\", \"NO\", \"NO\", \"NO\", \"NO\", \"NO\", \"NO\", \"NO\", \"NO\", \"NO\", \"NO\", \"NO\", \"NO\", \"NO\", \"NO\", \"NO\", \"NO\", \"NO\", \"NO\", \"NO\", \"NO\", \"NO\", \"NO\", \"NO\", \"NO\", \"NO\", \"NO\", \"NO\", \"NO\", \"NO\", \"NO\", \"SI\", \"SI\", \"NO\", \"NO\", \"NO\", \"NO\", \"NO\", \"NO\", \"NO\", \"SI\", \"NO\", \"NO\", \"NO\", \"NO\", \"SI\", \"NO\", \"NO\", \"NO\", \"NO\", \"NO\", \"NO\", \"SI\", \"NO\", \"NO\", \"NO\", \"NO\", \"NO\", \"SI\", \"NO\", \"NO\", \"NO\", \"SI\", \"NO\", \"NO\", \"NO\", \"SI\", \"NO\", \"NO\", \"NO\", \"NO\", \"SI\", \"NO\", \"NO\", \"NO\", \"NO\", \"NO\", \"NO\", \"NO\", \"NO\", \"NO\", \"NO\", \"NO\", \"NO\", \"NO\", \"SI\", \"NO\", \"NO\", \"SI\", \"NO\", \"NO\", \"NO\", \"SI\", \"SI\", \"NO\", \"NO\", \"NO\", \"SI\", \"SI\", \"NO\", \"NO\", \"NO\", \"NO\", \"NO\", \"NO\", \"NO\", \"SI\", \"SI\", \"SI\", \"NO\", \"SI\", \"NO\", \"NO\", \"NO\", \"SI\", \"NO\", \"SI\", \"NO\", \"NO\", \"NO\", \"NO\", \"SI\", \"NO\", \"SI\", \"NO\", \"NO\", \"SI\", \"NO\", \"NO\", \"NO\", \"SI\", \"SI\", \"SI\", \"NO\", \"NO\", \"SI\", \"NO\", \"NO\", \"SI\", \"NO\", \"NO\", \"SI\", \"SI\", \"SI\", \"NO\", \"NO\", \"SI\", \"SI\", \"NO\", \"NO\", \"NO\", \"NO\", \"SI\", \"NO\", \"NO\", \"NO\", \"SI\", \"NO\", \"NO\", \"NO\", \"NO\", \"NO\", \"NO\", \"NO\", \"NO\", \"NO\", \"SI\", \"NO\", \"NO\", \"NO\", \"NO\", \"SI\", \"NO\", \"NO\", \"NO\", \"NO\", \"NO\", \"NO\", \"SI\", \"NO\", \"NO\", \"SI\", \"NO\", \"SI\", \"NO\", \"SI\", \"SI\", \"NO\", \"SI\", \"NO\", \"SI\", \"SI\", \"SI\", \"SI\", \"NO\", \"NO\", \"SI\", \"NO\", \"NO\", \"NO\", \"NO\", \"NO\", \"SI\", \"NO\", \"NO\", \"NO\", \"NO\", \"NO\", \"NO\", \"NO\", \"NO\", \"SI\", \"NO\", \"NO\", \"NO\", \"NO\", \"NO\", \"SI\", \"NO\", \"NO\", \"SI\", \"NO\", \"SI\", \"NO\", \"NO\", \"NO\", \"NO\", \"NO\", \"NO\", \"NO\", \"SI\", \"NO\", \"SI\", \"NO\", \"NO\", \"NO\", \"SI\", \"NO\", \"SI\", \"NO\", \"NO\", \"NO\", \"NO\", \"NO\", \"NO\", \"NO\", \"NO\", \"NO\", \"NO\", \"NO\", \"NO\", \"NO\", \"NO\", \"NO\", \"NO\", \"NO\", \"NO\", \"SI\", \"NO\", \"NO\", \"NO\", \"NO\", \"NO\", \"NO\", \"NO\", \"NO\", \"NO\", \"NO\", \"NO\", \"NO\", \"NO\", \"NO\", \"NO\", \"NO\", \"NO\", \"NO\", \"NO\", \"NO\", \"NO\", \"NO\", \"NO\", \"NO\", \"NO\", \"NO\", \"NO\", \"SI\", \"SI\", \"NO\", \"NO\", \"NO\", \"SI\", \"NO\", \"NO\", \"NO\", \"NO\", \"NO\", \"NO\", \"NO\", \"NO\", \"SI\", \"NO\", \"NO\", \"SI\", \"NO\", \"NO\", \"NO\", \"NO\", \"NO\", \"NO\", \"NO\", \"NO\", \"NO\", \"NO\", \"NO\", \"NO\", \"NO\", \"NO\", \"NO\", \"NO\", \"NO\", \"NO\", \"SI\", \"NO\", \"SI\", \"NO\", \"SI\", \"NO\", \"NO\", \"NO\", \"NO\", \"NO\", \"NO\", \"NO\", \"NO\", \"NO\", \"NO\", \"NO\", \"NO\", \"NO\", \"NO\", \"NO\", \"NO\", \"NO\", \"NO\", \"NO\", \"SI\", \"NO\", \"NO\", \"NO\", \"NO\", \"NO\", \"SI\", \"NO\", \"NO\", \"NO\", \"NO\", \"SI\", \"SI\", \"NO\", \"NO\", \"NO\", \"NO\", \"SI\", \"NO\", \"NO\", \"NO\", \"NO\", \"NO\", \"NO\", \"NO\", \"NO\", \"SI\", \"NO\", \"NO\", \"NO\", \"NO\", \"SI\", \"NO\", \"NO\", \"NO\", \"NO\", \"NO\", \"NO\", \"NO\", \"NO\", \"NO\", \"SI\", \"NO\", \"NO\", \"NO\", \"NO\", \"SI\", \"NO\", \"NO\", \"NO\", \"SI\", \"SI\", \"NO\", \"SI\", \"NO\", \"NO\", \"SI\", \"SI\", \"SI\", \"NO\", \"NO\", \"NO\", \"NO\", \"NO\", \"NO\", \"NO\", \"NO\", \"NO\", \"NO\", \"NO\", \"NO\", \"NO\", \"NO\", \"NO\", \"NO\", \"NO\", \"NO\", \"NO\", \"NO\", \"NO\", \"NO\", \"NO\", \"NO\", \"NO\", \"NO\", \"NO\", \"SI\", \"NO\", \"NO\", \"NO\", \"NO\", \"NO\", \"NO\", \"NO\", \"NO\", \"NO\", \"NO\", \"NO\", \"SI\", \"NO\", \"NO\", \"SI\", \"SI\", \"SI\", \"NO\", \"SI\", \"NO\", \"NO\", \"NO\", \"NO\", \"NO\", \"SI\", \"NO\", \"NO\", \"NO\", \"SI\", \"SI\", \"NO\", \"NO\", \"NO\", \"NO\", \"NO\", \"NO\", \"NO\", \"NO\", \"NO\", \"NO\", \"NO\", \"NO\", \"NO\", \"NO\", \"NO\", \"NO\", \"NO\", \"NO\", \"NO\", \"SI\", \"NO\", \"NO\", \"NO\", \"NO\", \"NO\", \"NO\", \"NO\", \"NO\", \"NO\", \"NO\", \"NO\", \"NO\", \"SI\", \"NO\", \"NO\", \"NO\", \"NO\", \"NO\", \"NO\", \"NO\", \"NO\", \"NO\", \"NO\", \"NO\", \"NO\", \"NO\", \"NO\", \"NO\", \"SI\", \"NO\", \"NO\", \"NO\", \"NO\", \"NO\", \"NO\", \"NO\", \"NO\", \"NO\", \"SI\", \"SI\", \"NO\", \"NO\", \"NO\", \"NO\", \"NO\", \"NO\", \"NO\", \"NO\", \"NO\", \"NO\", \"SI\", \"NO\", \"NO\", \"NO\", \"NO\", \"NO\", \"NO\", \"NO\", \"NO\", \"NO\", \"SI\", \"SI\", \"NO\", \"NO\", \"NO\", \"NO\", \"NO\", \"NO\", \"NO\", \"SI\", \"NO\", \"NO\", \"NO\", \"NO\", \"NO\", \"NO\", \"NO\", \"NO\", \"NO\", \"NO\", \"NO\", \"SI\", \"NO\", \"NO\", \"NO\", \"NO\", \"NO\", \"NO\", \"NO\", \"NO\", \"NO\", \"NO\", \"NO\", \"SI\", \"NO\", \"SI\", \"NO\", \"NO\", \"NO\", \"NO\", \"NO\", \"SI\", \"NO\", \"NO\", \"NO\", \"NO\", \"NO\", \"NO\", \"NO\", \"NO\", \"NO\", \"NO\", \"NO\", \"NO\", \"NO\", \"NO\", \"NO\", \"NO\", \"NO\", \"NO\", \"NO\", \"NO\", \"NO\", \"NO\", \"NO\", \"NO\", \"NO\", \"NO\", \"NO\", \"NO\", \"NO\", \"NO\", \"NO\", \"SI\", \"NO\", \"NO\", \"NO\", \"NO\", \"NO\", \"NO\", \"NO\", \"SI\", \"NO\", \"NO\", \"NO\", \"NO\", \"NO\", \"NO\", \"NO\", \"NO\", \"NO\", \"NO\", \"NO\", \"NO\", \"NO\", \"NO\", \"NO\", \"NO\", \"NO\", \"SI\", \"NO\", \"SI\", \"NO\", \"NO\", \"SI\", \"NO\", \"NO\", \"NO\", \"NO\", \"SI\", \"NO\", \"NO\", \"NO\", \"NO\", \"NO\", \"NO\", \"NO\", \"NO\", \"NO\", \"NO\", \"NO\", \"NO\", \"NO\", \"SI\", \"SI\", \"SI\", \"NO\", \"SI\", \"NO\", \"SI\", \"NO\", \"NO\", \"SI\", \"NO\", \"NO\", \"NO\", \"NO\", \"NO\", \"NO\", \"NO\", \"NO\", \"NO\", \"NO\", \"NO\", \"NO\", \"SI\", \"NO\", \"NO\", \"NO\", \"NO\", \"SI\", \"NO\", \"NO\", \"NO\", \"SI\", \"SI\", \"NO\", \"NO\", \"SI\", \"SI\", \"SI\", \"SI\", \"NO\", \"NO\", \"NO\", \"NO\", \"NO\", \"NO\", \"NO\", \"NO\", \"NO\", \"NO\", \"NO\", \"SI\", \"NO\", \"SI\", \"NO\", \"NO\", \"NO\", \"NO\", \"NO\", \"NO\", \"NO\", \"SI\", \"NO\", \"NO\", \"NO\", \"NO\", \"NO\", \"NO\", \"NO\", \"NO\", \"NO\", \"SI\", \"NO\", \"NO\", \"NO\", \"NO\", \"NO\", \"NO\", \"NO\", \"NO\", \"SI\", \"NO\", \"SI\", \"NO\", \"NO\", \"NO\", \"SI\", \"NO\", \"NO\", \"NO\", \"NO\", \"NO\", \"NO\", \"NO\", \"NO\", \"NO\", \"NO\", \"NO\", \"NO\", \"NO\", \"NO\", \"NO\", \"NO\", \"NO\", \"NO\", \"NO\", \"NO\", \"NO\", \"NO\", \"NO\", \"NO\", \"NO\", \"NO\", \"NO\", \"NO\", \"NO\", \"NO\", \"SI\", \"NO\", \"NO\", \"NO\", \"NO\", \"NO\", \"NO\", \"NO\", \"NO\", \"NO\", \"NO\", \"SI\", \"NO\", \"NO\", \"SI\", \"NO\", \"NO\", \"NO\", \"NO\", \"NO\", \"NO\", \"NO\", \"NO\", \"NO\", \"NO\", \"NO\", \"NO\", \"NO\", \"NO\", \"NO\", \"NO\", \"NO\", \"NO\", \"NO\", \"NO\", \"NO\", \"NO\", \"NO\", \"NO\", \"NO\", \"SI\", \"NO\", \"NO\", \"NO\", \"SI\", \"NO\", \"NO\", \"NO\", \"NO\", \"NO\", \"NO\", \"NO\", \"NO\", \"NO\", \"NO\", \"SI\", \"NO\", \"SI\", \"NO\", \"NO\", \"NO\", \"NO\", \"NO\", \"NO\", \"NO\", \"NO\", \"NO\", \"NO\", \"NO\", \"NO\", \"NO\", \"NO\", \"NO\", \"NO\", \"NO\", \"NO\", \"NO\", \"NO\", \"SI\", \"NO\", \"SI\", \"NO\", \"NO\", \"NO\", \"NO\", \"NO\", \"NO\", \"NO\", \"NO\", \"NO\", \"SI\", \"SI\", \"NO\", \"NO\", \"SI\", \"NO\", \"NO\", \"NO\", \"NO\", \"NO\", \"NO\", \"SI\", \"NO\", \"NO\", \"NO\", \"NO\", \"NO\", \"NO\", \"NO\", \"NO\", \"NO\", \"NO\", \"NO\", \"NO\", \"SI\", \"NO\", \"NO\", \"NO\", \"NO\", \"NO\", \"SI\", \"NO\", \"NO\", \"NO\", \"NO\", \"NO\", \"NO\", \"NO\", \"NO\", \"SI\", \"NO\", \"SI\", \"NO\", \"NO\", \"NO\", \"NO\", \"NO\", \"NO\", \"NO\", \"NO\", \"NO\", \"NO\", \"NO\", \"NO\", \"NO\", \"NO\", \"NO\", \"NO\", \"NO\", \"NO\", \"NO\", \"NO\", \"NO\", \"NO\", \"NO\", \"NO\", \"NO\", \"NO\", \"NO\", \"NO\", \"NO\", \"NO\", \"NO\", \"SI\", \"NO\", \"NO\", \"NO\", \"NO\", \"NO\", \"SI\", \"SI\", \"NO\", \"SI\", \"NO\", \"NO\", \"NO\", \"NO\", \"NO\", \"NO\", \"NO\", \"NO\", \"NO\", \"NO\", \"NO\", \"NO\", \"NO\", \"NO\", \"NO\", \"NO\", \"NO\", \"SI\", \"NO\", \"NO\", \"NO\", \"NO\", \"NO\", \"NO\", \"NO\", \"NO\", \"NO\", \"SI\", \"NO\", \"NO\", \"NO\", \"NO\", \"SI\", \"NO\", \"NO\", \"NO\", \"NO\", \"NO\", \"NO\", \"NO\", \"NO\", \"NO\", \"NO\", \"NO\", \"NO\", \"NO\", \"NO\", \"NO\", \"NO\", \"NO\", \"NO\", \"NO\", \"NO\", \"NO\", \"NO\", \"NO\", \"NO\", \"NO\", \"NO\", \"NO\", \"NO\", \"NO\", \"NO\", \"NO\", \"SI\", \"SI\", \"NO\", \"NO\", \"NO\", \"NO\", \"NO\", \"NO\", \"NO\", \"SI\", \"NO\", \"NO\", \"NO\", \"NO\", \"NO\", \"NO\", \"NO\", \"NO\", \"NO\", \"NO\", \"SI\", \"NO\", \"NO\", \"NO\", \"NO\", \"NO\", \"NO\", \"SI\", \"NO\", \"NO\", \"NO\", \"NO\", \"NO\", \"NO\", \"NO\", \"NO\", \"NO\", \"NO\", \"NO\", \"NO\", \"NO\", \"NO\", \"NO\", \"SI\", \"NO\", \"NO\", \"NO\", \"NO\", \"NO\", \"NO\", \"NO\", \"NO\", \"NO\", \"NO\", \"NO\", \"NO\", \"NO\", \"NO\", \"NO\", \"NO\", \"NO\", \"NO\", \"NO\", \"NO\", \"NO\", \"NO\", \"NO\", \"SI\", \"NO\", \"NO\", \"NO\", \"NO\", \"SI\", \"SI\", \"NO\", \"NO\", \"NO\", \"SI\", \"SI\", \"SI\", \"NO\", \"NO\", \"NO\", \"SI\", \"NO\", \"NO\", \"NO\", \"NO\", \"NO\", \"NO\", \"NO\", \"NO\", \"NO\", \"NO\", \"NO\", \"SI\", \"NO\", \"NO\", \"NO\", \"NO\", \"SI\", \"NO\", \"NO\", \"NO\", \"NO\", \"NO\", \"NO\", \"NO\", \"SI\", \"SI\", \"SI\", \"SI\", \"NO\", \"SI\", \"SI\", \"NO\", \"NO\", \"NO\", \"SI\", \"NO\", \"NO\", \"NO\", \"NO\", \"SI\", \"NO\", \"NO\", \"NO\", \"NO\", \"NO\", \"NO\", \"NO\", \"NO\", \"NO\", \"NO\", \"NO\", \"NO\", \"NO\", \"SI\", \"SI\", \"NO\", \"NO\", \"NO\", \"NO\", \"NO\", \"NO\", \"NO\", \"NO\", \"SI\", \"SI\", \"NO\", \"NO\", \"SI\", \"NO\", \"NO\", \"SI\", \"NO\", \"SI\", \"NO\", \"NO\", \"NO\", \"NO\", \"NO\", \"SI\", \"SI\", \"NO\", \"NO\", \"NO\", \"SI\", \"NO\", \"SI\", \"NO\", \"NO\", \"NO\", \"SI\", \"SI\", \"NO\", \"NO\", \"NO\", \"SI\", \"NO\", \"SI\", \"NO\", \"NO\", \"NO\", \"SI\", \"NO\", \"NO\", \"NO\", \"SI\", \"NO\", \"NO\", \"NO\", \"SI\", \"SI\", \"NO\", \"NO\", \"NO\", \"NO\", \"SI\", \"NO\", \"NO\", \"NO\", \"NO\", \"NO\", \"NO\", \"NO\", \"NO\", \"NO\", \"NO\", \"NO\", \"NO\", \"NO\", \"NO\", \"SI\", \"NO\", \"NO\", \"NO\", \"NO\", \"NO\", \"SI\", \"SI\", \"SI\", \"NO\", \"NO\", \"NO\", \"NO\", \"NO\", \"NO\", \"NO\", \"NO\", \"NO\", \"NO\", \"NO\", \"NO\", \"NO\", \"NO\", \"SI\", \"NO\", \"NO\", \"NO\", \"NO\", \"NO\", \"NO\", \"NO\", \"NO\", \"NO\", \"NO\", \"NO\", \"NO\", \"NO\", \"NO\", \"NO\", \"NO\", \"NO\", \"NO\", \"SI\", \"NO\", \"NO\", \"NO\", \"NO\", \"NO\", \"NO\", \"NO\", \"NO\", \"SI\", \"NO\", \"NO\", \"NO\", \"NO\", \"SI\", \"SI\", \"NO\", \"NO\", \"SI\", \"NO\", \"NO\", \"NO\", \"NO\", \"NO\", \"SI\", \"NO\", \"NO\", \"NO\", \"NO\", \"NO\", \"NO\", \"SI\", \"NO\", \"NO\", \"NO\", \"SI\", \"NO\", \"SI\", \"NO\", \"NO\", \"NO\", \"NO\", \"NO\", \"NO\", \"NO\", \"NO\", \"NO\", \"NO\", \"NO\", \"SI\", \"NO\", \"NO\", \"NO\", \"NO\", \"NO\", \"NO\", \"NO\", \"NO\", \"NO\", \"NO\", \"NO\", \"SI\", \"NO\", \"SI\", \"NO\", \"NO\", \"NO\", \"NO\", \"NO\", \"NO\", \"NO\", null, \"NO\", \"NO\", \"SI\", \"NO\", \"NO\", \"NO\", \"SI\", \"NO\", \"NO\", \"NO\", \"SI\", \"SI\", \"SI\", \"NO\", \"SI\", \"NO\", \"SI\", \"NO\", \"NO\", \"NO\", \"NO\", \"NO\", \"NO\", \"NO\", \"NO\", \"NO\", \"NO\", \"NO\", \"NO\", \"NO\", \"NO\", \"NO\", \"NO\", \"NO\", \"NO\", \"NO\", \"NO\", \"NO\", \"NO\", \"NO\", \"NO\", \"NO\", \"NO\", \"NO\", \"NO\", \"SI\", \"SI\", \"NO\", \"NO\", \"NO\", \"NO\", \"NO\", \"NO\", \"NO\", \"NO\", \"NO\", \"NO\", \"NO\", \"NO\", \"NO\", \"NO\", \"NO\", \"SI\", \"NO\", \"NO\", \"NO\", \"NO\", \"NO\", \"NO\", \"SI\", \"NO\", \"SI\", \"NO\", \"NO\", \"NO\", \"SI\", \"SI\", \"NO\", \"NO\", \"NO\", \"NO\", \"NO\", \"NO\", \"NO\", \"NO\", \"NO\", \"NO\", \"NO\", \"NO\", \"NO\", \"NO\", \"NO\", \"NO\", \"NO\", \"NO\", \"NO\", \"NO\", \"NO\", \"NO\", \"NO\", \"SI\", \"NO\", \"NO\", \"NO\", \"NO\", \"NO\", \"NO\", \"NO\", \"NO\", \"NO\", \"NO\", \"NO\", \"NO\", \"NO\", \"NO\", \"NO\", \"NO\", \"NO\", \"NO\", \"SI\", \"NO\", \"NO\", \"SI\", \"NO\", \"NO\", \"NO\", \"NO\", \"NO\", \"NO\", \"NO\", \"NO\", \"NO\", \"NO\", \"NO\", \"NO\", \"NO\", \"SI\", \"SI\", \"NO\", \"NO\", \"NO\", \"NO\", \"NO\", \"NO\", \"NO\", \"NO\", \"NO\", \"NO\", \"NO\", \"NO\", \"NO\", \"NO\", \"NO\", \"NO\", \"NO\", \"NO\", \"NO\", \"NO\", \"NO\", \"NO\", \"SI\", \"NO\", \"SI\", \"NO\", \"SI\", \"NO\", \"SI\", \"NO\", \"NO\", \"NO\", \"NO\", \"NO\", \"NO\", \"NO\", \"NO\", \"NO\", \"NO\", \"NO\", \"NO\", \"NO\", \"NO\", \"NO\", \"NO\", \"NO\", \"NO\", \"NO\", \"NO\", \"SI\", \"NO\", \"SI\", \"SI\", \"SI\", \"NO\", \"NO\", \"NO\", \"NO\", \"NO\", \"NO\", \"SI\", \"SI\", \"NO\", \"NO\", \"NO\", \"SI\", \"NO\", \"NO\", \"NO\", \"NO\", \"SI\", \"SI\", \"NO\", \"NO\", \"NO\", \"NO\", \"SI\", \"NO\", \"NO\", \"SI\", \"NO\", \"NO\", \"NO\", \"NO\", \"NO\", \"NO\", \"NO\", \"NO\", \"NO\", \"NO\", \"NO\", \"NO\", \"NO\", \"NO\", \"NO\", \"SI\", \"NO\", \"NO\", \"NO\", \"NO\", \"NO\", \"NO\", \"NO\", \"NO\", \"NO\", \"SI\", \"NO\", \"NO\", \"NO\", \"NO\", \"NO\", \"NO\", \"NO\", \"NO\", \"NO\", \"NO\", \"NO\", \"NO\", \"NO\", \"NO\", \"NO\", \"NO\", \"NO\", \"NO\", \"NO\", \"SI\", \"NO\", \"NO\", \"NO\", \"NO\", \"NO\", \"NO\", \"NO\", \"NO\", \"NO\", \"NO\", \"SI\", \"NO\", \"NO\", \"SI\", \"NO\", \"NO\", \"NO\", \"SI\", \"NO\", \"SI\", \"NO\", \"NO\", \"NO\", \"NO\", \"NO\", \"NO\", \"NO\", \"NO\", \"NO\", \"NO\", \"NO\", \"NO\", \"NO\", \"NO\", \"NO\", \"SI\", \"NO\", \"NO\", \"NO\", \"NO\", \"NO\", \"SI\", \"NO\", \"NO\", \"NO\", \"NO\", \"NO\", \"NO\", \"NO\", \"NO\", \"SI\", \"NO\", \"NO\", \"NO\", \"NO\", \"NO\", \"NO\", \"NO\", \"SI\", \"NO\", \"SI\", \"NO\", \"SI\", \"NO\", \"SI\", \"NO\", \"NO\", \"NO\", \"NO\", \"NO\", \"NO\", \"NO\", \"NO\", \"NO\", \"SI\", \"NO\", \"NO\", \"NO\", \"NO\", \"NO\", \"NO\", \"NO\", \"NO\", \"NO\", \"NO\", \"SI\", \"NO\", \"NO\", \"NO\", \"NO\", \"SI\", \"NO\", \"SI\", \"NO\", \"NO\", \"NO\", \"NO\", \"NO\", \"NO\", \"NO\", \"NO\", \"NO\", \"NO\", \"NO\", \"NO\", \"NO\", \"NO\", \"NO\", \"SI\", \"NO\", \"NO\", \"NO\", \"NO\", \"NO\", \"NO\", \"NO\", \"SI\", \"NO\", \"NO\", \"NO\", \"NO\", \"NO\", \"NO\", \"NO\", \"NO\", \"NO\", \"NO\", \"NO\", \"NO\", \"NO\", \"NO\", \"NO\", \"NO\", \"NO\", \"NO\", \"NO\", \"NO\", \"SI\", \"NO\", \"NO\", \"SI\", \"NO\", \"NO\", \"SI\", \"NO\", \"SI\", \"NO\", \"NO\", \"NO\", \"NO\", \"NO\", \"SI\", \"NO\", \"NO\", \"NO\", \"SI\", \"NO\", \"NO\", \"NO\", \"NO\", \"NO\", \"NO\", \"NO\", \"NO\", \"NO\", \"NO\", \"NO\", \"SI\", \"NO\", \"NO\", \"NO\", \"NO\", \"NO\", \"SI\", \"NO\", \"NO\", \"SI\", \"NO\", \"SI\", \"NO\", \"NO\", \"NO\", \"SI\", \"NO\", \"NO\", \"NO\", \"NO\", \"NO\", \"NO\", \"NO\", \"SI\", \"NO\", \"NO\", \"NO\", \"NO\", \"NO\", \"NO\", \"SI\", \"NO\", \"NO\", \"NO\", \"NO\", \"NO\", \"SI\", \"NO\", \"NO\", \"NO\", \"NO\", \"NO\", \"NO\", \"NO\", \"NO\", \"NO\", \"NO\", \"NO\", \"NO\", \"NO\", \"NO\", \"NO\", \"NO\", \"NO\", \"NO\", \"SI\", \"NO\", \"NO\", \"SI\", \"NO\", \"NO\", \"NO\", \"SI\", \"NO\", \"NO\", \"NO\", \"NO\", \"NO\", \"NO\", \"NO\", \"SI\", \"SI\", \"SI\", \"NO\", \"NO\", \"NO\", \"NO\", \"SI\", \"NO\", \"NO\", \"NO\", \"SI\", \"NO\", \"NO\", \"NO\", \"NO\", \"NO\", \"NO\", \"NO\", \"NO\", \"NO\", \"NO\", \"NO\", \"NO\", \"NO\", \"NO\", \"NO\", \"SI\", \"NO\", \"NO\", \"SI\", \"NO\", \"SI\", \"NO\", \"SI\", \"NO\", \"NO\", \"SI\", \"SI\", \"NO\", \"NO\", \"NO\", \"NO\", \"NO\", \"SI\", \"NO\", \"NO\", \"NO\", \"SI\", \"NO\", \"NO\", \"NO\", \"NO\", \"SI\", \"NO\", \"NO\", \"NO\", \"NO\", \"NO\", \"SI\", \"SI\", \"NO\", \"NO\", \"NO\", \"NO\", \"NO\", \"SI\", \"NO\", \"SI\", \"NO\", \"SI\", \"NO\", \"NO\", \"NO\", \"NO\", \"NO\", \"NO\", \"NO\", \"SI\", \"NO\", \"NO\", \"NO\", \"NO\", \"NO\", \"NO\", \"NO\", \"NO\", \"SI\", \"NO\", \"NO\", \"NO\", \"NO\", \"SI\", \"NO\", \"NO\", \"NO\", \"NO\", \"NO\", \"NO\", \"NO\", \"NO\", \"NO\", \"NO\", \"SI\", \"NO\", \"NO\", \"NO\", \"NO\", \"SI\", \"NO\", \"NO\", \"NO\", \"NO\", \"NO\", \"NO\", \"SI\", \"NO\", \"NO\", \"NO\", \"NO\", \"NO\", \"NO\", \"NO\", \"NO\", \"SI\", \"NO\", \"NO\", \"NO\", \"NO\", \"NO\", \"NO\", \"NO\", \"NO\", \"NO\", \"NO\", \"NO\", \"SI\", \"NO\", \"NO\", \"NO\", \"NO\", \"NO\", \"SI\", \"NO\", \"NO\", \"NO\", \"NO\", \"NO\", \"NO\", \"SI\", \"SI\", \"NO\", \"SI\", \"NO\", \"SI\", \"NO\", \"NO\", \"NO\", \"NO\", \"NO\", \"NO\", \"NO\", \"NO\", \"NO\", \"NO\", \"NO\", \"NO\", \"NO\", \"NO\", \"NO\", \"NO\", \"NO\", \"NO\", \"NO\", \"NO\", \"NO\", \"NO\", \"NO\", \"NO\", \"NO\", \"SI\", \"NO\", \"NO\", \"NO\", \"NO\", \"NO\", \"NO\", \"NO\", \"NO\", \"NO\", \"NO\", \"NO\", \"NO\", \"NO\", \"NO\", \"NO\", \"NO\", \"NO\", \"NO\", \"NO\", \"NO\", \"SI\", \"NO\", \"SI\", \"NO\", \"SI\", \"NO\", \"NO\", \"NO\", \"NO\", \"NO\", \"SI\", \"NO\", \"NO\", \"NO\", \"NO\", \"NO\", \"NO\", \"NO\", \"NO\", \"NO\", \"NO\", \"NO\", \"NO\", \"NO\", \"NO\", \"NO\", \"NO\", \"NO\", \"NO\", \"NO\", \"NO\", \"NO\", \"NO\", \"NO\", \"NO\", \"NO\", \"NO\", \"NO\", \"NO\", \"SI\", \"NO\", \"NO\", \"NO\", \"NO\", \"SI\", \"NO\", \"SI\", \"NO\", \"NO\", \"SI\", \"NO\", \"SI\", \"SI\", \"SI\", \"NO\", \"NO\", \"NO\", \"NO\", \"NO\", \"NO\", \"NO\", \"SI\", \"SI\", \"NO\", \"NO\", \"NO\", \"NO\", \"NO\", \"NO\", \"NO\", \"NO\", \"NO\", \"NO\", \"NO\", \"NO\", \"NO\", \"NO\", \"NO\", \"SI\", \"NO\", \"NO\", \"NO\", \"NO\", \"SI\", \"NO\", \"NO\", \"NO\", null, \"NO\", \"SI\", \"NO\", \"NO\", \"NO\", \"NO\", \"NO\", \"NO\", \"NO\", \"NO\", \"SI\", \"NO\", \"SI\", \"NO\", \"NO\", \"SI\", \"SI\", \"NO\", \"SI\", \"NO\", \"NO\", \"NO\", \"SI\", \"SI\", \"NO\", \"SI\", \"NO\", \"NO\", \"NO\", \"NO\", \"NO\", \"NO\", \"SI\", \"NO\", \"NO\", \"NO\", \"NO\", \"NO\", \"NO\", \"NO\", \"NO\", \"NO\", \"NO\", \"NO\", \"NO\", \"NO\", \"NO\", \"NO\", \"NO\", \"NO\", \"NO\", \"NO\", \"SI\", \"SI\", \"NO\", \"NO\", \"SI\", \"SI\", \"NO\", \"SI\", \"NO\", \"NO\"], \"legendgroup\": \"\", \"name\": \"\", \"showlegend\": true, \"type\": \"pie\", \"values\": [\"1\", \"2\", \"3\", \"4\", \"5\", \"6\", \"7\", \"8\", \"9\", \"10\", \"11\", \"12\", \"13\", \"14\", \"15\", \"16\", \"17\", \"18\", \"19\", \"20\", \"21\", \"22\", \"23\", \"24\", \"25\", \"26\", \"27\", \"28\", \"29\", \"30\", \"31\", \"32\", \"33\", \"34\", \"35\", \"36\", \"37\", \"38\", \"39\", \"40\", \"41\", \"42\", \"43\", \"44\", \"45\", \"46\", \"47\", \"48\", \"49\", \"50\", \"51\", \"52\", \"53\", \"54\", \"55\", \"56\", \"57\", \"58\", \"59\", \"60\", \"61\", \"62\", \"63\", \"64\", \"65\", \"66\", \"67\", \"68\", \"69\", \"70\", \"71\", \"72\", \"73\", \"74\", \"75\", \"76\", \"77\", \"78\", \"79\", \"80\", \"81\", \"82\", \"83\", \"84\", \"85\", \"86\", \"87\", \"88\", \"89\", \"90\", \"91\", \"92\", \"93\", \"94\", \"95\", \"96\", \"97\", \"98\", \"99\", \"100\", \"101\", \"102\", \"103\", \"104\", \"105\", \"106\", \"107\", \"108\", \"109\", \"110\", \"111\", \"112\", \"113\", \"114\", \"115\", \"116\", \"117\", \"118\", \"119\", \"120\", \"121\", \"122\", \"123\", \"124\", \"125\", \"126\", \"127\", \"128\", \"129\", \"130\", \"131\", \"132\", \"133\", \"134\", \"135\", \"136\", \"137\", \"138\", \"139\", \"140\", \"141\", \"142\", \"143\", \"144\", \"145\", \"146\", \"147\", \"148\", \"149\", \"150\", \"151\", \"152\", \"153\", \"154\", \"155\", \"156\", \"157\", \"158\", \"159\", \"160\", \"161\", \"162\", \"163\", \"164\", \"165\", \"166\", \"167\", \"168\", \"169\", \"170\", \"171\", \"172\", \"173\", \"174\", \"175\", \"176\", \"177\", \"178\", \"179\", \"180\", \"181\", \"182\", \"183\", \"184\", \"185\", \"186\", \"187\", \"188\", \"189\", \"190\", \"191\", \"192\", \"193\", \"194\", \"195\", \"196\", \"197\", \"198\", \"199\", \"200\", \"201\", \"202\", \"203\", \"204\", \"205\", \"206\", \"207\", \"208\", \"209\", \"210\", \"211\", \"212\", \"213\", \"214\", \"215\", \"216\", \"217\", \"218\", \"219\", \"220\", \"221\", \"222\", \"223\", \"224\", \"225\", \"226\", \"227\", \"228\", \"229\", \"230\", \"231\", \"232\", \"233\", \"234\", \"235\", \"236\", \"237\", \"238\", \"239\", \"240\", \"241\", \"242\", \"243\", \"244\", \"245\", \"246\", \"247\", \"248\", \"249\", \"250\", \"251\", \"252\", \"253\", \"254\", \"255\", \"256\", \"257\", \"258\", \"259\", \"260\", \"261\", \"262\", \"263\", \"264\", \"265\", \"266\", \"267\", \"268\", \"269\", \"270\", \"271\", \"272\", \"273\", \"274\", \"275\", \"276\", \"277\", \"278\", \"279\", \"280\", \"281\", \"282\", \"283\", \"284\", \"285\", \"286\", \"287\", \"288\", \"289\", \"290\", \"291\", \"292\", \"293\", \"294\", \"295\", \"296\", \"297\", \"298\", \"299\", \"300\", \"301\", \"302\", \"303\", \"304\", \"305\", \"306\", \"307\", \"308\", \"309\", \"310\", \"311\", \"312\", \"313\", \"314\", \"315\", \"316\", \"317\", \"318\", \"319\", \"320\", \"321\", \"322\", \"323\", \"324\", \"325\", \"326\", \"327\", \"328\", \"329\", \"330\", \"331\", \"332\", \"333\", \"334\", \"335\", \"336\", \"337\", \"338\", \"339\", \"340\", \"341\", \"342\", \"343\", \"344\", \"345\", \"346\", \"347\", \"348\", \"349\", \"350\", \"351\", \"352\", \"353\", \"354\", \"355\", \"356\", \"357\", \"358\", \"359\", \"360\", \"361\", \"362\", \"363\", \"364\", \"365\", \"366\", \"367\", \"368\", \"369\", \"370\", \"371\", \"372\", \"373\", \"374\", \"375\", \"376\", \"377\", \"378\", \"379\", \"380\", \"381\", \"382\", \"383\", \"384\", \"385\", \"386\", \"387\", \"388\", \"389\", \"390\", \"391\", \"392\", \"393\", \"394\", \"395\", \"396\", \"397\", \"398\", \"399\", \"400\", \"401\", \"402\", \"403\", \"404\", \"405\", \"406\", \"407\", \"408\", \"409\", \"410\", \"411\", \"412\", \"413\", \"414\", \"415\", \"416\", \"417\", \"418\", \"419\", \"420\", \"421\", \"422\", \"423\", \"424\", \"425\", \"426\", \"427\", \"428\", \"429\", \"430\", \"431\", \"432\", \"433\", \"434\", \"435\", \"436\", \"437\", \"438\", \"439\", \"440\", \"441\", \"442\", \"443\", \"444\", \"445\", \"446\", \"447\", \"448\", \"449\", \"450\", \"451\", \"452\", \"453\", \"454\", \"455\", \"456\", \"457\", \"458\", \"459\", \"460\", \"461\", \"462\", \"463\", \"464\", \"465\", \"466\", \"467\", \"468\", \"469\", \"470\", \"471\", \"472\", \"473\", \"474\", \"475\", \"476\", \"477\", \"478\", \"479\", \"480\", \"481\", \"482\", \"483\", \"484\", \"485\", \"486\", \"487\", \"488\", \"489\", \"490\", \"491\", \"492\", \"493\", \"494\", \"495\", \"496\", \"497\", \"498\", \"499\", \"500\", \"501\", \"502\", \"503\", \"504\", \"505\", \"506\", \"507\", \"508\", \"509\", \"510\", \"511\", \"512\", \"513\", \"514\", \"515\", \"516\", \"517\", \"518\", \"519\", \"520\", \"521\", \"522\", \"523\", \"524\", \"525\", \"526\", \"527\", \"528\", \"529\", \"530\", \"531\", \"532\", \"533\", \"534\", \"535\", \"536\", \"537\", \"538\", \"539\", \"540\", \"541\", \"542\", \"543\", \"544\", \"545\", \"546\", \"547\", \"548\", \"549\", \"550\", \"551\", \"552\", \"553\", \"554\", \"555\", \"556\", \"557\", \"558\", \"559\", \"560\", \"561\", \"562\", \"563\", \"564\", \"565\", \"566\", \"567\", \"568\", \"569\", \"570\", \"571\", \"572\", \"573\", \"574\", \"575\", \"576\", \"577\", \"578\", \"579\", \"580\", \"581\", \"582\", \"583\", \"584\", \"585\", \"586\", \"587\", \"588\", \"589\", \"590\", \"591\", \"592\", \"593\", \"594\", \"595\", \"596\", \"597\", \"598\", \"599\", \"600\", \"601\", \"602\", \"603\", \"604\", \"605\", \"606\", \"607\", \"608\", \"609\", \"610\", \"611\", \"612\", \"613\", \"614\", \"615\", \"616\", \"617\", \"618\", \"619\", \"620\", \"621\", \"622\", \"623\", \"624\", \"625\", \"626\", \"627\", \"628\", \"629\", \"630\", \"631\", \"632\", \"633\", \"634\", \"635\", \"636\", \"637\", \"638\", \"639\", \"640\", \"641\", \"642\", \"643\", \"644\", \"645\", \"646\", \"647\", \"648\", \"649\", \"650\", \"651\", \"652\", \"653\", \"654\", \"655\", \"656\", \"657\", \"658\", \"659\", \"660\", \"661\", \"662\", \"663\", \"664\", \"665\", \"666\", \"667\", \"668\", \"669\", \"670\", \"671\", \"672\", \"673\", \"674\", \"675\", \"676\", \"677\", \"678\", \"679\", \"680\", \"681\", \"682\", \"683\", \"684\", \"685\", \"686\", \"687\", \"688\", \"689\", \"690\", \"691\", \"692\", \"693\", \"694\", \"695\", \"696\", \"697\", \"698\", \"699\", \"700\", \"701\", \"702\", \"703\", \"704\", \"705\", \"706\", \"707\", \"708\", \"709\", \"710\", \"711\", \"712\", \"713\", \"714\", \"715\", \"716\", \"717\", \"718\", \"719\", \"720\", \"721\", \"722\", \"723\", \"724\", \"725\", \"726\", \"727\", \"728\", \"729\", \"730\", \"731\", \"732\", \"733\", \"734\", \"735\", \"736\", \"737\", \"738\", \"739\", \"740\", \"741\", \"742\", \"743\", \"744\", \"745\", \"746\", \"747\", \"748\", \"749\", \"750\", \"751\", \"752\", \"753\", \"754\", \"755\", \"756\", \"757\", \"758\", \"759\", \"760\", \"761\", \"762\", \"763\", \"764\", \"765\", \"766\", \"767\", \"768\", \"769\", \"770\", \"771\", \"772\", \"773\", \"774\", \"775\", \"776\", \"777\", \"778\", \"779\", \"780\", \"781\", \"782\", \"783\", \"784\", \"785\", \"786\", \"787\", \"788\", \"789\", \"790\", \"791\", \"792\", \"793\", \"794\", \"795\", \"796\", \"797\", \"798\", \"799\", \"800\", \"801\", \"802\", \"803\", \"804\", \"805\", \"806\", \"807\", \"808\", \"809\", \"810\", \"811\", \"812\", \"813\", \"814\", \"815\", \"816\", \"817\", \"818\", \"819\", \"820\", \"821\", \"822\", \"823\", \"824\", \"825\", \"826\", \"827\", \"828\", \"829\", \"830\", \"831\", \"832\", \"833\", \"834\", \"835\", \"836\", \"837\", \"838\", \"839\", \"840\", \"841\", \"842\", \"843\", \"844\", \"845\", \"846\", \"847\", \"848\", \"849\", \"850\", \"851\", \"852\", \"853\", \"854\", \"855\", \"856\", \"857\", \"858\", \"859\", \"860\", \"861\", \"862\", \"863\", \"864\", \"865\", \"866\", \"867\", \"868\", \"869\", \"870\", \"871\", \"872\", \"873\", \"874\", \"875\", \"876\", \"877\", \"878\", \"879\", \"880\", \"881\", \"882\", \"883\", \"884\", \"885\", \"886\", \"887\", \"888\", \"889\", \"890\", \"891\", \"892\", \"893\", \"894\", \"895\", \"896\", \"897\", \"898\", \"899\", \"900\", \"901\", \"902\", \"903\", \"904\", \"905\", \"906\", \"907\", \"908\", \"909\", \"910\", \"911\", \"912\", \"913\", \"914\", \"915\", \"916\", \"917\", \"918\", \"919\", \"920\", \"921\", \"922\", \"923\", \"924\", \"925\", \"926\", \"927\", \"928\", \"929\", \"930\", \"931\", \"932\", \"933\", \"934\", \"935\", \"936\", \"937\", \"938\", \"939\", \"940\", \"941\", \"942\", \"943\", \"944\", \"945\", \"946\", \"947\", \"948\", \"949\", \"950\", \"951\", \"952\", \"953\", \"954\", \"955\", \"956\", \"957\", \"958\", \"959\", \"960\", \"961\", \"962\", \"963\", \"964\", \"965\", \"966\", \"967\", \"968\", \"969\", \"970\", \"971\", \"972\", \"973\", \"974\", \"975\", \"976\", \"977\", \"978\", \"979\", \"980\", \"981\", \"982\", \"983\", \"984\", \"985\", \"986\", \"987\", \"988\", \"989\", \"990\", \"991\", \"992\", \"993\", \"994\", \"995\", \"996\", \"997\", \"998\", \"999\", \"1000\", \"1001\", \"1002\", \"1003\", \"1004\", \"1005\", \"1006\", \"1007\", \"1008\", \"1009\", \"1010\", \"1011\", \"1012\", \"1013\", \"1014\", \"1015\", \"1016\", \"1017\", \"1018\", \"1019\", \"1020\", \"1021\", \"1022\", \"1023\", \"1024\", \"1025\", \"1026\", \"1027\", \"1028\", \"1029\", \"1030\", \"1031\", \"1032\", \"1033\", \"1034\", \"1035\", \"1036\", \"1037\", \"1038\", \"1039\", \"1040\", \"1041\", \"1042\", \"1043\", \"1044\", \"1045\", \"1046\", \"1047\", \"1048\", \"1049\", \"1050\", \"1051\", \"1052\", \"1053\", \"1054\", \"1055\", \"1056\", \"1057\", \"1058\", \"1059\", \"1060\", \"1061\", \"1062\", \"1063\", \"1064\", \"1065\", \"1066\", \"1067\", \"1068\", \"1069\", \"1070\", \"1071\", \"1072\", \"1073\", \"1074\", \"1075\", \"1076\", \"1077\", \"1078\", \"1079\", \"1080\", \"1081\", \"1082\", \"1083\", \"1084\", \"1085\", \"1086\", \"1087\", \"1088\", \"1089\", \"1090\", \"1091\", \"1092\", \"1093\", \"1094\", \"1095\", \"1096\", \"1097\", \"1098\", \"1099\", \"1100\", \"1101\", \"1102\", \"1103\", \"1104\", \"1105\", \"1106\", \"1107\", \"1108\", \"1109\", \"1110\", \"1111\", \"1112\", \"1113\", \"1114\", \"1115\", \"1116\", \"1117\", \"1118\", \"1119\", \"1120\", \"1121\", \"1122\", \"1123\", \"1124\", \"1125\", \"1126\", \"1127\", \"1128\", \"1129\", \"1130\", \"1131\", \"1132\", \"1133\", \"1134\", \"1135\", \"1136\", \"1137\", \"1138\", \"1139\", \"1140\", \"1141\", \"1142\", \"1143\", \"1144\", \"1145\", \"1146\", \"1147\", \"1148\", \"1149\", \"1150\", \"1151\", \"1152\", \"1153\", \"1154\", \"1155\", \"1156\", \"1157\", \"1158\", \"1159\", \"1160\", \"1161\", \"1162\", \"1163\", \"1164\", \"1165\", \"1166\", \"1167\", \"1168\", \"1169\", \"1170\", \"1171\", \"1172\", \"1173\", \"1174\", \"1175\", \"1176\", \"1177\", \"1178\", \"1179\", \"1180\", \"1181\", \"1182\", \"1183\", \"1184\", \"1185\", \"1186\", \"1187\", \"1188\", \"1189\", \"1190\", \"1191\", \"1192\", \"1193\", \"1194\", \"1195\", \"1196\", \"1197\", \"1198\", \"1199\", \"1200\", \"1201\", \"1202\", \"1203\", \"1204\", \"1205\", \"1206\", \"1207\", \"1208\", \"1209\", \"1210\", \"1211\", \"1212\", \"1213\", \"1214\", \"1215\", \"1216\", \"1217\", \"1218\", \"1219\", \"1220\", \"1221\", \"1222\", \"1223\", \"1224\", \"1225\", \"1226\", \"1227\", \"1228\", \"1229\", \"1230\", \"1231\", \"1232\", \"1233\", \"1234\", \"1235\", \"1236\", \"1237\", \"1238\", \"1239\", \"1240\", \"1241\", \"1242\", \"1243\", \"1244\", \"1245\", \"1246\", \"1247\", \"1248\", \"1249\", \"1250\", \"1251\", \"1252\", \"1253\", \"1254\", \"1255\", \"1256\", \"1257\", \"1258\", \"1259\", \"1260\", \"1261\", \"1262\", \"1263\", \"1264\", \"1265\", \"1266\", \"1267\", \"1268\", \"1269\", \"1270\", \"1271\", \"1272\", \"1273\", \"1274\", \"1275\", \"1276\", \"1277\", \"1278\", \"1279\", \"1280\", \"1281\", \"1282\", \"1283\", \"1284\", \"1285\", \"1286\", \"1287\", \"1288\", \"1289\", \"1290\", \"1291\", \"1292\", \"1293\", \"1294\", \"1295\", \"1296\", \"1297\", \"1298\", \"1299\", \"1300\", \"1301\", \"1302\", \"1303\", \"1304\", \"1305\", \"1306\", \"1307\", \"1308\", \"1309\", \"1310\", \"1311\", \"1312\", \"1313\", \"1314\", \"1315\", \"1316\", \"1317\", \"1318\", \"1319\", \"1320\", \"1321\", \"1322\", \"1323\", \"1324\", \"1325\", \"1326\", \"1327\", \"1328\", \"1329\", \"1330\", \"1331\", \"1332\", \"1333\", \"1334\", \"1335\", \"1336\", \"1337\", \"1338\", \"1339\", \"1340\", \"1341\", \"1342\", \"1343\", \"1344\", \"1345\", \"1346\", \"1347\", \"1348\", \"1349\", \"1350\", \"1351\", \"1352\", \"1353\", \"1354\", \"1355\", \"1356\", \"1357\", \"1358\", \"1359\", \"1360\", \"1361\", \"1362\", \"1363\", \"1364\", \"1365\", \"1366\", \"1367\", \"1368\", \"1369\", \"1370\", \"1371\", \"1372\", \"1373\", \"1374\", \"1375\", \"1376\", \"1377\", \"1378\", \"1379\", \"1380\", \"1381\", \"1382\", \"1383\", \"1384\", \"1385\", \"1386\", \"1387\", \"1388\", \"1389\", \"1390\", \"1391\", \"1392\", \"1393\", \"1394\", \"1395\", \"1396\", \"1397\", \"1398\", \"1399\", \"1400\", \"1401\", \"1402\", \"1403\", \"1404\", \"1405\", \"1406\", \"1407\", \"1408\", \"1409\", \"1410\", \"1411\", \"1412\", \"1413\", \"1414\", \"1415\", \"1416\", \"1417\", \"1418\", \"1419\", \"1420\", \"1421\", \"1422\", \"1423\", \"1424\", \"1425\", \"1426\", \"1427\", \"1428\", \"1429\", \"1430\", \"1431\", \"1432\", \"1433\", \"1434\", \"1435\", \"1436\", \"1437\", \"1438\", \"1439\", \"1440\", \"1441\", \"1442\", \"1443\", \"1444\", \"1445\", \"1446\", \"1447\", \"1448\", \"1449\", \"1450\", \"1451\", \"1452\", \"1453\", \"1454\", \"1455\", \"1456\", \"1457\", \"1458\", \"1459\", \"1460\", \"1461\", \"1462\", \"1463\", \"1464\", \"1465\", \"1466\", \"1467\", \"1468\", \"1469\", \"1470\", \"1471\", \"1472\", \"1473\", \"1474\", \"1475\", \"1476\", \"1477\", \"1478\", \"1479\", \"1480\", \"1481\", \"1482\", \"1483\", \"1484\", \"1485\", \"1486\", \"1487\", \"1488\", \"1489\", \"1490\", \"1491\", \"1492\", \"1493\", \"1494\", \"1495\", \"1496\", \"1497\", \"1498\", \"1499\", \"1500\", \"1501\", \"1502\", \"1503\", \"1504\", \"1505\", \"1506\", \"1507\", \"1508\", \"1509\", \"1510\", \"1511\", \"1512\", \"1513\", \"1514\", \"1515\", \"1516\", \"1517\", \"1518\", \"1519\", \"1520\", \"1521\", \"1522\", \"1523\", \"1524\", \"1525\", \"1526\", \"1527\", \"1528\", \"1529\", \"1530\", \"1531\", \"1532\", \"1533\", \"1534\", \"1535\", \"1536\", \"1537\", \"1538\", \"1539\", \"1540\", \"1541\", \"1542\", \"1543\", \"1544\", \"1545\", \"1546\", \"1547\", \"1548\", \"1549\", \"1550\", \"1551\", \"1552\", \"1553\", \"1554\", \"1555\", \"1556\", \"1557\", \"1558\", \"1559\", \"1560\", \"1561\", \"1562\", \"1563\", \"1564\", \"1565\", \"1566\", \"1567\", \"1568\", \"1569\", \"1570\", \"1571\", \"1572\", \"1573\", \"1574\", \"1575\", \"1576\", \"1577\", \"1578\", \"1579\", \"1580\", \"1581\", \"1582\", \"1583\", \"1584\", \"1585\", \"1586\", \"1587\", \"1588\", \"1589\", \"1590\", \"1591\", \"1592\", \"1593\", \"1594\", \"1595\", \"1596\", \"1597\", \"1598\", \"1599\", \"1600\", \"1601\", \"1602\", \"1603\", \"1604\", \"1605\", \"1606\", \"1607\", \"1608\", \"1609\", \"1610\", \"1611\", \"1612\", \"1613\", \"1614\", \"1615\", \"1616\", \"1617\", \"1618\", \"1619\", \"1620\", \"1621\", \"1622\", \"1623\", \"1624\", \"1625\", \"1626\", \"1627\", \"1628\", \"1629\", \"1630\", \"1631\", \"1632\", \"1633\", \"1634\", \"1635\", \"1636\", \"1637\", \"1638\", \"1639\", \"1640\", \"1641\", \"1642\", \"1643\", \"1644\", \"1645\", \"1646\", \"1647\", \"1648\", \"1649\", \"1650\", \"1651\", \"1652\", \"1653\", \"1654\", \"1655\", \"1656\", \"1657\", \"1658\", \"1659\", \"1660\", \"1661\", \"1662\", \"1663\", \"1664\", \"1665\", \"1666\", \"1667\", \"1668\", \"1669\", \"1670\", \"1671\", \"1672\", \"1673\", \"1674\", \"1675\", \"1676\", \"1677\", \"1678\", \"1679\", \"1680\", \"1681\", \"1682\", \"1683\", \"1684\", \"1685\", \"1686\", \"1687\", \"1688\", \"1689\", \"1690\", \"1691\", \"1692\", \"1693\", \"1694\", \"1695\", \"1696\", \"1697\", \"1698\", \"1699\", \"1700\", \"1701\", \"1702\", \"1703\", \"1704\", \"1705\", \"1706\", \"1707\", \"1708\", \"1709\", \"1710\", \"1711\", \"1712\", \"1713\", \"1714\", \"1715\", \"1716\", \"1717\", \"1718\", \"1719\", \"1720\", \"1721\", \"1722\", \"1723\", \"1724\", \"1725\", \"1726\", \"1727\", \"1728\", \"1729\", \"1730\", \"1731\", \"1732\", \"1733\", \"1734\", \"1735\", \"1736\", \"1737\", \"1738\", \"1739\", \"1740\", \"1741\", \"1742\", \"1743\", \"1744\", \"1745\", \"1746\", \"1747\", \"1748\", \"1749\", \"1750\", \"1751\", \"1752\", \"1753\", \"1754\", \"1755\", \"1756\", \"1757\", \"1758\", \"1759\", \"1760\", \"1761\", \"1762\", \"1763\", \"1764\", \"1765\", \"1766\", \"1767\", \"1768\", \"1769\", \"1770\", \"1771\", \"1772\", \"1773\", \"1774\", \"1775\", \"1776\", \"1777\", \"1778\", \"1779\", \"1780\", \"1781\", \"1782\", \"1783\", \"1784\", \"1785\", \"1786\", \"1787\", \"1788\", \"1789\", \"1790\", \"1791\", \"1792\", \"1793\", \"1794\", \"1795\", \"1796\", \"1797\", \"1798\", \"1799\", \"1800\", \"1801\", \"1802\", \"1803\", \"1804\", \"1805\", \"1806\", \"1807\", \"1808\", \"1809\", \"1810\", \"1811\", \"1812\", \"1813\", \"1814\", \"1815\", \"1816\", \"1817\", \"1818\", \"1819\", \"1820\", \"1821\", \"1822\", \"1823\", \"1824\", \"1825\", \"1826\", \"1827\", \"1828\", \"1829\", \"1830\", \"1831\", \"1832\", \"1833\", \"1834\", \"1835\", \"1836\", \"1837\", \"1838\", \"1839\", \"1840\", \"1841\", \"1842\", \"1843\", \"1844\", \"1845\", \"1846\", \"1847\", \"1848\", \"1849\", \"1850\", \"1851\", \"1852\", \"1853\", \"1854\", \"1855\", \"1856\", \"1857\", \"1858\", \"1859\", \"1860\", \"1861\", \"1862\", \"1863\", \"1864\", \"1865\", \"1866\", \"1867\", \"1868\", \"1869\", \"1870\", \"1871\", \"1872\", \"1873\", \"1874\", \"1875\", \"1876\", \"1877\", \"1878\", \"1879\", \"1880\", \"1881\", \"1882\", \"1883\", \"1884\", \"1885\", \"1886\", \"1887\", \"1888\", \"1889\", \"1890\", \"1891\", \"1892\", \"1893\", \"1894\", \"1895\", \"1896\", \"1897\", \"1898\", \"1899\", \"1900\", \"1901\", \"1902\", \"1903\", \"1904\", \"1905\", \"1906\", \"1907\", \"1908\", \"1909\", \"1910\", \"1911\", \"1912\", \"1913\", \"1914\", \"1915\", \"1916\", \"1917\", \"1918\", \"1919\", \"1920\", \"1921\", \"1922\", \"1923\", \"1924\", \"1925\", \"1926\", \"1927\", \"1928\", \"1929\", \"1930\", \"1931\", \"1932\", \"1933\", \"1934\", \"1935\", \"1936\", \"1937\", \"1938\", \"1939\", \"1940\", \"1941\", \"1942\", \"1943\", \"1944\", \"1945\", \"1946\", \"1947\", \"1948\", \"1949\", \"metalicas\", \"1950\", \"1951\", \"1952\", \"1953\", \"1954\", \"1955\", \"1956\", \"1957\", \"1958\", \"1959\", \"1960\", \"1961\", \"1962\", \"1963\", \"1964\", \"1965\", \"1966\", \"1967\", \"1968\", \"1969\", \"1970\", \"1971\", \"1972\", \"1973\", \"1974\", \"1975\", \"1976\", \"1977\", \"1978\", \"1979\", \"1980\", \"1981\", \"1982\", \"1983\", \"1984\", \"1985\", \"1986\", \"1987\", \"1988\", \"1989\", \"1990\", \"1991\", \"1992\", \"1993\", \"1994\", \"1995\", \"1996\", \"1997\", \"1998\", \"1999\", \"2000\", \"2001\", \"2002\", \"2003\", \"2004\", \"2005\", \"2006\", \"2007\", \"2008\", \"2009\", \"2010\", \"2011\", \"2012\", \"2013\", \"2014\", \"2015\", \"2016\", \"2017\", \"2018\", \"2019\", \"2020\", \"2021\", \"2022\", \"2023\", \"2024\", \"2025\", \"2026\", \"2027\", \"2028\", \"2029\", \"2030\", \"2031\", \"2032\", \"2033\", \"2034\", \"2035\", \"2036\", \"2037\", \"2038\", \"2039\", \"2040\", \"2041\", \"2042\", \"2043\", \"2044\", \"2045\", \"2046\", \"2047\", 2048.0, 2049.0, 2050.0, 2051.0, 2052.0, 2053.0, 2054.0, 2055.0, 2056.0, 2057.0, 2058.0, 2059.0, 2060.0, 2061.0, 2062.0, 2063.0, 2064.0, 2065.0, 2066.0, 2067.0, 2068.0, 2069.0, 2070.0, 2071.0, 2072.0, 2073.0, 2074.0, 2075.0, 2076.0, 2077.0, 2078.0, 2079.0, 2080.0, 2081.0, 2082.0, 2083.0, 2084.0, 2085.0, 2086.0, 2087.0, 2088.0, 2089.0, 2090.0, 2091.0, 2092.0, 2093.0, 2094.0, 2095.0, 2096.0, 2097.0, 2098.0, 2099.0, 2100.0, 2101.0, 2102.0, 2103.0, 2104.0, 2105.0, 2106.0, 2107.0, 2108.0, 2109.0, 2110.0, 2111.0, 2112.0, 2113.0, 2114.0, 2115.0, 2116.0, 2117.0, 2118.0, 2119.0, 2120.0, 2121.0, 2122.0, 2123.0, 2124.0, 2125.0, 2126.0, 2127.0, 2128.0, 2129.0, 2130.0, 2131.0, 2132.0, 2133.0, 2134.0, 2135.0, 2136.0, 2137.0, 2138.0, 2139.0, 2140.0, 2141.0, 2142.0, 2143.0, 2144.0, 2145.0, 2146.0, 2147.0, 2148.0, 2149.0, 2150.0, 2151.0, 2152.0, 2153.0, 2154.0, 2155.0, 2156.0, 2157.0, 2158.0, 2159.0, 2160.0, 2161.0, 2162.0, 2163.0, 2164.0, 2165.0, 2166.0, 2167.0, 2168.0, 2169.0, 2170.0, 2171.0, 2172.0, 2173.0, 2174.0, 2175.0, 2176.0, 2177.0, 2178.0, 2179.0, 2180.0, 2181.0, 2182.0, 2183.0, 2184.0, 2185.0, 2186.0, 2187.0, 2188.0, 2189.0, 2190.0, 2191.0, 2192.0, 2193.0, 2194.0, 2195.0, 2196.0, 2197.0, 2198.0, 2199.0, 2200.0, 2201.0, 2202.0, 2203.0, 2204.0, 2205.0, 2206.0, 2207.0, 2208.0, 2209.0, 2210.0, 2211.0, 2212.0, 2213.0, 2214.0, 2215.0, 2216.0, 2217.0, 2218.0, 2219.0, 2220.0, 2221.0, 2222.0, 2223.0, 2224.0, 2225.0, 2226.0, 2227.0, 2228.0, 2229.0, 2230.0, 2231.0, 2232.0, 2233.0, 2234.0, 2235.0, 2236.0, 2237.0, 2238.0, 2239.0, 2240.0, 2241.0, 2242.0, 2243.0, 2244.0, 2245.0, 2246.0, 2247.0, 2248.0, 2249.0, 2250.0, 2251.0, 2252.0, 2253.0, 2254.0, 2255.0, 2256.0, 2257.0, 2258.0, 2259.0, 2260.0, 2261.0, 2262.0, 2263.0, 2264.0, 2265.0, 2266.0, 2267.0, 2268.0, 2269.0, 2270.0, 2271.0, 2272.0, 2273.0, 2274.0, 2275.0, 2276.0, 2277.0, 2278.0, 2279.0, 2280.0, 2281.0, 2282.0, 2283.0, 2284.0, 2285.0, 2286.0, 2287.0, 2288.0, 2289.0, 2290.0, 2291.0, 2292.0, 2293.0, 2294.0, 2295.0, 2296.0, 2297.0, 2298.0, 2299.0, 2300.0, 2301.0, 2302.0, 2303.0, 2304.0, 2305.0, 2306.0, 2307.0, 2308.0, 2309.0, 2310.0, 2311.0, 2312.0, 2313.0, 2314.0, 2315.0, 2316.0, 2317.0, 2318.0, 2319.0, 2320.0, 2321.0, 2322.0, 2323.0, 2324.0, 2325.0, 2326.0, 2327.0, 2328.0, 2329.0, 2330.0, 2331.0, 2332.0, 2333.0, 2334.0, 2335.0, 2336.0, 2337.0, 2338.0, 2339.0, 2340.0, 2341.0, 2342.0, 2343.0, 2344.0, 2345.0, 2346.0, 2347.0, 2348.0, 2349.0, 2350.0, 2351.0, 2352.0, 2353.0, 2354.0, 2355.0, 2356.0, 2357.0, 2358.0, 2359.0, 2360.0, 2361.0, 2362.0, 2363.0, 2364.0, 2365.0, 2366.0, 2367.0, 2368.0, 2369.0, 2370.0, 2371.0, 2372.0, 2373.0, 2374.0, 2375.0, 2376.0, 2377.0, 2378.0, 2379.0, 2380.0, 2381.0, 2382.0, 2383.0, 2384.0, 2385.0, 2386.0, 2387.0, 2388.0, 2389.0, 2390.0, 2391.0, 2392.0, 2393.0, 2394.0, 2395.0, 2396.0, 2397.0, 2398.0, 2399.0, 2400.0, 2401.0, 2402.0, 2403.0, 2404.0, 2405.0, 2406.0, 2407.0, 2408.0, 2409.0, 2410.0, 2411.0, 2412.0, 2413.0, 2414.0, 2415.0, 2416.0, 2417.0, 2418.0, 2419.0, 2420.0, 2421.0, 2422.0, 2423.0, 2424.0, 2425.0, 2426.0, 2427.0, 2428.0, 2429.0, 2430.0, 2431.0, 2432.0, 2433.0, 2434.0, 2435.0, 2436.0, 2437.0, 2438.0, 2439.0, 2440.0, 2441.0, 2442.0, 2443.0, 2444.0, 2445.0, 2446.0, 2447.0, 2448.0, 2449.0, 2450.0, 2451.0, 2452.0, 2453.0, 2454.0, 2455.0, 2456.0, 2457.0, 2458.0, 2459.0, 2460.0, 2461.0, 2462.0, 2463.0, 2464.0, 2465.0, 2466.0, 2467.0, 2468.0, 2469.0, 2470.0, 2471.0, 2472.0, 2473.0, 2474.0, 2475.0, 2476.0, 2477.0, 2478.0, 2479.0, 2480.0, 2481.0, 2482.0, 2483.0, 2484.0, 2485.0, 2486.0, 2487.0, 2488.0, 2489.0, 2490.0, 2491.0, 2492.0, 2493.0, 2494.0, 2495.0, 2496.0, 2497.0, 2498.0, 2499.0, 2500.0, 2501.0, 2502.0, 2503.0, 2504.0, 2505.0, 2506.0, 2507.0, 2508.0, 2509.0, 2510.0, 2511.0, 2512.0, 2513.0, 2514.0, 2515.0, 2516.0, 2517.0, 2518.0, 2519.0, 2520.0, 2521.0, 2522.0, 2523.0, 2524.0, 2525.0, 2526.0, 2527.0, 2528.0, 2529.0, 2530.0, 2531.0, 2532.0, 2533.0, 2534.0, 2535.0, 2536.0, 2537.0, 2538.0, 2539.0, 2540.0, 2541.0, 2542.0, 2543.0, 2544.0, 2545.0, 2546.0, 2547.0, 2548.0, 2549.0, 2550.0, 2551.0, 2552.0, 2553.0, 2554.0, 2555.0, 2556.0, 2557.0, 2558.0, 2559.0, 2560.0, 2561.0, 2562.0, 2563.0, 2564.0, 2565.0, 2566.0, 2567.0, 2568.0, 2569.0, 2570.0, 2571.0, 2572.0, 2573.0, 2574.0, 2575.0, 2576.0, 2577.0, 2578.0, 2579.0, 2580.0, 2581.0, 2582.0, 2583.0, 2584.0, 2585.0, 2586.0, 2587.0, 2588.0, 2589.0, 2590.0, 2591.0, 2592.0, 2593.0, 2594.0, 2595.0, 2596.0, 2597.0, 2598.0, 2599.0, 2600.0, 2601.0, 2602.0, 2603.0, 2604.0, 2605.0, 2606.0, 2607.0, 2608.0, 2609.0, 2610.0, 2611.0, 2612.0, 2613.0, 2614.0, 2615.0, 2616.0, 2617.0, 2618.0, 2619.0, 2620.0, 2621.0, 2622.0, 2623.0, 2624.0, 2625.0, 2626.0, 2627.0, 2628.0, 2629.0, 2630.0, 2631.0, 2632.0, 2633.0, 2634.0, 2635.0, 2636.0, 2637.0, 2638.0, 2639.0, 2640.0, 2641.0, 2642.0, 2643.0, 2644.0, 2645.0, 2646.0, 2647.0, 2648.0, 2649.0, 2650.0, 2651.0, 2652.0, 2653.0, 2654.0, 2655.0, 2656.0, 2657.0, 2658.0, 2659.0, 2660.0, 2661.0, 2662.0, 2663.0, 2664.0, 2665.0, 2666.0, 2667.0, 2668.0, 2669.0, 2670.0, 2671.0, 2672.0, 2673.0, 2674.0, 2675.0, 2676.0, 2677.0, 2678.0, 2679.0, 2680.0, 2681.0, 2682.0, 2683.0, 2684.0, 2685.0, 2686.0, 2687.0, 2688.0, 2689.0, 2690.0, 2691.0, 2692.0, 2693.0, 2694.0, 2695.0, 2696.0, 2697.0, 2698.0, 2699.0, 2700.0, 2701.0, 2702.0, 2703.0, 2704.0, 2705.0, 2706.0, 2707.0, 2708.0, 2709.0, 2710.0, 2711.0, 2712.0, 2713.0, 2714.0, 2715.0, 2716.0, 2717.0, 2718.0, 2719.0, 2720.0, 2721.0, 2722.0, 2723.0, 2724.0, 2725.0, 2726.0, 2727.0, 2728.0, 2729.0, 2730.0, 2731.0, 2732.0, 2733.0, 2734.0, 2735.0, 2736.0, 2737.0, 2738.0, null, 2739.0, 2740.0, 2741.0, 2742.0, 2743.0, 2744.0, 2745.0, 2746.0, 2747.0, 2748.0, 2749.0, 2750.0, 2751.0, 2752.0, 2753.0, 2754.0, 2755.0, 2756.0, 2757.0, 2758.0, 2759.0, 2760.0, 2761.0, 2762.0, 2763.0, 2764.0, 2765.0, 2766.0, 2767.0, 2768.0, 2769.0, 2770.0, 2771.0, 2772.0, 2773.0, 2774.0, 2775.0, 2776.0, 2777.0, 2778.0, 2779.0, 2780.0, 2781.0, 2782.0, 2783.0, 2784.0, 2785.0, 2786.0, 2787.0, 2788.0, 2789.0, 2790.0, 2791.0, 2792.0, 2793.0, 2794.0, 2795.0, 2796.0, 2797.0, 2798.0, 2799.0, 2800.0]}],\n",
              "                        {\"height\": 400, \"legend\": {\"tracegroupgap\": 0}, \"template\": {\"data\": {\"bar\": [{\"error_x\": {\"color\": \"#2a3f5f\"}, \"error_y\": {\"color\": \"#2a3f5f\"}, \"marker\": {\"line\": {\"color\": \"#E5ECF6\", \"width\": 0.5}}, \"type\": \"bar\"}], \"barpolar\": [{\"marker\": {\"line\": {\"color\": \"#E5ECF6\", \"width\": 0.5}}, \"type\": \"barpolar\"}], \"carpet\": [{\"aaxis\": {\"endlinecolor\": \"#2a3f5f\", \"gridcolor\": \"white\", \"linecolor\": \"white\", \"minorgridcolor\": \"white\", \"startlinecolor\": \"#2a3f5f\"}, \"baxis\": {\"endlinecolor\": \"#2a3f5f\", \"gridcolor\": \"white\", \"linecolor\": \"white\", \"minorgridcolor\": \"white\", \"startlinecolor\": \"#2a3f5f\"}, \"type\": \"carpet\"}], \"choropleth\": [{\"colorbar\": {\"outlinewidth\": 0, \"ticks\": \"\"}, \"type\": \"choropleth\"}], \"contour\": [{\"colorbar\": {\"outlinewidth\": 0, \"ticks\": \"\"}, \"colorscale\": [[0.0, \"#0d0887\"], [0.1111111111111111, \"#46039f\"], [0.2222222222222222, \"#7201a8\"], [0.3333333333333333, \"#9c179e\"], [0.4444444444444444, \"#bd3786\"], [0.5555555555555556, \"#d8576b\"], [0.6666666666666666, \"#ed7953\"], [0.7777777777777778, \"#fb9f3a\"], [0.8888888888888888, \"#fdca26\"], [1.0, \"#f0f921\"]], \"type\": \"contour\"}], \"contourcarpet\": [{\"colorbar\": {\"outlinewidth\": 0, \"ticks\": \"\"}, \"type\": \"contourcarpet\"}], \"heatmap\": [{\"colorbar\": {\"outlinewidth\": 0, \"ticks\": \"\"}, \"colorscale\": [[0.0, \"#0d0887\"], [0.1111111111111111, \"#46039f\"], [0.2222222222222222, \"#7201a8\"], [0.3333333333333333, \"#9c179e\"], [0.4444444444444444, \"#bd3786\"], [0.5555555555555556, \"#d8576b\"], [0.6666666666666666, \"#ed7953\"], [0.7777777777777778, \"#fb9f3a\"], [0.8888888888888888, \"#fdca26\"], [1.0, \"#f0f921\"]], \"type\": \"heatmap\"}], \"heatmapgl\": [{\"colorbar\": {\"outlinewidth\": 0, \"ticks\": \"\"}, \"colorscale\": [[0.0, \"#0d0887\"], [0.1111111111111111, \"#46039f\"], [0.2222222222222222, \"#7201a8\"], [0.3333333333333333, \"#9c179e\"], [0.4444444444444444, \"#bd3786\"], [0.5555555555555556, \"#d8576b\"], [0.6666666666666666, \"#ed7953\"], [0.7777777777777778, \"#fb9f3a\"], [0.8888888888888888, \"#fdca26\"], [1.0, \"#f0f921\"]], \"type\": \"heatmapgl\"}], \"histogram\": [{\"marker\": {\"colorbar\": {\"outlinewidth\": 0, \"ticks\": \"\"}}, \"type\": \"histogram\"}], \"histogram2d\": [{\"colorbar\": {\"outlinewidth\": 0, \"ticks\": \"\"}, \"colorscale\": [[0.0, \"#0d0887\"], [0.1111111111111111, \"#46039f\"], [0.2222222222222222, \"#7201a8\"], [0.3333333333333333, \"#9c179e\"], [0.4444444444444444, \"#bd3786\"], [0.5555555555555556, \"#d8576b\"], [0.6666666666666666, \"#ed7953\"], [0.7777777777777778, \"#fb9f3a\"], [0.8888888888888888, \"#fdca26\"], [1.0, \"#f0f921\"]], \"type\": \"histogram2d\"}], \"histogram2dcontour\": [{\"colorbar\": {\"outlinewidth\": 0, \"ticks\": \"\"}, \"colorscale\": [[0.0, \"#0d0887\"], [0.1111111111111111, \"#46039f\"], [0.2222222222222222, \"#7201a8\"], [0.3333333333333333, \"#9c179e\"], [0.4444444444444444, \"#bd3786\"], [0.5555555555555556, \"#d8576b\"], [0.6666666666666666, \"#ed7953\"], [0.7777777777777778, \"#fb9f3a\"], [0.8888888888888888, \"#fdca26\"], [1.0, \"#f0f921\"]], \"type\": \"histogram2dcontour\"}], \"mesh3d\": [{\"colorbar\": {\"outlinewidth\": 0, \"ticks\": \"\"}, \"type\": \"mesh3d\"}], \"parcoords\": [{\"line\": {\"colorbar\": {\"outlinewidth\": 0, \"ticks\": \"\"}}, \"type\": \"parcoords\"}], \"pie\": [{\"automargin\": true, \"type\": \"pie\"}], \"scatter\": [{\"marker\": {\"colorbar\": {\"outlinewidth\": 0, \"ticks\": \"\"}}, \"type\": \"scatter\"}], \"scatter3d\": [{\"line\": {\"colorbar\": {\"outlinewidth\": 0, \"ticks\": \"\"}}, \"marker\": {\"colorbar\": {\"outlinewidth\": 0, \"ticks\": \"\"}}, \"type\": \"scatter3d\"}], \"scattercarpet\": [{\"marker\": {\"colorbar\": {\"outlinewidth\": 0, \"ticks\": \"\"}}, \"type\": \"scattercarpet\"}], \"scattergeo\": [{\"marker\": {\"colorbar\": {\"outlinewidth\": 0, \"ticks\": \"\"}}, \"type\": \"scattergeo\"}], \"scattergl\": [{\"marker\": {\"colorbar\": {\"outlinewidth\": 0, \"ticks\": \"\"}}, \"type\": \"scattergl\"}], \"scattermapbox\": [{\"marker\": {\"colorbar\": {\"outlinewidth\": 0, \"ticks\": \"\"}}, \"type\": \"scattermapbox\"}], \"scatterpolar\": [{\"marker\": {\"colorbar\": {\"outlinewidth\": 0, \"ticks\": \"\"}}, \"type\": \"scatterpolar\"}], \"scatterpolargl\": [{\"marker\": {\"colorbar\": {\"outlinewidth\": 0, \"ticks\": \"\"}}, \"type\": \"scatterpolargl\"}], \"scatterternary\": [{\"marker\": {\"colorbar\": {\"outlinewidth\": 0, \"ticks\": \"\"}}, \"type\": \"scatterternary\"}], \"surface\": [{\"colorbar\": {\"outlinewidth\": 0, \"ticks\": \"\"}, \"colorscale\": [[0.0, \"#0d0887\"], [0.1111111111111111, \"#46039f\"], [0.2222222222222222, \"#7201a8\"], [0.3333333333333333, \"#9c179e\"], [0.4444444444444444, \"#bd3786\"], [0.5555555555555556, \"#d8576b\"], [0.6666666666666666, \"#ed7953\"], [0.7777777777777778, \"#fb9f3a\"], [0.8888888888888888, \"#fdca26\"], [1.0, \"#f0f921\"]], \"type\": \"surface\"}], \"table\": [{\"cells\": {\"fill\": {\"color\": \"#EBF0F8\"}, \"line\": {\"color\": \"white\"}}, \"header\": {\"fill\": {\"color\": \"#C8D4E3\"}, \"line\": {\"color\": \"white\"}}, \"type\": \"table\"}]}, \"layout\": {\"annotationdefaults\": {\"arrowcolor\": \"#2a3f5f\", \"arrowhead\": 0, \"arrowwidth\": 1}, \"coloraxis\": {\"colorbar\": {\"outlinewidth\": 0, \"ticks\": \"\"}}, \"colorscale\": {\"diverging\": [[0, \"#8e0152\"], [0.1, \"#c51b7d\"], [0.2, \"#de77ae\"], [0.3, \"#f1b6da\"], [0.4, \"#fde0ef\"], [0.5, \"#f7f7f7\"], [0.6, \"#e6f5d0\"], [0.7, \"#b8e186\"], [0.8, \"#7fbc41\"], [0.9, \"#4d9221\"], [1, \"#276419\"]], \"sequential\": [[0.0, \"#0d0887\"], [0.1111111111111111, \"#46039f\"], [0.2222222222222222, \"#7201a8\"], [0.3333333333333333, \"#9c179e\"], [0.4444444444444444, \"#bd3786\"], [0.5555555555555556, \"#d8576b\"], [0.6666666666666666, \"#ed7953\"], [0.7777777777777778, \"#fb9f3a\"], [0.8888888888888888, \"#fdca26\"], [1.0, \"#f0f921\"]], \"sequentialminus\": [[0.0, \"#0d0887\"], [0.1111111111111111, \"#46039f\"], [0.2222222222222222, \"#7201a8\"], [0.3333333333333333, \"#9c179e\"], [0.4444444444444444, \"#bd3786\"], [0.5555555555555556, \"#d8576b\"], [0.6666666666666666, \"#ed7953\"], [0.7777777777777778, \"#fb9f3a\"], [0.8888888888888888, \"#fdca26\"], [1.0, \"#f0f921\"]]}, \"colorway\": [\"#636efa\", \"#EF553B\", \"#00cc96\", \"#ab63fa\", \"#FFA15A\", \"#19d3f3\", \"#FF6692\", \"#B6E880\", \"#FF97FF\", \"#FECB52\"], \"font\": {\"color\": \"#2a3f5f\"}, \"geo\": {\"bgcolor\": \"white\", \"lakecolor\": \"white\", \"landcolor\": \"#E5ECF6\", \"showlakes\": true, \"showland\": true, \"subunitcolor\": \"white\"}, \"hoverlabel\": {\"align\": \"left\"}, \"hovermode\": \"closest\", \"mapbox\": {\"style\": \"light\"}, \"paper_bgcolor\": \"white\", \"plot_bgcolor\": \"#E5ECF6\", \"polar\": {\"angularaxis\": {\"gridcolor\": \"white\", \"linecolor\": \"white\", \"ticks\": \"\"}, \"bgcolor\": \"#E5ECF6\", \"radialaxis\": {\"gridcolor\": \"white\", \"linecolor\": \"white\", \"ticks\": \"\"}}, \"scene\": {\"xaxis\": {\"backgroundcolor\": \"#E5ECF6\", \"gridcolor\": \"white\", \"gridwidth\": 2, \"linecolor\": \"white\", \"showbackground\": true, \"ticks\": \"\", \"zerolinecolor\": \"white\"}, \"yaxis\": {\"backgroundcolor\": \"#E5ECF6\", \"gridcolor\": \"white\", \"gridwidth\": 2, \"linecolor\": \"white\", \"showbackground\": true, \"ticks\": \"\", \"zerolinecolor\": \"white\"}, \"zaxis\": {\"backgroundcolor\": \"#E5ECF6\", \"gridcolor\": \"white\", \"gridwidth\": 2, \"linecolor\": \"white\", \"showbackground\": true, \"ticks\": \"\", \"zerolinecolor\": \"white\"}}, \"shapedefaults\": {\"line\": {\"color\": \"#2a3f5f\"}}, \"ternary\": {\"aaxis\": {\"gridcolor\": \"white\", \"linecolor\": \"white\", \"ticks\": \"\"}, \"baxis\": {\"gridcolor\": \"white\", \"linecolor\": \"white\", \"ticks\": \"\"}, \"bgcolor\": \"#E5ECF6\", \"caxis\": {\"gridcolor\": \"white\", \"linecolor\": \"white\", \"ticks\": \"\"}}, \"title\": {\"x\": 0.05}, \"xaxis\": {\"automargin\": true, \"gridcolor\": \"white\", \"linecolor\": \"white\", \"ticks\": \"\", \"title\": {\"standoff\": 15}, \"zerolinecolor\": \"white\", \"zerolinewidth\": 2}, \"yaxis\": {\"automargin\": true, \"gridcolor\": \"white\", \"linecolor\": \"white\", \"ticks\": \"\", \"title\": {\"standoff\": 15}, \"zerolinecolor\": \"white\", \"zerolinewidth\": 2}}}, \"title\": {\"text\": \"Asistentes a cines y recitales de m\\u00fasica\"}, \"width\": 450},\n",
              "                        {\"responsive\": true}\n",
              "                    ).then(function(){\n",
              "                            \n",
              "var gd = document.getElementById('8697d17a-c2e5-40be-8d44-ecf78aac8a44');\n",
              "var x = new MutationObserver(function (mutations, observer) {{\n",
              "        var display = window.getComputedStyle(gd).display;\n",
              "        if (!display || display === 'none') {{\n",
              "            console.log([gd, 'removed!']);\n",
              "            Plotly.purge(gd);\n",
              "            observer.disconnect();\n",
              "        }}\n",
              "}});\n",
              "\n",
              "// Listen for the removal of the full notebook cells\n",
              "var notebookContainer = gd.closest('#notebook-container');\n",
              "if (notebookContainer) {{\n",
              "    x.observe(notebookContainer, {childList: true});\n",
              "}}\n",
              "\n",
              "// Listen for the clearing of the current output cell\n",
              "var outputEl = gd.closest('.output');\n",
              "if (outputEl) {{\n",
              "    x.observe(outputEl, {childList: true});\n",
              "}}\n",
              "\n",
              "                        })\n",
              "                };\n",
              "                \n",
              "            </script>\n",
              "        </div>\n",
              "</body>\n",
              "</html>"
            ]
          },
          "metadata": {
            "tags": []
          }
        }
      ]
    },
    {
      "cell_type": "code",
      "metadata": {
        "id": "0NAmxGGQRR9f"
      },
      "source": [
        "#Hacemos un Datframe con quienes concurren al cine y a recitales de música\n",
        "df_cine_mus = pd.DataFrame(cine_y_musica)"
      ],
      "execution_count": 58,
      "outputs": []
    },
    {
      "cell_type": "code",
      "metadata": {
        "colab": {
          "base_uri": "https://localhost:8080/"
        },
        "id": "2h0yt2uSlU9f",
        "outputId": "7e7d2bbb-e9f2-4a12-d256-a2c8ea6b627f"
      },
      "source": [
        "df_cine_mus.shape"
      ],
      "execution_count": 59,
      "outputs": [
        {
          "output_type": "execute_result",
          "data": {
            "text/plain": [
              "(429, 452)"
            ]
          },
          "metadata": {
            "tags": []
          },
          "execution_count": 59
        }
      ]
    },
    {
      "cell_type": "code",
      "metadata": {
        "id": "Rsc010zX62Tk",
        "colab": {
          "base_uri": "https://localhost:8080/",
          "height": 417
        },
        "outputId": "bd9ec07f-c099-4a19-e93b-5c6c1fc5db07"
      },
      "source": [
        "fig = px.pie(df_cine_mus, values='id', names='p68',\\\n",
        "             title='Concurrentes al teatro entre asistentes a cines y recitales de música',\n",
        "              width=620,height=400)\n",
        "fig.show()"
      ],
      "execution_count": 68,
      "outputs": [
        {
          "output_type": "display_data",
          "data": {
            "text/html": [
              "<html>\n",
              "<head><meta charset=\"utf-8\" /></head>\n",
              "<body>\n",
              "    <div>\n",
              "            <script src=\"https://cdnjs.cloudflare.com/ajax/libs/mathjax/2.7.5/MathJax.js?config=TeX-AMS-MML_SVG\"></script><script type=\"text/javascript\">if (window.MathJax) {MathJax.Hub.Config({SVG: {font: \"STIX-Web\"}});}</script>\n",
              "                <script type=\"text/javascript\">window.PlotlyConfig = {MathJaxConfig: 'local'};</script>\n",
              "        <script src=\"https://cdn.plot.ly/plotly-latest.min.js\"></script>    \n",
              "            <div id=\"a779d557-d826-4a15-8c42-8b3660de26c2\" class=\"plotly-graph-div\" style=\"height:400px; width:620px;\"></div>\n",
              "            <script type=\"text/javascript\">\n",
              "                \n",
              "                    window.PLOTLYENV=window.PLOTLYENV || {};\n",
              "                    \n",
              "                if (document.getElementById(\"a779d557-d826-4a15-8c42-8b3660de26c2\")) {\n",
              "                    Plotly.newPlot(\n",
              "                        'a779d557-d826-4a15-8c42-8b3660de26c2',\n",
              "                        [{\"domain\": {\"x\": [0.0, 1.0], \"y\": [0.0, 1.0]}, \"hoverlabel\": {\"namelength\": 0}, \"hovertemplate\": \"p68=%{label}<br>id=%{value}\", \"labels\": [\"SI\", \"NO\", \"NO\", \"NO\", \"NO\", \"NO\", \"SI\", \"NO\", \"NO\", \"NO\", \"NO\", \"SI\", \"SI\", \"NO\", \"SI\", \"NO\", \"NO\", \"NO\", \"NO\", \"SI\", \"NO\", \"SI\", \"SI\", \"SI\", \"SI\", \"NO\", \"SI\", \"NO\", \"NO\", \"SI\", \"NO\", \"NO\", \"NO\", \"SI\", \"NO\", \"NO\", \"NO\", \"NO\", \"NO\", \"NO\", \"NO\", \"NO\", \"SI\", \"NO\", \"NO\", \"NO\", \"NO\", \"NO\", \"NO\", \"NO\", \"SI\", \"SI\", \"NO\", \"NO\", \"SI\", \"SI\", \"NO\", \"NO\", \"NO\", \"SI\", \"NO\", \"NO\", \"NO\", \"NO\", \"NO\", \"NO\", \"SI\", \"NO\", \"NO\", \"NO\", \"NO\", \"NO\", \"SI\", \"SI\", \"NO\", \"NO\", \"NO\", \"NO\", \"NO\", \"SI\", \"NO\", \"NO\", \"NO\", \"NO\", \"NO\", \"NO\", \"NO\", \"NO\", \"NO\", \"NO\", \"SI\", \"SI\", \"SI\", \"SI\", \"NO\", \"SI\", \"NO\", \"SI\", \"SI\", \"SI\", \"NO\", \"SI\", \"SI\", \"NO\", \"NO\", \"NO\", \"NO\", \"NO\", \"SI\", \"NO\", \"NO\", \"NO\", \"NO\", \"NO\", \"NO\", \"NO\", \"NO\", \"NO\", \"SI\", \"NO\", \"SI\", \"NO\", \"NO\", \"NO\", \"NO\", \"SI\", \"SI\", \"SI\", \"NO\", \"NO\", \"NO\", \"NO\", \"SI\", \"NO\", \"NO\", \"NO\", \"NO\", \"NO\", \"NO\", \"NO\", \"NO\", \"SI\", \"NO\", \"NO\", \"NO\", \"NO\", \"SI\", \"NO\", \"SI\", \"SI\", \"NO\", \"NO\", \"NO\", \"NO\", \"NO\", \"NO\", \"NO\", \"NO\", \"SI\", \"SI\", \"NO\", \"SI\", \"NO\", \"NO\", \"NO\", \"NO\", \"NO\", \"NO\", \"SI\", \"SI\", \"NO\", \"NO\", \"NO\", \"SI\", \"NO\", \"NO\", \"SI\", \"NO\", \"SI\", \"NO\", \"NO\", \"NO\", \"NO\", \"SI\", \"NO\", \"SI\", \"NO\", \"NO\", \"NO\", \"NO\", \"NO\", \"NO\", \"SI\", \"NO\", \"SI\", \"SI\", \"NO\", \"SI\", \"SI\", \"NO\", \"SI\", \"SI\", \"SI\", \"SI\", \"NO\", \"SI\", \"NO\", \"SI\", \"SI\", \"NO\", \"NO\", \"SI\", \"NO\", \"NO\", \"NO\", \"NO\", \"NO\", \"SI\", \"SI\", \"NO\", \"SI\", \"NO\", \"NO\", \"NO\", \"SI\", \"NO\", \"NO\", \"NO\", \"NO\", \"NO\", \"NO\", \"NO\", \"NO\", \"NO\", \"NO\", \"NO\", \"NO\", \"NO\", \"NO\", \"NO\", \"NO\", \"NO\", \"NO\", \"NO\", \"NO\", \"NO\", \"NO\", \"NO\", \"SI\", \"SI\", \"NO\", \"SI\", \"NO\", \"SI\", \"NO\", \"NO\", \"NO\", \"NO\", \"NO\", \"SI\", \"NO\", \"SI\", \"SI\", \"NO\", \"NO\", \"NO\", \"SI\", \"NO\", \"NO\", \"SI\", \"NO\", \"NO\", \"NO\", \"NO\", \"NO\", \"NO\", \"NO\", \"SI\", \"NO\", \"NO\", \"NO\", \"NO\", \"NO\", \"SI\", \"NO\", \"NO\", \"SI\", \"NO\", \"SI\", \"NO\", \"NO\", \"NO\", \"SI\", \"NO\", \"NO\", \"NO\", \"SI\", \"NO\", \"NO\", \"NO\", \"NO\", \"SI\", \"SI\", \"NO\", \"NO\", \"NO\", \"NO\", \"SI\", \"NO\", \"NO\", \"NO\", \"NO\", \"NO\", \"SI\", \"SI\", \"NO\", \"NO\", \"NO\", \"SI\", \"NO\", \"NO\", \"NO\", \"SI\", \"SI\", \"SI\", \"NO\", \"NO\", \"NO\", \"SI\", \"NO\", \"NO\", \"SI\", \"SI\", \"NO\", \"NO\", \"NO\", \"NO\", \"NO\", \"NO\", \"NO\", \"SI\", \"NO\", \"NO\", \"NO\", \"NO\", \"NO\", \"NO\", \"SI\", \"NO\", \"NO\", \"NO\", \"NO\", \"NO\", \"SI\", \"NO\", \"SI\", \"NO\", \"NO\", \"NO\", \"NO\", \"SI\", \"NO\", \"NO\", \"NO\", \"NO\", \"NO\", \"NO\", \"NO\", \"SI\", \"NO\", \"SI\", \"SI\", \"NO\", \"NO\", \"NO\", \"NO\", \"NO\", \"NO\", \"SI\", \"NO\", \"NO\", \"NO\", \"NO\", \"NO\", \"NO\", \"NO\", \"NO\", \"NO\", \"NO\", \"NO\", \"NO\", \"NO\", \"NO\", \"NO\", \"NO\", \"NO\", \"NO\", \"NO\", \"NO\", \"NO\", \"NO\", \"SI\", \"NO\", \"NO\", \"NO\", \"NO\", \"NO\", \"SI\", \"NO\", \"NO\", \"NO\", \"NO\", \"NO\", \"NO\", \"NO\", \"NO\", \"SI\", \"SI\", \"NO\", \"NO\", \"NO\", \"SI\", \"NO\", \"NO\", \"NO\", \"SI\", \"NO\", \"NO\", \"NO\"], \"legendgroup\": \"\", \"name\": \"\", \"showlegend\": true, \"type\": \"pie\", \"values\": [\"2\", \"4\", \"7\", \"8\", \"12\", \"18\", \"24\", \"25\", \"27\", \"30\", \"52\", \"62\", \"82\", \"83\", \"85\", \"92\", \"96\", \"99\", \"122\", \"123\", \"124\", \"127\", \"129\", \"130\", \"140\", \"176\", \"183\", \"203\", \"213\", \"214\", \"216\", \"217\", \"218\", \"222\", \"230\", \"235\", \"248\", \"249\", \"263\", \"266\", \"267\", \"271\", \"276\", \"281\", \"287\", \"289\", \"296\", \"297\", \"312\", \"314\", \"316\", \"325\", \"334\", \"342\", \"351\", \"357\", \"367\", \"437\", \"438\", \"448\", \"467\", \"468\", \"469\", \"471\", \"473\", \"478\", \"513\", \"524\", \"542\", \"546\", \"557\", \"561\", \"564\", \"566\", \"567\", \"578\", \"582\", \"587\", \"593\", \"599\", \"637\", \"638\", \"646\", \"651\", \"658\", \"664\", \"668\", \"672\", \"677\", \"691\", \"694\", \"698\", \"699\", \"703\", \"704\", \"712\", \"713\", \"714\", \"716\", \"720\", \"722\", \"727\", \"729\", \"732\", \"736\", \"737\", \"738\", \"741\", \"744\", \"747\", \"748\", \"749\", \"752\", \"753\", \"758\", \"762\", \"772\", \"777\", \"784\", \"787\", \"789\", \"791\", \"792\", \"794\", \"796\", \"797\", \"798\", \"799\", \"802\", \"808\", \"817\", \"823\", \"826\", \"828\", \"836\", \"838\", \"842\", \"844\", \"863\", \"891\", \"892\", \"896\", \"905\", \"908\", \"927\", \"929\", \"931\", \"951\", \"957\", \"962\", \"963\", \"968\", \"977\", \"982\", \"992\", \"997\", \"1001\", \"1002\", \"1004\", \"1007\", \"1008\", \"1009\", \"1037\", \"1049\", \"1052\", \"1053\", \"1054\", \"1056\", \"1062\", \"1066\", \"1067\", \"1087\", \"1100\", \"1116\", \"1126\", \"1127\", \"1138\", \"1148\", \"1149\", \"1157\", \"1169\", \"1181\", \"1183\", \"1189\", \"1221\", \"1229\", \"1247\", \"1249\", \"1252\", \"1257\", \"1271\", \"1272\", \"1273\", \"1275\", \"1277\", \"1280\", \"1293\", \"1298\", \"1302\", \"1303\", \"1306\", \"1307\", \"1308\", \"1309\", \"1321\", \"1323\", \"1331\", \"1341\", \"1350\", \"1352\", \"1356\", \"1387\", \"1398\", \"1401\", \"1427\", \"1431\", \"1442\", \"1444\", \"1465\", \"1467\", \"1477\", \"1478\", \"1481\", \"1488\", \"1501\", \"1507\", \"1516\", \"1518\", \"1550\", \"1556\", \"1557\", \"1559\", \"1577\", \"1587\", \"1592\", \"1624\", \"1625\", \"1633\", \"1644\", \"1651\", \"1667\", \"1691\", \"1696\", \"1697\", \"1701\", \"1702\", \"1703\", \"1707\", \"1719\", \"1724\", \"1732\", \"1733\", \"1734\", \"1735\", \"1737\", \"1738\", \"1742\", \"1747\", \"1761\", \"1762\", \"1771\", \"1772\", \"1775\", \"1778\", \"1780\", \"1786\", \"1787\", \"1791\", \"1793\", \"1797\", \"1798\", \"1802\", \"1804\", \"1808\", \"1812\", \"1816\", \"1817\", \"1822\", \"1837\", \"1843\", \"1844\", \"1845\", \"1860\", \"1879\", \"1888\", \"1893\", \"1894\", \"1897\", \"1903\", \"1910\", \"1914\", \"1916\", \"1928\", \"1940\", \"1942\", \"1952\", \"1956\", \"1960\", \"1961\", \"1962\", \"1964\", \"1966\", \"1995\", \"1996\", \"2012\", \"2019\", \"2021\", \"2025\", \"2026\", 2050.0, 2069.0, 2072.0, 2086.0, 2087.0, 2110.0, 2112.0, 2114.0, 2116.0, 2137.0, 2139.0, 2140.0, 2141.0, 2148.0, 2149.0, 2153.0, 2158.0, 2159.0, 2164.0, 2167.0, 2183.0, 2193.0, 2213.0, 2224.0, 2227.0, 2231.0, 2233.0, 2249.0, 2255.0, 2264.0, 2272.0, 2274.0, 2276.0, 2278.0, 2288.0, 2299.0, 2304.0, 2306.0, 2322.0, 2330.0, 2351.0, 2354.0, 2357.0, 2359.0, 2365.0, 2369.0, 2381.0, 2387.0, 2390.0, 2392.0, 2396.0, 2404.0, 2411.0, 2417.0, 2436.0, 2439.0, 2443.0, 2451.0, 2452.0, 2453.0, 2458.0, 2462.0, 2478.0, 2481.0, 2483.0, 2485.0, 2488.0, 2489.0, 2495.0, 2499.0, 2504.0, 2510.0, 2511.0, 2517.0, 2519.0, 2521.0, 2529.0, 2538.0, 2543.0, 2554.0, 2559.0, 2566.0, 2575.0, 2587.0, 2593.0, 2600.0, 2601.0, 2603.0, 2605.0, 2631.0, 2652.0, 2654.0, 2656.0, 2662.0, 2691.0, 2696.0, 2698.0, 2701.0, 2703.0, 2704.0, 2705.0, 2713.0, 2714.0, 2730.0, 2735.0, 2740.0, 2749.0, 2751.0, 2754.0, 2755.0, 2757.0, 2761.0, 2762.0, 2764.0, 2771.0, 2791.0, 2792.0, 2795.0, 2796.0, 2798.0]}],\n",
              "                        {\"height\": 400, \"legend\": {\"tracegroupgap\": 0}, \"template\": {\"data\": {\"bar\": [{\"error_x\": {\"color\": \"#2a3f5f\"}, \"error_y\": {\"color\": \"#2a3f5f\"}, \"marker\": {\"line\": {\"color\": \"#E5ECF6\", \"width\": 0.5}}, \"type\": \"bar\"}], \"barpolar\": [{\"marker\": {\"line\": {\"color\": \"#E5ECF6\", \"width\": 0.5}}, \"type\": \"barpolar\"}], \"carpet\": [{\"aaxis\": {\"endlinecolor\": \"#2a3f5f\", \"gridcolor\": \"white\", \"linecolor\": \"white\", \"minorgridcolor\": \"white\", \"startlinecolor\": \"#2a3f5f\"}, \"baxis\": {\"endlinecolor\": \"#2a3f5f\", \"gridcolor\": \"white\", \"linecolor\": \"white\", \"minorgridcolor\": \"white\", \"startlinecolor\": \"#2a3f5f\"}, \"type\": \"carpet\"}], \"choropleth\": [{\"colorbar\": {\"outlinewidth\": 0, \"ticks\": \"\"}, \"type\": \"choropleth\"}], \"contour\": [{\"colorbar\": {\"outlinewidth\": 0, \"ticks\": \"\"}, \"colorscale\": [[0.0, \"#0d0887\"], [0.1111111111111111, \"#46039f\"], [0.2222222222222222, \"#7201a8\"], [0.3333333333333333, \"#9c179e\"], [0.4444444444444444, \"#bd3786\"], [0.5555555555555556, \"#d8576b\"], [0.6666666666666666, \"#ed7953\"], [0.7777777777777778, \"#fb9f3a\"], [0.8888888888888888, \"#fdca26\"], [1.0, \"#f0f921\"]], \"type\": \"contour\"}], \"contourcarpet\": [{\"colorbar\": {\"outlinewidth\": 0, \"ticks\": \"\"}, \"type\": \"contourcarpet\"}], \"heatmap\": [{\"colorbar\": {\"outlinewidth\": 0, \"ticks\": \"\"}, \"colorscale\": [[0.0, \"#0d0887\"], [0.1111111111111111, \"#46039f\"], [0.2222222222222222, \"#7201a8\"], [0.3333333333333333, \"#9c179e\"], [0.4444444444444444, \"#bd3786\"], [0.5555555555555556, \"#d8576b\"], [0.6666666666666666, \"#ed7953\"], [0.7777777777777778, \"#fb9f3a\"], [0.8888888888888888, \"#fdca26\"], [1.0, \"#f0f921\"]], \"type\": \"heatmap\"}], \"heatmapgl\": [{\"colorbar\": {\"outlinewidth\": 0, \"ticks\": \"\"}, \"colorscale\": [[0.0, \"#0d0887\"], [0.1111111111111111, \"#46039f\"], [0.2222222222222222, \"#7201a8\"], [0.3333333333333333, \"#9c179e\"], [0.4444444444444444, \"#bd3786\"], [0.5555555555555556, \"#d8576b\"], [0.6666666666666666, \"#ed7953\"], [0.7777777777777778, \"#fb9f3a\"], [0.8888888888888888, \"#fdca26\"], [1.0, \"#f0f921\"]], \"type\": \"heatmapgl\"}], \"histogram\": [{\"marker\": {\"colorbar\": {\"outlinewidth\": 0, \"ticks\": \"\"}}, \"type\": \"histogram\"}], \"histogram2d\": [{\"colorbar\": {\"outlinewidth\": 0, \"ticks\": \"\"}, \"colorscale\": [[0.0, \"#0d0887\"], [0.1111111111111111, \"#46039f\"], [0.2222222222222222, \"#7201a8\"], [0.3333333333333333, \"#9c179e\"], [0.4444444444444444, \"#bd3786\"], [0.5555555555555556, \"#d8576b\"], [0.6666666666666666, \"#ed7953\"], [0.7777777777777778, \"#fb9f3a\"], [0.8888888888888888, \"#fdca26\"], [1.0, \"#f0f921\"]], \"type\": \"histogram2d\"}], \"histogram2dcontour\": [{\"colorbar\": {\"outlinewidth\": 0, \"ticks\": \"\"}, \"colorscale\": [[0.0, \"#0d0887\"], [0.1111111111111111, \"#46039f\"], [0.2222222222222222, \"#7201a8\"], [0.3333333333333333, \"#9c179e\"], [0.4444444444444444, \"#bd3786\"], [0.5555555555555556, \"#d8576b\"], [0.6666666666666666, \"#ed7953\"], [0.7777777777777778, \"#fb9f3a\"], [0.8888888888888888, \"#fdca26\"], [1.0, \"#f0f921\"]], \"type\": \"histogram2dcontour\"}], \"mesh3d\": [{\"colorbar\": {\"outlinewidth\": 0, \"ticks\": \"\"}, \"type\": \"mesh3d\"}], \"parcoords\": [{\"line\": {\"colorbar\": {\"outlinewidth\": 0, \"ticks\": \"\"}}, \"type\": \"parcoords\"}], \"pie\": [{\"automargin\": true, \"type\": \"pie\"}], \"scatter\": [{\"marker\": {\"colorbar\": {\"outlinewidth\": 0, \"ticks\": \"\"}}, \"type\": \"scatter\"}], \"scatter3d\": [{\"line\": {\"colorbar\": {\"outlinewidth\": 0, \"ticks\": \"\"}}, \"marker\": {\"colorbar\": {\"outlinewidth\": 0, \"ticks\": \"\"}}, \"type\": \"scatter3d\"}], \"scattercarpet\": [{\"marker\": {\"colorbar\": {\"outlinewidth\": 0, \"ticks\": \"\"}}, \"type\": \"scattercarpet\"}], \"scattergeo\": [{\"marker\": {\"colorbar\": {\"outlinewidth\": 0, \"ticks\": \"\"}}, \"type\": \"scattergeo\"}], \"scattergl\": [{\"marker\": {\"colorbar\": {\"outlinewidth\": 0, \"ticks\": \"\"}}, \"type\": \"scattergl\"}], \"scattermapbox\": [{\"marker\": {\"colorbar\": {\"outlinewidth\": 0, \"ticks\": \"\"}}, \"type\": \"scattermapbox\"}], \"scatterpolar\": [{\"marker\": {\"colorbar\": {\"outlinewidth\": 0, \"ticks\": \"\"}}, \"type\": \"scatterpolar\"}], \"scatterpolargl\": [{\"marker\": {\"colorbar\": {\"outlinewidth\": 0, \"ticks\": \"\"}}, \"type\": \"scatterpolargl\"}], \"scatterternary\": [{\"marker\": {\"colorbar\": {\"outlinewidth\": 0, \"ticks\": \"\"}}, \"type\": \"scatterternary\"}], \"surface\": [{\"colorbar\": {\"outlinewidth\": 0, \"ticks\": \"\"}, \"colorscale\": [[0.0, \"#0d0887\"], [0.1111111111111111, \"#46039f\"], [0.2222222222222222, \"#7201a8\"], [0.3333333333333333, \"#9c179e\"], [0.4444444444444444, \"#bd3786\"], [0.5555555555555556, \"#d8576b\"], [0.6666666666666666, \"#ed7953\"], [0.7777777777777778, \"#fb9f3a\"], [0.8888888888888888, \"#fdca26\"], [1.0, \"#f0f921\"]], \"type\": \"surface\"}], \"table\": [{\"cells\": {\"fill\": {\"color\": \"#EBF0F8\"}, \"line\": {\"color\": \"white\"}}, \"header\": {\"fill\": {\"color\": \"#C8D4E3\"}, \"line\": {\"color\": \"white\"}}, \"type\": \"table\"}]}, \"layout\": {\"annotationdefaults\": {\"arrowcolor\": \"#2a3f5f\", \"arrowhead\": 0, \"arrowwidth\": 1}, \"coloraxis\": {\"colorbar\": {\"outlinewidth\": 0, \"ticks\": \"\"}}, \"colorscale\": {\"diverging\": [[0, \"#8e0152\"], [0.1, \"#c51b7d\"], [0.2, \"#de77ae\"], [0.3, \"#f1b6da\"], [0.4, \"#fde0ef\"], [0.5, \"#f7f7f7\"], [0.6, \"#e6f5d0\"], [0.7, \"#b8e186\"], [0.8, \"#7fbc41\"], [0.9, \"#4d9221\"], [1, \"#276419\"]], \"sequential\": [[0.0, \"#0d0887\"], [0.1111111111111111, \"#46039f\"], [0.2222222222222222, \"#7201a8\"], [0.3333333333333333, \"#9c179e\"], [0.4444444444444444, \"#bd3786\"], [0.5555555555555556, \"#d8576b\"], [0.6666666666666666, \"#ed7953\"], [0.7777777777777778, \"#fb9f3a\"], [0.8888888888888888, \"#fdca26\"], [1.0, \"#f0f921\"]], \"sequentialminus\": [[0.0, \"#0d0887\"], [0.1111111111111111, \"#46039f\"], [0.2222222222222222, \"#7201a8\"], [0.3333333333333333, \"#9c179e\"], [0.4444444444444444, \"#bd3786\"], [0.5555555555555556, \"#d8576b\"], [0.6666666666666666, \"#ed7953\"], [0.7777777777777778, \"#fb9f3a\"], [0.8888888888888888, \"#fdca26\"], [1.0, \"#f0f921\"]]}, \"colorway\": [\"#636efa\", \"#EF553B\", \"#00cc96\", \"#ab63fa\", \"#FFA15A\", \"#19d3f3\", \"#FF6692\", \"#B6E880\", \"#FF97FF\", \"#FECB52\"], \"font\": {\"color\": \"#2a3f5f\"}, \"geo\": {\"bgcolor\": \"white\", \"lakecolor\": \"white\", \"landcolor\": \"#E5ECF6\", \"showlakes\": true, \"showland\": true, \"subunitcolor\": \"white\"}, \"hoverlabel\": {\"align\": \"left\"}, \"hovermode\": \"closest\", \"mapbox\": {\"style\": \"light\"}, \"paper_bgcolor\": \"white\", \"plot_bgcolor\": \"#E5ECF6\", \"polar\": {\"angularaxis\": {\"gridcolor\": \"white\", \"linecolor\": \"white\", \"ticks\": \"\"}, \"bgcolor\": \"#E5ECF6\", \"radialaxis\": {\"gridcolor\": \"white\", \"linecolor\": \"white\", \"ticks\": \"\"}}, \"scene\": {\"xaxis\": {\"backgroundcolor\": \"#E5ECF6\", \"gridcolor\": \"white\", \"gridwidth\": 2, \"linecolor\": \"white\", \"showbackground\": true, \"ticks\": \"\", \"zerolinecolor\": \"white\"}, \"yaxis\": {\"backgroundcolor\": \"#E5ECF6\", \"gridcolor\": \"white\", \"gridwidth\": 2, \"linecolor\": \"white\", \"showbackground\": true, \"ticks\": \"\", \"zerolinecolor\": \"white\"}, \"zaxis\": {\"backgroundcolor\": \"#E5ECF6\", \"gridcolor\": \"white\", \"gridwidth\": 2, \"linecolor\": \"white\", \"showbackground\": true, \"ticks\": \"\", \"zerolinecolor\": \"white\"}}, \"shapedefaults\": {\"line\": {\"color\": \"#2a3f5f\"}}, \"ternary\": {\"aaxis\": {\"gridcolor\": \"white\", \"linecolor\": \"white\", \"ticks\": \"\"}, \"baxis\": {\"gridcolor\": \"white\", \"linecolor\": \"white\", \"ticks\": \"\"}, \"bgcolor\": \"#E5ECF6\", \"caxis\": {\"gridcolor\": \"white\", \"linecolor\": \"white\", \"ticks\": \"\"}}, \"title\": {\"x\": 0.05}, \"xaxis\": {\"automargin\": true, \"gridcolor\": \"white\", \"linecolor\": \"white\", \"ticks\": \"\", \"title\": {\"standoff\": 15}, \"zerolinecolor\": \"white\", \"zerolinewidth\": 2}, \"yaxis\": {\"automargin\": true, \"gridcolor\": \"white\", \"linecolor\": \"white\", \"ticks\": \"\", \"title\": {\"standoff\": 15}, \"zerolinecolor\": \"white\", \"zerolinewidth\": 2}}}, \"title\": {\"text\": \"Concurrentes al teatro entre asistentes a cines y recitales de m\\u00fasica\"}, \"width\": 620},\n",
              "                        {\"responsive\": true}\n",
              "                    ).then(function(){\n",
              "                            \n",
              "var gd = document.getElementById('a779d557-d826-4a15-8c42-8b3660de26c2');\n",
              "var x = new MutationObserver(function (mutations, observer) {{\n",
              "        var display = window.getComputedStyle(gd).display;\n",
              "        if (!display || display === 'none') {{\n",
              "            console.log([gd, 'removed!']);\n",
              "            Plotly.purge(gd);\n",
              "            observer.disconnect();\n",
              "        }}\n",
              "}});\n",
              "\n",
              "// Listen for the removal of the full notebook cells\n",
              "var notebookContainer = gd.closest('#notebook-container');\n",
              "if (notebookContainer) {{\n",
              "    x.observe(notebookContainer, {childList: true});\n",
              "}}\n",
              "\n",
              "// Listen for the clearing of the current output cell\n",
              "var outputEl = gd.closest('.output');\n",
              "if (outputEl) {{\n",
              "    x.observe(outputEl, {childList: true});\n",
              "}}\n",
              "\n",
              "                        })\n",
              "                };\n",
              "                \n",
              "            </script>\n",
              "        </div>\n",
              "</body>\n",
              "</html>"
            ]
          },
          "metadata": {
            "tags": []
          }
        }
      ]
    },
    {
      "cell_type": "markdown",
      "metadata": {
        "id": "pfZuM76Ye7rD"
      },
      "source": [
        "# Vemos que entre quienes concurren al cine y a recitales, el porcentaje de asistentes al teatro es casi un 50% mayor que el de la encuesta general. Podríamos concluir entonces que, si bien el Teatro parece ser un consumo cultural de nicho, su caída entre 2013 y 2017 **no es únicamente consecuencia de sus lógicas internas,** sino un síntoma más de la disminución del consumo general y los cambios en las dinámicas culturales, que parecen moverse cada vez más vertiginosamente hacia el soporte digital. "
      ]
    }
  ]
}